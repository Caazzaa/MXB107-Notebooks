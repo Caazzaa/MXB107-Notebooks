{
  "nbformat": 4,
  "nbformat_minor": 0,
  "metadata": {
    "colab": {
      "provenance": []
    },
    "kernelspec": {
      "name": "ir",
      "display_name": "R"
    },
    "language_info": {
      "name": "R"
    }
  },
  "cells": [
    {
      "cell_type": "markdown",
      "source": [
        "# **Week 1: Introduction to Data Wrangling and Visualisation in R**\n",
        "```\n",
        ".------------------------------------.\n",
        "|   __  ____  ______  _  ___ _____   |\n",
        "|  |  \\/  \\ \\/ / __ )/ |/ _ \\___  |  |\n",
        "|  | |\\/| |\\  /|  _ \\| | | | | / /   |\n",
        "|  | |  | |/  \\| |_) | | |_| |/ /    |\n",
        "|  |_|  |_/_/\\_\\____/|_|\\___//_/     |\n",
        "'------------------------------------'\n",
        "\n",
        "```\n"
      ],
      "metadata": {
        "id": "ZtpJJ8BSHOaK"
      }
    },
    {
      "cell_type": "markdown",
      "source": [
        "This week, we will dive into data wrangling and data visualisation in R using the `dplyr` and `ggplot2` packages. If you are not familiar with basic R data types and operations, please take some time to review [Week 0](https://colab.research.google.com/github/edelweiss611428/MXB107-Notebooks/blob/main/notebooks/Week_0.ipynb) content."
      ],
      "metadata": {
        "id": "QWuoIciBrV25"
      }
    },
    {
      "cell_type": "markdown",
      "source": [
        "## **Pre-Configurating the Notebook**"
      ],
      "metadata": {
        "id": "SpK9XLxlHOcm"
      }
    },
    {
      "cell_type": "markdown",
      "source": [
        "### **Switching to the R Kernel on Colab**\n",
        "\n",
        "By default, Google Colab uses Python as its programming language. To use R instead, you’ll need to manually switch the kernel by going to **Runtime > Change runtime type**, and selecting R as the kernel. This allows you to run R code in the Colab environment.\n",
        "\n",
        "However, our notebook is already configured to use R by default. Unless something goes wrong, you shouldn’t need to manually change runtime type."
      ],
      "metadata": {
        "id": "4yA6tfrakIOY"
      }
    },
    {
      "cell_type": "markdown",
      "source": [
        "### **Importing Required Datasets and Packages**\n",
        "**Run the following lines of code**:"
      ],
      "metadata": {
        "id": "VLNikK3CYWIx"
      }
    },
    {
      "cell_type": "code",
      "source": [
        "#Do not modify\n",
        "\n",
        "setwd(\"/content\")\n",
        "\n",
        "# Remove `MXB107-Notebooks` if exists,\n",
        "if (dir.exists(\"MXB107-Notebooks\")) {\n",
        "  system(\"rm -rf MXB107-Notebooks\")\n",
        "}\n",
        "\n",
        "# Fork the repository\n",
        "system(\"git clone https://github.com/edelweiss611428/MXB107-Notebooks.git\")\n",
        "\n",
        "# Change working directory to \"MXB107-Notebooks\"\n",
        "setwd(\"MXB107-Notebooks\")\n",
        "\n",
        "#\n",
        "invisible(source(\"R/preConfigurated.R\"))"
      ],
      "metadata": {
        "id": "tYGemispahiY"
      },
      "execution_count": null,
      "outputs": []
    },
    {
      "cell_type": "markdown",
      "source": [
        "**Do not modify the following**:"
      ],
      "metadata": {
        "id": "o_XFVhdp1GrA"
      }
    },
    {
      "cell_type": "code",
      "source": [
        "if (!require(\"testthat\")) install.packages(\"testthat\"); library(\"testthat\")\n",
        "\n",
        "test_that(\"Test if all packages have been loaded\", {\n",
        "\n",
        "  expect_true(all(c(\"ggplot2\", \"tidyr\", \"dplyr\", \"stringr\", \"magrittr\") %in% loadedNamespaces()))\n",
        "\n",
        "})\n",
        "\n",
        "test_that(\"Test if all utility functions have been loaded\", {\n",
        "  expect_true(exists(\"skewness\"))\n",
        "  expect_true(exists(\"kurtosis\"))\n",
        "})"
      ],
      "metadata": {
        "id": "6lru0NFK011G"
      },
      "execution_count": null,
      "outputs": []
    },
    {
      "cell_type": "markdown",
      "source": [
        "## **Workshop Questions**\n"
      ],
      "metadata": {
        "id": "aT7mowtWOSOR"
      }
    },
    {
      "cell_type": "markdown",
      "source": [
        "### **EPA Fuel Economy Dataset**\n",
        "\n",
        "A dataset containing information on over 13,500 cars sold in the US from 2010 to 2020, including measurements and characteristics related to vehicle fuel economy and specifications. Data sourced from the [US Fuel Economy website](https://www.fueleconomy.gov/feg/download.shtml).\n",
        "\n",
        "| Variable | Description                                    |\n",
        "|----------|------------------------------------------------|\n",
        "| `city`   | EPA measured fuel economy in miles per gallon (city driving) |\n",
        "| `hwy`    | EPA measured fuel economy in miles per gallon (highway driving) |\n",
        "| `cyl`    | Number of cylinders in the engine              |\n",
        "| `disp`   | Engine displacement (litres)                    |\n",
        "| `drive`  | Vehicle drivetrain layout (e.g., FWD, RWD, AWD) |\n",
        "| `make`   | Vehicle manufacturer name                       |\n",
        "| `model`  | Vehicle model name                              |\n",
        "| `trans`  | Transmission type (manual or automatic)        |\n",
        "| `year`   | Vehicle model year                              |\n"
      ],
      "metadata": {
        "id": "mUdwCI96R1Mt"
      }
    },
    {
      "cell_type": "code",
      "source": [
        "epa_data = read.csv(\"./datasets/epa_data.csv\")\n",
        "str(epa_data)"
      ],
      "metadata": {
        "id": "CHhLIF38S99I"
      },
      "execution_count": null,
      "outputs": []
    },
    {
      "cell_type": "markdown",
      "source": [
        "### **Question 1**\n",
        "\n",
        "Suppose you want to compare the fuel economy in city driving between manual and automatic transmissions using the EPA dataset.\n",
        "- What type of graphical summary would best display this comparison?\n",
        "- Use `ggplot` to produce this visualisation.\n",
        "\n",
        "**Hint**:\n",
        "- Only specify the x-axis inside `ggplot(aes())`.\n",
        "- Use `geom_histogram(aes(y = after_stat(density)))` to plot normalised histograms for comparison (y-axis is defined here).\n",
        "- Use `facet_wrap()` to create small multiples."
      ],
      "metadata": {
        "id": "pDh0JmjVUttH"
      }
    },
    {
      "cell_type": "code",
      "source": [],
      "metadata": {
        "id": "qAIRDCxsVRj4"
      },
      "execution_count": null,
      "outputs": []
    },
    {
      "cell_type": "markdown",
      "source": [
        "<details>\n",
        "<summary>▶️ Click to show the solution</summary>\n",
        "\n",
        "```r\n",
        "epa_data %>%\n",
        "  ggplot(aes(x = city)) +\n",
        "    geom_histogram(aes(y = after_stat(density)))+\n",
        "    facet_wrap(~trans) +\n",
        "    labs(\n",
        "      title = \"Comparing city EPA between automatic and manual vehicles\",\n",
        "      x = \"EPA (mpg)\",\n",
        "      y = \"Density\"\n",
        "    )\n",
        "```\n",
        "\n",
        "</details>"
      ],
      "metadata": {
        "id": "fhM5x8FZWz4c"
      }
    },
    {
      "cell_type": "markdown",
      "source": [
        "### **Question 2**\n",
        "\n",
        "Suppose you want to compare the fuel economy between manual and automatic transmissions for both city and highway driving using the EPA dataset.\n",
        "\n",
        "- What steps would you take to prepare the data?\n",
        "- What type of graphical summary would best display this comparison?\n",
        "- Use `ggplot` to produce this visualisation.\n",
        "\n",
        "**Hint**: We need a new `long-format` data frame.\n",
        "\n"
      ],
      "metadata": {
        "id": "8N8X8iO8TVN7"
      }
    },
    {
      "cell_type": "code",
      "source": [],
      "metadata": {
        "id": "FD0Z_SgVUoSx"
      },
      "execution_count": null,
      "outputs": []
    },
    {
      "cell_type": "markdown",
      "source": [
        "<details>\n",
        "<summary>▶️ Click to show the solution</summary>\n",
        "\n",
        "```r\n",
        "epa_data %>%\n",
        "  pivot_longer(\n",
        "    cols = c(city, hwy),\n",
        "    names_to = \"type\",\n",
        "    values_to = \"value\"\n",
        "  ) %>%\n",
        "    ggplot(aes(x = value)) +\n",
        "    geom_histogram(aes(y = after_stat(density)))+\n",
        "    facet_wrap(~ trans + type)+\n",
        "    labs(\n",
        "      title = \"Comparing EPA between automatic and manual vehicles\",\n",
        "      x = \"EPA (mpg)\",\n",
        "      y = \"Density\"\n",
        "    )\n",
        "```\n",
        "\n",
        "</details>"
      ],
      "metadata": {
        "id": "BfS0li2iUo0X"
      }
    },
    {
      "cell_type": "markdown",
      "source": [
        "### **Question 3**\n",
        "\n",
        "Suppose that you want to explore how engine displacement changed over time.\n",
        "\n",
        "- What type of graph or chart would you use and why?\n",
        "- Use `ggplot` to produce this graphical summary."
      ],
      "metadata": {
        "id": "ech8Cm0RXlqJ"
      }
    },
    {
      "cell_type": "markdown",
      "source": [
        "**Hint**:\n",
        "- Use `stat_summary(func = \"mean\", geom = \"line\")` instead of `geom_line`.\n",
        "- A simpler approach is to use `group_by() %>% summarise()`. Use `na.rm = TRUE` option in `mean()`."
      ],
      "metadata": {
        "id": "NDmxA3RGYy2Q"
      }
    },
    {
      "cell_type": "code",
      "source": [
        "#Solution 1\n",
        "epa_data %>%\n",
        "  ggplot(aes(x = year, y = disp))+\n",
        "  stat_summary(fun = \"mean\", geom=\"line\")+\n",
        "  labs(\n",
        "    title = \"Yearly Average Engine Displacement (l)\",\n",
        "    y = \"Average Engine Displacement (l)\",\n",
        "    x = \"Year\"\n",
        "  )\n",
        "\n",
        "#Solution 2\n",
        "epa_data %>%\n",
        "  group_by(year) %>%\n",
        "  summarise(mean = mean(disp, na.rm = T)) %>%\n",
        "  ggplot(aes(x = year, y = mean)) +\n",
        "  geom_line() +\n",
        "  labs(\n",
        "    title = \"Yearly Average Engine Displacement (l)\",\n",
        "    y = \"Average Engine Displacement (l)\",\n",
        "    x = \"Year\"\n",
        "  )"
      ],
      "metadata": {
        "id": "nJri32CfaSs2"
      },
      "execution_count": null,
      "outputs": []
    },
    {
      "cell_type": "markdown",
      "source": [
        "### **Question 4**\n",
        "\n",
        "Suppose you want to identify which manufacturers produced the most fuel-efficient cars given city driving EPA in the `epa_data` dataset.\n",
        "\n",
        "- Use `group_by() %>% summarise()` to summarise `EPA` by manufacturer. Name the summary column `mean_mpg`."
      ],
      "metadata": {
        "id": "2qrbXcZPaUx7"
      }
    },
    {
      "cell_type": "code",
      "source": [
        "epa_data%>%group_by(make)%>%\n",
        "  summarise(mean_mpg = mean(city),\n",
        "            .group = \"drop\") -> make_data"
      ],
      "metadata": {
        "id": "R1eoUl1gbyP7"
      },
      "execution_count": null,
      "outputs": []
    },
    {
      "cell_type": "markdown",
      "source": [
        "- Use `ggplot` to create a Pareto plot (i.e., a sorted bar chart) to support your analysis? Is the plot descriptive enough?\n",
        "\n",
        "**Hint**:  Use `ggplot(aes(x = reorder(make,-mean_mpg)))` to make sure `make` is the x-asis but sorted by `-mean_mpg` (e.g., larger values come first)."
      ],
      "metadata": {
        "id": "KLWp2CnPdUek"
      }
    },
    {
      "cell_type": "code",
      "source": [
        "make_data %>%\n",
        "  ggplot(aes(x = reorder(make,-mean_mpg)))+\n",
        "  geom_bar(aes(y = mean_mpg),stat = \"identity\")+\n",
        "  labs(\n",
        "    title = \"Manufacturers by Count\",\n",
        "    y = \"Frequency\",\n",
        "    x = \"Manufacturer\"\n",
        "  )"
      ],
      "metadata": {
        "id": "XfmQJzRtcpA1"
      },
      "execution_count": null,
      "outputs": []
    },
    {
      "cell_type": "markdown",
      "source": [
        "- How might you improve the previous plot to better answer the question?\n",
        "\n",
        "**Hint**: Use `slice_max(order_by = mean_mpg, n)` to select top `n` manufacturers based on `-mean_mpg`."
      ],
      "metadata": {
        "id": "N7GxRA0ece-J"
      }
    },
    {
      "cell_type": "code",
      "source": [
        "epa_data%>%group_by(make)%>%\n",
        "  summarise(mean_mpg = mean(city), .group = \"drop\") %>%\n",
        "  slice_max(order_by = mean_mpg, n = 10) %>%\n",
        "  ggplot(aes(x = reorder(make,-mean_mpg)))+\n",
        "  geom_bar(aes(y = mean_mpg),stat = \"identity\")+\n",
        "  labs(\n",
        "    title = \"Manufacturers by Count\",\n",
        "    y = \"Frequency\",\n",
        "    x = \"Manufacturer\"\n",
        "  )"
      ],
      "metadata": {
        "id": "NFyfK6NceUCQ"
      },
      "execution_count": null,
      "outputs": []
    }
  ]
}