{
  "nbformat": 4,
  "nbformat_minor": 0,
  "metadata": {
    "colab": {
      "provenance": []
    },
    "kernelspec": {
      "name": "ir",
      "display_name": "R"
    },
    "language_info": {
      "name": "R"
    }
  },
  "cells": [
    {
      "cell_type": "markdown",
      "source": [
        "# **Probability and Statistics (Week 1)**\n",
        "\n",
        "```\n",
        ".------------------------------------.\n",
        "|   __  ____  ______  _  ___ _____   |\n",
        "|  |  \\/  \\ \\/ / __ )/ |/ _ \\___  |  |\n",
        "|  | |\\/| |\\  /|  _ \\| | | | | / /   |\n",
        "|  | |  | |/  \\| |_) | | |_| |/ /    |\n",
        "|  |_|  |_/_/\\_\\____/|_|\\___//_/     |\n",
        "'------------------------------------'\n",
        "\n",
        "```\n"
      ],
      "metadata": {
        "id": "ZtpJJ8BSHOaK"
      }
    },
    {
      "cell_type": "markdown",
      "source": [
        "## **Pre-configurate the Notebook**"
      ],
      "metadata": {
        "id": "SpK9XLxlHOcm"
      }
    },
    {
      "cell_type": "markdown",
      "source": [
        "### **Switching to the R Kernel on Colab**\n",
        "\n",
        "By default, Google Colab uses Python as its programming language. To use R instead, you’ll need to manually switch the kernel by going to **Runtime > Change runtime type**, and selecting R as the kernel. This allows you to run R code in the Colab environment.\n",
        "\n",
        "However, our notebook is already configured to use R by default. Unless something goes wrong, you shouldn’t need to manually change runtime type."
      ],
      "metadata": {
        "id": "4yA6tfrakIOY"
      }
    },
    {
      "cell_type": "markdown",
      "source": [
        "### **Import Required Datasets and Packages**\n",
        "**Run the following lines of code**:"
      ],
      "metadata": {
        "id": "VLNikK3CYWIx"
      }
    },
    {
      "cell_type": "code",
      "source": [
        "#Do not modify\n",
        "\n",
        "setwd(\"/content\")\n",
        "\n",
        "# Remove `MXB107-Notebooks` if exists,\n",
        "if (dir.exists(\"MXB107-Notebooks\")) {\n",
        "  system(\"rm -rf MXB107-Notebooks\")\n",
        "}\n",
        "\n",
        "# Fork the repository\n",
        "system(\"git clone https://github.com/edelweiss611428/MXB107-Notebooks.git\")\n",
        "\n",
        "# Change working directory to \"MXB107-Notebooks\"\n",
        "setwd(\"MXB107-Notebooks\")\n",
        "\n",
        "#\n",
        "invisible(source(\"R/preConfigurated.R\"))"
      ],
      "metadata": {
        "id": "tYGemispahiY",
        "colab": {
          "base_uri": "https://localhost:8080/"
        },
        "outputId": "cb65fc00-62ec-446a-cf01-05abd73ee9a5"
      },
      "execution_count": 1,
      "outputs": [
        {
          "output_type": "stream",
          "name": "stderr",
          "text": [
            "Loading required package: ggplot2\n",
            "\n",
            "Loading required package: dplyr\n",
            "\n",
            "\n",
            "Attaching package: ‘dplyr’\n",
            "\n",
            "\n",
            "The following objects are masked from ‘package:stats’:\n",
            "\n",
            "    filter, lag\n",
            "\n",
            "\n",
            "The following objects are masked from ‘package:base’:\n",
            "\n",
            "    intersect, setdiff, setequal, union\n",
            "\n",
            "\n",
            "Loading required package: tidyr\n",
            "\n",
            "Loading required package: stringr\n",
            "\n",
            "Loading required package: magrittr\n",
            "\n",
            "\n",
            "Attaching package: ‘magrittr’\n",
            "\n",
            "\n",
            "The following object is masked from ‘package:tidyr’:\n",
            "\n",
            "    extract\n",
            "\n",
            "\n"
          ]
        }
      ]
    },
    {
      "cell_type": "markdown",
      "source": [
        "**Do not modify the following**"
      ],
      "metadata": {
        "id": "o_XFVhdp1GrA"
      }
    },
    {
      "cell_type": "code",
      "source": [
        "if (!require(\"testthat\")) install.packages(\"testthat\"); library(\"testthat\")\n",
        "\n",
        "test_that(\"Test if all packages have been loaded\", {\n",
        "\n",
        "  expect_true(all(c(\"ggplot2\", \"tidyr\", \"dplyr\", \"stringr\", \"magrittr\") %in% loadedNamespaces()))\n",
        "\n",
        "})\n",
        "\n",
        "test_that(\"Test if all utility functions have been loaded\", {\n",
        "  expect_true(exists(\"skewness\"))\n",
        "  expect_true(exists(\"kurtosis\"))\n",
        "})"
      ],
      "metadata": {
        "colab": {
          "base_uri": "https://localhost:8080/"
        },
        "id": "6lru0NFK011G",
        "outputId": "95cdb72e-980f-4202-f489-fdbd073e1192"
      },
      "execution_count": 2,
      "outputs": [
        {
          "output_type": "stream",
          "name": "stderr",
          "text": [
            "Loading required package: testthat\n",
            "\n",
            "\n",
            "Attaching package: ‘testthat’\n",
            "\n",
            "\n",
            "The following objects are masked from ‘package:magrittr’:\n",
            "\n",
            "    equals, is_less_than, not\n",
            "\n",
            "\n",
            "The following object is masked from ‘package:tidyr’:\n",
            "\n",
            "    matches\n",
            "\n",
            "\n",
            "The following object is masked from ‘package:dplyr’:\n",
            "\n",
            "    matches\n",
            "\n",
            "\n"
          ]
        },
        {
          "output_type": "stream",
          "name": "stdout",
          "text": [
            "\u001b[32mTest passed\u001b[39m 😀\n",
            "\u001b[32mTest passed\u001b[39m 🥳\n"
          ]
        }
      ]
    },
    {
      "cell_type": "markdown",
      "source": [
        "## **Data Wrangling in R via `dplyr` and `magrittr`**\n",
        "\n",
        "Data wrangling is the process of cleaning, transforming, and reshaping data for analysis. The `dplyr` package, often used with the pipe operator `%>%` from `magrittr`, provides a set of intuitive functions for these tasks.\n",
        "\n",
        "### **Can We Do This via Base R?**\n",
        "\n",
        "Yes, but the syntax tends to be more verbose and less readable. For demonstration, we will load the CSV file `MXB107_2025_ClassInfo.csv`."
      ],
      "metadata": {
        "id": "U_ePA59nkztM"
      }
    },
    {
      "cell_type": "code",
      "source": [
        "MXB107_Info = read.csv(\"./datasets/MXB107_2025_ClassInfo.csv\")\n",
        "str(MXB107_Info)"
      ],
      "metadata": {
        "id": "i8JxHB7ln84o",
        "outputId": "0aa59112-6ff3-4da6-e398-78320bd8083e",
        "colab": {
          "base_uri": "https://localhost:8080/"
        }
      },
      "execution_count": 3,
      "outputs": [
        {
          "output_type": "stream",
          "name": "stdout",
          "text": [
            "'data.frame':\t12 obs. of  8 variables:\n",
            " $ Class         : chr  \"LEC01 01\" \"LEC01 01\" \"PRC01 01\" \"PRC01 01\" ...\n",
            " $ Type          : chr  \"Lecture (Internal)\" \"Lecture (Online)\" \"Practical (Online)\" \"Practical (Internal)\" ...\n",
            " $ Day           : chr  \"Wed\" \"Wed\" \"Wed\" \"Thu\" ...\n",
            " $ Location      : chr  \"GP B117\" \"Online\" \"Online\" \"GP D413\" ...\n",
            " $ Limit         : int  240 1000 30 35 30 35 25 30 35 35 ...\n",
            " $ Teaching_Staff: chr  \"Chris Drovandi\" \"Chris Drovandi\" \"Narayan Srinivasan\" \"Narayan Srinivasan\" ...\n",
            " $ From          : int  11 11 16 16 16 9 14 9 9 11 ...\n",
            " $ To            : int  13 13 18 18 18 11 16 11 11 13 ...\n"
          ]
        }
      ]
    },
    {
      "cell_type": "markdown",
      "source": [
        "We want to extract all classes that start after 9:00 AM on either Thursday or Friday and are not online."
      ],
      "metadata": {
        "id": "mlq_QzyjnBrJ"
      }
    },
    {
      "cell_type": "code",
      "source": [
        "notOnline = MXB107_Info$Location != \"Online\"\n",
        "onThursday = MXB107_Info$Day %in% c(\"Thu\", \"Fri\")\n",
        "startAfter9AM = MXB107_Info$From > 9\n",
        "subset(MXB107_Info, notOnline & onThursday & startAfter9AM)"
      ],
      "metadata": {
        "colab": {
          "base_uri": "https://localhost:8080/",
          "height": 252
        },
        "id": "VLZu9aUgvJz3",
        "outputId": "d93ee9a6-1964-415a-e154-049c3cd9b91d"
      },
      "execution_count": 4,
      "outputs": [
        {
          "output_type": "display_data",
          "data": {
            "text/html": [
              "<table class=\"dataframe\">\n",
              "<caption>A data.frame: 5 × 8</caption>\n",
              "<thead>\n",
              "\t<tr><th></th><th scope=col>Class</th><th scope=col>Type</th><th scope=col>Day</th><th scope=col>Location</th><th scope=col>Limit</th><th scope=col>Teaching_Staff</th><th scope=col>From</th><th scope=col>To</th></tr>\n",
              "\t<tr><th></th><th scope=col>&lt;chr&gt;</th><th scope=col>&lt;chr&gt;</th><th scope=col>&lt;chr&gt;</th><th scope=col>&lt;chr&gt;</th><th scope=col>&lt;int&gt;</th><th scope=col>&lt;chr&gt;</th><th scope=col>&lt;int&gt;</th><th scope=col>&lt;int&gt;</th></tr>\n",
              "</thead>\n",
              "<tbody>\n",
              "\t<tr><th scope=row>4</th><td>PRC01 01</td><td>Practical (Internal)</td><td>Thu</td><td>GP D413</td><td>35</td><td>Narayan Srinivasan</td><td>16</td><td>18</td></tr>\n",
              "\t<tr><th scope=row>7</th><td>PRC01 07</td><td>Practical (Internal)</td><td>Thu</td><td>GP S520</td><td>25</td><td>Ryan Kelly        </td><td>14</td><td>16</td></tr>\n",
              "\t<tr><th scope=row>10</th><td>PRC01 04</td><td>Practical (Internal)</td><td>Fri</td><td>GP G216</td><td>35</td><td>Arwen Nugteren    </td><td>11</td><td>13</td></tr>\n",
              "\t<tr><th scope=row>11</th><td>PRC01 05</td><td>Practical (Internal)</td><td>Fri</td><td>GP S502</td><td>35</td><td>Arwen Nugteren    </td><td>15</td><td>17</td></tr>\n",
              "\t<tr><th scope=row>12</th><td>PRC01 06</td><td>Practical (Internal)</td><td>Fri</td><td>GP S519</td><td>35</td><td>Minh Long Nguyen  </td><td>15</td><td>17</td></tr>\n",
              "</tbody>\n",
              "</table>\n"
            ],
            "text/markdown": "\nA data.frame: 5 × 8\n\n| <!--/--> | Class &lt;chr&gt; | Type &lt;chr&gt; | Day &lt;chr&gt; | Location &lt;chr&gt; | Limit &lt;int&gt; | Teaching_Staff &lt;chr&gt; | From &lt;int&gt; | To &lt;int&gt; |\n|---|---|---|---|---|---|---|---|---|\n| 4 | PRC01 01 | Practical (Internal) | Thu | GP D413 | 35 | Narayan Srinivasan | 16 | 18 |\n| 7 | PRC01 07 | Practical (Internal) | Thu | GP S520 | 25 | Ryan Kelly         | 14 | 16 |\n| 10 | PRC01 04 | Practical (Internal) | Fri | GP G216 | 35 | Arwen Nugteren     | 11 | 13 |\n| 11 | PRC01 05 | Practical (Internal) | Fri | GP S502 | 35 | Arwen Nugteren     | 15 | 17 |\n| 12 | PRC01 06 | Practical (Internal) | Fri | GP S519 | 35 | Minh Long Nguyen   | 15 | 17 |\n\n",
            "text/latex": "A data.frame: 5 × 8\n\\begin{tabular}{r|llllllll}\n  & Class & Type & Day & Location & Limit & Teaching\\_Staff & From & To\\\\\n  & <chr> & <chr> & <chr> & <chr> & <int> & <chr> & <int> & <int>\\\\\n\\hline\n\t4 & PRC01 01 & Practical (Internal) & Thu & GP D413 & 35 & Narayan Srinivasan & 16 & 18\\\\\n\t7 & PRC01 07 & Practical (Internal) & Thu & GP S520 & 25 & Ryan Kelly         & 14 & 16\\\\\n\t10 & PRC01 04 & Practical (Internal) & Fri & GP G216 & 35 & Arwen Nugteren     & 11 & 13\\\\\n\t11 & PRC01 05 & Practical (Internal) & Fri & GP S502 & 35 & Arwen Nugteren     & 15 & 17\\\\\n\t12 & PRC01 06 & Practical (Internal) & Fri & GP S519 & 35 & Minh Long Nguyen   & 15 & 17\\\\\n\\end{tabular}\n",
            "text/plain": [
              "   Class    Type                 Day Location Limit Teaching_Staff     From To\n",
              "4  PRC01 01 Practical (Internal) Thu GP D413  35    Narayan Srinivasan 16   18\n",
              "7  PRC01 07 Practical (Internal) Thu GP S520  25    Ryan Kelly         14   16\n",
              "10 PRC01 04 Practical (Internal) Fri GP G216  35    Arwen Nugteren     11   13\n",
              "11 PRC01 05 Practical (Internal) Fri GP S502  35    Arwen Nugteren     15   17\n",
              "12 PRC01 06 Practical (Internal) Fri GP S519  35    Minh Long Nguyen   15   17"
            ]
          },
          "metadata": {}
        }
      ]
    },
    {
      "cell_type": "markdown",
      "source": [
        "### **Defining a Data-Processing Pipeline**"
      ],
      "metadata": {
        "id": "flAHCF5K49xU"
      }
    },
    {
      "cell_type": "markdown",
      "source": [
        "The `dplyr` and `magrittr` packages simplify and streamline data manipulation by providing a data-processing pipeline.\n",
        "\n",
        "When we write\n",
        "\n",
        "```\n",
        "input %>% do_something_1() %>% do_something_2()\n",
        "```\n",
        "\n",
        "The pipe operator %>% takes the output from the expression on the left and passes it as the **first argument** to the function on the right. This allows chaining multiple operations in a clear, readable sequence.\n",
        "\n",
        "\n",
        "In base R, it would be something like\n",
        "\n",
        "```\n",
        "output1 = do_something_1(input)\n",
        "output2 = do_something_2(output1)\n",
        "```\n",
        "Which one looks better to you?\n",
        "\n",
        "\n"
      ],
      "metadata": {
        "id": "cja8GasJv0Z0"
      }
    },
    {
      "cell_type": "markdown",
      "source": [
        "Another great feature of `dplyr` is that it natively understands data frame columns by internally converting data frames into **tibbles** — a more user-friendly data frame format.\n",
        "\n",
        "This means we don’t need to repeatedly write `MXB107_Info$From` or similar; inside `dplyr` **verbs** like `filter()`, we can simply refer to columns by their names, such as `From` and `To`, which makes the code much cleaner and easier to read."
      ],
      "metadata": {
        "id": "RUMFO_n3wua5"
      }
    },
    {
      "cell_type": "code",
      "source": [
        "MXB107_Info %>%\n",
        "  filter(Location != \"Online\",\n",
        "         Day %in% c(\"Thu\", \"Fri\"),\n",
        "         From > 9) -> results\n",
        "print(results)"
      ],
      "metadata": {
        "colab": {
          "base_uri": "https://localhost:8080/"
        },
        "id": "WQJnhRq9widR",
        "outputId": "b35dd006-15dc-4d0b-9e3c-ceb4384288fc"
      },
      "execution_count": 5,
      "outputs": [
        {
          "output_type": "stream",
          "name": "stdout",
          "text": [
            "     Class                 Type Day Location Limit     Teaching_Staff From To\n",
            "1 PRC01 01 Practical (Internal) Thu  GP D413    35 Narayan Srinivasan   16 18\n",
            "2 PRC01 07 Practical (Internal) Thu  GP S520    25         Ryan Kelly   14 16\n",
            "3 PRC01 04 Practical (Internal) Fri  GP G216    35     Arwen Nugteren   11 13\n",
            "4 PRC01 05 Practical (Internal) Fri  GP S502    35     Arwen Nugteren   15 17\n",
            "5 PRC01 06 Practical (Internal) Fri  GP S519    35   Minh Long Nguyen   15 17\n"
          ]
        }
      ]
    },
    {
      "cell_type": "markdown",
      "source": [
        "That indeed looks much better! Here the right-arrow assignment operator really shines."
      ],
      "metadata": {
        "id": "IQOAsxVjx24d"
      }
    },
    {
      "cell_type": "markdown",
      "source": [
        "### **Common `dplyr` Verbs**"
      ],
      "metadata": {
        "id": "VRSzUT_0yvhv"
      }
    },
    {
      "cell_type": "markdown",
      "source": [
        "#### **filter() — subset rows by condition**"
      ],
      "metadata": {
        "id": "W1k9_qk5zNLJ"
      }
    },
    {
      "cell_type": "code",
      "source": [
        "MXB107_Info %>%\n",
        "  filter(Type == \"Lecture (Internal)\")\n",
        "\n",
        "MXB107_Info %>%\n",
        "  filter(str_detect(Type, \"Practical\"), #base R: str_detect(MXB107_Info$Type, pattern = \"Practical\")\n",
        "         Day == \"Wed\")"
      ],
      "metadata": {
        "colab": {
          "base_uri": "https://localhost:8080/",
          "height": 239
        },
        "id": "1r4z-sXbzPC8",
        "outputId": "0c542081-51ad-4a12-a4a9-04c6fda0e289"
      },
      "execution_count": 6,
      "outputs": [
        {
          "output_type": "display_data",
          "data": {
            "text/html": [
              "<table class=\"dataframe\">\n",
              "<caption>A data.frame: 1 × 8</caption>\n",
              "<thead>\n",
              "\t<tr><th scope=col>Class</th><th scope=col>Type</th><th scope=col>Day</th><th scope=col>Location</th><th scope=col>Limit</th><th scope=col>Teaching_Staff</th><th scope=col>From</th><th scope=col>To</th></tr>\n",
              "\t<tr><th scope=col>&lt;chr&gt;</th><th scope=col>&lt;chr&gt;</th><th scope=col>&lt;chr&gt;</th><th scope=col>&lt;chr&gt;</th><th scope=col>&lt;int&gt;</th><th scope=col>&lt;chr&gt;</th><th scope=col>&lt;int&gt;</th><th scope=col>&lt;int&gt;</th></tr>\n",
              "</thead>\n",
              "<tbody>\n",
              "\t<tr><td>LEC01 01</td><td>Lecture (Internal)</td><td>Wed</td><td>GP B117</td><td>240</td><td>Chris Drovandi</td><td>11</td><td>13</td></tr>\n",
              "</tbody>\n",
              "</table>\n"
            ],
            "text/markdown": "\nA data.frame: 1 × 8\n\n| Class &lt;chr&gt; | Type &lt;chr&gt; | Day &lt;chr&gt; | Location &lt;chr&gt; | Limit &lt;int&gt; | Teaching_Staff &lt;chr&gt; | From &lt;int&gt; | To &lt;int&gt; |\n|---|---|---|---|---|---|---|---|\n| LEC01 01 | Lecture (Internal) | Wed | GP B117 | 240 | Chris Drovandi | 11 | 13 |\n\n",
            "text/latex": "A data.frame: 1 × 8\n\\begin{tabular}{llllllll}\n Class & Type & Day & Location & Limit & Teaching\\_Staff & From & To\\\\\n <chr> & <chr> & <chr> & <chr> & <int> & <chr> & <int> & <int>\\\\\n\\hline\n\t LEC01 01 & Lecture (Internal) & Wed & GP B117 & 240 & Chris Drovandi & 11 & 13\\\\\n\\end{tabular}\n",
            "text/plain": [
              "  Class    Type               Day Location Limit Teaching_Staff From To\n",
              "1 LEC01 01 Lecture (Internal) Wed GP B117  240   Chris Drovandi 11   13"
            ]
          },
          "metadata": {}
        },
        {
          "output_type": "display_data",
          "data": {
            "text/html": [
              "<table class=\"dataframe\">\n",
              "<caption>A data.frame: 1 × 8</caption>\n",
              "<thead>\n",
              "\t<tr><th scope=col>Class</th><th scope=col>Type</th><th scope=col>Day</th><th scope=col>Location</th><th scope=col>Limit</th><th scope=col>Teaching_Staff</th><th scope=col>From</th><th scope=col>To</th></tr>\n",
              "\t<tr><th scope=col>&lt;chr&gt;</th><th scope=col>&lt;chr&gt;</th><th scope=col>&lt;chr&gt;</th><th scope=col>&lt;chr&gt;</th><th scope=col>&lt;int&gt;</th><th scope=col>&lt;chr&gt;</th><th scope=col>&lt;int&gt;</th><th scope=col>&lt;int&gt;</th></tr>\n",
              "</thead>\n",
              "<tbody>\n",
              "\t<tr><td>PRC01 01</td><td>Practical (Online)</td><td>Wed</td><td>Online</td><td>30</td><td>Narayan Srinivasan</td><td>16</td><td>18</td></tr>\n",
              "</tbody>\n",
              "</table>\n"
            ],
            "text/markdown": "\nA data.frame: 1 × 8\n\n| Class &lt;chr&gt; | Type &lt;chr&gt; | Day &lt;chr&gt; | Location &lt;chr&gt; | Limit &lt;int&gt; | Teaching_Staff &lt;chr&gt; | From &lt;int&gt; | To &lt;int&gt; |\n|---|---|---|---|---|---|---|---|\n| PRC01 01 | Practical (Online) | Wed | Online | 30 | Narayan Srinivasan | 16 | 18 |\n\n",
            "text/latex": "A data.frame: 1 × 8\n\\begin{tabular}{llllllll}\n Class & Type & Day & Location & Limit & Teaching\\_Staff & From & To\\\\\n <chr> & <chr> & <chr> & <chr> & <int> & <chr> & <int> & <int>\\\\\n\\hline\n\t PRC01 01 & Practical (Online) & Wed & Online & 30 & Narayan Srinivasan & 16 & 18\\\\\n\\end{tabular}\n",
            "text/plain": [
              "  Class    Type               Day Location Limit Teaching_Staff     From To\n",
              "1 PRC01 01 Practical (Online) Wed Online   30    Narayan Srinivasan 16   18"
            ]
          },
          "metadata": {}
        }
      ]
    },
    {
      "cell_type": "markdown",
      "source": [
        "#### **select() — pick specific columns**"
      ],
      "metadata": {
        "id": "bQSJPdbu4B6l"
      }
    },
    {
      "cell_type": "code",
      "source": [
        "MXB107_Info %>%\n",
        "  filter(Teaching_Staff == \"Chris Drovandi\") %>%\n",
        "  select(Class, Teaching_Staff, Day, Location, From, To)"
      ],
      "metadata": {
        "colab": {
          "base_uri": "https://localhost:8080/",
          "height": 159
        },
        "id": "SnHV8C4G4NVC",
        "outputId": "2a92d6a3-39d1-48ca-ed01-b313517fe4fb"
      },
      "execution_count": 7,
      "outputs": [
        {
          "output_type": "display_data",
          "data": {
            "text/html": [
              "<table class=\"dataframe\">\n",
              "<caption>A data.frame: 2 × 6</caption>\n",
              "<thead>\n",
              "\t<tr><th scope=col>Class</th><th scope=col>Teaching_Staff</th><th scope=col>Day</th><th scope=col>Location</th><th scope=col>From</th><th scope=col>To</th></tr>\n",
              "\t<tr><th scope=col>&lt;chr&gt;</th><th scope=col>&lt;chr&gt;</th><th scope=col>&lt;chr&gt;</th><th scope=col>&lt;chr&gt;</th><th scope=col>&lt;int&gt;</th><th scope=col>&lt;int&gt;</th></tr>\n",
              "</thead>\n",
              "<tbody>\n",
              "\t<tr><td>LEC01 01</td><td>Chris Drovandi</td><td>Wed</td><td>GP B117</td><td>11</td><td>13</td></tr>\n",
              "\t<tr><td>LEC01 01</td><td>Chris Drovandi</td><td>Wed</td><td>Online </td><td>11</td><td>13</td></tr>\n",
              "</tbody>\n",
              "</table>\n"
            ],
            "text/markdown": "\nA data.frame: 2 × 6\n\n| Class &lt;chr&gt; | Teaching_Staff &lt;chr&gt; | Day &lt;chr&gt; | Location &lt;chr&gt; | From &lt;int&gt; | To &lt;int&gt; |\n|---|---|---|---|---|---|\n| LEC01 01 | Chris Drovandi | Wed | GP B117 | 11 | 13 |\n| LEC01 01 | Chris Drovandi | Wed | Online  | 11 | 13 |\n\n",
            "text/latex": "A data.frame: 2 × 6\n\\begin{tabular}{llllll}\n Class & Teaching\\_Staff & Day & Location & From & To\\\\\n <chr> & <chr> & <chr> & <chr> & <int> & <int>\\\\\n\\hline\n\t LEC01 01 & Chris Drovandi & Wed & GP B117 & 11 & 13\\\\\n\t LEC01 01 & Chris Drovandi & Wed & Online  & 11 & 13\\\\\n\\end{tabular}\n",
            "text/plain": [
              "  Class    Teaching_Staff Day Location From To\n",
              "1 LEC01 01 Chris Drovandi Wed GP B117  11   13\n",
              "2 LEC01 01 Chris Drovandi Wed Online   11   13"
            ]
          },
          "metadata": {}
        }
      ]
    },
    {
      "cell_type": "markdown",
      "source": [
        "#### **mutate() — add or modify columns**"
      ],
      "metadata": {
        "id": "-RYn41g24g-8"
      }
    },
    {
      "cell_type": "code",
      "source": [
        "MXB107_Info %>%\n",
        "  mutate(Duration = To-From) %>%\n",
        "  filter(Day == \"Wed\")"
      ],
      "metadata": {
        "colab": {
          "base_uri": "https://localhost:8080/",
          "height": 190
        },
        "id": "u0_jhNQz4vvh",
        "outputId": "6643f52b-fac2-4dc0-fbee-1b40cda73c57"
      },
      "execution_count": 8,
      "outputs": [
        {
          "output_type": "display_data",
          "data": {
            "text/html": [
              "<table class=\"dataframe\">\n",
              "<caption>A data.frame: 3 × 9</caption>\n",
              "<thead>\n",
              "\t<tr><th scope=col>Class</th><th scope=col>Type</th><th scope=col>Day</th><th scope=col>Location</th><th scope=col>Limit</th><th scope=col>Teaching_Staff</th><th scope=col>From</th><th scope=col>To</th><th scope=col>Duration</th></tr>\n",
              "\t<tr><th scope=col>&lt;chr&gt;</th><th scope=col>&lt;chr&gt;</th><th scope=col>&lt;chr&gt;</th><th scope=col>&lt;chr&gt;</th><th scope=col>&lt;int&gt;</th><th scope=col>&lt;chr&gt;</th><th scope=col>&lt;int&gt;</th><th scope=col>&lt;int&gt;</th><th scope=col>&lt;int&gt;</th></tr>\n",
              "</thead>\n",
              "<tbody>\n",
              "\t<tr><td>LEC01 01</td><td>Lecture (Internal)</td><td>Wed</td><td>GP B117</td><td> 240</td><td>Chris Drovandi    </td><td>11</td><td>13</td><td>2</td></tr>\n",
              "\t<tr><td>LEC01 01</td><td>Lecture (Online)  </td><td>Wed</td><td>Online </td><td>1000</td><td>Chris Drovandi    </td><td>11</td><td>13</td><td>2</td></tr>\n",
              "\t<tr><td>PRC01 01</td><td>Practical (Online)</td><td>Wed</td><td>Online </td><td>  30</td><td>Narayan Srinivasan</td><td>16</td><td>18</td><td>2</td></tr>\n",
              "</tbody>\n",
              "</table>\n"
            ],
            "text/markdown": "\nA data.frame: 3 × 9\n\n| Class &lt;chr&gt; | Type &lt;chr&gt; | Day &lt;chr&gt; | Location &lt;chr&gt; | Limit &lt;int&gt; | Teaching_Staff &lt;chr&gt; | From &lt;int&gt; | To &lt;int&gt; | Duration &lt;int&gt; |\n|---|---|---|---|---|---|---|---|---|\n| LEC01 01 | Lecture (Internal) | Wed | GP B117 |  240 | Chris Drovandi     | 11 | 13 | 2 |\n| LEC01 01 | Lecture (Online)   | Wed | Online  | 1000 | Chris Drovandi     | 11 | 13 | 2 |\n| PRC01 01 | Practical (Online) | Wed | Online  |   30 | Narayan Srinivasan | 16 | 18 | 2 |\n\n",
            "text/latex": "A data.frame: 3 × 9\n\\begin{tabular}{lllllllll}\n Class & Type & Day & Location & Limit & Teaching\\_Staff & From & To & Duration\\\\\n <chr> & <chr> & <chr> & <chr> & <int> & <chr> & <int> & <int> & <int>\\\\\n\\hline\n\t LEC01 01 & Lecture (Internal) & Wed & GP B117 &  240 & Chris Drovandi     & 11 & 13 & 2\\\\\n\t LEC01 01 & Lecture (Online)   & Wed & Online  & 1000 & Chris Drovandi     & 11 & 13 & 2\\\\\n\t PRC01 01 & Practical (Online) & Wed & Online  &   30 & Narayan Srinivasan & 16 & 18 & 2\\\\\n\\end{tabular}\n",
            "text/plain": [
              "  Class    Type               Day Location Limit Teaching_Staff     From To\n",
              "1 LEC01 01 Lecture (Internal) Wed GP B117   240  Chris Drovandi     11   13\n",
              "2 LEC01 01 Lecture (Online)   Wed Online   1000  Chris Drovandi     11   13\n",
              "3 PRC01 01 Practical (Online) Wed Online     30  Narayan Srinivasan 16   18\n",
              "  Duration\n",
              "1 2       \n",
              "2 2       \n",
              "3 2       "
            ]
          },
          "metadata": {}
        }
      ]
    },
    {
      "cell_type": "markdown",
      "source": [
        "#### **arrange() — reorder rows by column(s)**"
      ],
      "metadata": {
        "id": "1mI7Sa405L6h"
      }
    },
    {
      "cell_type": "code",
      "source": [
        "MXB107_Info %>%\n",
        "  filter(Day == \"Wed\") %>%\n",
        "  arrange(Limit) #Ascending order"
      ],
      "metadata": {
        "colab": {
          "base_uri": "https://localhost:8080/",
          "height": 190
        },
        "id": "1mjNnDb65i5X",
        "outputId": "1f51db19-115f-4b3a-d7ef-6b02b576b87e"
      },
      "execution_count": 9,
      "outputs": [
        {
          "output_type": "display_data",
          "data": {
            "text/html": [
              "<table class=\"dataframe\">\n",
              "<caption>A data.frame: 3 × 8</caption>\n",
              "<thead>\n",
              "\t<tr><th scope=col>Class</th><th scope=col>Type</th><th scope=col>Day</th><th scope=col>Location</th><th scope=col>Limit</th><th scope=col>Teaching_Staff</th><th scope=col>From</th><th scope=col>To</th></tr>\n",
              "\t<tr><th scope=col>&lt;chr&gt;</th><th scope=col>&lt;chr&gt;</th><th scope=col>&lt;chr&gt;</th><th scope=col>&lt;chr&gt;</th><th scope=col>&lt;int&gt;</th><th scope=col>&lt;chr&gt;</th><th scope=col>&lt;int&gt;</th><th scope=col>&lt;int&gt;</th></tr>\n",
              "</thead>\n",
              "<tbody>\n",
              "\t<tr><td>PRC01 01</td><td>Practical (Online)</td><td>Wed</td><td>Online </td><td>  30</td><td>Narayan Srinivasan</td><td>16</td><td>18</td></tr>\n",
              "\t<tr><td>LEC01 01</td><td>Lecture (Internal)</td><td>Wed</td><td>GP B117</td><td> 240</td><td>Chris Drovandi    </td><td>11</td><td>13</td></tr>\n",
              "\t<tr><td>LEC01 01</td><td>Lecture (Online)  </td><td>Wed</td><td>Online </td><td>1000</td><td>Chris Drovandi    </td><td>11</td><td>13</td></tr>\n",
              "</tbody>\n",
              "</table>\n"
            ],
            "text/markdown": "\nA data.frame: 3 × 8\n\n| Class &lt;chr&gt; | Type &lt;chr&gt; | Day &lt;chr&gt; | Location &lt;chr&gt; | Limit &lt;int&gt; | Teaching_Staff &lt;chr&gt; | From &lt;int&gt; | To &lt;int&gt; |\n|---|---|---|---|---|---|---|---|\n| PRC01 01 | Practical (Online) | Wed | Online  |   30 | Narayan Srinivasan | 16 | 18 |\n| LEC01 01 | Lecture (Internal) | Wed | GP B117 |  240 | Chris Drovandi     | 11 | 13 |\n| LEC01 01 | Lecture (Online)   | Wed | Online  | 1000 | Chris Drovandi     | 11 | 13 |\n\n",
            "text/latex": "A data.frame: 3 × 8\n\\begin{tabular}{llllllll}\n Class & Type & Day & Location & Limit & Teaching\\_Staff & From & To\\\\\n <chr> & <chr> & <chr> & <chr> & <int> & <chr> & <int> & <int>\\\\\n\\hline\n\t PRC01 01 & Practical (Online) & Wed & Online  &   30 & Narayan Srinivasan & 16 & 18\\\\\n\t LEC01 01 & Lecture (Internal) & Wed & GP B117 &  240 & Chris Drovandi     & 11 & 13\\\\\n\t LEC01 01 & Lecture (Online)   & Wed & Online  & 1000 & Chris Drovandi     & 11 & 13\\\\\n\\end{tabular}\n",
            "text/plain": [
              "  Class    Type               Day Location Limit Teaching_Staff     From To\n",
              "1 PRC01 01 Practical (Online) Wed Online     30  Narayan Srinivasan 16   18\n",
              "2 LEC01 01 Lecture (Internal) Wed GP B117   240  Chris Drovandi     11   13\n",
              "3 LEC01 01 Lecture (Online)   Wed Online   1000  Chris Drovandi     11   13"
            ]
          },
          "metadata": {}
        }
      ]
    },
    {
      "cell_type": "markdown",
      "source": [
        "#### **group_by() and summarise() — group data and aggregate**"
      ],
      "metadata": {
        "id": "R2w3FCCU52FL"
      }
    },
    {
      "cell_type": "code",
      "source": [
        "MXB107_Info %>%\n",
        "  group_by(Day) %>%\n",
        "  summarise(totalLimit = sum(Limit),\n",
        "            averageLimit = mean(Limit),\n",
        "            Count = n()) #This creates a new `tibble` storing summarised results\n"
      ],
      "metadata": {
        "colab": {
          "base_uri": "https://localhost:8080/",
          "height": 190
        },
        "id": "Iif0gg-z55MN",
        "outputId": "18b0c8be-5066-4b9b-9ca0-ebce434d82af"
      },
      "execution_count": 10,
      "outputs": [
        {
          "output_type": "display_data",
          "data": {
            "text/html": [
              "<table class=\"dataframe\">\n",
              "<caption>A tibble: 3 × 4</caption>\n",
              "<thead>\n",
              "\t<tr><th scope=col>Day</th><th scope=col>totalLimit</th><th scope=col>averageLimit</th><th scope=col>Count</th></tr>\n",
              "\t<tr><th scope=col>&lt;chr&gt;</th><th scope=col>&lt;int&gt;</th><th scope=col>&lt;dbl&gt;</th><th scope=col>&lt;int&gt;</th></tr>\n",
              "</thead>\n",
              "<tbody>\n",
              "\t<tr><td>Fri</td><td> 140</td><td> 35.0000</td><td>4</td></tr>\n",
              "\t<tr><td>Thu</td><td> 155</td><td> 31.0000</td><td>5</td></tr>\n",
              "\t<tr><td>Wed</td><td>1270</td><td>423.3333</td><td>3</td></tr>\n",
              "</tbody>\n",
              "</table>\n"
            ],
            "text/markdown": "\nA tibble: 3 × 4\n\n| Day &lt;chr&gt; | totalLimit &lt;int&gt; | averageLimit &lt;dbl&gt; | Count &lt;int&gt; |\n|---|---|---|---|\n| Fri |  140 |  35.0000 | 4 |\n| Thu |  155 |  31.0000 | 5 |\n| Wed | 1270 | 423.3333 | 3 |\n\n",
            "text/latex": "A tibble: 3 × 4\n\\begin{tabular}{llll}\n Day & totalLimit & averageLimit & Count\\\\\n <chr> & <int> & <dbl> & <int>\\\\\n\\hline\n\t Fri &  140 &  35.0000 & 4\\\\\n\t Thu &  155 &  31.0000 & 5\\\\\n\t Wed & 1270 & 423.3333 & 3\\\\\n\\end{tabular}\n",
            "text/plain": [
              "  Day totalLimit averageLimit Count\n",
              "1 Fri  140        35.0000     4    \n",
              "2 Thu  155        31.0000     5    \n",
              "3 Wed 1270       423.3333     3    "
            ]
          },
          "metadata": {}
        }
      ]
    },
    {
      "cell_type": "markdown",
      "source": [
        "#### **rename() — rename columns**"
      ],
      "metadata": {
        "id": "eWe0SRE_6MRU"
      }
    },
    {
      "cell_type": "code",
      "source": [
        "MXB107_Info %>%\n",
        "  rename(Start = From, End = To) %>%\n",
        "  head(3)"
      ],
      "metadata": {
        "colab": {
          "base_uri": "https://localhost:8080/",
          "height": 190
        },
        "id": "MDVXyib26PE-",
        "outputId": "95d528af-48cd-40e5-bda5-6dedc37bb738"
      },
      "execution_count": 11,
      "outputs": [
        {
          "output_type": "display_data",
          "data": {
            "text/html": [
              "<table class=\"dataframe\">\n",
              "<caption>A data.frame: 3 × 8</caption>\n",
              "<thead>\n",
              "\t<tr><th></th><th scope=col>Class</th><th scope=col>Type</th><th scope=col>Day</th><th scope=col>Location</th><th scope=col>Limit</th><th scope=col>Teaching_Staff</th><th scope=col>Start</th><th scope=col>End</th></tr>\n",
              "\t<tr><th></th><th scope=col>&lt;chr&gt;</th><th scope=col>&lt;chr&gt;</th><th scope=col>&lt;chr&gt;</th><th scope=col>&lt;chr&gt;</th><th scope=col>&lt;int&gt;</th><th scope=col>&lt;chr&gt;</th><th scope=col>&lt;int&gt;</th><th scope=col>&lt;int&gt;</th></tr>\n",
              "</thead>\n",
              "<tbody>\n",
              "\t<tr><th scope=row>1</th><td>LEC01 01</td><td>Lecture (Internal)</td><td>Wed</td><td>GP B117</td><td> 240</td><td>Chris Drovandi    </td><td>11</td><td>13</td></tr>\n",
              "\t<tr><th scope=row>2</th><td>LEC01 01</td><td>Lecture (Online)  </td><td>Wed</td><td>Online </td><td>1000</td><td>Chris Drovandi    </td><td>11</td><td>13</td></tr>\n",
              "\t<tr><th scope=row>3</th><td>PRC01 01</td><td>Practical (Online)</td><td>Wed</td><td>Online </td><td>  30</td><td>Narayan Srinivasan</td><td>16</td><td>18</td></tr>\n",
              "</tbody>\n",
              "</table>\n"
            ],
            "text/markdown": "\nA data.frame: 3 × 8\n\n| <!--/--> | Class &lt;chr&gt; | Type &lt;chr&gt; | Day &lt;chr&gt; | Location &lt;chr&gt; | Limit &lt;int&gt; | Teaching_Staff &lt;chr&gt; | Start &lt;int&gt; | End &lt;int&gt; |\n|---|---|---|---|---|---|---|---|---|\n| 1 | LEC01 01 | Lecture (Internal) | Wed | GP B117 |  240 | Chris Drovandi     | 11 | 13 |\n| 2 | LEC01 01 | Lecture (Online)   | Wed | Online  | 1000 | Chris Drovandi     | 11 | 13 |\n| 3 | PRC01 01 | Practical (Online) | Wed | Online  |   30 | Narayan Srinivasan | 16 | 18 |\n\n",
            "text/latex": "A data.frame: 3 × 8\n\\begin{tabular}{r|llllllll}\n  & Class & Type & Day & Location & Limit & Teaching\\_Staff & Start & End\\\\\n  & <chr> & <chr> & <chr> & <chr> & <int> & <chr> & <int> & <int>\\\\\n\\hline\n\t1 & LEC01 01 & Lecture (Internal) & Wed & GP B117 &  240 & Chris Drovandi     & 11 & 13\\\\\n\t2 & LEC01 01 & Lecture (Online)   & Wed & Online  & 1000 & Chris Drovandi     & 11 & 13\\\\\n\t3 & PRC01 01 & Practical (Online) & Wed & Online  &   30 & Narayan Srinivasan & 16 & 18\\\\\n\\end{tabular}\n",
            "text/plain": [
              "  Class    Type               Day Location Limit Teaching_Staff     Start End\n",
              "1 LEC01 01 Lecture (Internal) Wed GP B117   240  Chris Drovandi     11    13 \n",
              "2 LEC01 01 Lecture (Online)   Wed Online   1000  Chris Drovandi     11    13 \n",
              "3 PRC01 01 Practical (Online) Wed Online     30  Narayan Srinivasan 16    18 "
            ]
          },
          "metadata": {}
        }
      ]
    },
    {
      "cell_type": "markdown",
      "source": [
        "#### **slice() — select rows by position**"
      ],
      "metadata": {
        "id": "RWWDWYJw50d2"
      }
    },
    {
      "cell_type": "code",
      "source": [
        "MXB107_Info %>%\n",
        "  slice(1:3) #Similar to indexing"
      ],
      "metadata": {
        "colab": {
          "base_uri": "https://localhost:8080/",
          "height": 190
        },
        "id": "3agOlPqL6Y-j",
        "outputId": "fc39a0d0-5a97-426d-a29b-3966c6f19505"
      },
      "execution_count": 12,
      "outputs": [
        {
          "output_type": "display_data",
          "data": {
            "text/html": [
              "<table class=\"dataframe\">\n",
              "<caption>A data.frame: 3 × 8</caption>\n",
              "<thead>\n",
              "\t<tr><th scope=col>Class</th><th scope=col>Type</th><th scope=col>Day</th><th scope=col>Location</th><th scope=col>Limit</th><th scope=col>Teaching_Staff</th><th scope=col>From</th><th scope=col>To</th></tr>\n",
              "\t<tr><th scope=col>&lt;chr&gt;</th><th scope=col>&lt;chr&gt;</th><th scope=col>&lt;chr&gt;</th><th scope=col>&lt;chr&gt;</th><th scope=col>&lt;int&gt;</th><th scope=col>&lt;chr&gt;</th><th scope=col>&lt;int&gt;</th><th scope=col>&lt;int&gt;</th></tr>\n",
              "</thead>\n",
              "<tbody>\n",
              "\t<tr><td>LEC01 01</td><td>Lecture (Internal)</td><td>Wed</td><td>GP B117</td><td> 240</td><td>Chris Drovandi    </td><td>11</td><td>13</td></tr>\n",
              "\t<tr><td>LEC01 01</td><td>Lecture (Online)  </td><td>Wed</td><td>Online </td><td>1000</td><td>Chris Drovandi    </td><td>11</td><td>13</td></tr>\n",
              "\t<tr><td>PRC01 01</td><td>Practical (Online)</td><td>Wed</td><td>Online </td><td>  30</td><td>Narayan Srinivasan</td><td>16</td><td>18</td></tr>\n",
              "</tbody>\n",
              "</table>\n"
            ],
            "text/markdown": "\nA data.frame: 3 × 8\n\n| Class &lt;chr&gt; | Type &lt;chr&gt; | Day &lt;chr&gt; | Location &lt;chr&gt; | Limit &lt;int&gt; | Teaching_Staff &lt;chr&gt; | From &lt;int&gt; | To &lt;int&gt; |\n|---|---|---|---|---|---|---|---|\n| LEC01 01 | Lecture (Internal) | Wed | GP B117 |  240 | Chris Drovandi     | 11 | 13 |\n| LEC01 01 | Lecture (Online)   | Wed | Online  | 1000 | Chris Drovandi     | 11 | 13 |\n| PRC01 01 | Practical (Online) | Wed | Online  |   30 | Narayan Srinivasan | 16 | 18 |\n\n",
            "text/latex": "A data.frame: 3 × 8\n\\begin{tabular}{llllllll}\n Class & Type & Day & Location & Limit & Teaching\\_Staff & From & To\\\\\n <chr> & <chr> & <chr> & <chr> & <int> & <chr> & <int> & <int>\\\\\n\\hline\n\t LEC01 01 & Lecture (Internal) & Wed & GP B117 &  240 & Chris Drovandi     & 11 & 13\\\\\n\t LEC01 01 & Lecture (Online)   & Wed & Online  & 1000 & Chris Drovandi     & 11 & 13\\\\\n\t PRC01 01 & Practical (Online) & Wed & Online  &   30 & Narayan Srinivasan & 16 & 18\\\\\n\\end{tabular}\n",
            "text/plain": [
              "  Class    Type               Day Location Limit Teaching_Staff     From To\n",
              "1 LEC01 01 Lecture (Internal) Wed GP B117   240  Chris Drovandi     11   13\n",
              "2 LEC01 01 Lecture (Online)   Wed Online   1000  Chris Drovandi     11   13\n",
              "3 PRC01 01 Practical (Online) Wed Online     30  Narayan Srinivasan 16   18"
            ]
          },
          "metadata": {}
        }
      ]
    },
    {
      "cell_type": "markdown",
      "source": [
        "#### **distinct() — get unique rows by columns**\n"
      ],
      "metadata": {
        "id": "ZPQAXSop_ujH"
      }
    },
    {
      "cell_type": "code",
      "source": [
        "MXB107_Info %>%\n",
        "  select(Teaching_Staff, Type, Day, From, To) %>%\n",
        "  distinct(Teaching_Staff)"
      ],
      "metadata": {
        "id": "O108sJeS_1FG",
        "outputId": "e93c0f7f-272a-4e50-8084-b18c402d98df",
        "colab": {
          "base_uri": "https://localhost:8080/",
          "height": 314
        }
      },
      "execution_count": 27,
      "outputs": [
        {
          "output_type": "display_data",
          "data": {
            "text/html": [
              "<table class=\"dataframe\">\n",
              "<caption>A data.frame: 7 × 1</caption>\n",
              "<thead>\n",
              "\t<tr><th scope=col>Teaching_Staff</th></tr>\n",
              "\t<tr><th scope=col>&lt;chr&gt;</th></tr>\n",
              "</thead>\n",
              "<tbody>\n",
              "\t<tr><td>Chris Drovandi        </td></tr>\n",
              "\t<tr><td>Narayan Srinivasan    </td></tr>\n",
              "\t<tr><td>Oliver Vu             </td></tr>\n",
              "\t<tr><td>Minh Long Nguyen      </td></tr>\n",
              "\t<tr><td>Ryan Kelly            </td></tr>\n",
              "\t<tr><td>Nicholas Gecks-Preston</td></tr>\n",
              "\t<tr><td>Arwen Nugteren        </td></tr>\n",
              "</tbody>\n",
              "</table>\n"
            ],
            "text/markdown": "\nA data.frame: 7 × 1\n\n| Teaching_Staff &lt;chr&gt; |\n|---|\n| Chris Drovandi         |\n| Narayan Srinivasan     |\n| Oliver Vu              |\n| Minh Long Nguyen       |\n| Ryan Kelly             |\n| Nicholas Gecks-Preston |\n| Arwen Nugteren         |\n\n",
            "text/latex": "A data.frame: 7 × 1\n\\begin{tabular}{l}\n Teaching\\_Staff\\\\\n <chr>\\\\\n\\hline\n\t Chris Drovandi        \\\\\n\t Narayan Srinivasan    \\\\\n\t Oliver Vu             \\\\\n\t Minh Long Nguyen      \\\\\n\t Ryan Kelly            \\\\\n\t Nicholas Gecks-Preston\\\\\n\t Arwen Nugteren        \\\\\n\\end{tabular}\n",
            "text/plain": [
              "  Teaching_Staff        \n",
              "1 Chris Drovandi        \n",
              "2 Narayan Srinivasan    \n",
              "3 Oliver Vu             \n",
              "4 Minh Long Nguyen      \n",
              "5 Ryan Kelly            \n",
              "6 Nicholas Gecks-Preston\n",
              "7 Arwen Nugteren        "
            ]
          },
          "metadata": {}
        }
      ]
    },
    {
      "cell_type": "markdown",
      "source": [
        "#### **pivot_longer() - reshapes wide-format data into long format**"
      ],
      "metadata": {
        "id": "ljJDelQf6tDP"
      }
    },
    {
      "cell_type": "markdown",
      "source": [
        "We are often more familiar with wide-format data, where each row represents an observation and each column represents a variable or feature.\n",
        "\n",
        "However, in many situations — particularly for modeling, statistical analysis, and plotting — it is more convenient or even required to work with data in long format. In long format, each row corresponds to a single measurement or value, along with its associated identifiers."
      ],
      "metadata": {
        "id": "kPVObkWp6yPS"
      }
    },
    {
      "cell_type": "markdown",
      "source": [
        "For example, this data frame is in wide-format."
      ],
      "metadata": {
        "id": "dIRDN_fT8fON"
      }
    },
    {
      "cell_type": "code",
      "source": [
        "MXB107_Info %>%\n",
        "  select(Class, Teaching_Staff, From, To) %>%\n",
        "  head(3) %>%\n",
        "  mutate(id = row_number())"
      ],
      "metadata": {
        "colab": {
          "base_uri": "https://localhost:8080/",
          "height": 190
        },
        "id": "0m3lUBrl7HkW",
        "outputId": "720eec19-55fe-4604-9a94-c00c4362c8cf"
      },
      "execution_count": 18,
      "outputs": [
        {
          "output_type": "display_data",
          "data": {
            "text/html": [
              "<table class=\"dataframe\">\n",
              "<caption>A data.frame: 3 × 5</caption>\n",
              "<thead>\n",
              "\t<tr><th></th><th scope=col>Class</th><th scope=col>Teaching_Staff</th><th scope=col>From</th><th scope=col>To</th><th scope=col>id</th></tr>\n",
              "\t<tr><th></th><th scope=col>&lt;chr&gt;</th><th scope=col>&lt;chr&gt;</th><th scope=col>&lt;int&gt;</th><th scope=col>&lt;int&gt;</th><th scope=col>&lt;int&gt;</th></tr>\n",
              "</thead>\n",
              "<tbody>\n",
              "\t<tr><th scope=row>1</th><td>LEC01 01</td><td>Chris Drovandi    </td><td>11</td><td>13</td><td>1</td></tr>\n",
              "\t<tr><th scope=row>2</th><td>LEC01 01</td><td>Chris Drovandi    </td><td>11</td><td>13</td><td>2</td></tr>\n",
              "\t<tr><th scope=row>3</th><td>PRC01 01</td><td>Narayan Srinivasan</td><td>16</td><td>18</td><td>3</td></tr>\n",
              "</tbody>\n",
              "</table>\n"
            ],
            "text/markdown": "\nA data.frame: 3 × 5\n\n| <!--/--> | Class &lt;chr&gt; | Teaching_Staff &lt;chr&gt; | From &lt;int&gt; | To &lt;int&gt; | id &lt;int&gt; |\n|---|---|---|---|---|---|\n| 1 | LEC01 01 | Chris Drovandi     | 11 | 13 | 1 |\n| 2 | LEC01 01 | Chris Drovandi     | 11 | 13 | 2 |\n| 3 | PRC01 01 | Narayan Srinivasan | 16 | 18 | 3 |\n\n",
            "text/latex": "A data.frame: 3 × 5\n\\begin{tabular}{r|lllll}\n  & Class & Teaching\\_Staff & From & To & id\\\\\n  & <chr> & <chr> & <int> & <int> & <int>\\\\\n\\hline\n\t1 & LEC01 01 & Chris Drovandi     & 11 & 13 & 1\\\\\n\t2 & LEC01 01 & Chris Drovandi     & 11 & 13 & 2\\\\\n\t3 & PRC01 01 & Narayan Srinivasan & 16 & 18 & 3\\\\\n\\end{tabular}\n",
            "text/plain": [
              "  Class    Teaching_Staff     From To id\n",
              "1 LEC01 01 Chris Drovandi     11   13 1 \n",
              "2 LEC01 01 Chris Drovandi     11   13 2 \n",
              "3 PRC01 01 Narayan Srinivasan 16   18 3 "
            ]
          },
          "metadata": {}
        }
      ]
    },
    {
      "cell_type": "markdown",
      "source": [
        "To convert this to long-format, we can use `pivot_longer()`:"
      ],
      "metadata": {
        "id": "Fs9E7k3F7Za1"
      }
    },
    {
      "cell_type": "code",
      "source": [
        "MXB107_Info %>%\n",
        "  select(Class, Teaching_Staff, From, To) %>%\n",
        "  head(3) %>%\n",
        "  mutate(id = row_number()) %>%\n",
        "  pivot_longer(\n",
        "    cols = c(From, To),\n",
        "    names_to = \"timeType\",\n",
        "    values_to = \"Hour\"\n",
        "  )"
      ],
      "metadata": {
        "colab": {
          "base_uri": "https://localhost:8080/",
          "height": 283
        },
        "id": "k9zWy2RT7oJi",
        "outputId": "d6382542-bdf3-476f-9c2e-0cd6dafb7039"
      },
      "execution_count": 20,
      "outputs": [
        {
          "output_type": "display_data",
          "data": {
            "text/html": [
              "<table class=\"dataframe\">\n",
              "<caption>A tibble: 6 × 5</caption>\n",
              "<thead>\n",
              "\t<tr><th scope=col>Class</th><th scope=col>Teaching_Staff</th><th scope=col>id</th><th scope=col>timeType</th><th scope=col>Hour</th></tr>\n",
              "\t<tr><th scope=col>&lt;chr&gt;</th><th scope=col>&lt;chr&gt;</th><th scope=col>&lt;int&gt;</th><th scope=col>&lt;chr&gt;</th><th scope=col>&lt;int&gt;</th></tr>\n",
              "</thead>\n",
              "<tbody>\n",
              "\t<tr><td>LEC01 01</td><td>Chris Drovandi    </td><td>1</td><td>From</td><td>11</td></tr>\n",
              "\t<tr><td>LEC01 01</td><td>Chris Drovandi    </td><td>1</td><td>To  </td><td>13</td></tr>\n",
              "\t<tr><td>LEC01 01</td><td>Chris Drovandi    </td><td>2</td><td>From</td><td>11</td></tr>\n",
              "\t<tr><td>LEC01 01</td><td>Chris Drovandi    </td><td>2</td><td>To  </td><td>13</td></tr>\n",
              "\t<tr><td>PRC01 01</td><td>Narayan Srinivasan</td><td>3</td><td>From</td><td>16</td></tr>\n",
              "\t<tr><td>PRC01 01</td><td>Narayan Srinivasan</td><td>3</td><td>To  </td><td>18</td></tr>\n",
              "</tbody>\n",
              "</table>\n"
            ],
            "text/markdown": "\nA tibble: 6 × 5\n\n| Class &lt;chr&gt; | Teaching_Staff &lt;chr&gt; | id &lt;int&gt; | timeType &lt;chr&gt; | Hour &lt;int&gt; |\n|---|---|---|---|---|\n| LEC01 01 | Chris Drovandi     | 1 | From | 11 |\n| LEC01 01 | Chris Drovandi     | 1 | To   | 13 |\n| LEC01 01 | Chris Drovandi     | 2 | From | 11 |\n| LEC01 01 | Chris Drovandi     | 2 | To   | 13 |\n| PRC01 01 | Narayan Srinivasan | 3 | From | 16 |\n| PRC01 01 | Narayan Srinivasan | 3 | To   | 18 |\n\n",
            "text/latex": "A tibble: 6 × 5\n\\begin{tabular}{lllll}\n Class & Teaching\\_Staff & id & timeType & Hour\\\\\n <chr> & <chr> & <int> & <chr> & <int>\\\\\n\\hline\n\t LEC01 01 & Chris Drovandi     & 1 & From & 11\\\\\n\t LEC01 01 & Chris Drovandi     & 1 & To   & 13\\\\\n\t LEC01 01 & Chris Drovandi     & 2 & From & 11\\\\\n\t LEC01 01 & Chris Drovandi     & 2 & To   & 13\\\\\n\t PRC01 01 & Narayan Srinivasan & 3 & From & 16\\\\\n\t PRC01 01 & Narayan Srinivasan & 3 & To   & 18\\\\\n\\end{tabular}\n",
            "text/plain": [
              "  Class    Teaching_Staff     id timeType Hour\n",
              "1 LEC01 01 Chris Drovandi     1  From     11  \n",
              "2 LEC01 01 Chris Drovandi     1  To       13  \n",
              "3 LEC01 01 Chris Drovandi     2  From     11  \n",
              "4 LEC01 01 Chris Drovandi     2  To       13  \n",
              "5 PRC01 01 Narayan Srinivasan 3  From     16  \n",
              "6 PRC01 01 Narayan Srinivasan 3  To       18  "
            ]
          },
          "metadata": {}
        }
      ]
    },
    {
      "cell_type": "markdown",
      "source": [
        "We observe that the number of rows has doubled. This is because the original `From` and `To` columns have been reshaped into a single column called `Hour`, with a corresponding column `timeType` indicating whether the value refers to the start or end time.\n",
        "\n",
        "Instead of storing both `From` and `To` in the same row, each is now represented as a separate row — one for the start time and one for the end time. This structure is characteristic of long format data. If you are familiar with databases, now `<id, timeType>` becomes the new `key` (identifier).\n",
        "\n",
        "Long-format data frames are less memory-efficient but more convenient for modeling, statistical analysis, and data visualisation. The next one is a *silly* toy example."
      ],
      "metadata": {
        "id": "zETVkoNc8z-D"
      }
    },
    {
      "cell_type": "code",
      "source": [
        "MXB107_Info %>%\n",
        "  select(Class, Teaching_Staff, From, To) %>%\n",
        "  head(3) %>%\n",
        "  mutate(id = row_number()) %>%\n",
        "  pivot_longer(\n",
        "    cols = c(From, To),\n",
        "    names_to = \"timeType\",\n",
        "    values_to = \"Hour\"\n",
        "  )  %>%\n",
        "  group_by(timeType) %>% #Now it's possible to group_by `timeType` and compute `earliest` and `latest` hours for each.\n",
        "  summarise(earliest = min(Hour),\n",
        "            latest = max(Hour))\n",
        ""
      ],
      "metadata": {
        "colab": {
          "base_uri": "https://localhost:8080/",
          "height": 159
        },
        "id": "oJSuhUqY-tfr",
        "outputId": "25117bf9-1772-4173-a590-54d40fc4f39c"
      },
      "execution_count": 31,
      "outputs": [
        {
          "output_type": "display_data",
          "data": {
            "text/html": [
              "<table class=\"dataframe\">\n",
              "<caption>A tibble: 2 × 3</caption>\n",
              "<thead>\n",
              "\t<tr><th scope=col>timeType</th><th scope=col>earliest</th><th scope=col>latest</th></tr>\n",
              "\t<tr><th scope=col>&lt;chr&gt;</th><th scope=col>&lt;int&gt;</th><th scope=col>&lt;int&gt;</th></tr>\n",
              "</thead>\n",
              "<tbody>\n",
              "\t<tr><td>From</td><td>11</td><td>16</td></tr>\n",
              "\t<tr><td>To  </td><td>13</td><td>18</td></tr>\n",
              "</tbody>\n",
              "</table>\n"
            ],
            "text/markdown": "\nA tibble: 2 × 3\n\n| timeType &lt;chr&gt; | earliest &lt;int&gt; | latest &lt;int&gt; |\n|---|---|---|\n| From | 11 | 16 |\n| To   | 13 | 18 |\n\n",
            "text/latex": "A tibble: 2 × 3\n\\begin{tabular}{lll}\n timeType & earliest & latest\\\\\n <chr> & <int> & <int>\\\\\n\\hline\n\t From & 11 & 16\\\\\n\t To   & 13 & 18\\\\\n\\end{tabular}\n",
            "text/plain": [
              "  timeType earliest latest\n",
              "1 From     11       16    \n",
              "2 To       13       18    "
            ]
          },
          "metadata": {}
        }
      ]
    }
  ]
}