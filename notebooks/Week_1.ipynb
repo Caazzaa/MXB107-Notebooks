{
  "nbformat": 4,
  "nbformat_minor": 0,
  "metadata": {
    "colab": {
      "provenance": []
    },
    "kernelspec": {
      "name": "ir",
      "display_name": "R"
    },
    "language_info": {
      "name": "R"
    }
  },
  "cells": [
    {
      "cell_type": "markdown",
      "source": [
        "# **Probability and Statistics (Week 1)**\n",
        "\n",
        "```\n",
        ".------------------------------------.\n",
        "|   __  ____  ______  _  ___ _____   |\n",
        "|  |  \\/  \\ \\/ / __ )/ |/ _ \\___  |  |\n",
        "|  | |\\/| |\\  /|  _ \\| | | | | / /   |\n",
        "|  | |  | |/  \\| |_) | | |_| |/ /    |\n",
        "|  |_|  |_/_/\\_\\____/|_|\\___//_/     |\n",
        "'------------------------------------'\n",
        "\n",
        "```\n"
      ],
      "metadata": {
        "id": "ZtpJJ8BSHOaK"
      }
    },
    {
      "cell_type": "markdown",
      "source": [
        "## **Pre-configurate the Notebook**"
      ],
      "metadata": {
        "id": "SpK9XLxlHOcm"
      }
    },
    {
      "cell_type": "markdown",
      "source": [
        "### **Switching to the R Kernel on Colab**\n",
        "\n",
        "By default, Google Colab uses Python as its programming language. To use R instead, you’ll need to manually switch the kernel by going to **Runtime > Change runtime type**, and selecting R as the kernel. This allows you to run R code in the Colab environment.\n",
        "\n",
        "However, our notebook is already configured to use R by default. Unless something goes wrong, you shouldn’t need to manually change runtime type."
      ],
      "metadata": {
        "id": "4yA6tfrakIOY"
      }
    },
    {
      "cell_type": "markdown",
      "source": [
        "### **Import Required Datasets and Packages**\n",
        "**Run the following lines of code**:"
      ],
      "metadata": {
        "id": "VLNikK3CYWIx"
      }
    },
    {
      "cell_type": "code",
      "source": [
        "#Do not modify\n",
        "\n",
        "setwd(\"/content\")\n",
        "\n",
        "# Remove `MXB107-Notebooks` if exists,\n",
        "if (dir.exists(\"MXB107-Notebooks\")) {\n",
        "  system(\"rm -rf MXB107-Notebooks\")\n",
        "}\n",
        "\n",
        "# Fork the repository\n",
        "system(\"git clone https://github.com/edelweiss611428/MXB107-Notebooks.git\")\n",
        "\n",
        "# Change working directory to \"MXB107-Notebooks\"\n",
        "setwd(\"MXB107-Notebooks\")\n",
        "\n",
        "#\n",
        "invisible(source(\"R/preConfigurated.R\"))"
      ],
      "metadata": {
        "id": "tYGemispahiY"
      },
      "execution_count": 9,
      "outputs": []
    },
    {
      "cell_type": "markdown",
      "source": [
        "**Do not modify the following**"
      ],
      "metadata": {
        "id": "o_XFVhdp1GrA"
      }
    },
    {
      "cell_type": "code",
      "source": [
        "if (!require(\"testthat\")) install.packages(\"testthat\"); library(\"testthat\")\n",
        "\n",
        "test_that(\"Test if all packages have been loaded\", {\n",
        "\n",
        "  expect_true(all(c(\"ggplot2\", \"dplyr\", \"stringr\", \"magrittr\") %in% loadedNamespaces()))\n",
        "\n",
        "})\n",
        "\n",
        "test_that(\"Test if all utility functions have been loaded\", {\n",
        "  expect_true(exists(\"skewness\"))\n",
        "  expect_true(exists(\"kurtosis\"))\n",
        "})"
      ],
      "metadata": {
        "colab": {
          "base_uri": "https://localhost:8080/"
        },
        "id": "6lru0NFK011G",
        "outputId": "99c5326a-ff89-4549-d600-423745efc077"
      },
      "execution_count": 11,
      "outputs": [
        {
          "output_type": "stream",
          "name": "stdout",
          "text": [
            "\u001b[32mTest passed\u001b[39m 🌈\n",
            "\u001b[32mTest passed\u001b[39m 😀\n"
          ]
        }
      ]
    },
    {
      "cell_type": "markdown",
      "source": [
        "## **Data Wrangling in R via `dplyr` and `magrittr`**\n",
        "\n",
        "Data wrangling is the process of cleaning, transforming, and reshaping data for analysis. The `dplyr` package, often used with the pipe operator `%>%` from `magrittr`, provides a set of intuitive functions for these tasks.\n",
        "\n",
        "### **Can We Do This via Base R?**\n",
        "\n",
        "Yes, but the syntax tends to be more verbose and less readable. For demonstration, we will load the CSV file `MXB107_2025_ClassInfo.csv`."
      ],
      "metadata": {
        "id": "U_ePA59nkztM"
      }
    },
    {
      "cell_type": "code",
      "source": [
        "MXB107_Info = read.csv(\"./datasets/MXB107_2025_ClassInfo.csv\")\n",
        "str(MXB107_Info)"
      ],
      "metadata": {
        "id": "i8JxHB7ln84o",
        "outputId": "67d5cb0a-5d87-4625-ff16-10e5a6dcd656",
        "colab": {
          "base_uri": "https://localhost:8080/"
        }
      },
      "execution_count": 2,
      "outputs": [
        {
          "output_type": "stream",
          "name": "stdout",
          "text": [
            "'data.frame':\t12 obs. of  8 variables:\n",
            " $ Class         : chr  \"LEC01 01\" \"LEC01 01\" \"PRC01 01\" \"PRC01 01\" ...\n",
            " $ Type          : chr  \"Lecture (Internal)\" \"Lecture (Online)\" \"Practical (Online)\" \"Practical (Internal)\" ...\n",
            " $ Day           : chr  \"Wed\" \"Wed\" \"Wed\" \"Thu\" ...\n",
            " $ Location      : chr  \"GP B117\" \"Online\" \"Online\" \"GP D413\" ...\n",
            " $ Limit         : int  240 1000 30 35 30 35 25 30 35 35 ...\n",
            " $ Teaching_Staff: chr  \"Chris Drovandi\" \"Chris Drovandi\" \"Narayan Srinivasan\" \"Narayan Srinivasan\" ...\n",
            " $ From          : int  11 11 16 16 16 9 14 9 9 11 ...\n",
            " $ To            : int  13 13 18 18 18 11 16 11 11 13 ...\n"
          ]
        }
      ]
    },
    {
      "cell_type": "markdown",
      "source": [
        "We want to extract all classes that start after 9:00 AM on either Thursday or Friday and are not online."
      ],
      "metadata": {
        "id": "mlq_QzyjnBrJ"
      }
    },
    {
      "cell_type": "code",
      "source": [
        "notOnline = MXB107_Info$Location != \"Online\"\n",
        "onThursday = MXB107_Info$Day %in% c(\"Thu\", \"Fri\")\n",
        "startAfter9AM = MXB107_Info$From > 9\n",
        "subset(MXB107_Info, notOnline & onThursday & startAfter9AM)"
      ],
      "metadata": {
        "colab": {
          "base_uri": "https://localhost:8080/",
          "height": 252
        },
        "id": "VLZu9aUgvJz3",
        "outputId": "70041eae-0d70-4e1c-ba56-fc420df20321"
      },
      "execution_count": 3,
      "outputs": [
        {
          "output_type": "display_data",
          "data": {
            "text/html": [
              "<table class=\"dataframe\">\n",
              "<caption>A data.frame: 5 × 8</caption>\n",
              "<thead>\n",
              "\t<tr><th></th><th scope=col>Class</th><th scope=col>Type</th><th scope=col>Day</th><th scope=col>Location</th><th scope=col>Limit</th><th scope=col>Teaching_Staff</th><th scope=col>From</th><th scope=col>To</th></tr>\n",
              "\t<tr><th></th><th scope=col>&lt;chr&gt;</th><th scope=col>&lt;chr&gt;</th><th scope=col>&lt;chr&gt;</th><th scope=col>&lt;chr&gt;</th><th scope=col>&lt;int&gt;</th><th scope=col>&lt;chr&gt;</th><th scope=col>&lt;int&gt;</th><th scope=col>&lt;int&gt;</th></tr>\n",
              "</thead>\n",
              "<tbody>\n",
              "\t<tr><th scope=row>4</th><td>PRC01 01</td><td>Practical (Internal)</td><td>Thu</td><td>GP D413</td><td>35</td><td>Narayan Srinivasan</td><td>16</td><td>18</td></tr>\n",
              "\t<tr><th scope=row>7</th><td>PRC01 07</td><td>Practical (Internal)</td><td>Thu</td><td>GP S520</td><td>25</td><td>Ryan Kelly        </td><td>14</td><td>16</td></tr>\n",
              "\t<tr><th scope=row>10</th><td>PRC01 04</td><td>Practical (Internal)</td><td>Fri</td><td>GP G216</td><td>35</td><td>Arwen Nugteren    </td><td>11</td><td>13</td></tr>\n",
              "\t<tr><th scope=row>11</th><td>PRC01 05</td><td>Practical (Internal)</td><td>Fri</td><td>GP S502</td><td>35</td><td>Arwen Nugteren    </td><td>15</td><td>17</td></tr>\n",
              "\t<tr><th scope=row>12</th><td>PRC01 06</td><td>Practical (Internal)</td><td>Fri</td><td>GP S519</td><td>35</td><td>Minh Long Nguyen  </td><td>15</td><td>17</td></tr>\n",
              "</tbody>\n",
              "</table>\n"
            ],
            "text/markdown": "\nA data.frame: 5 × 8\n\n| <!--/--> | Class &lt;chr&gt; | Type &lt;chr&gt; | Day &lt;chr&gt; | Location &lt;chr&gt; | Limit &lt;int&gt; | Teaching_Staff &lt;chr&gt; | From &lt;int&gt; | To &lt;int&gt; |\n|---|---|---|---|---|---|---|---|---|\n| 4 | PRC01 01 | Practical (Internal) | Thu | GP D413 | 35 | Narayan Srinivasan | 16 | 18 |\n| 7 | PRC01 07 | Practical (Internal) | Thu | GP S520 | 25 | Ryan Kelly         | 14 | 16 |\n| 10 | PRC01 04 | Practical (Internal) | Fri | GP G216 | 35 | Arwen Nugteren     | 11 | 13 |\n| 11 | PRC01 05 | Practical (Internal) | Fri | GP S502 | 35 | Arwen Nugteren     | 15 | 17 |\n| 12 | PRC01 06 | Practical (Internal) | Fri | GP S519 | 35 | Minh Long Nguyen   | 15 | 17 |\n\n",
            "text/latex": "A data.frame: 5 × 8\n\\begin{tabular}{r|llllllll}\n  & Class & Type & Day & Location & Limit & Teaching\\_Staff & From & To\\\\\n  & <chr> & <chr> & <chr> & <chr> & <int> & <chr> & <int> & <int>\\\\\n\\hline\n\t4 & PRC01 01 & Practical (Internal) & Thu & GP D413 & 35 & Narayan Srinivasan & 16 & 18\\\\\n\t7 & PRC01 07 & Practical (Internal) & Thu & GP S520 & 25 & Ryan Kelly         & 14 & 16\\\\\n\t10 & PRC01 04 & Practical (Internal) & Fri & GP G216 & 35 & Arwen Nugteren     & 11 & 13\\\\\n\t11 & PRC01 05 & Practical (Internal) & Fri & GP S502 & 35 & Arwen Nugteren     & 15 & 17\\\\\n\t12 & PRC01 06 & Practical (Internal) & Fri & GP S519 & 35 & Minh Long Nguyen   & 15 & 17\\\\\n\\end{tabular}\n",
            "text/plain": [
              "   Class    Type                 Day Location Limit Teaching_Staff     From To\n",
              "4  PRC01 01 Practical (Internal) Thu GP D413  35    Narayan Srinivasan 16   18\n",
              "7  PRC01 07 Practical (Internal) Thu GP S520  25    Ryan Kelly         14   16\n",
              "10 PRC01 04 Practical (Internal) Fri GP G216  35    Arwen Nugteren     11   13\n",
              "11 PRC01 05 Practical (Internal) Fri GP S502  35    Arwen Nugteren     15   17\n",
              "12 PRC01 06 Practical (Internal) Fri GP S519  35    Minh Long Nguyen   15   17"
            ]
          },
          "metadata": {}
        }
      ]
    },
    {
      "cell_type": "markdown",
      "source": [
        "### **Defining a Data-Processing Pipeline**"
      ],
      "metadata": {
        "id": "flAHCF5K49xU"
      }
    },
    {
      "cell_type": "markdown",
      "source": [
        "The `dplyr` and `magrittr` packages simplify and streamline data manipulation by providing a data-processing pipeline.\n",
        "\n",
        "When we write\n",
        "\n",
        "```\n",
        "input %>% do_something_1() %>% do_something_2()\n",
        "```\n",
        "\n",
        "The pipe operator %>% takes the output from the expression on the left and passes it as the **first argument** to the function on the right. This allows chaining multiple operations in a clear, readable sequence.\n",
        "\n",
        "\n",
        "In base R, it would be something like\n",
        "\n",
        "```\n",
        "output1 = do_something_1(input)\n",
        "output2 = do_something_2(output1)\n",
        "```\n",
        "Which one looks better to you?\n",
        "\n",
        "\n"
      ],
      "metadata": {
        "id": "cja8GasJv0Z0"
      }
    },
    {
      "cell_type": "markdown",
      "source": [
        "Another great feature of `dplyr` is that it natively understands data frame columns by internally converting data frames into **tibbles** — a more user-friendly data frame format.\n",
        "\n",
        "This means you don’t need to repeatedly write `MXB107_Info$From` or similar; inside `dplyr` **verbs** like `filter()`, you can simply refer to columns by their names, such as `From` and `To`, which makes the code much cleaner and easier to read."
      ],
      "metadata": {
        "id": "RUMFO_n3wua5"
      }
    },
    {
      "cell_type": "code",
      "source": [
        "MXB107_Info %>%\n",
        "  filter(Location != \"Online\",\n",
        "         Day %in% c(\"Thu\", \"Fri\"),\n",
        "         From > 9) -> results\n",
        "print(results)"
      ],
      "metadata": {
        "colab": {
          "base_uri": "https://localhost:8080/"
        },
        "id": "WQJnhRq9widR",
        "outputId": "90d5f6db-a5e9-47a5-beab-0d7eaf37c4f2"
      },
      "execution_count": 4,
      "outputs": [
        {
          "output_type": "stream",
          "name": "stdout",
          "text": [
            "     Class                 Type Day Location Limit     Teaching_Staff From To\n",
            "1 PRC01 01 Practical (Internal) Thu  GP D413    35 Narayan Srinivasan   16 18\n",
            "2 PRC01 07 Practical (Internal) Thu  GP S520    25         Ryan Kelly   14 16\n",
            "3 PRC01 04 Practical (Internal) Fri  GP G216    35     Arwen Nugteren   11 13\n",
            "4 PRC01 05 Practical (Internal) Fri  GP S502    35     Arwen Nugteren   15 17\n",
            "5 PRC01 06 Practical (Internal) Fri  GP S519    35   Minh Long Nguyen   15 17\n"
          ]
        }
      ]
    },
    {
      "cell_type": "markdown",
      "source": [
        "That indeed looks much better! Here the right-arrow assignment operator really shines."
      ],
      "metadata": {
        "id": "IQOAsxVjx24d"
      }
    },
    {
      "cell_type": "markdown",
      "source": [
        "### **Common `dplyr` Verbs**"
      ],
      "metadata": {
        "id": "VRSzUT_0yvhv"
      }
    },
    {
      "cell_type": "markdown",
      "source": [
        "#### **filter() — subset rows by condition**"
      ],
      "metadata": {
        "id": "W1k9_qk5zNLJ"
      }
    },
    {
      "cell_type": "code",
      "source": [
        "MXB107_Info %>%\n",
        "  filter(Type == \"Lecture (Internal)\")\n",
        "\n",
        "MXB107_Info %>%\n",
        "  filter(str_detect(Type, \"Practical\"), #base R: str_detect(MXB107_Info$Type, pattern = \"Practical\")\n",
        "         Day == \"Wed\")"
      ],
      "metadata": {
        "colab": {
          "base_uri": "https://localhost:8080/",
          "height": 239
        },
        "id": "1r4z-sXbzPC8",
        "outputId": "2d0a3c7a-be2c-4809-ac6a-18410b792d2e"
      },
      "execution_count": 7,
      "outputs": [
        {
          "output_type": "display_data",
          "data": {
            "text/html": [
              "<table class=\"dataframe\">\n",
              "<caption>A data.frame: 1 × 8</caption>\n",
              "<thead>\n",
              "\t<tr><th scope=col>Class</th><th scope=col>Type</th><th scope=col>Day</th><th scope=col>Location</th><th scope=col>Limit</th><th scope=col>Teaching_Staff</th><th scope=col>From</th><th scope=col>To</th></tr>\n",
              "\t<tr><th scope=col>&lt;chr&gt;</th><th scope=col>&lt;chr&gt;</th><th scope=col>&lt;chr&gt;</th><th scope=col>&lt;chr&gt;</th><th scope=col>&lt;int&gt;</th><th scope=col>&lt;chr&gt;</th><th scope=col>&lt;int&gt;</th><th scope=col>&lt;int&gt;</th></tr>\n",
              "</thead>\n",
              "<tbody>\n",
              "\t<tr><td>LEC01 01</td><td>Lecture (Internal)</td><td>Wed</td><td>GP B117</td><td>240</td><td>Chris Drovandi</td><td>11</td><td>13</td></tr>\n",
              "</tbody>\n",
              "</table>\n"
            ],
            "text/markdown": "\nA data.frame: 1 × 8\n\n| Class &lt;chr&gt; | Type &lt;chr&gt; | Day &lt;chr&gt; | Location &lt;chr&gt; | Limit &lt;int&gt; | Teaching_Staff &lt;chr&gt; | From &lt;int&gt; | To &lt;int&gt; |\n|---|---|---|---|---|---|---|---|\n| LEC01 01 | Lecture (Internal) | Wed | GP B117 | 240 | Chris Drovandi | 11 | 13 |\n\n",
            "text/latex": "A data.frame: 1 × 8\n\\begin{tabular}{llllllll}\n Class & Type & Day & Location & Limit & Teaching\\_Staff & From & To\\\\\n <chr> & <chr> & <chr> & <chr> & <int> & <chr> & <int> & <int>\\\\\n\\hline\n\t LEC01 01 & Lecture (Internal) & Wed & GP B117 & 240 & Chris Drovandi & 11 & 13\\\\\n\\end{tabular}\n",
            "text/plain": [
              "  Class    Type               Day Location Limit Teaching_Staff From To\n",
              "1 LEC01 01 Lecture (Internal) Wed GP B117  240   Chris Drovandi 11   13"
            ]
          },
          "metadata": {}
        },
        {
          "output_type": "display_data",
          "data": {
            "text/html": [
              "<table class=\"dataframe\">\n",
              "<caption>A data.frame: 1 × 8</caption>\n",
              "<thead>\n",
              "\t<tr><th scope=col>Class</th><th scope=col>Type</th><th scope=col>Day</th><th scope=col>Location</th><th scope=col>Limit</th><th scope=col>Teaching_Staff</th><th scope=col>From</th><th scope=col>To</th></tr>\n",
              "\t<tr><th scope=col>&lt;chr&gt;</th><th scope=col>&lt;chr&gt;</th><th scope=col>&lt;chr&gt;</th><th scope=col>&lt;chr&gt;</th><th scope=col>&lt;int&gt;</th><th scope=col>&lt;chr&gt;</th><th scope=col>&lt;int&gt;</th><th scope=col>&lt;int&gt;</th></tr>\n",
              "</thead>\n",
              "<tbody>\n",
              "\t<tr><td>PRC01 01</td><td>Practical (Online)</td><td>Wed</td><td>Online</td><td>30</td><td>Narayan Srinivasan</td><td>16</td><td>18</td></tr>\n",
              "</tbody>\n",
              "</table>\n"
            ],
            "text/markdown": "\nA data.frame: 1 × 8\n\n| Class &lt;chr&gt; | Type &lt;chr&gt; | Day &lt;chr&gt; | Location &lt;chr&gt; | Limit &lt;int&gt; | Teaching_Staff &lt;chr&gt; | From &lt;int&gt; | To &lt;int&gt; |\n|---|---|---|---|---|---|---|---|\n| PRC01 01 | Practical (Online) | Wed | Online | 30 | Narayan Srinivasan | 16 | 18 |\n\n",
            "text/latex": "A data.frame: 1 × 8\n\\begin{tabular}{llllllll}\n Class & Type & Day & Location & Limit & Teaching\\_Staff & From & To\\\\\n <chr> & <chr> & <chr> & <chr> & <int> & <chr> & <int> & <int>\\\\\n\\hline\n\t PRC01 01 & Practical (Online) & Wed & Online & 30 & Narayan Srinivasan & 16 & 18\\\\\n\\end{tabular}\n",
            "text/plain": [
              "  Class    Type               Day Location Limit Teaching_Staff     From To\n",
              "1 PRC01 01 Practical (Online) Wed Online   30    Narayan Srinivasan 16   18"
            ]
          },
          "metadata": {}
        }
      ]
    },
    {
      "cell_type": "markdown",
      "source": [
        "#### **select() — pick specific columns**"
      ],
      "metadata": {
        "id": "bQSJPdbu4B6l"
      }
    },
    {
      "cell_type": "code",
      "source": [
        "MXB107_Info %>%\n",
        "  filter(Teaching_Staff == \"Chris Drovandi\") %>%\n",
        "  select(Class, Teaching_Staff, Day, Location, From, To)"
      ],
      "metadata": {
        "colab": {
          "base_uri": "https://localhost:8080/",
          "height": 159
        },
        "id": "SnHV8C4G4NVC",
        "outputId": "087aa2fe-3d3c-44fa-d56d-c0f12cc93fce"
      },
      "execution_count": 17,
      "outputs": [
        {
          "output_type": "display_data",
          "data": {
            "text/html": [
              "<table class=\"dataframe\">\n",
              "<caption>A data.frame: 2 × 6</caption>\n",
              "<thead>\n",
              "\t<tr><th scope=col>Class</th><th scope=col>Teaching_Staff</th><th scope=col>Day</th><th scope=col>Location</th><th scope=col>From</th><th scope=col>To</th></tr>\n",
              "\t<tr><th scope=col>&lt;chr&gt;</th><th scope=col>&lt;chr&gt;</th><th scope=col>&lt;chr&gt;</th><th scope=col>&lt;chr&gt;</th><th scope=col>&lt;int&gt;</th><th scope=col>&lt;int&gt;</th></tr>\n",
              "</thead>\n",
              "<tbody>\n",
              "\t<tr><td>LEC01 01</td><td>Chris Drovandi</td><td>Wed</td><td>GP B117</td><td>11</td><td>13</td></tr>\n",
              "\t<tr><td>LEC01 01</td><td>Chris Drovandi</td><td>Wed</td><td>Online </td><td>11</td><td>13</td></tr>\n",
              "</tbody>\n",
              "</table>\n"
            ],
            "text/markdown": "\nA data.frame: 2 × 6\n\n| Class &lt;chr&gt; | Teaching_Staff &lt;chr&gt; | Day &lt;chr&gt; | Location &lt;chr&gt; | From &lt;int&gt; | To &lt;int&gt; |\n|---|---|---|---|---|---|\n| LEC01 01 | Chris Drovandi | Wed | GP B117 | 11 | 13 |\n| LEC01 01 | Chris Drovandi | Wed | Online  | 11 | 13 |\n\n",
            "text/latex": "A data.frame: 2 × 6\n\\begin{tabular}{llllll}\n Class & Teaching\\_Staff & Day & Location & From & To\\\\\n <chr> & <chr> & <chr> & <chr> & <int> & <int>\\\\\n\\hline\n\t LEC01 01 & Chris Drovandi & Wed & GP B117 & 11 & 13\\\\\n\t LEC01 01 & Chris Drovandi & Wed & Online  & 11 & 13\\\\\n\\end{tabular}\n",
            "text/plain": [
              "  Class    Teaching_Staff Day Location From To\n",
              "1 LEC01 01 Chris Drovandi Wed GP B117  11   13\n",
              "2 LEC01 01 Chris Drovandi Wed Online   11   13"
            ]
          },
          "metadata": {}
        }
      ]
    },
    {
      "cell_type": "markdown",
      "source": [
        "#### **mutate() — add or modify columns**"
      ],
      "metadata": {
        "id": "-RYn41g24g-8"
      }
    },
    {
      "cell_type": "code",
      "source": [
        "MXB107_Info %>%\n",
        "  mutate(Duration = To-From) %>%\n",
        "  filter(Day == \"Wed\")"
      ],
      "metadata": {
        "colab": {
          "base_uri": "https://localhost:8080/",
          "height": 190
        },
        "id": "u0_jhNQz4vvh",
        "outputId": "2edc1c34-0a4d-408c-8c6d-3b8d915a048f"
      },
      "execution_count": 21,
      "outputs": [
        {
          "output_type": "display_data",
          "data": {
            "text/html": [
              "<table class=\"dataframe\">\n",
              "<caption>A data.frame: 3 × 9</caption>\n",
              "<thead>\n",
              "\t<tr><th scope=col>Class</th><th scope=col>Type</th><th scope=col>Day</th><th scope=col>Location</th><th scope=col>Limit</th><th scope=col>Teaching_Staff</th><th scope=col>From</th><th scope=col>To</th><th scope=col>Duration</th></tr>\n",
              "\t<tr><th scope=col>&lt;chr&gt;</th><th scope=col>&lt;chr&gt;</th><th scope=col>&lt;chr&gt;</th><th scope=col>&lt;chr&gt;</th><th scope=col>&lt;int&gt;</th><th scope=col>&lt;chr&gt;</th><th scope=col>&lt;int&gt;</th><th scope=col>&lt;int&gt;</th><th scope=col>&lt;int&gt;</th></tr>\n",
              "</thead>\n",
              "<tbody>\n",
              "\t<tr><td>LEC01 01</td><td>Lecture (Internal)</td><td>Wed</td><td>GP B117</td><td> 240</td><td>Chris Drovandi    </td><td>11</td><td>13</td><td>2</td></tr>\n",
              "\t<tr><td>LEC01 01</td><td>Lecture (Online)  </td><td>Wed</td><td>Online </td><td>1000</td><td>Chris Drovandi    </td><td>11</td><td>13</td><td>2</td></tr>\n",
              "\t<tr><td>PRC01 01</td><td>Practical (Online)</td><td>Wed</td><td>Online </td><td>  30</td><td>Narayan Srinivasan</td><td>16</td><td>18</td><td>2</td></tr>\n",
              "</tbody>\n",
              "</table>\n"
            ],
            "text/markdown": "\nA data.frame: 3 × 9\n\n| Class &lt;chr&gt; | Type &lt;chr&gt; | Day &lt;chr&gt; | Location &lt;chr&gt; | Limit &lt;int&gt; | Teaching_Staff &lt;chr&gt; | From &lt;int&gt; | To &lt;int&gt; | Duration &lt;int&gt; |\n|---|---|---|---|---|---|---|---|---|\n| LEC01 01 | Lecture (Internal) | Wed | GP B117 |  240 | Chris Drovandi     | 11 | 13 | 2 |\n| LEC01 01 | Lecture (Online)   | Wed | Online  | 1000 | Chris Drovandi     | 11 | 13 | 2 |\n| PRC01 01 | Practical (Online) | Wed | Online  |   30 | Narayan Srinivasan | 16 | 18 | 2 |\n\n",
            "text/latex": "A data.frame: 3 × 9\n\\begin{tabular}{lllllllll}\n Class & Type & Day & Location & Limit & Teaching\\_Staff & From & To & Duration\\\\\n <chr> & <chr> & <chr> & <chr> & <int> & <chr> & <int> & <int> & <int>\\\\\n\\hline\n\t LEC01 01 & Lecture (Internal) & Wed & GP B117 &  240 & Chris Drovandi     & 11 & 13 & 2\\\\\n\t LEC01 01 & Lecture (Online)   & Wed & Online  & 1000 & Chris Drovandi     & 11 & 13 & 2\\\\\n\t PRC01 01 & Practical (Online) & Wed & Online  &   30 & Narayan Srinivasan & 16 & 18 & 2\\\\\n\\end{tabular}\n",
            "text/plain": [
              "  Class    Type               Day Location Limit Teaching_Staff     From To\n",
              "1 LEC01 01 Lecture (Internal) Wed GP B117   240  Chris Drovandi     11   13\n",
              "2 LEC01 01 Lecture (Online)   Wed Online   1000  Chris Drovandi     11   13\n",
              "3 PRC01 01 Practical (Online) Wed Online     30  Narayan Srinivasan 16   18\n",
              "  Duration\n",
              "1 2       \n",
              "2 2       \n",
              "3 2       "
            ]
          },
          "metadata": {}
        }
      ]
    },
    {
      "cell_type": "markdown",
      "source": [
        "#### **arrange() — reorder rows by column(s)**"
      ],
      "metadata": {
        "id": "1mI7Sa405L6h"
      }
    },
    {
      "cell_type": "code",
      "source": [
        "MXB107_Info %>%\n",
        "  filter(Day == \"Wed\") %>%\n",
        "  arrange(Limit) #Ascending order"
      ],
      "metadata": {
        "id": "1mjNnDb65i5X",
        "outputId": "08cf1b6c-978a-46eb-9add-dfca9d8aa5b0",
        "colab": {
          "base_uri": "https://localhost:8080/",
          "height": 190
        }
      },
      "execution_count": 25,
      "outputs": [
        {
          "output_type": "display_data",
          "data": {
            "text/html": [
              "<table class=\"dataframe\">\n",
              "<caption>A data.frame: 3 × 8</caption>\n",
              "<thead>\n",
              "\t<tr><th scope=col>Class</th><th scope=col>Type</th><th scope=col>Day</th><th scope=col>Location</th><th scope=col>Limit</th><th scope=col>Teaching_Staff</th><th scope=col>From</th><th scope=col>To</th></tr>\n",
              "\t<tr><th scope=col>&lt;chr&gt;</th><th scope=col>&lt;chr&gt;</th><th scope=col>&lt;chr&gt;</th><th scope=col>&lt;chr&gt;</th><th scope=col>&lt;int&gt;</th><th scope=col>&lt;chr&gt;</th><th scope=col>&lt;int&gt;</th><th scope=col>&lt;int&gt;</th></tr>\n",
              "</thead>\n",
              "<tbody>\n",
              "\t<tr><td>PRC01 01</td><td>Practical (Online)</td><td>Wed</td><td>Online </td><td>  30</td><td>Narayan Srinivasan</td><td>16</td><td>18</td></tr>\n",
              "\t<tr><td>LEC01 01</td><td>Lecture (Internal)</td><td>Wed</td><td>GP B117</td><td> 240</td><td>Chris Drovandi    </td><td>11</td><td>13</td></tr>\n",
              "\t<tr><td>LEC01 01</td><td>Lecture (Online)  </td><td>Wed</td><td>Online </td><td>1000</td><td>Chris Drovandi    </td><td>11</td><td>13</td></tr>\n",
              "</tbody>\n",
              "</table>\n"
            ],
            "text/markdown": "\nA data.frame: 3 × 8\n\n| Class &lt;chr&gt; | Type &lt;chr&gt; | Day &lt;chr&gt; | Location &lt;chr&gt; | Limit &lt;int&gt; | Teaching_Staff &lt;chr&gt; | From &lt;int&gt; | To &lt;int&gt; |\n|---|---|---|---|---|---|---|---|\n| PRC01 01 | Practical (Online) | Wed | Online  |   30 | Narayan Srinivasan | 16 | 18 |\n| LEC01 01 | Lecture (Internal) | Wed | GP B117 |  240 | Chris Drovandi     | 11 | 13 |\n| LEC01 01 | Lecture (Online)   | Wed | Online  | 1000 | Chris Drovandi     | 11 | 13 |\n\n",
            "text/latex": "A data.frame: 3 × 8\n\\begin{tabular}{llllllll}\n Class & Type & Day & Location & Limit & Teaching\\_Staff & From & To\\\\\n <chr> & <chr> & <chr> & <chr> & <int> & <chr> & <int> & <int>\\\\\n\\hline\n\t PRC01 01 & Practical (Online) & Wed & Online  &   30 & Narayan Srinivasan & 16 & 18\\\\\n\t LEC01 01 & Lecture (Internal) & Wed & GP B117 &  240 & Chris Drovandi     & 11 & 13\\\\\n\t LEC01 01 & Lecture (Online)   & Wed & Online  & 1000 & Chris Drovandi     & 11 & 13\\\\\n\\end{tabular}\n",
            "text/plain": [
              "  Class    Type               Day Location Limit Teaching_Staff     From To\n",
              "1 PRC01 01 Practical (Online) Wed Online     30  Narayan Srinivasan 16   18\n",
              "2 LEC01 01 Lecture (Internal) Wed GP B117   240  Chris Drovandi     11   13\n",
              "3 LEC01 01 Lecture (Online)   Wed Online   1000  Chris Drovandi     11   13"
            ]
          },
          "metadata": {}
        }
      ]
    },
    {
      "cell_type": "markdown",
      "source": [
        "#### **group_by() and summarise() — group data and aggregate**"
      ],
      "metadata": {
        "id": "R2w3FCCU52FL"
      }
    },
    {
      "cell_type": "code",
      "source": [
        "MXB107_Info %>%\n",
        "  group_by(Day) %>%\n",
        "  summarise(totalLimit = sum(Limit),\n",
        "            averageLimit = mean(Limit),\n",
        "            Count = n()) #This creates a new `tibble` storing summarised results\n"
      ],
      "metadata": {
        "id": "Iif0gg-z55MN",
        "outputId": "2fa03cea-3d4f-4185-c3ce-ba2eaa46a0c4",
        "colab": {
          "base_uri": "https://localhost:8080/",
          "height": 190
        }
      },
      "execution_count": 28,
      "outputs": [
        {
          "output_type": "display_data",
          "data": {
            "text/html": [
              "<table class=\"dataframe\">\n",
              "<caption>A tibble: 3 × 4</caption>\n",
              "<thead>\n",
              "\t<tr><th scope=col>Day</th><th scope=col>totalLimit</th><th scope=col>averageLimit</th><th scope=col>Count</th></tr>\n",
              "\t<tr><th scope=col>&lt;chr&gt;</th><th scope=col>&lt;int&gt;</th><th scope=col>&lt;dbl&gt;</th><th scope=col>&lt;int&gt;</th></tr>\n",
              "</thead>\n",
              "<tbody>\n",
              "\t<tr><td>Fri</td><td> 140</td><td> 35.0000</td><td>4</td></tr>\n",
              "\t<tr><td>Thu</td><td> 155</td><td> 31.0000</td><td>5</td></tr>\n",
              "\t<tr><td>Wed</td><td>1270</td><td>423.3333</td><td>3</td></tr>\n",
              "</tbody>\n",
              "</table>\n"
            ],
            "text/markdown": "\nA tibble: 3 × 4\n\n| Day &lt;chr&gt; | totalLimit &lt;int&gt; | averageLimit &lt;dbl&gt; | Count &lt;int&gt; |\n|---|---|---|---|\n| Fri |  140 |  35.0000 | 4 |\n| Thu |  155 |  31.0000 | 5 |\n| Wed | 1270 | 423.3333 | 3 |\n\n",
            "text/latex": "A tibble: 3 × 4\n\\begin{tabular}{llll}\n Day & totalLimit & averageLimit & Count\\\\\n <chr> & <int> & <dbl> & <int>\\\\\n\\hline\n\t Fri &  140 &  35.0000 & 4\\\\\n\t Thu &  155 &  31.0000 & 5\\\\\n\t Wed & 1270 & 423.3333 & 3\\\\\n\\end{tabular}\n",
            "text/plain": [
              "  Day totalLimit averageLimit Count\n",
              "1 Fri  140        35.0000     4    \n",
              "2 Thu  155        31.0000     5    \n",
              "3 Wed 1270       423.3333     3    "
            ]
          },
          "metadata": {}
        }
      ]
    },
    {
      "cell_type": "markdown",
      "source": [],
      "metadata": {
        "id": "RWWDWYJw50d2"
      }
    }
  ]
}