{
  "nbformat": 4,
  "nbformat_minor": 0,
  "metadata": {
    "colab": {
      "provenance": []
    },
    "kernelspec": {
      "name": "ir",
      "display_name": "R"
    },
    "language_info": {
      "name": "R"
    }
  },
  "cells": [
    {
      "cell_type": "markdown",
      "source": [
        "# **Week 2: Numerical Data Summaries**\n",
        "\n",
        "```\n",
        ".------------------------------------.\n",
        "|   __  ____  ______  _  ___ _____   |\n",
        "|  |  \\/  \\ \\/ / __ )/ |/ _ \\___  |  |\n",
        "|  | |\\/| |\\  /|  _ \\| | | | | / /   |\n",
        "|  | |  | |/  \\| |_) | | |_| |/ /    |\n",
        "|  |_|  |_/_/\\_\\____/|_|\\___//_/     |\n",
        "'------------------------------------'\n",
        "\n",
        "```\n"
      ],
      "metadata": {
        "id": "ZtpJJ8BSHOaK"
      }
    },
    {
      "cell_type": "markdown",
      "source": [
        "This week, we will explore basic summary statistics for numerical data and demonstrate how to compute them in R. If you are not familiar with R programming, please take some time to review [Week 0](https://colab.research.google.com/github/edelweiss611428/MXB107-Notebooks/blob/main/notebooks/Week_0.ipynb) and [Week 1](https://colab.research.google.com/github/edelweiss611428/MXB107-Notebooks/blob/main/notebooks/Week_1.ipynb) content."
      ],
      "metadata": {
        "id": "QWuoIciBrV25"
      }
    },
    {
      "cell_type": "markdown",
      "source": [
        "## **Pre-Configurating the Notebook**"
      ],
      "metadata": {
        "id": "SpK9XLxlHOcm"
      }
    },
    {
      "cell_type": "markdown",
      "source": [
        "### **Switching to the R Kernel on Colab**\n",
        "\n",
        "By default, Google Colab uses Python as its programming language. To use R instead, you’ll need to manually switch the kernel by going to **Runtime > Change runtime type**, and selecting R as the kernel. This allows you to run R code in the Colab environment.\n",
        "\n",
        "However, our notebook is already configured to use R by default. Unless something goes wrong, you shouldn’t need to manually change runtime type."
      ],
      "metadata": {
        "id": "4yA6tfrakIOY"
      }
    },
    {
      "cell_type": "markdown",
      "source": [
        "### **Importing Required Datasets and Packages**\n",
        "**Run the following lines of code**:"
      ],
      "metadata": {
        "id": "VLNikK3CYWIx"
      }
    },
    {
      "cell_type": "code",
      "source": [
        "#Do not modify\n",
        "\n",
        "setwd(\"/content\")\n",
        "\n",
        "# Remove `MXB107-Notebooks` if exists,\n",
        "if (dir.exists(\"MXB107-Notebooks\")) {\n",
        "  system(\"rm -rf MXB107-Notebooks\")\n",
        "}\n",
        "\n",
        "# Fork the repository\n",
        "system(\"git clone https://github.com/edelweiss611428/MXB107-Notebooks.git\")\n",
        "\n",
        "# Change working directory to \"MXB107-Notebooks\"\n",
        "setwd(\"MXB107-Notebooks\")\n",
        "\n",
        "#\n",
        "invisible(source(\"R/preConfigurated.R\"))"
      ],
      "metadata": {
        "id": "tYGemispahiY",
        "outputId": "6ad8de74-b4e7-4353-8d2c-f9950f5757fe",
        "colab": {
          "base_uri": "https://localhost:8080/"
        }
      },
      "execution_count": 1,
      "outputs": [
        {
          "output_type": "stream",
          "name": "stderr",
          "text": [
            "Loading required package: ggplot2\n",
            "\n",
            "Loading required package: dplyr\n",
            "\n",
            "\n",
            "Attaching package: ‘dplyr’\n",
            "\n",
            "\n",
            "The following objects are masked from ‘package:stats’:\n",
            "\n",
            "    filter, lag\n",
            "\n",
            "\n",
            "The following objects are masked from ‘package:base’:\n",
            "\n",
            "    intersect, setdiff, setequal, union\n",
            "\n",
            "\n",
            "Loading required package: tidyr\n",
            "\n",
            "Loading required package: stringr\n",
            "\n",
            "Loading required package: magrittr\n",
            "\n",
            "\n",
            "Attaching package: ‘magrittr’\n",
            "\n",
            "\n",
            "The following object is masked from ‘package:tidyr’:\n",
            "\n",
            "    extract\n",
            "\n",
            "\n",
            "Loading required package: IRdisplay\n",
            "\n",
            "Loading required package: png\n",
            "\n",
            "Warning message in library(package, lib.loc = lib.loc, character.only = TRUE, logical.return = TRUE, :\n",
            "“there is no package called ‘png’”\n",
            "Installing package into ‘/usr/local/lib/R/site-library’\n",
            "(as ‘lib’ is unspecified)\n",
            "\n",
            "Loading required package: grid\n",
            "\n"
          ]
        }
      ]
    },
    {
      "cell_type": "markdown",
      "source": [
        "**Do not modify the following**"
      ],
      "metadata": {
        "id": "o_XFVhdp1GrA"
      }
    },
    {
      "cell_type": "code",
      "source": [
        "if (!require(\"testthat\")) install.packages(\"testthat\"); library(\"testthat\")\n",
        "\n",
        "test_that(\"Test if all packages have been loaded\", {\n",
        "\n",
        "  expect_true(all(c(\"ggplot2\", \"tidyr\", \"dplyr\", \"stringr\", \"magrittr\", \"IRdisplay\", \"png\") %in% loadedNamespaces()))\n",
        "\n",
        "})\n",
        "\n",
        "test_that(\"Test if all utility functions have been loaded\", {\n",
        "  expect_true(exists(\"skewness\"))\n",
        "  expect_true(exists(\"kurtosis\"))\n",
        "  expect_true(exists(\"Mode\"))\n",
        "  expect_true(exists(\"FDbinning\"))\n",
        "  expect_true(exists(\"ModeBinMidpoint\"))\n",
        "  expect_true(exists(\"empiricalRuleGaussian\"))\n",
        "  expect_true(exists(\"chebyshevRule\"))\n",
        "  expect_true(exists(\"rangeBasedSD\"))\n",
        "  expect_true(exists(\"IQRBasedSD\"))\n",
        "  expect_true(exists(\"boxPlotDescribe\"))\n",
        "})"
      ],
      "metadata": {
        "id": "6lru0NFK011G",
        "outputId": "720face8-7863-4c1d-e47e-4a95316957ab",
        "colab": {
          "base_uri": "https://localhost:8080/"
        }
      },
      "execution_count": 2,
      "outputs": [
        {
          "output_type": "stream",
          "name": "stderr",
          "text": [
            "Loading required package: testthat\n",
            "\n",
            "\n",
            "Attaching package: ‘testthat’\n",
            "\n",
            "\n",
            "The following objects are masked from ‘package:magrittr’:\n",
            "\n",
            "    equals, is_less_than, not\n",
            "\n",
            "\n",
            "The following object is masked from ‘package:tidyr’:\n",
            "\n",
            "    matches\n",
            "\n",
            "\n",
            "The following object is masked from ‘package:dplyr’:\n",
            "\n",
            "    matches\n",
            "\n",
            "\n"
          ]
        },
        {
          "output_type": "stream",
          "name": "stdout",
          "text": [
            "\u001b[32mTest passed\u001b[39m 🥇\n",
            "\u001b[32mTest passed\u001b[39m 😸\n"
          ]
        }
      ]
    },
    {
      "cell_type": "markdown",
      "source": [
        "## **Classification of Data**\n"
      ],
      "metadata": {
        "id": "GZJWyX_QM70-"
      }
    },
    {
      "cell_type": "markdown",
      "source": [
        "This is a diagram of data types."
      ],
      "metadata": {
        "id": "mzu2jNwFUgVu"
      }
    },
    {
      "cell_type": "code",
      "source": [
        "svgCode = paste(readLines(\"figures/classif_of_data.svg\", warn = F), collapse = \"\\n\")\n",
        "display_html(svgCode)"
      ],
      "metadata": {
        "id": "RU6Nj403Q91C",
        "outputId": "64bf29be-5f23-455a-fb0f-473732f03028",
        "colab": {
          "base_uri": "https://localhost:8080/",
          "height": 627
        }
      },
      "execution_count": 3,
      "outputs": [
        {
          "output_type": "display_data",
          "data": {
            "text/html": [
              "<svg id=\"export-svg\" width=\"100%\" xmlns=\"http://www.w3.org/2000/svg\" class=\"flowchart\" style=\"max-width: 576.953125px;\" viewBox=\"-8 -8 576.953125 606\" role=\"graphics-document document\" aria-roledescription=\"flowchart-v2\"><style xmlns=\"http://www.w3.org/1999/xhtml\">/* Copyright 2019 The Recursive Project Authors (github.com/arrowtype/recursive)\n",
              "\n",
              "This Font Software is licensed under the SIL Open Font License, Version 1.1.\n",
              "This license is copied below, and is also available with a FAQ at:\n",
              "http://scripts.sil.org/OFL\n",
              "\n",
              "\n",
              "-----------------------------------------------------------\n",
              "SIL OPEN FONT LICENSE Version 1.1 - 26 February 2007\n",
              "-----------------------------------------------------------\n",
              "\n",
              "PREAMBLE\n",
              "The goals of the Open Font License (OFL) are to stimulate worldwide\n",
              "development of collaborative font projects, to support the font creation\n",
              "efforts of academic and linguistic communities, and to provide a free and\n",
              "open framework in which fonts may be shared and improved in partnership\n",
              "with others.\n",
              "\n",
              "The OFL allows the licensed fonts to be used, studied, modified and\n",
              "redistributed freely as long as they are not sold by themselves. The\n",
              "fonts, including any derivative works, can be bundled, embedded,\n",
              "redistributed and/or sold with any software provided that any reserved\n",
              "names are not used by derivative works. The fonts and derivatives,\n",
              "however, cannot be released under any other type of license. The\n",
              "requirement for fonts to remain under this license does not apply\n",
              "to any document created using the fonts or their derivatives.\n",
              "\n",
              "DEFINITIONS\n",
              "\"Font Software\" refers to the set of files released by the Copyright\n",
              "Holder(s) under this license and clearly marked as such. This may\n",
              "include source files, build scripts and documentation.\n",
              "\n",
              "\"Reserved Font Name\" refers to any names specified as such after the\n",
              "copyright statement(s).\n",
              "\n",
              "\"Original Version\" refers to the collection of Font Software components as\n",
              "distributed by the Copyright Holder(s).\n",
              "\n",
              "\"Modified Version\" refers to any derivative made by adding to, deleting,\n",
              "or substituting -- in part or in whole -- any of the components of the\n",
              "Original Version, by changing formats or by porting the Font Software to a\n",
              "new environment.\n",
              "\n",
              "\"Author\" refers to any designer, engineer, programmer, technical\n",
              "writer or other person who contributed to the Font Software.\n",
              "\n",
              "PERMISSION &amp; CONDITIONS\n",
              "Permission is hereby granted, free of charge, to any person obtaining\n",
              "a copy of the Font Software, to use, study, copy, merge, embed, modify,\n",
              "redistribute, and sell modified and unmodified copies of the Font\n",
              "Software, subject to the following conditions:\n",
              "\n",
              "1) Neither the Font Software nor any of its individual components,\n",
              "in Original or Modified Versions, may be sold by itself.\n",
              "\n",
              "2) Original or Modified Versions of the Font Software may be bundled,\n",
              "redistributed and/or sold with any software, provided that each copy\n",
              "contains the above copyright notice and this license. These can be\n",
              "included either as stand-alone text files, human-readable headers or\n",
              "in the appropriate machine-readable metadata fields within text or\n",
              "binary files as long as those fields can be easily viewed by the user.\n",
              "\n",
              "3) No Modified Version of the Font Software may use the Reserved Font\n",
              "Name(s) unless explicit written permission is granted by the corresponding\n",
              "Copyright Holder. This restriction only applies to the primary font name as\n",
              "presented to the users.\n",
              "\n",
              "4) The name(s) of the Copyright Holder(s) or the Author(s) of the Font\n",
              "Software shall not be used to promote, endorse or advertise any\n",
              "Modified Version, except to acknowledge the contribution(s) of the\n",
              "Copyright Holder(s) and the Author(s) or with their explicit written\n",
              "permission.\n",
              "\n",
              "5) The Font Software, modified or unmodified, in part or in whole,\n",
              "must be distributed entirely under this license, and must not be\n",
              "distributed under any other license. The requirement for fonts to\n",
              "remain under this license does not apply to any document created\n",
              "using the Font Software.\n",
              "\n",
              "TERMINATION\n",
              "This license becomes null and void if any of the above conditions are\n",
              "not met.\n",
              "\n",
              "DISCLAIMER\n",
              "THE FONT SOFTWARE IS PROVIDED \"AS IS\", WITHOUT WARRANTY OF ANY KIND,\n",
              "EXPRESS OR IMPLIED, INCLUDING BUT NOT LIMITED TO ANY WARRANTIES OF\n",
              "MERCHANTABILITY, FITNESS FOR A PARTICULAR PURPOSE AND NONINFRINGEMENT\n",
              "OF COPYRIGHT, PATENT, TRADEMARK, OR OTHER RIGHT. IN NO EVENT SHALL THE\n",
              "COPYRIGHT HOLDER BE LIABLE FOR ANY CLAIM, DAMAGES OR OTHER LIABILITY,\n",
              "INCLUDING ANY GENERAL, SPECIAL, INDIRECT, INCIDENTAL, OR CONSEQUENTIAL\n",
              "DAMAGES, WHETHER IN AN ACTION OF CONTRACT, TORT OR OTHERWISE, ARISING\n",
              "FROM, OUT OF THE USE OR INABILITY TO USE THE FONT SOFTWARE OR FROM\n",
              "OTHER DEALINGS IN THE FONT SOFTWARE.\n",
              " */\n",
              "@font-face {\n",
              "  font-family: 'Recursive Variable';\n",
              "  font-style: normal;\n",
              "  font-display: swap;\n",
              "  font-weight: 300 1000;\n",
              "  src: url(\"data:font/woff2;base64,d09GMgABAAAAAPcIABUAAAACJSQAAPaKAAEAAAAAAAAAAAAAAAAAAAAAAAAAAAAAGoRdG4GeGhyUaj9IVkFSgw4/TVZBUoEQBmA/U1RBVIFiJzwAhTYvgSgRCAqCuVCCjUsLhR4AMISZWgE2AiQDijQEIAWNdgePWQwHWwsLciPUuFunhKfbEACk2ixr6r9nDdsY6H3rPE+lIgbUNXjTYym3Y+cs/G8s+f//T04mI+62cmurr8/zDwBolAYqhV6iCC9ea1taRa2L9zFaa22tnLWyn3utEZwwYYsTW6ObuTAjhiBIdOWC66Ku+pJCUbGLUPeuHKAogidBrZwJ7htKBdOCaUFSI2+ryeH3awTm6nhkeaSsOY6Erj/XQXFDex2aga7YsWsGagQVF1SInrBleec8pxXl8/3pNyqNKomD0iXlX0ae7cEFn6e/zDwuETSwGPaXJHHfh7iC5aNPEMsocnxRpk/MUCaIIn94F8WY8v2LV4Y4ckRqnGA31VWSWs/+NBiMC29mWELaanLCVVp7Mr4QUd3XR2RV91gLvpkvEEfdIJ0WNcTr5t+9kQkxQAgBGREwAQyIbBUMsmTJWCJimMuBLBlbNzhWdJcqurFILSojgCLYFAQsWmX9fosLcYUQSd4Av9z+7Sp2He9d1bteXuQutl2t+pbFGCWgRAoWFpFmMaK/wnSIjR9MbBCrYPg6/f8zRjKIXfmB+uBm89NJUnwIa2H1zF66t2A44Pnvx2jnvr9qWRSYTvNEtJBVQlNPkcrGHTKhkwkR3sA71U+O7Ti2BciWJdkycBxum9LGB4w6hI/P+yKGvUG7dkAlSBr4/v+QvDPz39tG0oS2W+vYGvB6yvE9oYCFJKh/cK7MM+kR0TGlcG0KSSkFHJCcHtsJNylevh1giejHfvfSN0kfTZosFDGJVLFMJRNK10xi2IE67V/bLtsu+MRvp37g8UM38XBJO0XKNPAkmWCEDJTMTMQKC3/AP19n9YP6hcgNZdJMk28WPu1593ZINQQPPfBt2v9DtE1V1/Sqy+8zmW2PmK1oGlFCgujAKMOIOOIhZP5tav/3DqBk2ZYdWODsI+L2IxW9NYoDH+j0WGLJnM1SwiZJFs7wJZjKWVUu0CAWkIvQrrJMYrIILJNsLqKu2NDS60f83X0THH6BuA9z+p80GgEb4sRJHuEC8/HauL9NF+i4V0A+A0H7ABuwY0unilLbqtr3gQ0xnGEhiMba7L2oImapkaKmxqROc1apQGAKEBbIigsAYx9o2X+CtcAQkKO//vSd/k93zox3HTdNCiooeJHtE6SvZ9hExetPJ06fvxh7fHwcxydJHB8ff0meJE+Sx5NkPB6vFSiK/0cABLi2iT4mFm05Ay0RSuGCZf7X/UenvyVt6lBm9Ol7qfGbt4AxQ3P7L+mV8H8oCSrUDdeb+c0FOPn/v828r/X3oDpCmBVFJmsiSFiaEDlb2qUuw+/Mr2IhKySDR9wBnU4JB4h2e+5Xutf29m9AENALSiFWlyu6tOXdfXtGq7UMLOuHQEZK16QqqcqkqPI//zqtX4kWgZuAwZQ0MC7vCWy/JyD5vZrq6fZWb++Z2SY9CfSkJ2whjCMkcEBgh2ZGSICFAEMfQ3BKdTyt2UnmnJQpZOrTU/FTgUgIXCDJGnCmeJItntZwqh1vycyWVv5a8WzN/mX/Zn/+9nP2t/Tfnz3/+/218P/P0mYz+XO3z+5SuopCOHReonDRqxTTORn+tu5opakIh8VYUDmxuKAUQnFQgv+bWkVVdveue7M35b7djG4A2xABO3gESr9+qVT6Kjm13bbV0eMJ7p7sScElT5DVvSFFFCIKKQNyKT2+d4QcgImwY8fgAXr2tflloWaDW31OclnqGwZawL8Qg/DX9HtD2JCN85H+iX29s5nXsKsr4/DICJPCqj8v+xzJOqAo1LbIeEVFKHqBRRKoJaF5HAhZHwtgk90MB6Fp6QwpehPLAih/ku5u8xRVyqcK4j+xpv/n3HG6mTZjNmMNTQgSmCoiArKLBHx/NZlqkpDA6YcrGMsk069t/v/H1P9jw41p99sxLlysISDS/6E8if/Oxm/gyquKiIr68LiR//2eZP/vr+0liEgIQURkkNlSunX7J9v7+Dmec5IkSVbWGGslp+5987quNvNjjDBOLVPelGw6ZM4KXrQv9rXd7DDC2mEkd62WuaplWMCe+i9inEGUnAMV3ZYh+orZc0PzJwRFE2ANzAmXBIEZdPUQNdQ/YBFMaOPCgAwmQJgzwpYDTtxYrRiuXLGON3z5IUgoIkVDRIREaci2VXIFJA+QAkCKACl12lWqodTahT32ygGBUtej0iBdqEMmNNUES7bNlUuBfM1hpTXsdcRKV0GoGzzlpVzjLb+6o4DAxFQAIhlSYKKBQEIN1HpWJi6Y0smnA6SwG0LThQFOAbFsaBwvgMhucqSMowHH++m4e+n/bsBMUdK0zuRkrQRBFLWq9lEbNwRTkgmShOsERp0tq+S9FrRe+/TTTlLJ5KmR1EwrLcIdakNNAkjFqZ7ih19ptsD7oQYOkEAxAGtn4ySHJ9hBUqyu5Qs8X/mdP93k4S6cb6FoG1l9P97FfVK3U3f7PJgJJPvojcfUcHkRDT7Q1PALiBd5DHmJnUwWPxtjhyNbJEeJlMrqnCFUxUgmZE9z7ZXjxL1iMrm4OLoaAgKgCmQYQCl94/u4aIVDD7H2XqYC3O5DCwM36EEPBgZO2NpaAbofZKgqs7EGBYffCQkQQSRZtjylah103DmXNeroT2AAyNCgowpr9nN/conLXOMWd2mhlbZ9EiQe04d05zlEXbZf1DbqivBZ7KQR+/ZBKqAQpGsPu5l4iVSJVFhZKblZJrJPExmUyM/FchsOiD/Fk+JXcUSCw1Xxv+iUKK/2SQg8MMgk4q2ReOS9hC510Q5JbpX4RiZv+dIeVantNVsrytIexXrRr+3n4rU9lIk78ar4ruw7catwRloU8gAA4A3wMjh1l6iogs7ML6zGLDdsA3+Vf3dOl8FH5X+C66HCvM7Ai+V6UK5A9cjl5zvjVlS8K6frY6TYQU0l+Z8+oL47UaGVXzoCmrJ7DWir6q1HZsBzYE85o85Aj/cNeUlNHmRCPlD+fyMO1j9QXFbVK6qgKXjb78kvKldaDjTPKMvU7zqB/BTUCH2pWKI4BA7ABv7MqQbA7ZiH8ZaK6hxoOjTPgc9HwQ1WlPIOW+8q/1zHGKZtCGmC16PKDslq7apqWcwJel69ec1I9R4XQMwM0GwByCr7Hs8HrjrlegQsqQFw4w62ba0flCWDJajJNjPb9enLCpR7zDJ5RfUnkwha7Xhy1WjwMHDb5iF//VsmhETHtC8w2ZEUGa6e7Ksgzq0JPlO3acQLCv+RxJ2MgCKmNbd751lv8obUY9S1Feq5b2PUPVfs5durPiN5jxDzydGhlb/tHIWuLa0ngrWrCIiXsqMs9Dr0MUz5uhW1Uy3GWHVnKHOOGbXiu8Np99t0t9UXcffV693AvMZ9sxRacBtqy3OelvRd3aZHadI85tRvmg3PFVZODnkZOBkL+plZEbwpWmW1uBLzHKd9MQbex49GRI6MaNTL1UuyF9tuyYoL6dCuU6/k+UQfWQ/vgvwf9sNaEjnfzlAeTEJv2wiIYKXxIzCB5pyIXzHXx8wlalgRz7hbSpV3Ke4+ozBQSlyli2P+vTyghho9SPBgnPMzhizu8k7R14Y/cwsJv0ka/vIMsheNYQyDOZdr/xodfvbn8C309NfvMLYOYjpct7Ps2W9BM7cHvwcer4fs5sByu2wc4o+U5NXQUeDD/XncpNcVtSIqpRzX8atrC0TsKGmt0xqq7PNgd+ygmdt83hNu/5upfvEzcF2LvVeHCAuqFu7J7Xi5NLvnBMoyrmnMyqv5dmsan9WlEe14EsTCvqIWx6SOWKW21a2uxkDwEh7Q90NRGAiuCWMtllU+4rfgmT37zf4kz2r8koc0uuYbWzArPtnb/BGhOf9pXeMo5ipHQh1fNQv1jsFcX4QJQYvd83GHM0YsdwT3S6D2NJvcXJoZFov6NUw9HXrJ2wUjfTMvOCsox2fbNqKBtor3o/e+N/FgPWPEJvB/n2jb2LTeAdIYN1S/hgklvgFqBqI8qfs4nc+wSbmnPETvY6FjGc3DslN5cEVSX43w6qpxWMofUc1lkwVt51cgIr5rdBbxck57XGMF/JIM3ph01KmwzUl7tXnTuaNnXBNyio11CuO9vYu4Is8jybyL8IbK6GEf97O22FeqFVaUDCercAQMAbJuNo7+n4Qwy9IiMQVplV4Jycalp7j6GlDNp4BLiU854Lu6vvowfba3j13YDde+B5C7DCtIJxozxCqzj9rnfuvWmzCeii+KA155uS22G1R5r33HbsUcxYieo1VC8eMoj2wz1SEDLnJga+2yB964XzwnbD+2BwAITpQUW+Mmb0iN1+0+e9ges6ftr73iKtVBEsoMHCZuDYUDJaUxRJbgFLLUlg0a0Ph1yD06ffv9BuiNt22pPWpP2R9tGR+o5vj9juy4QAF0XPkRSbNVUbiau0o3eUEBjOPRzYVvHPgmwD+BO5v8SY7tJM7IWasCVJGqeFWmKk9V7ux1jt6bvuuccxqdu87DpBio7H/i/AtA9KBRQ73dBs3CxsHFi0lIyYDBa+k8DvUxxBhrbLHHEVeE09/5nWNLuevkguiXdKbyu7hs4m64TXfRpZPC/xR26zV/3xBg9FNtuVMcw/SjvhU5KjW2ZGr/w+Rl8DbdjwS10YVkKl4W/ev03O/xoCe95I0niVe02GFflEgx9qD4auTfUXvdLp1nejFgnHmt9c6DMatimNf2Bt6fzdgLfdHre4v59vjeL2yipW4b6qlMUlYWr3b1RV3xGnZr958qn+3FJtprvvvs/hS/74umAAVY8jQnERN8kGAhomyiE0mUJFmKVCSk5Nhi68jzFChSGq58zTTXyuXa66BjM5FkVrpqrdygvJb9WyW8MqEikdvGnL5F/YElmEzviZa7dh3Xd8M3dtP39RYeyepavGVasTUwf+6lP7fn/yJebFLkVge39O1ux5fbvg53rNP92gUvS3K7HqAedk03tr9ZqU7uSn8jumqnjqSsjDXd3KJuqbs97Jmnyju22p0b01476ntT/6hsAIj3Jp28izKHGRTnX5tcV+m8vmpn+LGcZyBtN6NN6S56W3BaPqkQBHEaxTiol8WNuE37hQqyZqcUe8ZUtkgkB4k1vlcTj4ZFNQyHerWXvUDxsXUCSuveqSJBVmSemnYWUxObIrVjVngTlJgnLcFeYCGs+u4X29PV4LuVGL5zkv+Fbok97Czgc43NEdmt/o1bubVpbdIFyL5Q0YacvYBaxFRbFUO4FrIzxQG9EsKOX2Glq7+QCDRYFsWakERyChIC6iTs1MU2zCJDkfGHY00Hix0VmKsMyhqXj9Z77IVdskFOIo17+r7wCARmeaDMQUKvxZwwitlL8p+AWiqD08euGrGilzGos+dmKKiG/NCWCHuHupQ8iOcqG5UwmkfJqbCpsGozINkEwxJkGCjvAWxpe0eqdEBXa6/EQDDEbESzAGWmWfPVGN7YBYOAUVO/rIaeXgPpPdTU1V0jTSzUpVufflJDRpD9ih5b67bggiMTexdhERyBBxVKlRwsq9LKjsoz5PhaBQOTQBDq+ep0hZVXzYmXFCq0IDHLtcIyQEo/jzFNMM+cnsX0GcwS5oAcb8F6Ht5Vxb77onj7D+fwEb5EYsSKEy9BknwFR8njKJIrb2skwoYbPvBdMCYqi0GsOPESJC1FyqcCjpJP4xYn3rR34JF+L2MlLrXXgU6SDULDNIZxEybJzJGbp6A6iMGwjzZiBBalBMCioMSrDtFJcsol6pTGxLgJk2TmyM1TUB3EM/ksCk4iP2mv8IHv/Ji/9QIEJvIVg1hx4iVIkq/gKPk07jzmC4RH9B168e+lea/mqjkAR2VVOKpkYq4dHXVC0lNfgzSMMeMmmoTMHLl5CipE2JBnREtPhA1gmBQdyEDAKoonppLL210X7iDe+DxN7sn3e3SxP9yVeKRbqceeqSUdgR0waMRBo1464rVJx/w3ok/75uaMHxTOUiHAXfnRgF+joxEHwscLz8RcJ56NUC863k5b18tgm+pMowH0dSbwCmnaI9ZWu6MOdJLU5a4bffpJG4w3VDZMIxhr3JgwSWaO3DwFFeJmOPLHStQbo6nWao/Qpl2HTpK6InWjTz/pBrEhbViMNFY2Lk1gkswcuXkKKsSzwT+WG94waNK6R6ztyhUdOknqcteNPv2kDcYbKhumEYw1bkyYJDNHbp6CCvFf3CxHaYY6GJrWwu7X6tgjqo3aq3Wgk6SueN3o00/aYGJDZcPaCMYaVxMmk2GO3DwFFeL5FMbg8kakmlMuJ8wTgMubcAIAzFMpJv3NoKmWavdZK1ztirbaW3Wgk6SueN3o00/aIA2VDdMIxho3JkySmSM3T0GFeFIQMguNMLCZMLUUD58ZC6sJla3OQ9NacY9EW+2iQydJXZG60Ve/km6QGioblkbYqG6s2rgxYZLMHLl5CqqD+DJ8j7dtgxb+HCSQUVDR0MdBuvQsps8ggXuWkG05J7ayslYV1SpZnVdNphZH97NqldqpA50kdUXqpqeqT39SGtSGSsNGjDUuJkySmSM3T0GFeLIoOHHpkJBRUNHQp84Y2HGELj2L6WfAuJIJmWIpHj4zFgmCWZJtPPsyB+GYk7RSrE7IXLG1yo07D5688o7kA9/8+uWP9QIEFgyRmGIRJ16CpFIitpTXVb4CJZX5qkDl6txrMt2VfkNzLVnurxVqT6mDOpWkLnTr8aSnnfTpTyoNpjdUNpxipJf0Gm8aqzZuTJjsm4PMHLn5FFAdxONUcFI5FdOgM5gsdm5wnuQjEIqKc1uO9Jf9wZEWEjIKKhr61EKbOmO0qBoTGjRpYdGOHRlXMikzFUvx8JllHmTRMkkQz1LZsufAsZWjWmU1Ya6t1go37jx48po38eHLj7/1AgQKbtMARWNzIi0GseLESyjRLankUoq00kWGTFnljSpfgZLKWlXMXKWuztLUXe03NNfi635urWXtKXUYnSR1UTf14Imn9bXqF1JDDUsj0mik1+pNY47GMWGyb5CZIzefAqqDeJwKSi3ToDOYLHZuJA++QCgSry8KAyNjE9Nj9g4uRs0Qbqjfw7AIkwZNWli0safDOHTpWUyfAUNGuJYwziQxUyzFw2fGnIVlE8AsPbJSy1lbwWa21uxU9l3n4JWjzIlahdU5+3KhNSVhrmJtbnDnwZNX63LnrfMxfPMbO3+sFyBwQVhIvNCBCxPhImwQ2UZ3UV3bFC9abU4kxSBWnHgJJVJSKbkUKXVppaWXLjJkyirbV84wtrS12ja1vdxWOygvWH6/CqRCqSilnVKxT8mttPpjGlC2xsBYwsVLYmuS901O+STKl1HLNENnMFnsnMTcYB75KhCK6rhLetcVqUxez1d/7AoxeLZn8ignpmabWy1SLFtV2xbrdlrt+o79d3ApOCPfDEmQUVDR0KdOGNhxoEuvxdBnMK5kEskUS/HwmbGYAHOI5wgnK1sNYa7u1go37jx48so7kg98+fG3XoDABZtChy8M4SJsEGmTaJsTpRSDWHHiJZRISaXkUkYtdc7SqqUbGTJlle2T05aUtmrb1PbyEst3VCAViZ2VVJVWpipUrs5Zk3aXfkNzrb7ayzpEJ0ldwbqphz1WPSnrjfdU6/PVD2mDwzdUNkwj9LLV62pvaEyNmzDpG5k5cvMUVAfxiZXzCeoDJ1foDCaL/WxTT7mKLxCKFpslUtdIZXJ9hYGRsYmp2ebcgpadWlXbVuvbrrx4BeglSZ31/wapUWnBQDbF9Ep1pl/zKkW/GrRCUaRM+aXi7cf26NVvLztoqDocdtIpYrcnlC79S4e9MdKJfVmlF22v+lzuj9+uedPl3jg4dNSw2cgw0EGxyTAxkWFDhmPj4BCiYAAuMXgk4JO2cjI/icOEGhYLgGUZQHpADLaCEQyHHZTsNo+Dk4ALKm6bzCrFsLiAqwx85TYZV14YrLNJePPBVGFT8BMIIwhaqsGSUtqbgAVxJ2io3wvZZDPam4OJ5IC2bhjqsQV6ZUHIBp0cGBmxNYzajk4uuCbBNvU3jHyFSBTZCaF4AFICjNK9CBUqaR4tUR02lbua4dzTZcfM5mT2fRsDp3WjHjbhTsB5ams6rx8VKagMu2C/9gbOhMlw/IwrfuSMk1CMtMaVB/KV3z1GM83ydnMtQWm1c5hZ/hMIWmtHgfZjB7Q46FRuX+UakArJIeqaY5S1vtG6yUOVp36AG6+PdDLcJrJ4NYVJhHfaMHvEaBKRKLw5n7iou0OMekdjvofBYmiWDYNgEoakG4SeTLDJL6QHDcPqoXGOKqjQsAvtQdCnyU9rg2g0Luo/J0BJ5K5Okt3QPfqUOg4eCgY9izHof0j7uQBKIdG2CaQBvUPKGEJ5/M3CQke/U2lhS706U4cz4d86jpNA9utOp0ej8iQqWOh3OkOMzvAQRqLv2qiMhWzZQ56M4nwEI6J+ZJu09u7zvOirDw/qaQLsF7MQkOEU0rMYowKoz0QDLWen9I7qzAIR8/WjHZ0FUIjatUUxDnWyANQLA6SJd9u4Ntav35w6EkZvM0gMnEbR12Y1hgbxTinqJPK+6ju6ZnkmJ7Z+zdT6T+M9sjY0B2mPet56krp29TZ7webV1ppp4vZqbkbqx3WtaakftWZNKhqojjuSyrZqf4VZqu9fFhcHlT3NqRESZe3z3F5jAv78sUbNq5SxX/T1q9avgmbUsgzg60b8/FC3yjnJ1xmG28S6Y6bMxF/dWBkOsTFSsaqPXKfh0y3Av6NsF941AagsSBsYwaUKS8eocUqqLaZVW+tkpC2IfZfvkIU2QvxBQ8ydyQuHc3vsroC190bpuMXT90cuoErfu4AKAIzrhQlLM62yARKYkF5byg4A1cHDVXg1UgFGay4vjETDycYjr/YcnAhFlBkB3+VsPM9kMYajpb6BwfTWiBbSa3Hi54afVhyxfGKZCITmNBu3+QpwG5Buf/wGkP8hb+4TqxrfpbLs6yfDIwUSmCZeODz8nLSuSRM1lyAoemLvLL4uOydnkBBajHiCowDawSepXlmIKFW0Pe6NARrLZy+xFGeS28gpppj36CweDhPfGq/dbQSpW6VRU85DdJy4fID1K5OWVM6tsk0wsO6hX9YJ3czJZ8Q2Zax8eJ3eeuURxK4GCSs1B5M0f4e4/ok8/6jzA93EzrEzKK19n1lE6wlbhv9+Se3LVKa970M/O2Hq8hw5rGKdMDBM9171IqhK7/LA0u/pzZfoKU7qHpoxr9GRx2IIJG4V26Rt6cIha/XldXbVq5yC6qoKb6VPljU6ErKbNV3FLj0ZFYM6E9ChUX2OOwqAdL3whd2OMFqFqanee7s4qTy10z98lUqF7VwKkK5NPWWdkqbDchVGjWPlQE5ava6N3iY03s96wuMRm7iyphjpu9pRDGKDlUqaRCjkJliQm8ZqMdx2e85bmbJb6oxoJaYQH1YcC11GC4biFObRDq5F9BQ2c0HMFzQBSMvR7B+2ocn6OQCOP9UfYy7ZIyrx5HcYL2KGKHOjiF8IEnvx22qQ+Zh6tOOZ/cJJUs9oArCaT/EBhuO8j2ewkD/sdS+0j8Vm8IG9Cu4gJulUhjI0sH4iaMPGjBjXqwWfhh9KtUGlRmG1QyimJ8DkJKaUlFCDToWtikQ9GysOAosUJAcZHK1ybgpmFBWIBrSS8ugWwoIXlZHG0waUV0cOIydLp0tQTBGDBrXsGkVAuFzUmgWQGPVpQjWkUicfrw4mYWQlejAWr+CT2b2+mkw90PLVJ8jTeODf3kDb607VwL/Xs4kKmn+9JQPAzP00AYLW+8+sAjrEHj/27OEO1QDPH//1AaNP8wwMxlh6y4u/x2e8NZM2ZLufKjhkQLaG8jwoK0+FHGgNeVEARZCIkil7Z56Oq1S1yMH0f+d0WbfUokyA+4OutVnZDosPMre3w8MXOx6eaejEzCxkgUqdGj7zBP+ftrsRMEgA5+BOmOiY2Lj4hMQvrFaQ56oeB1r3rvlH/FbLZ/EI9nmALZhiBe6GK7xeLnSH8ij0sCCCS9xnwN4nPVKOIQPDc1HYmFcyQ4V5OGrS4lMNXg1r5f2pBGn6FP30ggvN9a9jf7XHIV2B0QFixkQxbynfTerGZC2skUmsO9tEC0jc8l1F3aDvBK+8stV4AbVlya4XJahZTJCfBEivb7jF076Vo7WRuPa9JeB6y0e+8td6UKAiGN9HagAqV8DUc1H1FXX5mOlwB5s5iiSAXhi0XYHcP65B/iCPSaaaeX5toIIsf6V76oq2cM0wsXc4vEmEWT+Mwyw494R3pS9odO+KFvxBX2MHn4EEMyL+HGraILigQqwVPdehgY2CAvCopKLWZmMI4uGrEdTRTxx11XOx+hpoqFGPNcOQIkArqg1aI9/B+9C5QOy0My665BcNfnU5/nd25otc0eiqa6674aZbbruzZtzq25NV3OH26THHE+Oh+FqIJXqy50ncoPpQKny/Gp4KU6WKJWAdX206RLDQhusSjTXR1KXy3nF/UwuXKdDyHfg3XaGNttq9Iz85/bXlap11cc279Efu8ni3ftyiMRiLVnAfMwR2kKAhmJTmIsNdJ6NXIAXojjidprcja/DKglqsw+YdjZz8DqIq8JeOk9MgP037IKTuYvUuuJLfOaAOss9f7xSoL/jeIdjBDYuwC2Y7CyAlSf5QJdr7IViDpCpDeMhJWZTgC/iEpFwypDrv/BV3gBf+6zTX7wr0Rl7sTPN2l198tFWCpizWDTnrPKSdhf/4g+gMXvLwTGhIq4e915cscq4dwteaYeqUvvq6hnVLrRKrwciHDEUI6B/0wUA+EGV0AwYbmfboZmxd3bp65dL7+L8Nnq07z7crb+bgkuaWQHgNTkdZUx5lFPJWWksBKEGR1yeDAA8ZbWahrZaNyreysxyZR6FvV61UdTCAYmBPCh2i0AKsSHNnpgGzS0JqupEG7roLBJVgahm4xSGhl6XXEWApgFCe4L1VWriiWGujlyhk3GIOAVMtdawQlImB4UtAZtgBuzbWYYABHwwFvEWohTOQ/kNokghkQmg2oEIBQosJgTqI0GpEoAmENitsrqAGoMuAn0T2ygAWB7B+s+wpTTRbu1+5ZZeWt+KEOiMk17286NJs1hxcaqkFMDz1dfpf2aUsR4KXznECOtXvtVVtwc73Q7JhNiU5qzilk2z7zkl/zE8B2pWhBRzavXoMiuKnAbR9lICb8L7SYg6AFCANDJw+758yDpg4A1DvAdXG6pBHoh6gXWx6jpR7rqsDF2vcMi/RKQPKxy3bxjA8doQ/nAbO7ZtNXbDQKVdd5KY1h7f0icb87FV/X7+QPoEkUZucBNSHgIrLkIytF3abNXAKByBmzFOO2tMlw4df8GiDAEAws5WO+eRqSoC1+fhnwTpQajeLn/iI5AdV79vJmTJx5SW4thdgsV2C5k5xoSMBbGSf2l2xjD633umw/aoH4bOvca1UBx3UZwxUWyYJgPycFsUCr2LMRifyEJo2WIRA6R71I56G8yM2OczlR9R/y2tdLGdGGAAe9yRaI4sActQ7tkaYINc6KddGNEDBpuXgE0AkXZ5KB4lhICCe3VTKwzHzeCWUDA5fzZD8NRJQih51XPUwoGhPX6fvesL1jkze4DvhxnBPuCnVx9ycaWjoceGA+jodXqVldjeDH7C6hGx7Q+iwphv9tt3d/6c4URth8inqhoVOPZLg5zwqLql1jxCuoanJu+dybssQcIWhfujHfuXXgSiGUlGTZD6twW3htnH7VV6VVV211UwdqWtprvSGZqz9pHZE19SpsxTogMusyK6sMMQPovriAE0oJbVPZVXx00vVofLf7T+Xm+IDmHdsvtvluoudqjzddedr8zpfTmWpUOUPEYCvfp7WnjaeJp6mnbpO7IwL8h+P/9EYKlEJCGBtkzPN8+5uGRovrq/uGb+yL39p88BHD730yD0tnprQ764+Q57501v/959BoxLM/f0rht33VZMff1udzj+80OobhAGfzPhs1t9embegwhPTgUBJjgDfyPtG33Mb/+Bb+kmsUq+zzjnv+fbtXwoadFYqRAMdAxMPn4BQETmIgpKK2pdWMzGzgDmVmLSWG3cePHnJ48PfegEChQkXYYN8m8WIFSdegv8pkC5DpizbFNpOaKl2Hbp0kug2Od3ixEGPg9GHdQKAd2mv0GFXP6bAQ95Di3oM8UfYJ8KtFJV7uU30TooP/4+/l9LnxPbRB2lb+Mv8o1Q0J02LPkmV4WdHn6W94T8pLxoNykqhC6hNOxznZp63IJb/BIDV/zWqtgeki8cS/huOn3tMlkeFiGZKUFs+liTRGymq8H5GHJ38kUUC8eNf3EGYSyOmb2dAVuN9iZQHGN696CxLC4qxNdZJhOOf1ZFVEQFkS9Agge8BtLlQue3/zFIeg9Q3Hf4SaYIswl1ycRbaGwnRQdz64aVMkMCePQaNW2QGxw1w148fOB27Dls9V30kbl7z+GJ3A2pxZBH3aOUOgPyfztcjaDKJbEuC+Q7allishQQ5SCQJfKYJrEp92UWcYSIBZ4SAuYSwipl9hkJRRDAiZaHdLAwOcIaP2BGqUrvNiW96qafP0HiSSrZE82PXViyJpCVXcTl1G+/YYnBFQlFHyD7ve7nHAUmrXkAQcXjMjG0bpynSsTEcRTsoSeI+TrBUYV640jWUxY6QXtrBOzt7skyHeEeWfX0KcJ3dwym6+ClnS6Z3sEIxFNV1y3rhBZplGIzIdUXBkWcY1nmRU534WThLFjk85NDsT51lZZknkRfMFU+s+y7L4wzHMSjKIiiC46yEor4vGJERLSUl5zn8CsWQDE62W7RxiqJBSuN0n2Ipj4Xp53E8DlE0wvUYjQidYXwTubcO6dO0SfgkNb/gCzues/KilRfLqXSgWKmUuZEVLIuwEATTsyWyn/s5wa5wCmiUCgdr4NtqEGcqetcsscpXY8WrebHpHaKtY8Fh6INcxPwu1g9+szQl9rKy7rMucYKXEdtGn5R23+kv0RvSRsqS7tFgXhG+QAWNC3PIS2/wuoTCckFEKGEEQhkkDHV6LZNXjVIAIzOkUgB6/NmqgV83C7PiPAb9FQp1Z9trd0ymAlPWa0QCp+FRds7VHxmFV4AwgjnfCx3uJUBEmAKAmTSmipMsv77AUEaBl64wy15vkZFNTwVbxp4EfQEqSOrhYbSpwIC0cGB6HPiaAFSFcdwmOB4YoglGowf80lVTmFgRUfAx3Dh0+SX8eEgPMOnOFJIxqJ6jZZB4uEje+UO0wJv7hAAXkL2YceD5ilHwOM6ZRXWY/TAIDdxDodkliV6QwkHwe2OvVHNZoTT8LrbajvNYzsRl1cyOGMzw8RopqyO4IYpcCbliRd14Az1jLZCrqxI8hWOOMRwG+jrThmAsLnLFcKNKE+ECFYjQ+DZ6r2SmetCzsYp46y+FKYeiYfgtsFT9hDwymKRyONTxPIeOc7VO7GxeMfFPDSZKsL3mNC59iaVfGx97NaMVAZi5QIpedfWSEMAFEJ+Ujc5Gz+NKdXRex3MStjxQC0TUrTlS+8f4jBXx2ftpLDeF8uOpxV4MVepzULZ3yGpFXTpkxAZXQC+UW4bJRGzVVp5RMIPVkec0G+sFayvRfOk8+FRmxa6vJvOLqKTICw1pjE0BZDIjJ81d3ILe3YEp5uutPrEyLJEBBrQdP2vwdFZnrXSU3sk3hIFSvp5bgv5Y+6WVcZDVaLVIrlKmZkIrZ9GWIuAcwkO+uHWB2EpfgdibKKUawyrI1s9E5Varwz4nXThAxBN6KL+feWlV6zx8ArINVhXW7FU7etnRFoFoMwDU1dPHW65zJQ0/0575rJGS3Jnq4iRQqgjULvHB/BHyWyiOEa80/UqchdmizWx1Hq+IuWHscifNviEgXAlf2Bmgow8QG3mvAq8vrsAq2PAzXU4RjYXXEYvxenGo/BJy3gDGooxTff0UYWGYi5N+x0HgyXUMZjIdH135HpDtFFjOuEL2z36mz3n60HSjCrWFphqqay/4OwK6zr8NSK/2N4jKLLhRF/et40xBZijds8xxxOvFhCK3neRp6yS3g9e1OVv12IUiH7hWXDbYN2QgLM5tguAMskyI68UEvPAzrZQolxVehwVEJqKYDeqCl4kePNWnCjDqWq/w55uFpPSQRqLRl+jmxhYZfRzGm3hoEfMKhPbmuNdOkh7yNoaD273TJa14vhk9U48ECS/Ks7WTk5s63JqzmpPOzJ1ujAutAOa8gI1menbVVobm4NqDCKmrVEregF6aBBt1MbzAShmhDa/jPfGGH4FiKgSz/TOUcFyieBpVbywXSLlO4sYKkaQN7XyfJXFEXjbHhxJ211uUrwyhSIDYDLDKJk1qN08PfZE13pgaIanfysXbLCNjk6OJD5hvRLYMk0fbPL2VI5656xd4ifhkDPnN54DKpxysaSkKI/XW+BmI+/Kre8P7LIv0bwAITxLK+DIFne6fBuzfwI5a2mFuJ1A9npbDauv41eFnYhf8BCzJhEDmAkHFSSCaOWARNzFIdnJZbSX6Ecn6fVN1CK1QxaULz/ILRLV7XvQSeTW778mo/OAom+GjVqwdUeo4M1NLYm9sxGZ/xHkzQWpS3UOl6L8DiUMq7kU0AAlQ9YTTwsdbQdgxAmIR4z2kyHKgAiGtum+F7wXn60KVteCGgBep0aPhZSKCFjDzAibJ9SRbGov1Z08YUvoEVmNCqu5qr2soaUOyMTlOXnVF07GyO8GyERvLFFZxYG6aeL9ZDfvsRKCFoT1Zte+fzt4IBcYaZrqey0dvPMBXs06i7N7uhGdytlBYYdbydJdWrLysT8Y3syA8e+JYu3mlLNnmyErriUgGQCyln2s3h7skZ5uuFgjIKalzTQSa/Y8zrS4p3QOkSnL0sDkNOA40uQlODZGIWn5o4eBJrS/2LoWiA5YoV5P+Vi0Ci1uq3uS6WIHr8DVQ9DpQE1dPVZN/eRKkL+RGYoSVKSr4VEbnY7Ayf8weinM2VKYk25obxnWE5Bve7wNRUdjyOJwGe1oZkeuUsz2WSuQkU4POYzTySZlrLGpN/+Ex+rYAopuW/KDAMmX4wQin6M0OGt1gjw3CWTE4prlNznHO8GzTe0/3JK9y9wQdaxmstndMzTNnelPX7n2x/GHTO2ZjawtaBvG8RTNOFWH7gIQvy3lCv55vXKI6wVqE5doAm8hF9WqzodKgBKHdh3P0tBX7sTI+hLld0tt8Qt2yu+tyAC1M5b3FWEt04XLCmFqe+yjKJdszfPSGXm0qsS4JywklB3EMH9LAgbuVKKpAsWKTn1eb00HOsgUXypt9jd0EgQV5oVPUbaWtY+xukqctZ7hSRfXYhHEUwP73LiZgfTE3O5rKt7fbx9cytnm+2r3okM1Yyaxdv1MIBF2Net0E1Nz3qqcCPXyBbepyu2ztldVK0ILvCPdQK6V1kAw/QQeA762W79EX24wPWKbfy41QDhF7lTHqymOeTmkW/Djjq+PhIjnLA/iUqDdu6yjlmnrWd1ZbxxDjKOiSePgG9RlBo1RsqFymUPRUSaUL55DIj6pdQDLfBsTz0z5H67BFGQ5K5XbW+S/p8JL57GIK0RmvKlPw92GmbcBh3uja2fj6i8YuU9yV+JjtVdJ5GluXoYXIDWIDf+08IDmM45DTzbrdm3mWTYfZQreXyDpEsnrSVU4dUVilAiHwRVfpkRuy0rxNfpXq++vTH7jrTGiVCaKBts0Dh/ygpuyM35fK1erbD0D8ylBYmLOLJqTGyuGVK0a9BTpXUfomvoXuE5PnJJfuWl2pXMYsRXW4HwQJYwaOUzXCrxOupraOmWWtye1vpYxMyZg2uvqYKMtj8Alsjdwu6sGJo//IdrYrxBEThsqTXdO+ANUw5xHhzzdxYqsB+h0GNCyrO9tzTe++L4aahx74QkkKyw9DRc+P7F9vXucCU/xpX5MxBc3jDCD1aa241PNkdlVGNjmLukCJbQvlwPs488wC6nK6BUqewRZSh067ikXZeLyCfoKCwkrXQbAp7iT0Y4Fpa/QO0UWvhoKPX5m3knC4lbuIwRwJUAU3s31nSl5Y4giXWUmojx4w02LkyPILfJSR7ojux/ZuWdCBmnAxuEIbtfAxwMEhW+sICQ0tEmO5cLBwFOp+dPiVDSTD3LpExGRevdMOxLQnN8B0ohOYjaG8aI4BoESgS7Ms9Z0Fj8Jtx9syxDfOhXuoLoTLS8Ym5oOnEBrX0zAsMk0tRjwqDMJG4Hy5pAJwwuYhKig7Cb8f4LO5edL7irPTbsyqthO7OB3kHDq1WyJNYLU3KzkOKUH1XJVs6nOKdm3fDyloDNgQ4wKJbw/mde2wYctu4NEc4nqdkBDoyoGXrLwpQFqMFLmRitdvQ15XCZW1U7wFsnUzGFG+NLfJJqWDyj0Habp0sfIt/3Jd8YUnze3i489FtwF+BKp5ACOv6bUttJW2CybcFooMSHtu5KjtwATuXYRcpz+x88CRcEBFceA//4OF8F/wQpMSf3uDoW7CLg5Bi1mqaNbu717bDdB1Vn50OwzYTyF4TPtxmj8UpCT8+68AwsTj1LBPCBJ3t674iISKSnFT7fHxnHRVaJBHlHxosDDElCUpmR4erSwyKTm5ydCBvwv7uo9cjuCemI4UgsPpcvJVuk5huMFWzSFUfw8PoQNSBDC7aW62TNeLU37z9fZtpcoi3f5bstIS2h1077GDp7YyPd0SguAed6fEV662eLbtkH0PQuNHCS+r3sA7cafRLuQKE3NfpZDAYz1EmH7yrAa+gzjxxKh2IYg3NqsbAdt1/HdG31HRKOlvigeoDn/28dBHFBKmo8FwVliTOr5tCVejDHF+UkWl44fqjBz0yvXGRkznFbKszHmO6sDzQLOQgCZaQeax4r9YWgLoz72b35JAtMqZ6RUfE98U6E4o/EdhfvCx7tM+gtSWHkXON+MG8iCgEMzYN/5xYxR94WTPNhAWLnq9j4SljGLjUchyRqC6+OY2uGhXmDah2WTWmB8HQtonT9bNRwgBoln8p6Kr0VXhG5eFIENgImDDiHzhQGNpohwNinFNa/qleB2abcJm96KybVAz8cD/tsoT3tVb3WSfxkv2AW+o4TsVgdlLilf5hOHB6zMNCY0ymekwaxcthrSBgzKxCbQYfFmEe+5rswZXqQ4CliVtiKysnf0lz9n1VgQgitHpj9SHcp0iNxDEaW3bGGInTH95YDREk1zmm5rwWhjpei1MzXwtjFbvNiexED80WOisv2RVlul1Gaq9eNBBR/lolksJ2zCZ7oynItt9f/n/Jizqi6Pk+TXHGHDepK4Ydc521c9GtFc9WU4YXo/ucQecbHRXb43qScEd5l2PC3KCBDRZWQn5ye4uXBs1zYE3+Ny+fjNa2ntymItwzxrIz5kWm9hAN7fH8iQlvb1CGBfWdBFM4air1j7bg/5Tp7qhDmDCPtTo0NmzWQd0AM5Qa8ZbkRsjQ5vRpZUieZssnHNr+pwkQpPQ5v2nThmmDrrS8TaCgdhoef39F+Sqa8YUbuThrQL5427jZEQqU2neV/+jb1kjlV0mA4au0JiCt27W2/SWvXi2Lfx9iW9diCMHYNE6yZ2FaUtQTy8VNrMJwtmImE1ARKzkEMWkfdDAHQ/b1sN2Iowm+gZ4H92ufle6cT/q25G88ct8lX1L77WqSIKlbEGuj4aVpNao0kn2Db2FTi7zvgXE0iByi6scvv6AA1PqyynPWxcNV1gqU745FkvhOSmM9q+i5mXpjN+9EtlhY+yBG+Q7eSAYGTyze4fL4nfyWQkPP2e2NmhEYQPEw2cWJKloIns62kDCczhXaGVIYu9R4vRMNT7cydq24qoS+PS4xfyrorpWIXtWGfw/Uht1Suqrm7zMOElmsMtEglCUsRrUxbpkGgA3qMGuXioBY4G3eBmQ7u3a6WC7nV/62xDJzACJEpHfeVxanVf0Nyhe5+4th6Ddl1IRm+ZUEKXYRyVo6spWt83nM3HANAzMXmFvF5dT/s9egtC4AQHXI1YLyp/1kOVEiLLGTzLZHo16mrPEFMaN/IE6bqLwmbeKHoKDOcA2aFEZwdSWwom56qK8kUbIMXrMVAQ38hchdezA8RUBiqTkjZqri2BKR84Tusi1Qm12t9bbIyJxCB1DQInIWaFTQO/UDLDBcXTRlXCnwev9gGZarEE9KVOyONcTFEkrRgvma7mXumJgPbpyNGCX37Uusl5DNrWOTM5lib0KIAkwrfEqMo8rKaiX4MD1GxNHge8gxliFx8smmSKSnLZv2MHl/hCcqa+t2jHKeDzsSqS/tOvO+uX3GdqADsGz7/IFZ+1s4E6n7zGxIfuMGcxbOHliM/aVNJEysz/YdK0ZKP9pUACEdf36OOw2uUWwsEd1zlEusrEk8wSghHLI0COjWlzOe6utak2QIxGujyaPiAEGwU7OXhyBAxYq4DqavbixWQqqXWlo96gX9WfzB2/qfjCXTbYWepWcxB7/Q6vw41XFS7TkewIvsVSNWAoqjsX77KpnkYFUgTmwKEj/BDUAIJfRp8wc6DTgkBzBKqhbDUq9cCJG5IBDe1chwXD5fXvOgXhErzXH38C7IWovjHbsALKI/869xyRD17COO8KVKWw7MV6jbXKzRnlrIGI0Er7IiSTH3wfdMsQQakaOG4q4dpJuc//jZiMLvUXy9XYn5uJow6LrbMibFcXZxDGRcPcpXupppMF/+J8J4J+iBVRDaX6pMBnYZPdHcuSuSZhCuVGHnHHgRnpIZbCgWyNmHkQv7I0lscscOzipPvs0jUOfXOqPN62lmDT2n4FqImTFDJ+lJZgHhByWYC77ycIro15mG0nr7QM3uDv/YoP+Njhk5WwvQlY7tOcvOwF295diqPoGEFxnKU87iAUo0MQ/bWqn0t2anvtEJ3T/7wU6niPl7d9fES5fVoLfo3zBCs/vXP7XL1sPS7iPqjC6mtXqlHwhAm6eb+BsQS5K3gzhidOhoVRwv/YeSMkIVvxgTP74PQaFWD/yCFURgZ2UrL6kTpb2qu/t93ukypX/N5EhmVShBrOXFua1KikmGuRqR8hQVoJHPAOtJjOJsn/QIT12TqhoXQ3PlLLPEwyulMczdM35PZ+JdsGAy037/l+Thxc+IabaLQIWr/OS9FgIgeXr0yl/EaLMMEzUX0YkQZ0/JJunuN6q/cs52YsxSl1XIUx8l80OkOJ6EPAHEtuNuaIOL0pkasAUJX7wDt5xRqlesZLdeFoaC8IMCohAPRjSus2AEEJZ1I8LphSMwdoCF7H7dZPP6VDGxrMkfyHARmrqyM028+Lzm5CkZrXV7cPrbBjtNu7uf/nO7Y3voWQJ6Xa2a5sD4Z7pxSKD5mG+kH82f35XIkjo0w19DBnNEYmZQ1ZlKJqcY6uRrLZjKXs59FgdGZMAlwfP3hzPDkqgUPattcgBqsccDGTNf6cRgTLv2ek2KrGNRFChgIbcx9Y0ZhcghvJlLtGNi7w4tr9km0J6CZg4l1b/cNK/uwGWYHfuD/VfN8voMfB5f+hSe8NpFbXGWtKic68gfRDyToOCwQ5WaXhxeDbbLiHk/GRR7zxjvCQ0Q+TiosehChL+C8DNhHAOdr2mirqALIM3CQwizqORZVXtso5JdmEpYFuoqBwTkai07rQ+yuLHfzeTjySJbCLkVMqftKvN203bNXfc+sfy70LtjHmj9R54GxAgDAZgHAnR2X27G8JdjXAKdvT39TskVqvYFZKKdHw5Oyut3KKgFr5cVOHilRpTWXXPXGhjyBpj4Q9Q8LRvPVHHKpN5ZZ1aKAwlkrJ5JZ937jrgDYa6egM6ROM9IMAoaQTL/dKW0sul0pZyfyNYYonSmmlUJC6rjoIEn0BCNN9q5bWXVwscZbUWY2vkoo2f+XFHiKMrziq2kdBKCYwDWv7pMBUo+9Wnaoy62wUlPJ0SklFRW6MyBw9eCSvuE7pE5ctXLPcwtVZ5skNjqg2fVx7eJPT8/LtA4St1i4pvnMLDV5T5E8bSVkHADTb6AMbcBRQMIaVDeAHpM7R19nKbKIiiWrE5XBxhkTMQhbVrd+32cFYw1JzidVvr3dKZM8GjCwQGIeBISk88fjXEVcfUsmpf2idkW6Z3vRItwSf3HisvqusjTlV9QCZNth7yGjLulCMN6RCO0gbx1dNv0liImMXMLZM7+ed2bthaJVwsqi8/AYuS82vjQmdxpXglWhMMqR1FJZ0lqAAsCmhzHJOnAwx6waai80GwNxTOQ0DdHLfNuSefuhEhqvXmZ8/G8yygsrM95bs3i1BwW42HHM/SXE949p7tR3x5MEBn2LVMLSu8adPBda56qpwWvXvbofroaPAUpjSdJTJLt/bFKDqLRgsuyCoqhxozGuCD+7PAUrJHB/cNjxdvM/WpE7GEuioOalOqOqVF5RiokcmxAWuZqNXtTcns4o17H0Aa0pAuQY++8DfQvAyuyN8zmb/zCBMrQLaGX6MkRKMYhzjxvi8PGoPLRDeE4imkjIbAs5qGBqvfHS2t8qZ9WUKN8A3luvNNZ5xRV/TF1UUi+yq7ugO6kGY5EofP7S035cE8JarP86rduy4GlWOvXVaJtezDkk2acq+eSq2iM7NLiSyjEdhAoKsM1k3l3PZ7jvrwLDxcRoyD1XZmlb7HMGgcMY2uIXtED1gXwYvMY7q8FpeRYFXLAxnvnFkxY6HJ5bTCAI3lrk1YYZ4qASSB6oIsogFwl8Gd8IR1kWXc0FOE9/F4jeI+RY153LHCsXy6pPgKDbFhQS4FVCZU6mpgpfzUxXU4RJ5gCCRWiIiw2srYp0m7h30rQ2v8q15vd31DK9gK6O7JWzTVavI/JLwrV1Wu1Wa0hIyEQLd0UFY/2vBM00v6LNv0Py4wAPQCXe1mCtoABBfCwy7vVNOlxuDYmN3nG7EHxxvfbiqfGnEt+8IhS+7IeIS2ojqLrSVwWfXfcWYmxNeHax3qlnLgvsWk5vlrwlnBgBipA/tD+PD03vCmkMyDu/NgnVVAJ/RvruRadbX6PbCxwaj9bLtfHhR9T7EGGVYfYvWasuKuirdnaTogw/yAgzFp8NGdx/0fi8VOrbJ5LvZP2aLvP7zE/Axx3hZYi0fKT3z4ynniI9KayNaIKcoV8/w6jZbvl0S4Jl2t/pDL2GCEPZLCVpkU5dA61CWxSdd68ennicaWHS4aL3KNjrh9ACUXvF3CdX4lOtBqmP2mlCaTyal7128QeNQe+ud3SBiSSvh6q2DeIxyXyqUOW3WXIWLJUP6hWdkoBTxU+u5WUbCqJeRnSnuH/msTzi9EIuVitczzVooLFM+9h86iCQ7hLXdzcdxtq7HhqhcVFYu8q1e5mT0zxjSZ0UGjIwxTyNHtbIMfEtQb/LyLnICufPMD63kWnn69DdZ59qkwf7ii3FQDZRrU1es0+7z2ShGQmUNQaYhUlftQ0VPFz4hqU0E6O2Bab95gXr9wzw4Q2UTsIXGjalw1oZpQ0nc3N8PCwKwU/SPrgAYUI9AwYwPEfIjEA/RzOCqFQU6BtHKi1aI7RXeJVxf67I5xRtjwjOVV49P0sA3ZaUX+Ca5VblVslq/+oMs8T/Yd5gglJ/yh+HGFFiN5DOpZ/qhgjD8mGJ/ebz7CsTlsHOzJ+la5TXfQ/BK38b6y3xhR5d3QevkdkslLRImECFuyCifFq4TLBNO8wae1HwDH0Ud0yZnhgUDfzRecYmOxyXoyn0y26GTQvV2ejh//Gc9MvljUQOKRHsBkcVC7MWgMkZ/B9td5P25+hG+Jhwisr+fQXXiwXR/KCgN7aCczCk7dZAZX9eNZQKsECKYeIYsPJWAwFgP5sGkvkUukq22I192tzhZ76+5xtfJve6utrqgtRmQT8DSzC05ZM7YMXN1Jpq7wApNw2pa15eAMIBT8O8r4UHaqcYWt4pX8h2f467XOfNWKQTsXe/milOQkCgZRbWF3ZdPq0tqcrcJPaHy01iGoXjFkd+tswQ6hjNUuiFtNY2aXkBhqNeDDki2Gj3JAiapn0i9UPg0mKGIRpTPkeT65QpVJPpV8In5IFXcWYW2+I6zzZncY9SzSAyLX7t9/WRn6HEfDqXYkKWHwZ7L0szIL8Gar1yTuJfv9kQMtC+S/L0aexv0k8d0U6LvskAqMhR+IPADGGE7myvNz251SWLSSEu51s1ZuWJwjhk8cUFSlnknsu8p0Mg4qhxonCVil33Z6k/6r99sCELU3uBQMwHlYmyT/pgi7XR69pR0+5LJ2W10VkqSBaL770S7EsEnKpNQse1/fNeepOXfIXkcU2rjRi2eZW2MVYuaBivukxRPjE7tqjdTtcEuFYGirrjYKXj0yBbclReKaw3WiYkWIlP0/jYE6YkuvG2cB0TfJXB4pVFaQeFzy8ir4clUAbCE8CSZdT1vs8x+a4EijV6GxRnSqdMmvuUxHRriQuOS9c02tq42Od/HTW7fUr0N2t+xFbY0KKl+JK/t9tZiLuqp/9Srqvo5wT4Z/UZYP1P+A73okHq9Hwsjls0ySQQwtXDwtodGAA82BLwXKnJIqk1Kta845xTnD4ySCR8A+ELgZJevhCP0jlreJaRy2aQJsr9tWJza4/UydJShtNgjl/lXblso9fiVuB2Zhk9+vF268MvccG7gbjWVEbMyrdu46H8S3ctFSSMLNI3zNvv0NIYDU6SqvatYmmopsumvyCvtKVcxKo0tBD//IqUZBE/49pcrHRyTDxq1mfozlF2ig5znNgIajetSatyIJd3G69TtrUVyjqC7pVCcCWS9bB+LH36DtN0oDu9PyjTpHNf8uYaWtL1nc0WkCUBzFPm5S0KGNNQbsumvyqGOlqgGkySWgh//mc42CUs28GsRba7ZadejAWQ+ZlUqDjChylxmCuDC/8oCsOLZmTUlbzouEYJS+3amM5nYMmXaxw13WlWCyrqazTvCo4sp0BdcG9bK3kUgRnIHd2yE/QV1UL3hfUu1s9kG11xJsQEWuDDa5hD81O/+U37+WPiFh4YXHesdCJmZo04GlTMx6VioSCx+vz6rpLGS4v/vnay7X8NDQMLC0gfFs/TeMhZZ6Pu8Ae78tKDdqWKKxs9f4T9sCoBaiSdpP/26sGfusnEdjBb9WHRatmp+/QWMofy3eJzzzwOUnYlTgKRnfAkcb1GVlDSo4auHb4FiDpiyw1o+n42EFravJ6cPp8mI+59oNm2vacLrMyef/EwZmpG2y+0IgZCOpN/Gi3vA1jD0aQza9vgjPsfq8SAjaOXSxubXFLLDzjZp5bMmSMkfawL1xqwzscudyLneGbap8G7D3WG0nBncz63b/Nyp6+8tNvY19WJJH2fw677nGnrX/+c5FfR30IexltRnyn1+dbd73Evj0dTxPyGsQ4LFuybZtxUpexY4dKB2jsKZqtNUwCitLlm98rFeomd20IRckQsBAO401X27pLdCUqY4FhOZxo+jp9WIkJ1jxp1wguO2xQcJAMq3lWWTc3pzmCcVDYhG+TyJ4dMODjbyBj+wiyc+IgqymOT8gc+iR1D2YF9dv8IRspLv3AFpp0QK2jbvBZ8YMeiLCe3SJh6tgX36StyAx0a49Pd09NmbtVfjkk2AZx5IUrxHFDDMed1ubo7iB73W33k6/yR03qmLGMcXmrG1a5k6YlXHdmGpZ1joFDJJxqdd7AWs3htZbeHCHeD3H+g1orzYaa0pN8uYXCmKCjKHZVmzC2v+OD6uZR/8BoJA9nw0Qtbhn13E3mZVakuM8KqpMXnijoFJ1UmlLYe6OlX7HFT88dQlwPav3cklKxNi7N9iJBcEF6Mu3a8pfPs8ib8CU6yVjzQO9Gnj3pAsTa1YBqjKTdBl5qQ8jTWz9yV2gaJUzybZrHhi81wIisbClXv+IDYR9PGKSTf7qcDdvZvI9yGj1N4Ee6NXCwIUCOlLFCTrbfUwJWMi75Z3UbnkdPVP6gA/xdDwtYPAuhsS3+phvskNWuLOzyypwCkgPYmx2yWyZFu/eJssJESYBHSEnE2STqEzS5s09W+eRpX8q5UFlMNTV66VlEoJf15PQl01clQinaJO58uST4ViyiZLIiCwNkY6XPFi6R1RLhqAuRRvUomgSE6ME3MVgbLGsyB+Ay3kehoKGWhNSylSdyk5VXtVlJSWAYbIDOWlFvSAZlc/KFp8lUYPiGdGwcOAbLNmiMKlgvSldAq2HNpDxLp2BJ1PcHDPKb+C381ofKxylVzATzAQrxghtJnI5ZDKt7ePWigckk5KxE9jC2FMLIk+pHWb5SnDVOdKHkiWypdJxoIpMTpDZObZcYihkNflb1pj8GJKpKTuyJmFLONP3Sk2+5lVbbgkFNaaEJXE/qz8oUdN2vad2Oc6C3gKNCBjH6pYv3DTsugpzbAJgkck5KmFV8V7XI/Cm6PtJG4SPs6lIsharIPkKhvzoc3myFuNK63bbvWwvCi/EXbgOZbl5Al6k65VUxATvCAhXHmg8viSpazcNmYaq0USlUDB5WjglL7ijRdlhxB06dTR3nsjUMH/fbZX7CMHXwN5cX7Z3FZsDksqdwrfipykEBm1OfU2dNQB6yInPIYz/yocHxj6aZPIaftzfMc+QYFuUnoDM5Lx+Q6OmOkrUL7BM/Kb5+S42+5XgOPWrF4RY9/kXQ+KmilmqcmVSMSafp6/jaeubW5sbtM5qKqRPcGUyami4ewS4ddESFr9/j4Fn+CPn8ztiBnWunKVj7USMdbF4TElolweCAbk8Rt5C9G7ekKr23mb+JUGr9ZyS/82eMpIMCJ93bZznsiZk/PtoHO9+XVwG20KSMr1IZl39ghn4vel3rOnjygNqYdPh+W1MsWnARmjyKYZVj2mv/DSsfkoSKbzLZ3fOAeoClsJJ1F+9BjITRccXpTiLiZXRVy1mvJzw7SgOyy4q6z7rcBdb/DpZWN8teLr7lsUvK4kbobihC8bMcf32WH1nKEgiRAj08IDPl+uAK7kRTNzU5cr2z9ditzWVDJVZm2qswLfBFQW0FQHFJeE1urYqu2diQKCNDc690u9IocsZrHDIrVul2wXtuPJD2wSZukP8AwmDgzzoh8FoJw4jhLzb4CbX/BG7Ndrs1EmJJO5VM3P3F+n9OLK+PbuqEtY2lk/Y+Sl1hcisHNpIZ4Qusprldr9KmirP6al+NIZmoS895pmsbEfV08BVgqmpubnJxCRGOWwibI3Ce3hHKpVIqZNLS4eGwrSI4lHLtgae2utniFaq+M+1kBAdDjTTtF5GeAqoKKOjBUxmwbbXTrxgYy3GXZWylOt7rDHd/AJy9PXZaRANa5qr9P7wTUyOTnpS8FDeVSnMzeYL6EjpETTb4IxA93tNDydhT9x5pz9NTiX4QCFH7ROyzhb8kfX5nHEFVGQl++Pu4BgMbDAoN2n5BehzVXkZXx0hb3fqw6C6KGXWNXlnys1tWWeuQrotdIXylth4QhLXjRnZ/s7bxwWGP2QVDuBbMirHRI6ODgyOlMkxsQDEqXkwUEBHRuOj/HrdC5qsf54ouC9Oj6xcujJCpGQkEgpP1TEjPkAAlFY2uX5ANeNQxUMao9EH3cVCLpUnrXqo5S3DoEx288ZOgTgnn0HE2WuCyneMWIuTbjQQI1nlExrq6vRUqYSKc3GkBz00MVHEUbKRzEDL/izK6o1J64jDmsoZbHf4lfAop5r9FWtQCXqU/dJOn4QhsgXU9CEL9QlvfaacBjDIfHLLo5Z4j0iPpO9pLV9q12Gl5QIYv5/GKOTNwcHK1j301RiCix/dvBPA8TK8h+fXXFm0SGEPkpgkdUX+dk3dkdXLVs+nMrcV2U4mAva9+uaNgocA3+P86zwidQoJra/5+T2xoBr3E+t+WgrQhhzyjA545ItjI6HFytVA7Crr+b/okFyZzIB9v9BAWiCSLInOl/ZM4O4fN5BW8+zv/X1n+hAYYBE8jfPwUaJQJEQTK0AIoqImIVSqYC/Mo4lZLElzxlEAyH1cxNe9ZLO9pOOLHlfzxCI+l3x499QailjE45I2zy9aCxgcIdSyhlau3orM4giS5VLDukIL8bvW+S56DG3Qi1j86teUmvddfC6ZcCWJvu41fWk/j3PuBJ5F8+SwjIfZUgpI/iLSKAL2Qif4FkFhspAUsYDVQqg9aJutPpZzLO7yhuwplSsq6ix588tvtCXNus7kMUHVq6NNcSNsT8DkZ/yYjly4V5bbt7ya5bF63kIbUDsnm7On4c3ev99YJ95cFJ7aApidDSqUTD8PExQHV68rbmK50jgqDauK+cnpnorCJiuH94L88GtHK3FkFwqq7hevodwqPLYGtVY2NVVaELsgKUCRJltJGGF0Ugt8BDAeN1q24KxiRR+EmErVzogj4zWkvBcoYdt1/53WgFzFHE70JeEWklQiQ9cRmQ6YWjpyCdukz6o+xCcmf7uK9NGKihrAORJaCM4wqwv80KkGZAvJdrMxrucowGCV1U84Vn40is9YwYCCY7Gne+Eqc5yygWqD0AYT7A7iuRVest6eEpPa6Mo1MaiH5jm5FsM/mO1nhVUqOaVubUziKE1L3iOhOU2TAOwDj3ergLE5NJZSDvrV4raS9rIuT6+a3PnJeBxZXWC5wjsTRhmDn1VtH6oB4iVtCM4UtZb3osH2VtieVU5FjFQh5qCBM86BhGiGUqFUMlgW2AIsnUPpPBUV5Sp+yjD+z8HoimViZoSKb8KhKOnUoh22g7gtsTe2znHxsTpWqb2Sk+B7dQadJHIuK3Yaqij/Wgs8JBFSCKKfqZX6a1tq4kyzzBuRFRtrKJuVqK0xjGW4OC6FqwIqForTorSViQbGBSd6kygPNvm4D9yQtPnvtRNXrwcDe1Tp5qpaieZHSjDAgp0N8nM746hQs7Is0Ka2JYrKip31HbC/uqvMuLL7XherQRu+WMkFgnO4T09XB9F0g0ktQADnjF5LdL3dprj4KgpbUm4K40Udxw/YVukGLooqZNWq+tS/vo/o2808BA7rioWYFzj234EaxAWwMAw19nwhqQRrFM2AccEHtGudMStNb4qlbJEKY624mpfPuYgpkl0KsajSmPxhFS49cvmejPgZr+LjNiHP5U72qsOBPnVxwknVKSurHb+5NVmxOq21BCy45o9TYlddiyeMEy9/I52VeLmVMOjRM8z2ZKcRUC6U1UqdQf5AbGdYNuCpaFaWaYJk1a0COhK4EBL0YUmOxRTlr78qavXsjPE65jIvaFJNNWmj4r+bHkGmhXFIj8axtl/pHkJjS5cb/Y6WditQsptoNxT8NXVcyKuo1jiWpLAxkKmPM8ktr032vRH66TUMWYXsfur0Q0frHpIplpn1SVzMzRkXEB1HKlxlTiVS8e6SuJrmsSFPvUzjUt84cOeoSHevmQRSCCCx9GUfU2v66DMeJrUks3A7+0OsMrLmgyn51CamEfk/Jv/mz3fgN3JPq9mY6nePGO1+1gW5Ak24EKDPOiE3o2s5X3hZDoMJQpK+AJUpku2yKD+XkkBwvgz9lwLX/IgEeO6e+Z++TmWPfyJErYD22b9+a3xsXPpfDlvXdMhTA3/+fORJnftrlqklf24ZWyRadz+CqdOgk5s6Z7FQcVqldwAHwB6VBI+7ETXtKBQXHLTRcEQUPFbE3GG98eWLeP7dRF21dz7A4GcnLY+AnZeJ56q98Nf3T3ypPEKu3KVlv4+cNC5Se8WqSNmwAwx6ZUb9T7KgY7hMGfGIZ00QfJ9w8fp1wRLZBzPCB5j3zD7SVqEDQVNbxUaJTPb9gY889rmnTa9fz10NLB2nrgrh44yr/xIdj+0ThKzASBLUn0o1xyMyGX6j81+FM7aZmv/Woar26UXqV8yYIoat15XoWXh4mo5iOkOcTjIvKGUgXaVe8gUEkFeJxMUfdCiRwCUH/X1cIHvlqTNUbZmR9uDjMVLDxxAy8dB0Ni4WBgstsHzxsx6mUrfxtAJfy7mqg31KWSZITUAdYTOA3Msgw7luDK9UiKghVjzyjEYD4BPuYZavlGYnfPVEJQHVWOorUSNcr+3qgkuZyaee9aOdcSEZPGBSQiNvD/OC70l4EbMM/rmS3PwXZ2Ez/eF2nCqu0nPlSP/vAzXvGOr/ieWt+ig/RFEwsJU/XdDrXrsIISMNW9/ZIM6KpvKgXKzWSiTSh2Nf1qjdEmT61GZALS2CFwR1HrqHni5PgbLD73eASBBSgB55jc10vP7hSkfA9NJDRX6x+rQJlXj0wavzbOgekgF0vdMlVw38T4tu4HvvB/w6XiKgTPqEuwqTm32gPlDQSJWp330XyS3OEvg29zuPcYRAR+4WpyroR3AvRhVCp/9Mr1M9Wo+t1zyyYr9Mwlomo1eAc4ktyp1ZbHYmZh2Q/oB/nmVumHCnmFjI73iWacUktyjEM7GUAXW7rEVh2nZhYSCFqWFiTaYhsYHzSWLrt96UJt9KhJiqP7yqt7loA0w1fNffI1uGHmcRo8Qtt7O1GS1OWeD9oPITHc3Bn0JMCRShZrGHFcKSkPU0i4IKwfReer6Drv1EeVDBT+8je3snkU2MjGOWyeDS6J2Ys+44cP5kDCuu4nwBVAta+uo03YLqSXBW+XHOHQO+XaAxCWQtm1YHPg++MImXGsx4GCO3AXpV8Zporjcc7nTqidgC5FibtzQp0dmllOrfLaT0h0u0X3CTyaEKfvsVL9R01uRRyPxG2CALeBSmUCwdgI0yv1dhfkPwwZsPBGzTHxaY/8Z8vsH0O5x6L0Cl4d03KlaC6h1CjSGHZjDrr0v5dReDMcbqzhx43c+5FU+ZHUbFLVngegTBtDz9BERdJylUHNkKjbmfDgAFlBSJFrHA85MY0+EyLorBEhi7TmJjH+N15H07iS3UmpK1GNSPogZxw7/MDLD2pIdZOHIUm+my/j9kF/BXgcRLicNzTCMWsn+QNMtL+y/TO+++I9B08hKJI8fwAue6Nv2H9L1pPLfAHV2pukqaWngfmLeORIgQ5R7T1p+OShnZbhVGBoRtQ6yZx/Pb8Otb1i8HohuflPb5Q0DyPxIxQvD+JPNq/iuBSGRb0YUDR3zlMEwiPD4UxLV3hFUGd/7+5XL3j8cPbJv1s5f8PQiyLZKch0AqD61tH/h7KaPNco32xYv3Rnc3UYT4OMmRf4rOou39UyX3vvQD4iz9awmkNktqa4Sk5s5FbUv/HoBaLejPnr33Ms/rUzFYdKocuIKiJAUUnIOQ61EEfAp0gShU+DGOjr+ekWTEmMnDJCYDD3kW8zQvyo/wKt5jpYBXUMQIg0UMKP1GWFcKXdchKNTzowmyklrQbEJug2ysFTqElHTsr8cDfOQ6yBxLKpT6hKjr9I4CR8izi6S+Sh4QIFce61kSz2vWC26CNqLYAc43w06cANt5RK3d9kp27WFILNWvwRxzAVt4+Ho/I+Tp7xfXHj0t+pGNNdlgdVHa2QjGSFQHJz6Q98qSNOC/XT65O/Etb+22VfHjGe5KcFMO5RJ+JLxkpu7o81ZzXA2zDdcId929ZUKWWYu2IgPVSLJbeH3+Qeuy/C0aHl7GSKHIPtB0ncwg4wk5wonp8dzjZDoZjmS5t4a+6gCZ7FeEiv8Y9/MaXoZq03d11wWuSuJZgHvdZWOv6sAbyWuo/vxG/Cgt3Hd9tY+6d8KDra61ucVaRuiFgBAmVV2blXHDySi/IGpnSdAhWpBtb5JL56So9qNCj23GQK0Cw/+/Gq4d4oTWHgiPb2s8YKBVQ6H5K4esPZ5mSlLURZKjfNpcSDrJy8RhtK52T41r/UpcOJzeZw0BSBkw7YFq1kzILRE1i4/Lr0nr9LxlT3zDf9C2DhatnN2H8/NZETWw8NLHvrbyRluMCr69wOpRRBampoghRonx5eJrvTlr1J12JJKv/fKqLj4z+WeUbdV4iFuzNAYywF1gF2h6w3bg2XEmtb9G/VlxlUIdc7oDJdkfJaFijVdarww4y7xBdVKa2yl/MSM/+zIy58fUTks0/l8q/11ZWwoagJILsvtF6Xm5DQnZUjFCSLvp4mjE0j7bKZKKX79qNcVbPGaeRyNln93Eo+HXDm3j0kEzON8mvBTTchVGpejNFLfgj/tDm8rcdMlEveMIIsaPFWIl+UHOHZ+f2CWhipes5HUnB9R/Gwprf3gizbHL/1r5HuimI3WMpH9sAQHpxuIoKK9wZ91in0/o8Jmo8kK7mLJCdUXZEnVbnSvKqnY7VGuqMrm2rSzNWfnpj/5JEl7jX/PQuT/GdFOv8wyXbxC7uHc31Xt2X7oUDGx5nWGxWxjFNUe/HAwg6xiGySF+C7dZmvcRxRISXbF7tQFd0BDuBDuA4DEsJai4F4LY0xdvDfzZcxFAJ6ehPLp9m++319E9OuaCbOeOLBgvLRawFfeHeuqh9bU1tXrWVlMLpAoFjnMrmFTauSA0R8JRfq3e/QFFqxl7Tt2JotH2/51tgOjoZ0h5Mvnkk/7x/JVpQIYoq6SCI1DAzxKaVBZridtiDyNNWmBkC7qn83m5/Kyy+lZb89WdAbGTwvR7U7gAK1Pf9rvHSsZKB0kcEq31pROapLZycjfRoR7kd9jbba3Wv3wKjOP73ynl5tiWeEgB+1koFwKwyNCRXlsZCMR2CEJN0FmIl80DY67WB1Nl4BWh7RXrcETkXtBY0AZkUAUuSGeS5d51wBBYgFFIQWtBMxDFbFNgNl/b+7T4TWvYVfktGm+b7LB8aKPeU5Qrb5l/x+adeWFLUU7v2RjK34ElmJxBV7BqOJoHSlck9FlAQm5PYtHMk+sKrxjueqeIdAFaSn4cohV4KJki6Q9a5L50k8etAIuN823CK17pXQaBCSK9mOLAxV2yK1QkluUkfUxKUuSsFB5QSiU9j/bSf370/2ocZndFlxZ6r+1SCp1Fi4J+O0k1mXUEadmShBhsO2p9VBeqEf6s7XRbVQSLay8rM+Fkf7kNy10qDudYKGZMo/KoUVQeqBrR3t7ebWWiiDap/tLPhT0prSpTnjByQnd1+Vg6sOjFQRLG1MzA7txvHpLClRMeEqcdjcmyrj5L8v8Ha4uhuakWYmlZRIc6TzOiWC9qEVODzqk3Hqzesua6Go0PDUWngKkWXcLUYxqA4OioUU2UpLthhcctVdIqowG3g9g8OljL5m+YHq8ue4cdSZaRHNhC0rKwlxCN6IxlEw6Mlq16/JJeolNhZv5+zpSZGRyz0HTqRJWl1FEtzlGRmNgOTo16hMB7e3uKmdlMoz1O6zM2C3CVfMecBm2HXI60wn2u5JuEJ6K3tED8kL+Rl2OqAqwMyBCfRlkl1bJinUHljYIwPImXlzCof6C3sk/Nv5Hq2180qtnPbRz9ZWB/wQQ4Tx4yPYKNTjLHURfVNTW99uD8lZukTpFdYwm3fX9WHislRx1c0o5FTcAfALuN6Wxtyhiqu3EUB4sRDGxbUxZucQ/LAk1qgzxUPGZtM+cWpymg9dAzrq6ivLsLqGXEhn1lU8kjIWm/N9IGecqzgvdlyLimiumFKpY93GQ19KQO2ySpJwte04vctaK7SRitKK3ruq9dtvy9+0XVKUk/vziMVFfZeUYLBQ2kYbZwnDHkdNXG3NmR4AhZA21VxxQhTWI31nH1A0FaGVHHt+oRWToC10WXKSO2dvcA8PBzgjpuxiPGr+CxDk4LFxcWa4T6jW0//LBU18tNe135OAcr6GHDmFpYYgTYhbcNOjLt23hmIWzO/FwUEAfJ/89ZOQydyQZ05+sXe8uXNR2q8czOemrrZguI5Y2Haj2LPdcYo12wvT1y3CnJfHw+VOC4jLQjfNwmqHrirRqxuQtyMuQMVKBl4r0W9i8YpV4hVZhEojGl+FHBPYdPydngtRiJEBBEYDt5ysS46039o75wAND9UdIg/FaScqy0SGNfNPCLI8O6subYSqu08lqD8GlzlKl+ULUDun/VYR+G2RxlKO6HdijXdd4ZY63rIeFLaFOziaVhYV0cCdGG+nrDMr5kd7tAzFiYFrK5Zh6iG6ESg8wpupS4FNjB5cEWHlZy3Ni6mOvQnfS7lJ14AqIhmc1pAYOLP/JYLm4CoMz94lFcl33Un5XFq5p823t7bUY+ShK/OADy4ZMcp3FKPeUeKUvLImVIdE9Oz5d0z+EBzey33EgsT+QRNaP1GloNNJAW4hdMjplDyvCK3U85Z7/nRsofRhAJhMylPGbgfKPJoDMQEINrBnRnO4b8B41FZBkM9189Zn7KVet3XDkGHCUrfAtU3cq+3KLyz4D45NRnUjr6T+HV3AWGuoYCLm780wBLr9k5TR/f3MfpB/4QST65Ff9Lp21obm1p6DyqyTMlXYIkaIWjbt3R09tjpoMgfSq5u5t7e5tBnENBTwhxtbrpZ2llbmGQGdVXBJlgoTn5WwcPjY8P7Vx4IrVhNzwWphcrePm7IDOHh8fGhzpfNAhOvWda4elnknabAXNkNZVH0qPPD2xl2aIYgu0B6BeeUSMrSdcLsLYOPB+lr8ZglaKLtiBQsPdZOfAdy+/+b6qdr/M+6yERT58i5wILKaqUmlpI+/5SoSfpCDj2v/N7/1wF8HQVnx0i4gMijgZuZ8S8F9ZuZ9meGiEYsRan13YAhC+aq/Odu1o+eN5wpxepdTOxf13CXVL7Ql2xaCJDTWGD0cgEodVfPTO8EUs27ZbrPtCK+WLtBzrd119Kvn5C+0/AkW4/2MJmaf95dZ1+4AofaJ5V0o6HiW4R6tEt1a8BKOMhElkLOmP/O+P/Bkzjikr3U0WD49TfitVfwRAVY1uAH6Yzf9sjGIKyELYqS1tyhohPEHEk+MjjLHZajfSoK56l45OF8o/l/ByDZeUiVb5/vUApW6FzJm20+4ZEymEI1BURK8iomS0GbdFLJ/4PNqDLwwKewx3vVZETVXHMTtUqE9W2J58aix82XE4JXbWtpVHJllfO/wu1gT4DA7ZXdpqfCNJ1yh5OM7/58VBS8DEeOdq2uH69p7CPjxRU9Z+KCM6cXi+z9/XaGQolsFO0/fZHA40GYz5XTB7/WEZbSmdG3Em9h7C8y8pEr7r/nhNodJP+yZnZmcm0Pg33skPfy6a3z4CSyWdZJIPQMnGNY/X3v8MLrMFUe4hcgJ1jquAUP6Uk1bPnNLyKNheqx9ycU8C9GtFfN6ynVI6EUlvtr1OzPAGquKCq7p3jJJxPO8+OkI3WHO83MOWmm6Ss9dgr2Wj2x2pRf3cV7ZATY4Njnmr7cLcrrvRgj62Z+sc8eMwh0fvZ00DjYTAEjBaMhhgQBAxeR9ISf7woOnbEF/Emx3rv029vyJloXGHpaLNQA9msnYSB1NgoKGRenIWMre1mh0EnvexzNFCZ5ZzlBPGOV3bUc9Ado14p22b35yURFIYIU6Gi9uoPxnRygmzjoH7el3Bon4Wv3n6MdalvXU6N80B6YYqUS/JlUjbjqcf/fFgoHhwcPhnhPT0f4gKDZJR1vxEU7HMvsRDaa5zp2b23t6NOSeKmSujeztU9U6XYJqt1DxZFIa9HjWIQL5fy9blUVIQRF3MEWT1xByhXo13SV8pvrPJLx/3xZvRE4ko8V4mbLikU+O7Ebm5UmZxGx5a12fU4HasDpG0amdPrgUyyTzkGPeHqjeXHzTYt/UYhDwKv1bS+gpc5Iju7UWz5PNj+OUjKYAyO/oF+QE/OeqX+iV/b3Fk4KhV/xfPaoQ6boyNQpC+cxD1MIgYEMmGVf0dPmIp86o6Iv1NWoi+fsjLRw8NDI0UkR06j41NTZSrZnlBmcSgWLedqTsDYkXeYbUFue8Ns13ujMju2Oh2QiRQ9oz04KOWHvaOlucXM0TO3XyqUb8udq2X8+9XzSkXhsTQGuqkykajU8mAgSmYK2SS6WYaZDIyW95V2XjxVwkMyYliYVlGhXIew8gzlmoeIO0q7vIO+gc8IaO38CsgDVqtvxVJJRNN46iWr6Ed2pSjHjMWOv76s/iXQH/nZgQ6pak++6BeeitGS3bhnPlxW95IkWA9Iv4ZPtsafPXXzRrlSF9kahmyPm8Lt2yN6NA93XIaGNHwSpJgMxtuJx0Hf5MgkMEhuCFFv4L2SeEnsXX/NCi/2jNruzfRletn8XtLPDBrtXHm7bJ3ikS581ZhSry7Uvw62jXD5Ij6+7ce8NHJFVTPQNDpNw8r+agqIyBWwRZyQr86ufLuB3bB2uotWaDukNWEwKNMlZI899chQV9fQoCf5IhEzvmws/MSHF00Xe3A6gVja9ktBTnkqqbULbxTemxoqRYmonEqMaTHuc/P33X/cj6FUMgi+sR0SE4b0WnPHtKhEhJkiOLGMzMwsninhjezYIeciKUjcF+qpKdtKV0uvuLIls0sWilWAgBDBVXBzj0HHqGLX5BTez/9uWv689Pxj/9yLIirpSFzVSbpLIpVS0RqUogne3+LWaFNvf14vsigJGfYBBAZBACCUABoAkfg6Yc4rAgUV8wVqFFCtptq4Rt7nFyw7tYv5UM3PUI1t3OMSKYCBGkU1tstGtY0/B2dUUEEFFXRjkuUyDdQooBrbHW7L1yMPz0NUxaZ8Q6u1Rmt1D/ss0jgYHQCLdVbFVqu1hj22uHO3nlrVTBNarTXs8WVqr71xjkog1qxVWq01Wsse69UqrdYa9thoZ3Wc6ntqVPXHtIcEs/bVoH1rvzpOxcYFYP5pxJzmDBe5VP+lBnYa+utV8GuCXZ7lc/6ot0PKNXgs6LemsRZkfmiyVKihll3sYZ8d3K65O+W4+PVxq1Xmdf9sTFA6Fnq+mZVk6upAyLnL/dSwotVao7W6h32fmG9kiVY315REen16m1pVQo5Waw173HFUW2arblbFonxDq7WGPe7mrvgSuiVS41Pv7dlugv7HPChxp+D4YxVvodLL22puzVS/tqtxy79phwJzfnZ7uJadkZ/TPb6GkvOxZ+7YL92ucYiCfuX49e5QQwZgAfylaxeUtNuSLyCI3Y3kb2MRfgh6XiVWTIfw660Q3oSm3Fap+QLClbWhptxWx+atAbGTPtn3KCQnHbI9PL7qd/juM7V8YA5Fvcqw7eDQNWwT37EB8DuM3/xquFF0X0bm7+i2uLDtFv4GrSwv1lXZRH9amRUgmdJO4OgadT0nIt/JyrklRcd5uTo2at3nYylXR6/tDPAaz7AjEiF89i21mKP1CMf+5EaF4NJfDJU3a4cKQq25sRBmzeKVEC/YZIQJsj62WCAIC3q38v7JWAi26938XDwjwd4vlZyOg4rMSDt26c+RD63crWarXm+spPFad/XK/3KhGnSff1cPa5vOJIDeNnUfbA3RMkWeZPTRyI47yb0VG3J7jhZfzPotfv09RpO7HVpzeCj199Y1CzhCy3DE1X0NcWCGbHO2yS5Aj//t6HiPTNZ4crLZlsC29ibxjrg+7/u441hQeSRypRMQ8HW+VOPJr2vDerHG8Xdda/UwoPFteetSH8nydCfdGc3HAbBjSAftQl+BMWAm52sB7EfYdTg0/w//3JkEGaH3A+814iKSl3SLXE/+P/lmIcqKF7YUXkPZRDVTX6XO0zbS9fRrjP8xm1kC1hH2ICfOaeVMcNZyHuY8yznD7eBe5f7M28Tn8Q18Lz/L7+P/K/he2C9cLtwuPCicE14UfilaJgbElyUdkiHJB5IfpAVZ9iVK3k7St2RDspvyDaAEfB48B14Gb4B/QW0KgWKfMqJsVI6qkPVX1f9pXtY+rPPo9ukP698yPG8M+V+lOhOqvdd0wPSZ2Wfebb5g/ttitWy33IA1cC18HP7Wut2WtmN6zzjGnUHnD65H3XXu/4o2FGuL3yxNl33iWezFenf5Mr7v/Q8EygMfBr4P3ArSgoqgKxgLNgfHg3cFdwSPBb8IoUOq0IrQ5bAzfE8kF+VG76t4seKzmD7WG9sXx8Un4i8l1In+xIlkRfLjymcrv6rSVJVUVVV9UR2ovjtlTr2d+ietSD+W/iYjyupzshpbza+12FpH7Vjtx3W6uqq6/9WL6++qP99ga3ik4YPGNU3OJmdztMXSSm4Ttn3TfqiD2rERkQtZOtd33Ztfkn+f8z2u+6XuL3su9xncDfU900/vH+zf1n9hwDqwjbfBX4OuwenBS0NLhk3D10ceHh0aY439b3xmQjTx3sS3E/9N0iYVk+7JxOSnUzunXdOJ6fbpfldctahq0e8zhBnxDDwTmmlYrJ9VzL43++2S55b2L12+dPvSg0vnljUuL1oBr7i24q871O+4sDKyiuewqh8BoJkz1X9m/tsUeX8BgNUBTi+gr+sCAKzaxKEXRtZbctY8g/H176YN8cfpWcRwpWYuZePzr2f5vn4jSPQ6KJ+v/ntLGzKifb4Q9C0BM32QtNVbxYpbzk24fPrzFL6UgWL7x0Ii8ycts6i5bzXCwlvphs3X5ysy6zRn+F1yb0/TAqiYS1j/+vAP1A9fHC++Aco7v+XYf+y8bfxNvWN6WHRWdR+CgKq3Co+f1ETnvgXN8q+Xipr+sDXRbP4bq1liP956gSMqify/WzY3ShZkOAuv3u+maPxXXOCM6BXvmNDXwXqjf6yEKCUSBXOb2NbzRzy3jruaxgC5dLEH/1CLpFNpMCnvtOxLb0yI5MJMMiGqYuGPa/Znrqpm9p8426Y0iOC7ByU7w0tBQL/fEsNnHhx4/WmGMdqjWN8qhfiHW8p42O37KHL+CqCqMZ95oCiSRFdTJLg6IsGt/Nen6O5WP8YWnBUlzXj0OjsmJsBfgiigAv2w3fO3J0ho/OpDJlSXWb/4pHRz0g5aSsEohwYI/f788ET5XgK3+v8Hrgk+j9GixRM8zarXe/aCOMSra766/me3FHIKr8LOxkJ7Utm6beb+joKGs1hlkkLx+h8dnG2nOrPRdglEWC4qMm5Vb3blWDUMFmdM725hmwlkizV/sQ70KPb5hVBEarU81SIVf37RABJfpAbsmBzRBeiRUF1d86sGRZ9oy0xOIQq8clb8rq5SpSOZdFFyAJu9s3FSKWLufzlHu4dM+8pXZvDgjZuH3GY+GNgYDj5Mdo4IeH6JBSF3HwcfPCZN1MHXo9feDJgxjos3x522DCoAx8CCqJkRMjM9/zS1e0oCCotWFpYLbk3rjuTUQ9zepxYOdNAB6TMMQVS4cbTIOZTfjHjmXxaQDEexnHuyLWAZPFK1Rql365kdv+sJlZEYTpi4U3QfbbaCeWmpZ2ZKNYVE+gV/qzhWN/iSPQ6ZiTshzciDgAyIkfyEAhI6EPXyBoRV78/8yuhACwKSGKaaZzdQW0Ujb39JZhMSxQ5lTkjJzrpphlTkP78BJVsimbtz/ufhgGkHndxI2Q6QfJDRrzyfZlwZ3k8oFiHEjuoLx3pUCbpEMmTMZzgvACyN8RCUFytmh/rwq2jA5ZaAn7B3e7FQ3yOatuvUVRTFVyA/L144n+p3AwiOEj++w2J4fggblRTdfDix60vBtqL6+j/UDZpTFYi7vTbtSrWhnKSW9Elg4xoNqyDRXEciyZI375F8aSQAWwtIubyn81KtEzsXYSZyzp3bvZvdY9IJjFr+9cNeBZKRpbdJR/tmoBeNh42MaeGU75q0zWr21qsHCunceX+pgDQe3Bz1TBgtxP9xcHheZqpjaVryoHFiKSGAwoWlMQP4W6vsH3vfQIKSJ7RQWCTAdNfreF2AgoCW0u4/7F2gAiYiMAFW7sakE23ki7/qS5Zu/zT3p6KwF9I0URenc29GF5xnR26YxEMJxx9cGngLEU1ZxtORMH5wYWVjKeS9hv+Px8Pun/YWkiL5zj9C4fDc//EQNjeDMqIXkqNPT9ClLJ8e/RAxxhMsnZsaIJBAoY0hMK6zHx8W6HT32a8ggGdZZKw0rAAxgCmglQ0YwOnooVNuehgmwGiwdQvAeY54+ZOZ97PRaS8IKW3OC8jbNyijzhFAzdG0psHg6kLyzjIgRaaGoGrubTfl49wTVBHlMvChYvU/Ycz73w9z/+jxsLfEZnPEbhl1kgCqnoscR6yNkrmPYna984rLu57VSSrduSFH916UGua1rzmd0RFeh4/0wn6f4SI9F1IpoeLme0kcyuwPqcxkX7hS0mvo9hsxNKkHlhU8gZ4BD2a6lcZ225bYhvMGR/Ipd8Pf5UcQEIEoMAgJZE5k09VViIautThi0lvLAQeOb1csEvjWzcK+zQlmZkQiMo4gP5mxUQseBMLL9HcHKvIrWtzJqwlbuZwbC9rFMzydab7OcYVF5PTdVUa909SGrrkuedI+JRFQvNezxF58mvoZp+az7r74XSpiAeWeZ+mKJMIOuhlYCIwLEbV16JaeX2w++bOu3k1Z8tY1SxuBUIzjOBTfsmzT7LojkrBGeyjQ/SgHE1cIi2uFG2fmL5uVYDLHrpSJUUTaX2kvZ8zocf71lYpjlawMhjL9PLHAmTAvcbbxD8F/uh+iUIanbGRYgVQCpZwyChRqAEMoR1jLc/d+4+ZG/FeQ6A8HSGXbPhvtvhzLIJxxLL5fSFjwZbT6ZhNF0UBXFTCYvcLu901O438D0mr0A8Vsi1AjJMmTXOdrh8oUa9FWHHv0Qp/IWCDo85F7CZeWYNFT9m31A2ZbGAt/nIBbGE4UG3LfCtjwlbroC1czh+/zvaUq1/Ph1AKDhoHpfcale6Te1+iLHxgma9R8Y/m7CYJBwfaDNIgt0U7jCHmtwf3+35+ZhOKdorO95iGVzfYslIOE2+GFFsb7LpTdQUCTBXOHU9bNETQKgb0EyV6rIh7h9dINA+xjr0e7zCyl60rEFtkWbOE9OChj+Hmcd953kgA+rdq83TMjkZJ1Haasv2DbftLN+NLcayHnKxKodvIa+fjDxLW41mAWMlpWwyAI7djMiS2SlCCIaGKaAgaMZ6XMcwUsnwbH8Y/yn047ryUPoUu9ZLu+o2eCFTTZUSAURqK6J7+SALWaORZbmZTBIyK3Xd1aSrIUmDoXjXFvxUDXNJitaVNV2fhIMeC2jNeSGYaOxtO0zh/pp+0ZWdq/P6sevXkX4vddLQMwwEt3VM04dOyW9IOUKjLg+rX1dHr6smpmwY1llWm0R83/cX8REhshEkk+SOyLt5Q9DXhLK8Z4yE1KJvTYzuXaOgxl9se6ufHx0Ri3pt81tGihWrJ82uPXcbHOfnrK+tVPflHvja8ivraemTHQw+p+KQOkWK6fhdr+77VpyuNA4/67jlOoQJKPUGXsbkW8u7wU1zbwnwNzgn4Rl8upa+oR9/s8InLiM0yBuVq7jdCIgDhkrXH0nr4zY45Q+guj4piWmOPcWgIwdQqyEXrcDK4j/qG12gv9czaLdWwemLE6IgSJH1m7GnZo+TytcQoYP7zzZk9favrZeVn+0ca90zBi7m8lJQBTJ+HQBN+rCsnKAR+SC3OfRwAXY+tFjYwdkM3RTCYmXOW+i2PxDRhYbTljVtSC4yKyF3kAwnL+RDqO7+mm7QUmsW/WmAk5cl7fglP8jQUS0YB0bdZ77kxKhpd0q1zYM+vykIvY5G1ZlmTBmmrZbPt4er7LyYpKYhbXS3g5dCqBYOriAwmW2x6QSdtuWWYH9q5XmxHgzXWhYZ84xi79QrPU6aP04iSDHjVKa/NHdItq4GfLiFSEaePRNx5JFShSOr4OhjNVeUb3RpY8V/8XkGbh859JAqIUdPw4okqOugXn5x9cBJ6/OT+CYqdfbl8pBoXEY3+YNDlOL4gpxbXilrHjJWQaJKoojP0Bm9kWKR7lvc4npp5dgM2iuqoD0VjnuD3kQ9pdvkKD0u3ES3ArJu8l+EMiLXl++uN1aniNr1tTW5tDkgC2mSrgV1/h0uA6J1iHWAYTtjbnTdcuq+xytNF88xWEc0xf4ovHwmrh2Gb+rGyebHXYINLwIrfuDjQZaXTOy/v98UrRkCVvvEmofBPMpXWsvLMksxM1WkYGe+kfqGG0OzP97vcpyZzFgWQx/Xicmq7cukoSeIHgw5FvpME2JxMju+L8xwNuxLJReyHEPcDyOVVKd+IHx/CJWf3XX3xu02Lgx+AmOWTre38+/xRahgL1fwiz9+YZ00/6k/n6JPAAfjvmTxFx56x9XMwXnv8FW3ISufsMXK9V0G78YjIN7Mbo4vrm5vYmyzr2ExdLkwNAXEzSlXdX3u7kXK7sAh8THdmtO8Lw2UM8NyOyu43oQS+Uqz//U/k/Mndmp3F+anb91BBuaofHHZnGwTCYXWXmYWEkehiukxabI+R+ha0My5tlZc3J1eso3YMiK0XJ2L75rovF1siSNlCPOg5m/u6Cd12X2fA9jJhCWsqm5v2hZTqr7UUuCAXgLaHjwp+pBmuTT7PYZej4W6eEzb0qJtSHp5Xbl+zr71SfrJN9FTwQQF+CsqMgDH/hbd6ubSH/hKKPN1xzxeyXp3Irw7QelsCztS6PlJCFmffnBh78i72dcZFoIUO2yfujB2hIOzHzb8emCqbVB3NVYm5EDy2sqVI2+14qsJbqdFytxw4/LJYSDAEt5xCVveMCUeesRFdzOzjOUnCAD+bgf5OZ98PnjH8xNPx82Ou4yY5le0Fr/pEFvzo3ztYtk7zObcSR7/h/EzBzEhah1fmfnRghPTyz8SYJ2HHvh44VcmAq6V40UTPXrEB0t7SNOWf2577CnBJPprNtB/fBX52RxzNVoOAQ9wJ5P6R7vmIwGOWl3cu84/iJWENdc6eJizP/eY1BaCJQZdz1rl9g0MiELEJK/0DAwfjm9I3dDddugkiZpzeQsyYm45Lka69l738KVBojwsIDcGFC+HKXXMDC6udqQcg11x/dGUMQjOEkvpLWEasOjAmkZ2fDg0AVBHmWoWck52vWsaPtE82gQiTe5reZIRN+dYa3ZXtkyHtLhALTgsNfeX6huzYJFCwXEVW9NWh9BnculA+F7Kp850Y1Fy2ZaZtnIJIP4kKWSrWjAtiiFV1M8cauZHcZzS4WOOdVh9xIW1j/5qItfQlq3fNc+/6Gdoj44CdHkXFVz34WDZCo6mdjY9tcW/nEutd5ZX/mmmowp5l6itlc5Tt4U7D3m9l1J7BDhwrnvnIufrR0+7a2BAKbEsFGkWYzLFWCo5p/9wjD4eStRTyYH+KQnYikiCyZscnyMIzi1jZm2OV0snW2GVfkbN/SLden1xpkgHnJAUpgv62Aseh6Pk/m3/VHbRnt7alqea6jCxRZs1JBz1DbNNQNDg+5usFEDsTq3kauCIJkea427CqINkB9yzAKAyxs/GNeMIwDU3cv2XthD+dCQc3vdMJM3FNXQasIjmGVKMY/cvYALlpQ7GaxCHpEpaGlwbzUc97C4xkPBwKPHdIRT2JltFAygkGrvMpqIyOdbJNEpeIQtQ1Wa1lNqnB5/BUkkHtMKhtLK3470SpYpFSuN2jaCkcexgfoA4PX89onpKFk00fEG6BZ4SeKHcrIk9VyHh+eXQh4qFLZMte1MD6Gd9ki+9EXJex/zvjj7U/fhJ+/wSyy++WDiSLRRrr38GyUMW2+4VhN1CNNCQ23ieTuqlaO9hCzunozSS5+TTKD9qL+zVEcjWGXUw/3UBTpuT3WAOa7qt+qlBvQJkYJLo1iyR5eK0Bp43O+II/V2RoMiHDpBhzV//+iA6uDd54pFv/eUBlE4scPPtqlZ9A735qfc/QcqRI8xZQIa41RyrtW2lZ47SZf7fps7wIH6+YWSQS/WefiautZFZ/eBea+h04py5OPMAHkHZHA5pm4nfZ7RoFjKsRXd1NIJCr9/NSFMGSK7XemR/Of7Ys8r1UJ2fHj/sBOtjN2SInW+YNffM/LiuKWobtl4ZWr0JoXE+GJ5q2YwFzWAozoGGdw8FtShbkW1BFsy0klnuqQ2rz29twIgc6odXUBJSlKDMaHTjo9+egr/pVld4zKNlCC153LX5yxfUqGzbu/kASZuliskGayywIda1VjJpQFVIZ241RSBBon0ZZ/EHA4AMf2R7gxCa0URdVUKp/mQb9POHr/rIm+5Pnbh5MlkU2FUNjH5838BqndWSIJkqLUMOv1B5MucY8j4Mf/sY4w1pS2caNiiXMy4wlZL+bzdVazXdvygPke4h33NEitsFiG4xIghW8zI0xYG1/bSykg1tIaCxRpKyxcVcFM/9SLChSsB3tniuZkc26YI7OsYW69kRxkbs4DuQMdVdQxhTa8D9PRryaBoleFGR8wcJ6hQ2EUfJoByTGY/9HxeDTKDPRZYErddanwtmtEgH5bmZ4JQkYQnNPbVsO2tbGfacDgFKbvDJjt080Ts7tWjcP1R9FIMJgQiigvSzbg6KE//RUaMEutjg+SzWwjGf6vlVDx0xd+SXVmg7XrtYuscM8prcRf5UC6EEPAwNkcNf7vl54nHMe0cm+pwUJK9Q87s5dsbauz/xR7iAgJJDwAz/gh/EMlSpAFdYIfF624Kyx4/UFs2+yOr/Uul0HQ36tYJEU5/UHezT6+Um8n6B5amhxggvGUogVVfmHLpOFwerXDvW6xp1RKndUy6l27ax+gxjoNAdz5TiagtTFqrAv1XLlJ0EeK4Si3kbGEsGBOq32C+nqPlisT4cOJylglyjV6JYkbDqJvUmXBufaFBIgXUxQJk2LzMPbZ2qb/g08/ZaSoqp3Oz9nhJ4aa3VHuc8Ps2u/f11+965kyWcuIzLNf583OuWsElJH5lsWeIoK8smLIBu+PGzTCmHAxnic2xxJICT6pbUbdr+8zksbkmmJIzcwfH9W/XEMhCWovVsBcWNrAZVQ/ZSsm7Ac+TN6YVnYZXtbYfKhOl9fQEw1JUfWJxAk0Kxtu4G9NGiisdfc3KjB3mgC8y4NWWwMK7YtVvBWxT+AZRqIxtDmWLXQLg0Nye6qmm8VvevGNvqVKYf/73RSEfaPVHyx9PQmWWap+F9OXEvLI0l6A72b8oyRyBPVrNwVJ0pPZOdtf/PRNvz+CSiUccJz82eRBNPQosVcLhNbKNZM47jH1UO/LlJP6FMs+SqcRnGK1OmMPkm69AyylhOdBVxEQCpmxYCudKu/yLA4RRNL4e3qMbyBrRVsxQfwPE7tcvj/dVXTdgIxn3iXkvcT8zX6OdkG3FE24F2XkyVSfWmWa19OYc1iYS2oc9zbTiR501T5o9EeNxt0z3nbj5rwRcT793lH7em+RmCm/zpkd4JThO0yEK72+CgyLUj1uzelwRPIXjlsJ8fJjCLnDITfTZ13tXkw7UePmJjgJYaVa539GeQ8hvzX0GeRHxo9DFjmcJF+A/i+0FQBeQyhxyTo6MLP9UrDtFw9GZblqs93w7OoyuhfAfLscsOpjpyyq5W180DFAEFUWenXO0AdGDEAS5GwrWAeOjAoIv6AfCMbYvrmzE1rxxCl+yJz1j0J4Kb3yy+/PwpCInyaf/7cmxWjPg37knrxgnCfAfC/Okrque3eQTiNsTR7+o4Mmccz6zZ1dX5jIdy0dQeAJlv4/eM4nYgjsvUGxHzMMcKogyZNti9tpJjiBFh/rS6jge5hD/zkorQw+90f/X1q24zfa/dE68v+k4zkaA/ODNVZS4A5y1fpxngAxvRTs2HXd5Kuzsytebqv7/b5ExLmAPXz60+/J4s9bBGEr+FFgZpD6PmLWnJ/ZqN2s120IT4k8WLdTY2irl5vQ+wG0Sta0qCl4dRWFF+rUizynDxj6i5Omhj3bn+H5yVXfTiENJfDfEQqLcp3vX2c4XumH9329OpKFjm8Cx+9wHGvE0Z1p3B0tsR0bPqxiNMsLbPAW1ZKE7VT175CY+v/bSaythR0jWMQYnX3PS9SKjDjtdVK1H/lf1DP7OCjssk9SsPynVet+p62vlzEEB56llHB2+8eyWN5aRC4tdJ2CVODUjVwuW6fI324FXtgZGTncu1dcFfMFNuCLw+qHC7OpLew9H4qbk/8n+8hsGMrZsdmV00zlT73zu+TxmPCDvI+l3ftIhz/KIgyKlfdVPl35KPAjfOrHn4DMjjharqCAFbCuVnhweS8xK9OvHQi939xk2xLdQriQcV5a7ZKt+XZJmT1SvpegTcPZfHdKpjL9w4RSMibMsxBGJJIp1nZVVPfec6qFG7hUWCh7NzLLJXdw+ggDgH7h3fD/xYl7RpclL4ldvmNbXKMRed8qfXKs2sxuCcSHOvEAZQvZYGKZ+UEiCnxU2IYkT505CUWhf3ZOxCxRyJVDJl5QuWoxeFqkc9NaJ7dm/MYeld5hDkUqFctEeEFuK75snikyeMte3vJ73G5UjmXgSOEsYO5d5KESpPDtUhtMmB8LLYk6CsDyUb6uUT67ne8/jruSl3l0cyRQCsaU3umfF50ws3h08+OfL/GVq4dHuXUY9TheFWJrRz4UZ/PdvnvnDK6mGLbekDqbFplq+iDlqAZTwNxZxtvX8Zj13COWCdMYyTxfSuZzxFL0o/TCsVSrYG0dF6Q2imVy6H8L0KgRSWjZRfyFr6k1I+ohqS4N94icqZLV6UtdlehUo3ivNpupFnTBkJaE/02vNqRtxSPnO7cEIPPKp0LydSJ6WMP2mPYLhiIZ/q/Pnga3CAvPijTWP04SrCiuEHf2U3J/sD86TrPSbs8lce6voWEvSNdYSjzH4YJ/8QMXSihyvc0flfwqIfm+Yy5Dy0mkiHLP/+G954ZWBJnYFNC6lN0nktovbu5kOgwNtXJKYdBt7mxp42WNiPcIArBN1/CiogwR97fd6lDpf96zNOwrvx/mdue+uRf2qnSNpcap+d0ScfHfXVjaEa8wlfQGVukM+x4is5Enxv5wTiwymrnbp/oJDvIxyP62przShfa9Yf+KA3nw5KdlQ4wa6h89rFo4YNH0VHnj5eK1ctnK8JnIiCrErDxNtHwhZFzuvwxaTGuZzC3TdlxPC173Q7NH+qUl+mH/ufep4p6qWVWIoHnri0WKksohKB6saAYTLpeOlmimmG4hfrc7O5K1OthgHwCbrtR9VecBOadojvLhQ2vks8RMxHCcwGARmjQXe1e1zApYHTJYmGEBc8b6yNjN1DhL0HeGeglrlh66ksDQxnJPAin7ZihT2tjCwYwhjVpp6kFSyWcvu4f8lYfEaiCdgFnNsOCPmc9Xsequompax5iI5pLTHrbOMJFeXbids3RgF86KF4FlslcAbBrJQysJBQbRuVF+I5K00Xjc/DfHC4IkSyBYxLu+7gxlbcNC6LGOUCVsTtGYVTl7NXndwY5SFpX+CRTAAw9cBE4f1x7XPh73B3SwyLFbQnomMeqLmSdaZ2Kz6LiGNwnJU7u4Bm2u3ghOuHi+QLDy7TLHVsAq8nGzqht082JcxvYrKp1piN0VIxKXvCjScEA8PYdhKS7joEQL+0yi5a3wGoGjPAw/rnsDYUZclGMDODjLbuOLFdvZF1o21YKx+dHlpqOWvmAnIGcUb6uT1LkwHHZiS+Zh9oMRg3a6WZb0VoKPcELMjURVYcv1S5+BtV6jmablpVv0KuSdi+pIZ6CzU9N2Ktnd4c1w6Iy4ZNmYDVPgNnNrEe5ZLQWdiBwUDw0HCo8tC3DNrQTOGJu3dZuztxueTJRRNdOw4eNyubAOtmJN0p0FrQZoSxHFY7zid3rGq8dNlYcdm715aqOc41hAS8hQGn/ujYNxy8mHaJSULOBsFrpQWxCgH3AIXOaqdhjEUdL6p9ygbx4nyb1xda9/RQMSu3SWCAldO/ZtT7WtNs83moJMiW/tqPEkfQQsQCDBGnDUHRB+1oAK6XKxGc3zk4ta4MUyUcUn8HnTdKGKs7zqBH4OR2FfTBWrK6w4e+UvkJg7L5YWTATJcZU3V7GlYAXVl6KVmNSPjMdj1amJNLI+xdM4+j2YPI+KbkT/GIfhloL7rUjEGwxq/1RGn49nLgN6zIn1gwj+SXk94/XFcTJjtQk/B5RPvfYlasL9t0A2/PDSrJRxWIZXVfbfP4Vp5ldX5PEX3WTBlcn8F+Z8CfMh4nK2oBbQUv7eUBfY78HQ5IhrzTtRdaAID5e9RWB5pYunOUQkSYbpi5auFe/9AdEFmO54F45b8mipxlRdZLuYsBDRAWvrosK2WhY5dIBqr50L3RFep9PIJJjP3n8mSexs8hZBZisOVKOTPodDifgpUub6gmhqJHGIRF1Velv2WAzBodHpxfH2/eh7PZd+0GWLHI10NsQ1oEgoV5kgZNdxyP9ce0+6h5H3VaVyOR3v/wwavgoSif594/DTlwjgHyUu6aysyU9OTY3mGxs9WnWfegE/7LXfeNwqP2mnYz3ifUriAIAEDjjtUYf90F+SLczA/L51TVv6GzRlsueKl4xvPcyOpoQIZjjyDkpygjokQ25kIrqUzaY29aPNKLtwI8FpGiDcMg2SttxAdFC11GZ9+yCra4pD6EZeX8YgXbUt+6kXEXZt+b/fef3TYYQbjVqT46ELWxK5ChXemuxqLcRm+O31ln/puUpWB6aq4/3+iCDbWIvNA8ncuT9EaDmu2rr/f/Plgi1RfKB05dQm9Lj1tmp5YScXD8dFpshzk0YDFJ12dhp1kHo6T/uFGY7E/8W5nutO9dE+vhJrrdncPk/ZrHu0qKpjQSgiFhSPV/HKXsrtIwjyFGPY+V00PB4T1WXKbVUDLn7udjkLXetrp+AAuq6OxGwffgRxa9vV5Mixxn4dp70h5r4ukCgPJ9Z0B/8OZ6qi4MRTVEGuowkFEQO8LCmvPbBwFuA6zCZ7sq+JbT2DAdv1BnHdth/LDkBVptpDSceZpsL93nSDxpE4goyix028sorMaq+FVgCb9IPOu4/IY/qiEY1B5SooHtcFxCkv8wpOVQweSp/9JejYYJaoxSO31kPAtjDHODkluGxH8cHFDQ89rnTSAAzYp7tc4NTBjp/ppdutO3Cpr5zklou7jMz8TV8m+97BhhUlU2MTSpR0XeL82psHmF/dsPqX/PR6s7Bq1Kb5X7hVZGufozwzvBhOhvNa6x8erGvjaeQ7bhAhHr8BBhvMtaDgvTKqD1IKW/o78jfXCBzLKrCjW5AmyaU9zJSkzuFVqwRzE7BRzjPbly+3Zia/dOpPnFE3smWWphD/4cufu/6i2oL5pxy8q/p/j8sXObYpx2FNt+dMaDSfS/SjBZ8XH9npliReQr6Qze96lvzkdv+qAie30ydFej6fAl/2KDAhryMewlpwSAOEf93ubflD8oc9kiCUhYGnR5yEfIup1jxp4+EP7sBjsaNztw6rrnFAix80QTG9KOuX8ccQgC39LQkUYnNWy6e0Qrm8XCM264TqVpCESYzP86ntwMDkDO/qhUjiwLu2ePd2B/JzPSWzjmQlOCY11aAWQCyLGvRx/uNXv/yUOkyxZt7fyxlZwbAVcZjvHXiJ75c76wZXQ2G/CxNwmB35ZkdEhE4XRN69BN/MdMFq1GrE3Y68rVMUzXA0Rd3cQbmKqMcUmArLBl31VoXt+7uFZM1jF2+mFUtnIc4+Bo7MEOUs26zTC7B47uNAG6x2FzQ7jDgM9/aKgrRrxDl9cy9JY89FH/hUT420lwevuB4yWhK1YchhL3HSSbzaKYtntyik8rxRLR0fsNj/Nay9Mk1uGOAVFrbRP+Gxc2OFJOWSHrZuffgVvS7nMjvAx3DgeoVZ/uNSSt3SVjTxJVNvp1QOu7Hv4osX4SkO+ib8OfDyaHejuANPD/rdJAvF3XcrkbOpqGgt9/iE76fTXaHLYh9XxKaqWsg7YOQmfYPCkG0t0o9vw6WSUXpkMR8Zsqg00y+KJDHfJMtS8T65vKpAIxcYDXKM7HTjc1zLAr+ik1/DsG13bI4PBI2EJqbTJcXjizMQeLIXRJmPJ8H5eXT7SZnEsMrMisE1KPTMtaMikFUve0jTnKiQOYvtn58TpaPit0b52rL2wwnzJk1QrGMiQbg1DkyTveHl541CKkusOEyo/HDSEivRN880SCi24DsV+NaYx5BLbEjCiX606idwsAgW9StMsCXLDQwG6+pofFiXHRS61pzKs8qYx5TDJHxn4jXiEO/iqIoEJmQNP5hrtBIaOHRLlraOM0p9mWcokR0Iutacj+yYxTx2MN9df1xWpaTe7KiKxjljl5yveW3vZVGAbYBndz1VNUVvGAk31ynfJ+3waqNFBIjSUlBGp7OTrXFQ1SWbFZT2VMfZEHgnE4XCgW5RkBv3SGQMgLHZ7/ZthmNNHy5PKd1WwtTDkIJL+4D9HRpOPgp0LgKfWaiMgoxh+IUrXKIRs9TkrUVPUTp7H3jcWDcUbKM/4AZdYx76208Y+n0m7mdJLnl1eI8Bt7gvFZP3tLO3KQJcBNIOnQHw8T/5eizkOC7AdgcHPUqnOP8lldvlGdzVZ78866i74k/M6n5rxWx4wRQqMW42G89W8Hyfr+4oiWWLj1ejylhcChmKyWkOSwlE7XxZRi727UaZ4zHiheoOI+2gHxCY2rKEe7PnL7bM1ZSXTv7Sv7UDlV/sKZ/tyUF3qKrYJ0s6OITrcepC8vEJw17TyYQcdRspJGZLCZpJCiOJLKslw5tedzAiUNip9346YbsFtJdUVZlntzjc3+eEzV7kVemiq1aBj4utctkK1GB58wS+LQmV80eFXCMo6CvwatQcIzlgUOlKMy2UW3y/AHLtQ7Qh55IvbIjTdonXQAoC/OD0/ubsSrQMPDP19BFXWXjjy3jIE0xSnFwjjgEppZUMEvZC8fxJZHzCH1ps2DjegYBBDhuJwWCcdTbKbU4yjRDpQqfw5e8NDeEhY0FWFOwfPxVX5399tZBfngrRN2wIs2GBQ6cFtZaRVZGCEiWuCESlnaUL6ohPHuX6vGv9XUFmWnqqTGjlvItFbY3V/Nw8qh984BJvVmiJY8nfcpA7HAaEDl2yMjfuOIamWnEIMGlsdiVJ7FoTgszEdGty1opmGF6Ubq+eCioaa2yH3uuiy8WrH7gEfZM0bn63igfz8e6x2q+F54eNbCqRYRuyHXdIiptQxpJxxQJte2jGyUpkKd40kV9mECBjJG0q18ZI4x48sLSB2LgaBNna4Ene9sZkus1CiZIkMnj1/3YVgWVky0vRMWNonSx1Zaph8I+3C1Uz/XF2Pt/76Gg/zkD/2qsghXVt6dbreTuIniS1YlGe6AMT23TTu7BjImUodv9Cvs+QcIBqTcEkScF/yZm7D8USyp70XbNSrziadUaErpmwaIqq6YZR+fuCSBiEYJP2nQFl6r1BaopNjkhoco1zwk5mPj3sfHTm/ZPl4E6R+na9NnMkJCF1XS8nSrSn2aEdtBuRMDsq35AWLdmy1Ayc1p/m1ideUE6eZ94DyBKDu6kisSScajgU42GiWtmR5sQ4PYOp7wi/Jnt2T2HkcKBhKzyX4ko//ckvYg5UekNlJAPgWSQHL6bxnw8mz3JkUHR6eQGWZHZudLD42FErJ/ZkcsuBJUGuzHT4EgOwoJ7NlMUyWAl3XUw4a4bnTo7RgigW94sYx8uKwGKVTso8A/sYyQo2kneGpScDmaE4p++n2IYO154eC2X2oLVDSKW09hkRJkEHjxJLjEi7aocGkmT4cgAssY1Uai2MsIKsKTJWufeje2fsX387KEh1z36gZDjNJac7XvZx4PVDg/NZQqE/MXBRq0o4AxS51eFyJSp3U3SYHa3q2VAqIU2hPSeR050G2F6v6vIRjIDRU2zxQN1yXX6bs0G/YUrrWL5FsSHGSotHy+WreC2X1qw2rfotaqLUhbsjVvUPGYbFi1km5XUsBUd4gkHDjIR622JKnfNuH56e+rByutB+nH9zZQr/l2G7rpfuOMPr2gffDC7Pza7E2TxKn94bRZtSKPTC/i0G5u6mqpEuF+Os8UhjKJwIus+gYUqiKH6oyrYIvAjvaYRrNcMeHE9Dn7TtHbK4w5gP9oLpZhhatJPMg9sHKAyWs2U2TBCuNVMnK3Lr7BWG1MBynVT8qx9NI0vV2EU3ObCF3D+jgccYcLDST02mU19g6VVk9DZ2WHktMeaus2+vhVgWTBa9Ffx7tWhy3jeo9kvZgnvEnxhPp4XSGMPL5/1uYFka3cDF4FJlNbAMHV2xTMMwnXzH8OWlXbhaPsqZLTGaoQ4wPjUaTPy76WYqnU5R2SZ39Y1u/rMu8HJ5MTFP1M2BWC0E4MTH9M5Kw8/AgFBXbxYJu0GWHhiWqyvAW3zM8b+9d+mfwjy3V+0jeF02bHabcjS5ELkimYcxxSqXzuOAv1UDJIXv+OwOC2HxZDmfGlYPOYaBTOhdURyrtZzGike5lhwNP6V46rnNwZXJwR/SzSHnUN/XKs1uzD2dw7lM3IHkGK2YjtQ6VKLxOvfsoIebf5aH1T4AK+iejLSXWm+dk8/X9aemPZuCM98/Ln9uPJ6O7C39q/qWiLxy7Vs+r9sdK5i9HxSyC1/9XcwemN9rY6wMnXJ9/tKwHNdp3SGA5LqvVY6PhJzb3gu8aFih3j5UYgOzPlfCIZ/53b7sbs97DfXp7Iczmaeb7fy3ZGJTi+ewFN4gzkE9vHE+uNxsta1q1qCbV10oaUYQKJh0s9oawrfM5Gc0kkZM57COPk38RpcgGyWUtzo9P1xczhir2K2nL7u1AnLNDQHfN5kM29WQTR9s7ewDb/LLHuN4p68ngHAjnSgXfIN5tmHmz1/gwMqUZD/doOb7ikyfM00NfdBlD+9srA5LtOn51e1tIAmKKBRom2RbPw1+6bmkfREcomDL1U3evn5wlzwegzm/Yosl7fs5CPkScHQaxQMUSEltp5ojPUE6LxJA2WC/rVIN/5pBifY57aSHXWQVZmxn3SAQ9j+ihjnbnnSsp63fNKPl/FWMASSjMqV3d89QQMk5G6HvO/TJDSgOhsORaOxXiAWuMWbwme69afaF016ado111ZRHquvbSHEdZXm22sDSG2dxBYM8BL4IiiDYKgW2kXYR8Kr9Aahy2VP/6PeH2373mHT6NvkP2sp++g/9crfkS+1jXViYwqVn7tsSZ/inf/GBeWgU7HPFL65p0qiHtXhW33o6+duP+UluEYsGvWKfJd7YaUC9FUFNj9DWxBvNBG4ivO5wRzBRClmo2nqlQiOX9F91gti+x1XJhCcgFCZF7tTBGEFeekfjmWcQXMJkO+qP5xu3aATwEcYOkviPXVc/JhuM7LVx1Um7ieu4OoNuWnjtAmmd5JdoveG/qwtQyYAPLJk4ivKSxFJNf7sx0Lc5YDFXahqBF3R6FpYYUtiAXC+hodK43273UwWI0ZKy0xvUKGbhiiOkUcgVw9ANbCA3lmx2l0qicOuIDvuYbq0++0+VTO4cDpPI1SgbzxfP5uzfv4oA3vWu50L/WcKLwibJcGbLHtBB2dTDfl7zoYc5tyzbWlq3WrcYkHpcg9LLvlguYY+i4V41tC3dkZXJlA9SowKMKk8S3QnBtOqk2XHsO/WXhrP4sgK0LTl26HFiP+yjXLfzbBHfQW5kSKrscqoTp3V/WCK7HHF6GdY7ULjL0Al9leWJdloiiDmO4pLAYVXe3wsGG9PROh8FIisS57SuG5M+KweCHuXTpahlzOATVLApGr6qMOTCYGN5HbAxUUYULEvgURE4CBSuw5pZxX0sA7nDspbdy2BLSitqDVe8zaSzKLqD1nV/K6oHLSRVKG00XPSm9fmYpHkJjMhzXNtWDq7VNkPFm72AxJaUBw64NSHFNHcTKpWiaAIt4UeXuuw62gG5ag8mIKdl96CSZIwPAxGrHlDEZevNaMJVdxkQaFjmJMPxughonsRdX+DRZ624m4J6EwkwSEW9Xi1AB5s1QWh1vHi85nVHVFFD75ZXBfUNgaxCRcXCGwukATY9Xtb1JNFV3l2IdsLWNslfP0+sxmHtPLuJJbHZh5O5+dUwvbJ5MRkM+Hfag/4B0mJYW6/c1g4zwSN+QZb4wqomyywcXu6L5hfYOf4oIghBhbHJ8V31hoW3C9SCDNYQNivz4ec6UHsCfgOmRV3P/nLq64dRk6OCjnj/r6R0T0YCaDGvPjmfzeZ6OylliEKJtP2UlUgBNn2ongje0FRFNLpCmB7cxnHyptXqi9f3gphyW8plMdlub+TMJVZNHLmk6+3y4om2dgnPk3FcoTZNZPW5u4FjAR8xSveZ4krPdNzv7iwk6x9WLNklyfwHXP60K/AjT0JmqePXFgMChoX9b6Tj+PUf/eLhaCLuZeMCVESfzd4DhYqHwLsNmlMMr4k8SxD2BY2eFBXNudVyVfLvVx20xq4PVHuvNbnfj/0vJe/JjiTbDvHoFaVq+sxomrsO5G6J9Rt9gYZknU+AUjhhX5jSWAJ1rsuyoA33SaPIlCRZ2W9zq2JZzoyjpGU63dHEuseRMIgwgihJylBxgKrM7dX0WJ/TxeuK/VGZlJr3ZE9YB5pAVDAiZiI0DQlf0DU7GNCWW/lQ+N4Fw3YGrI/l0FsVoSOy+RGFjProvWaeJStOixw/FvHT+Tug10OOd2W1hMA/rxt63XJqUWXz7lFOUyVVK4d3V6ACdXs1bX5MoIM0/4X+H3thUOSidY1l1WZxNyzUm9zUjRc5Zg+sqCALqxxNLCfmErHHC5tT7jERDf2QvVoaS3VpeLz/Y9WZ/U+13Oifl5mfnrRktKZQ7GQ80NnWOq/p1EJN75FY3dml7tWUvdJRqs6CIlZvt5yq+wXMVp3dM5hoXEYpQbru9e2RBWlQEtPjKAHLv793u/IQOmQac9b2qefo8s3+21ou+jfXCj899XbNOO0PWbYYrpTVz+l9X/InS8yZ208dpumw5dWz6KchuBhoce2n21NRadjhznCsWWu4/j0pGi9iTFn71uZDNScuZdM5s76PB5cOGLcXajofyIYhwdZZvGWEGMkKux1CMczXvW4URx3qqI2rIGB/9h3vHGR3say0x7xfMYzxLd8ZAfuoyjocAEJQkkpkgFQmCxil9c8ncEVMm/94/+WZ7K29Y+/5cudLE5K8U372/sQ0D21+rywoAyLSY7OFfKCyFEyKkxTyRZqcAbyFcymwldClRObCg9hGtMPmIjkfjcFKth2N52r+hdhKr9BYtV5YyqgtSO32hIRyXMJdKGEy4oVTbkZ8exi8dUYyvJier7tZ2mEA0tIivqYPJpyTEJPOes830ows0BCskheu9Hpp2rUXaPS60iQTxkyUxZhFq7n9SpoptW7qkp+GgLhHj9Ip7I0Lw7VIa7GvsXsBcj4a1x+X65VDiattX9jjl8pz5FE+7aJchWiDzMgEiCW1J0uvrohv7+p5FUtzNZkfWxPm33PhtvNKvWQlZCZNBeIiDLSxQVtiDe3v/4ShM/vtCUMyUNw5+3Wmc58RNTu2cIQqs5ZF/o+2p2wy4fQSM1UU4XORUdJpvIF7QiMRCKYZitOiqjfSVVA8OSTFibmKEM4CobDB0SRBbwbBl7e+prHNK086ocOljjq29eDXBQqq+SyI7tc1ZqxgikemN4g8XA3BKZrwZX3dqPCnDBvrWi73VlGxRkF3UciqRMpmJuzK7dAPl1ggTH3M0CeXKruS4Ta2JOjd+1A2JXpr9eQSCFIhyB90CUlvMmYdDNYnEVx+x1b1IJbTqDgxD5l9srAUxooVjuR1Mwwg8EKL5uArj/xnWSTBBw9gbDfdvwxNqlKjasvsmxjrLbLlXt65QZOBse50i8DV3YFpJ4HKfZmGs6ncVv4rUrsffSnoqc5msplFO3zHoThvkL5k5G8/ZepccnV6hwNyrAipVYyvxn2LPif8drLCBB6uXRWWJZmZRIZA6xw1Vpy2K42tlQZaklLIavF2z5bKLAnoeilK3kpmXrenqVS3o43q9EY7f2Eq7+zc2ajTqBOlYeFx/REWMGxtwC/TBDmPx5NMqXhixRMIdmRSQYOpdDToWkG65SBXVwLBAR1OSxGHWYnGB2ZILTEjcoHl1PTPfiU3WF31PMusWpyYhQoRkMuMy3bpo6/QUOTqz0sAuj2rAkCZRd7LbqC477niaikrG067URmiXtyvHbWDmdRZ4CFfMEBTP6wcrh828XmcjdIuN8lSLh2VpOn2JQxktOBZ0BySYNRnBCAwhO72GrZozhAlKub79tEt9WRq6KeCLcYIRuSpJGSbTdR3xgLC+pmodaZAl/D7YKMpuMFyaQ6D6HR+6IuudPFgC9iqr/JoJ61TBPMYzsbzUH1K7GPpOtcGg/bHtQHPFW0J7z1HpdH75JYjgiq1+vsUK2QrnOMXon2EL1l2WvWc2d/in3hhm8I0UiSIThk5PIYhbCm15/PZxaSrgapgZCUfDnwpCmsa3haoeGgPu0vcUVYFvdtIhq0KkRHwIoSbOXUbrWn8CHTvRjiB/tFRkd27ej5ZcjQ9DpJvq004tzVduC2boiTINhMBpXe7T18a43y+FtiarLqRMUy5C5wjUGg22lmaZnHioWfbIf1oar9a0OeYyaHRsjX5LpjCN2CPPTDQClo1ZU0V3cCjP2b1TcPFfL5YYBL2lnJK1XQN1Yphm8bSQw1cDFU4Alu/CFbKpcI+xzAc25gbvqKeosq6ZfzM9hwKoMCm1svKvfFwMhl1XauFkQWB14vAhal0hmkbijZ2XVOBC1dXXzgWFUUiK5ODosf9R0rlSefL6oaly6qS7TEMgSFueedaXEDgWQZrOamqH4SdQpAQHOj9Yvv/evm87oKReqkBL3wk3zpACjAj7qvCh+6BF/60bnU6cRhYMk2cVNfDpvqLGdUG9YL4V67DM28ZmtBEgBdkLaojBEUR8xcrVFSyAwGDYJDZUpWmKVk5VlSNgIJBtLnn+RbzU1WksNt38NAYbLM4DFWQV2Gwkm7wLVXC6abZwXTd5LgvnyDJSjdZ/AWaJCH/Pc8RJZGTTzdQXJOi9JXueMpZFhOsEADIBmwNjcpYynKZGi1USHs0cUwjT0yGMafqGjvVxHgEZaz2KOEu1AN669SYDCsFj7zZ37SFQlEESHMHBM+FJvTmcZz7tYvHLriuNHthA0FOZ3ukHkBjYBzJFC6OcF8V/3VWFIvENoahJJEeGsYlsLnfz3msGfrL0Tfzdjr39+6aOOg8dsyLjjV6xnFLg9I7Be0VOE0z/ZSs6kZiCxQhYod2QLXQRHgwoJEO6OnBQGpzFQ0/yTMMy/HgGPOY+unagj01XWIETZbYROeGAfsLqgklXDW8iTX/W7/fkXA1CNC/j3+uTb+mXujfXQi6SaZ4QyAFtHOGEd6wtB2WmZ5NY3XFcxnWYGz7Ev1R2G0biHAhcQMDwV1bF4D9GU6nINEEXoMpuJOgVTSG9DmhuT7uHLiXQoDBPYvVipfAkr6u98Bj6VM+941UQaCtc0dPkvzKWbZtKCLHMSyMT3kSqYuXUVBN5V1bRQmdto7FjskdXkCqY0kch5HxcRMF85kbzzovu8tSpOSzLi8sFH29/LHLpdPUhrqHCHJuQ0K/4+3071f3DgyD/fDSLkme5iL0t6WEkSASCczpSCAljuQbW3ilSLJuCkieV+SCFFUn6neF9iwnY5lGUuM89qvE3MKKFxhZNmwZOQKOlTIuowXln3BcVTrREj0oE9FavAZxjglEJTdIqLA1DowlOV7QC5VKFfGAd3qihRSLY1uiYC/83Ux3R0wkTXut14cQGd0KQy9dsASGk/aCtHmmz0dRCKW8D2K2sRLF4Jzx/WgwLp5NMqxgSro+20zrMuq0Sr1TJ9vcuY/N4BUiV0qdWc8QDTnAuspGdV0wnjjCS4pMvNM3ytuHS6/iYu88tENwWSvb9M7S8yNdEhWt4ABsNy4WqBoppZAHGFLyJ//Zn/6/86p5YToZvNze+wA7vJ+RyZQ8fu6B/T6I2NoU7N79Yn3xIbeORjKFZ8QfA+9VzhthojXE2a74Jsocg4uP3+KvpsMgB8bfnD88blQq+2r9Y8OcQIpottEPRM+jAJC54kFg5A8Btk+tZt+LxovkfOW4t4kt8Lnzp5lDefnE/waXotFnYUDNbRUT3j72xGn16+7pV2YKt04fMYCH3OERDbokau9HdheswdUGm2y0RB7pvc0fm0s34/JJw1zQ89SI/hNLoXJYyFdwqQsAYYCfXeWapjw4xJQrc0MOHTooRq/WEh7ELP4UIlylF1c6neGYANYa660kj6I3DwpfXoOgkN8dQqQWw9HQNPX7bD6nc+CP42OBzXgHDbE7fz7O4E7z5sLgFRdP9JVGazEaC6+5onTpHFYSc/hKPmPm5HWkKYfHhEzyJL56CD6cUiiyX8DiBcTjKlOKfUaVVSf2ysy912eH+ZpCA4wj1Ckz+Kgt8CzvPV6P++21g4xON78JUu0zpIRt6DdQdaAMDi4RkEZreBI21WENElokYh8Zjqe9HSuKOoPxJQYgydywoKSO+GtYSNddSzJ2yLNxVj0PmlMvOe3YaTW12CcW+oWj2YbAyV0mtm5yHC6Vifgbi/vy2f6hR3E0DyUIPpzJ+JFCpg0GUxSpqs0kDO4b2JfNz8lqs9k+B0l+0Jyend6TQICIYIHlNybMZCpUU3dFhGbTHAp63WeNY9KNsUMUGg8htnkPKPGcFbhmQwzPeOs2AkAqe7rsmdvXhSVtlsnnZr39+URXx61fK4hcCl0sx6LYhZWe4zGzqa3TQaF2LiPjwRhFWko7g9DsKpamGaYORqIZZDVbqjk/KXGtfYRJeyd1xqbbu5bQuYLsZz3/x7LT3mWiPZiIVx2LPUfrMdlZowSjJBKRYMtGQYpAERVF7cvRbDI5DLuYeLUEXdskEiSxauMb3cDY+EOLLb4ZCoSulotUV4gqhu0Q3wMzJ4EEqyBI8zx13eUtuUe+I9EUcZJmOzqz5U8nHlgMzSSItXe9Wc8fbdqQNFaippkWBRuYOqeWbkwZzxD8lNhquLV7vz0SydeaLKvaafao1+3eEyA1X1myfmQhhyzqh5I5tfeu9LVnbh5XD9PjPAY8EUbOJS+jWxOVYHgRHg+ZA6/sNeufHc3oqus4YTZaMqKqWnw+xv6Qd1XBsXiM3ryxKWQy19loRZHVcko7h/f1UZn1BgvMPS2fU/R0W+oiqGj7SBPwe+qGKz65pcEjChTZzTl0Z5bs8efUsyUS0404q5/fVpDKZG6WP3Gxt39+9gOfkySd/vj08ub29nFic/QLCP+viSGge76xMzSIP7y+6bt172Yvl+V6+KfenJ0blQOUm8Dci/KlcH7YmFzbTmt6gdJLa2PwD/eE3vO/ji4f7qfGikccFI3FcLJAsE1tDfOXEg2FprMkHP4O/xpc2Bsy5dIZKcKik40nhd7ggfy051qG6TWaRnvkMPCIJfM45Mgt3ZZD0KlnToDyYDmc7ljVg2Vxx/+/yZhbLhnnWcJ5WN9J4QQD0g+8+LiufgmvpujDFVWWoUsqfkssiYTEjmaKQJRUXe0Kxdlk8lwXRJF9pjajeKx47IKAo5x/bDn3VVG5S+gGhP1stkPjM5drvP90AnDD9PwqeUAAvMxyNLYykjCYgUiyUWWJiROljlb6kBbQxki5cvZH0n1mkWliELDUC/+9t/zKpUE6XdgyundHjP9f99GokTMGs/qtrSu8LNNMw+wIOAx8qUnoSChfiZJmGbP0XlKEAzozbkdvBU7gzeaZtZtWLmWKuDnqrCryawMTR9u9SLzkVBZmODzGsdWhgN6ap7wZFbxLBocHTTHRoVF/SxkRWy6uFvq78M6Ij1ol+zHaBZYiyI0FfGAYVApanDN+NvfWOLbgNRsMLJ8GCguVkA3tvqhKopaGezUWsSBhV9gJpdIaK9XTShAltqF4NZ1fiaatmZt28tsmvcK89nGtg2nx7ml807usV2vq4G6yI0BlUSZa4bPmPlGCO7PY04wxy1D0Y+yNpZWViQF0fVokLkwH/oXdMwJAIQwth0mrXH27uJkKZPboKU20tQdfBM0Vsj4iVeicNTp9M05S4M2GdhtdJr1QuIxajZx9CAS/I2buE2nD7xYr03SjXiy8R5tieGqY27wfX+XYg6oVBoRJe0IsRadkrypiqZJqcPpfROTMoCi6P2yYQ3fn5/uHw/wn2+5QLARCCcZO6Nvxg1NN7WnvajyrV9iu5TXK9kO7DSyT0LN7NCP4Z/5Rez/VRRMAA8s+MBaFIjCujGK5w8Om4N7/PCbV49xXSbbyFS0ZTsZe+dld0IioNLPrHAQZYz9+cAYGBpb/dU3nXK9iuU+JAR36RxU3N9ek/V7ye38dWE0xHK18u2gSUVp2pIWNIk2lzgKBjauiotM5Vd/DKVYrXuKmV3HUfPdnihkWQRWQLf02fiWxinKL7hygDgW9/alNwbyx8Ieb0egQigxkfUpxK7ZNW4LfIT8UFeJIoVIpWL0eGdFZO2cFTePg3UsZTaagkt1TjbZzwjtnTSY48v3Xnq4YBlNZS6Nt24lae5hkAC9ahrh4sqrObr32EOeK0vcWnVcfcCNi5k6mNhKhfOZUwQh8PS3o+idXPneKUmbcy3/7EXS00X6VkrgjSIyAi/IhF8yh52F32PiYdxsC90HX9CgDE2vx7d4dTJkFfNVwHJVViWaklBZEsHOKwU7PKsGVfnrhGgNWn5jG5q2KcCJjfAMmOCYcd3tGiJyrHBw7XBVOsC1eCy1tS4G3CbdzorJLo9Uqane1lT/lUb+6ZAubAgImSxVc1BauMS5/YLHHFwTQrEa68FPEtht2dkGVL/r9um46ES5DbPuDDIdBYup9L5w1O+OqSH7X0SssbHuhk/iixv7QL1VPU52sYGm3ZU0y4jvrMoZt44EZtJfQ7h0Pf22Aw0TPwcutaHSUhksUFzeqNRRrrmWxx5WCi3ofTyPh3Now3TBY7rwwnUxOq6hiYc3zhe01wD79yU9oUuGshlX7NwdzbD6/cHJmtHyckyi5G6jB8Iw7ynXAPLh7l0OnvPc8Zgx1RXH6jou75AMAKOk44Dg2YktYHituVO67Xrx8RnhAjE0FcUAxIDDaqKHNZ0yS3xOwFFYzy4Ahg7mV8PVK7/9PxoTG8YboXXpDqbLqLnLf1RSxb2SppAI2FvhG7/OI7AZ7r7j3kUaBpW5a8KaySkkiWKXe4NWz6+ZfmtXxRGJqSThmpNFmQPV9ABqyfc2J5GJg9Tl/1GiMkJzijRAKIkIrASC5Vuc6aZ48yjpjMArdyg18ZvlORybAoFvxZLmQP4LXprDOPE2TONoynjmmpDIVxZ4zB/08SzugamFuCtgMZbqlW/4obUGEvoIcaZnLEM4wQe+wwyHMJIF8OQJ4q7KS3kj7PB4/mpYkufYMVi7hO8vXcKhkibBYaxhUK8MjVexIT5I49C3GK96OdVu3WO71D995tnST3amPf8+2IDwqctQa9ehaSiKApVp1XUehq41Jlk2hw6m8FwQ+3xOQRbzbw1ALzgVbY6IP7A0gmtAGlZ39ynVNN5Znqsma2mWCPK+bIm7pFZfA830uGe5I6BGvjtMYCaWKY0igB1gscSzQIqpVsnJvRD0TX2v9dqdrxdDMNOKvUqCGcVhrIOlYtM4Z/fb+UBZ0uypKKJQStKDYKmvjjKkB0iJ4SyPZNI71mDfdSzkIok98MpBUTabPPrBlHsrQtJUoCnx38wWGYlWjO/jBnxdZstdxOAIDUyRVj84/Cb7WDE0Ph6PhcGCBLNbtKCl2jXpRLm0f1VIWZalZKVcqVb5HGtxW+6m3lKDpRdEdnpu1yVJx5ehydI9PDGH5UTfLimIwngx6m+iNJALYx4Jpj4qpJNM/oGQJiKz60QzVU2qV5r7f9tFsY1KLSJgjREFKl+EYZyNkrXlHMDy/bLVMjEjBDJN5bVN8Ks/zyWzRg1Jos19UizUn3iv13ZRz6Oo7ubfStj8iSaHCRI8GK5qhqFICIhfU3kFwigLKv+XLmyRjgnUriageaaquV8UunbLgijGCajjsXLGtWcqbGImjCAxDMZZOeAEvILWpXmQrosIiIx7OlF5JGgd0SYvNxwsxzWCXiXhYNGhlZNWx64mlEqwgYVBMwo6FHHe54UuKUL/3U1dKi1/ds5YmUEjPsc0EN+1nvcSN8hGeg3b2Nkm+EHd1Lo0P8NceFt8GkZxfZC/XBB/xpBcn5IbllaWarXCwKh2WInF4stvk2O95jmVIjgKMjIZN95m7k/3iiKUpEuPzb8+3casg6mRkL6VaA/iMlrLnMUNxr05CygzbTw5inceq1U+9QZdymSy8JtUkvGBZhqbw+pbEmMq0vRZVmLd/sDcx586s6upW8b7qVUpn8OrD5ofpxBPwMy9AxJen9uKF8viJln5cOmv2YvGmbngxpCJZcjk7elw3PKdpichd7eH3ayb31+JKw9LK8qctA8hB1qi2B4nWKS0HWRpnmToGvJlwyYIgR95+2jguRR0cVjiORh6c6jYHQlxTnzsXqbaCfRKH/5st85/lZvN+XBAkh8lRBfE/OJrCyw6a6m9r7Z9Fmv6J/GDeG6o0DjwDTMHCRQoU0XbWpZ/itkE9iet1I6pav1lOhlAyJLBYamgtHLtT1x97XcOBz0sGCNEYMIwMOoQn6bAo3eQvS3LnWS/pD4F1WyFbudNN+UbJ5yAILuNG2A0qcj5fsssUXu2sA+NhvBKShWfbjKTKT3ysoriHuLau4VQhxjnc1kkkgmTaQpVzkhSaZk/h1yCsQmcA7BXdmJEV5ac8Vh3axVlZlQ3nXkjz1b0nCW2VZxzTgp1Nl7VFORvMd7Bxu5I8+AWrYPUG9S4kEeiZtJq28VCw7sDvYFipWT1DYjLsWRiz+5hg1HVt26DwvOc4tmN7YRSNiq4jCuhKwZ+V6hWWDnKoTFb9mTegUNQqsqS2nZxJnt1Npk/kmiJaRJhyHFRjgulrbSgpBy1oVaCDK5ZFgAbOPDuGG6ZumJah3g/yLcTrMoyQEgemWKuwT4WgOklag2gvMwHZWUgP+n3kQ8VgPF9goshXckcWxRLCrZQ+PSo2vlypSKca+IxKVqahl3a878sb7iVvIYPNjGd5ZoHHseHi0Y0t0jo+oI3VgjQtsrRFLFqr+IGxIrEdW46Y73oFLmtm2/4qmWvy+a7iXpDl+Ni/5Pv9XipSYGxbQDFiBdaA1rqUM1Cd9vEJErx6mQ5r0vHpqdEuKztg4MAOVRCYSK+9ixM4jCxx0FnXlUnQEsaFKozzkX7IiGsOCcGwvRRtWzp+pmLuaU5oWSqbprvFaeCpogIKrwJbn+mcRMd+haKsym8sUV6taI1RwpwPtwejA53FpiBDitNGPgGaV7FISWKZGkatOqqekgVA82tAxdVkmztWjPoyn29Q2v+G4Xqdc5wzJOsvGgjjcKnozcSJZDqWbll0ZSOcG+fYlKzX8HqpFHpavFZjJUWW0ts985erWHl1Jj517b2GN8XouGc26xjUuUdD8DU8VPKrEXBO7u96nE88PItkeAzdaHTawlaX+KOoklkVzQqSXlEoJw9y517K5THN9Hd1dI8sh6mWgGNXGipjqUFv9rPThdXlOZOx95bCERjOqE4LgUpVw1wCD7rrK60Lc0Vyy9DBmKlDqmvamgY8sxLZ4cYfnBq1aS4yFImiEHddBhiTpw0jyc0SNoCYCvaA2jKtQDkIW/8UJwgJAPDFrWBoJhpdKRZyMtPm0NcAghNFm0vRsuGGim7liO2FOS8bsUFpeHVpnFkP4yiI+spkAO0ZHQ+bOGEahtX6VGTYEz7NrAUgrFWrzCROZpa2oNCaLE/6l03YtOQBug3VPVPgNYIfqv7RBNLzfsSzBiuSwKt60kChmoxqK5opkqhyWwmP8azS9iTsmroWVXw1Ndjx+1LBJh820cNOGGXCgklz8geqBdSWsNsSPNEFp3leGHumgNYMs+/Yc0iOhB368DGuRlCK6we+Lrkvw9KkF/qy3VpLfEfhlXZ2KWheN6Mr+n3m4bPPjhiyDEadCr8SVIPPcXd5WBGX7bfhUz5k4J0JuH41YlOQJVufESTPs416tEpj6OW2xipPbNqCPW8C11FGUgRaXfLSKPSaSbp+aiRDRFDBetcnvBVBR9HsCW9WHlN4AYwx524bftJDek4zVqx9IxAVh7ryJNNHugJFKq23h/Opw0eHtUha4xPTd48N1qHv2deHoQWUh8pzum1xMApQ0tybtpaHUv4TiorvyvuNt8P9rzfu8iV189h65uhl17hccUXua7aW45h+H8e9m433wf3n5ssXlfWja9zhi4RaQMsAjjSsSLyBlCjvZpkxFCSdSyRceWSU6Cv0husZl/ytk8/U/Cue50fuqX3nYAP7oLLOixnZrHTajAI8LRsRe2XYRVXcSHqDBAcQJ75I4CS5JbKn4lbdNA/vLdn2onmBOqpYZ/PuG4vTU/dLfdxiRgPOCzz9dfCGfK9PxTHBJDnJE4188WidZ74WCbR5nyDJJf8nNE0SjVBTzMFGfHN0LAkyj5ZVL7hcZx27mzAYZkZ5jTTlO/MZUeIKjJCj8ucgswHoFXrbfY7LfmW51Ynywfak8PLVsycEoEK2gtlAHma2dslb8iddKQ596ieTlvjyc6C12N8w/FJMe1IMJW6J+nmG/tf6TJRh8owLU3VHS+J/U+l09le3dgN+KdR7lna+2LpC7fAlsHKem3PTQ3T/fKEQMNdd4vz9cKT5aSvNd1/8JgIslOclCtd93w9pikm9XKI+xNATzprox7HeSFDZJoTw2b0goN5dP0irs7/MztyKg9Nqh9c+by5UdrUkkaRSDTMb0ll8C+pbTqb26PvGDVSRFHsCr8MHvoXVZHreVBVJosvj9kZjTCKqC4+vktB8aQjz18dQNKl6SWHrwJAXhnHjpIvxnmSyrHHl6hjGw2GRlDLKYKz4+fhA1v3RObw0bdDI9KHgFTs9aZDv3oqZ1bYRXcPdNtNXNWN9EDwEdEZvEoIV9XrMJbaQasChvxcMe2m3265jqxLAQuIbEo3w82vp0yqnqZ/C54GeKw1X/L2elmTH7DRJti/7q3q72017g4A+zgclH4+Tfknr2dl4m5Vsf4Iz3iNxoWmzsBS4N/Uw6OflbfKvP390XJBR01x51H8maJMz/uWJK5v54aDkK3Epm682JMc9xjqOr0TbweeHWGGTZDM8r5VBbibAkujiiOYrQT5fbxl+Es+jA4VOIpEekONhHIeHYHGfNznDyBWsolypgFg6k7fXKgWV9zJ0OpqJtascEbfXdFynsVjxmfcadMoAJnyUfUIy9To7Pll1mToumTwOhqrnocv02VfbT3kDwVAIpMwbLXCbiU9pXsqfXfRPK0OPrhf+X3J8pVFqv9d7muaY/eaHQf8qdUSBoVAw4EtpzTx+qFTCasDJtxxcOlR4LO0MUe9y7umDpzBxfr62k8Y1R0fkrx7fPt6aPUUI3NEnN9VVzpLP/fsN3djqWwKJFMs6y9Zl7Gy2A7SYd+CzMS8FQIjLbvxmEilQvbSEUUoFS/5WWzUM4rZqt8iI1wdDuW1/ynXhS9vsWmlqYc8WsXbFIgjrTiYKAEIUGS05O1mVD/ioX7k8Dc//5dnrUTJfomunCtkDKVMlF/M1bdo2/f46Rzeg6kDBJHSF+QPNU9C6On2ZpirdBH8GXenCa5R3Rsll8Lf9VOEqOlQ4sRApSdA2txV3QxKDw5ae49iheHNIh6RmL2/TXwTGeGF/y6d3PFPFmnQaxj913QmHVPDS/JZBY/XibtmtVEZnC94Mu2mWpl253myLXtKbHMwJbYQrS2giQS4Om6h2LFjhp3G7tSgtbFNsT0cfak7YBcm1eTsRCb43tmkgcSoza1U/hI5GoXDWcCORVAOXEotOwOqDE7PPhegf5EMASo8IttDupu4Hj5X8bX5Xko3EGURUV00WZPc57LioN9kb77Eso5WoUXgbfaHnhFgP90xrmHEJ9Q6VLNfYxiRtmgOPZhvmcnRZ+VsNSSHuPl2Hyep/q/PomGGMsW5spPN9lmOYSgphe0q6645RgJh+rrCGYUwIRhsRye4qykC9+W0y2NS9K3jJY5X2M4nMS6DCRTe0aF/YP5TM316C0ii5cgklQtPB7qDpGv//zHDV/zsMiVSwDw646T6Jfto9WwXfuyZwpVXuocpsEpP867vB39oe7aGRFLUVqW36rJacEauqAESEHgRbSlkaAg0gl12jzHxIUhQJQzWw6jw1Hq1FJf4mfvyWbP3aiS1JFGmKwNCj73nZsSijP7Fs1FW/7jp0hs7sJqH6Sa1er+WyR0bu6IJlButIf2JapilLoiCMSzsEcu8KbjJP/PRggHfqTTduPeI4FkXSqWTjcjcJzeX99pc0Itls4Nhw7jNCCzK8OQUfPPXklTh1AV3tieeO/fFxfr7AKXqPLeA9rV3nag2SJADg3MKIdKBrawIYsq8+s//EPI2gGwfEovA6ilsHTkDxeHQrVgyRx3UCzzXdkTLP4TIRSze3ze1wLEU03AvhuUbc9QKNJggqHA4Ck/o6hqxv67rL1Bs/XNvg8BRUii6mx5LAC0rdVGUH2le3LQ4pyFDh47UXAl9gOAz3tPy/S+6pNCopmt7KqYNg/NgxvKxp6q9OAwvbkqzq9Up4q2BYnlcMx/c9YHYwNG4k6riQ15+1OnQ/3X89PBWrL8cFlchrjoWlpTVvCAQj9xK2wzumHbY6et73wadSDUZxsqapwOygzW5kFPY77LpSHQYFRonE+fl1s5TEGwECrYvz6eP93d3V6ajffkLJrfaUbDYw1FoU+kcswxDw9IDYkvrGQKU5lKoSnWAr5M9HkIFmojzrJIlXLO8aN7E9JIDEsb0CTktuL9PPfemWBB1oAk0at6bpbRRByuNZh9iS+qTrdcS7qDYfSf58BCmLg9AG2rhj35vrqIrIsS01u5J2G99yJJ4XM/XPMyzj6lWpLW8ZkztInnrB0xxMx60ynGDwKucdBmHiRZdo3Xz3H3Ia1wBQxHGkwN1Z53fmHoctCTr3DEmILsYvXJydng7TVuyIPrR5cBdJx4J+rG5ficMgsPUWtDnelCvjkFIjFLGKXa/LDig0muf4vLGmBCAQlSmdcI+MZXkhvH0zXeb9YrJAa7OTIUBZJuXaQYiDCvLyHezcq1+NQ4kETHCCKJNGoNBkIh6PNp6YsNCjTidxlew7T/m1bItD3vaE+sTwt8a9wrgWb4ClbDZfKFauPE4ieI3JwqQluPbv7rs/+llxhLLXa1XzmUcPQJMpN7q9AWTOTkzcm2koHIrCLPDCPKTc1WybwRJw7ZOZtdc/XFlkMgUcYMbYu2A403Gt77wAVTYBuPMXLdQhjL0KD+2NR9/hQNgdZsrLVciUltaKfOcTCRu9vMb4Qq5RyV126OP/+HP1KJEkrN1jRqARmX2vihhYtURH8cgvoY6ahyLXyzwD1LNXIGB01z/nhCiCIBWFS0WqHkjjMOdzktGN/Brh+8/s8vj9peha1z/9p9fnniaxLC+Iykp14mNoKKz1oVqJzxGkOMSP2J/e0G732qO2Wq4VmVGN/m8PI9M7aux/J8ZWWsdRIlMGweB7njMcIzDQrZjTCp9mftk1Xh5vGIcbK9N2IhQIJ0TAJk+aMRC438gAb7VNFlJmC8jPFabDwnwYmHxpP15nRxzY26cnNzpNG2VcVxWJI6A9GG6FUwgCzzEUp2mKJPDYhuCMSj+jh3oJlGAlBakkWVF1J+7lbeGIoXzyciNsS5dlLdkMTwI51dh3ZR+1bVMYanunBCo2xleKLuu64XLP6iqKOsx4O8ePRaiZ9munNQ1LbUNpkPZEDkWSZi6rlvH/qc3u4IKsyDKPVpWXaL0Z7xmGaWiqIut0G644MLRpYKLo57FGtocQwLW+ZNuWrskCywqqadKndRn40XE6am+zkmZ4nZy7UQXrUEMMRtXQ9WVj8+QZWZJV3XIcW+E4e07ECRxy19WwWZm6REDOfYujAiXsQSLHSjI3UR1kCoHVKiZ6nfUuzE/OBlOalitDBE8ZoWOops4wDMuyDIFgFN+ESll6UZIliaM30bqzLqAVaUXXTV0g2q7s243ptlo9xJ/I6nnZGdeSYtYXgEkMUxM21aQpVciPCl7q3sWlzirtzbO/0yF4cJpbJz7ZWov8NSDSUu+AneQop2egUxGuo3CtWsoR8ZUg8Evi1FHwZuiUGjOzPl+fE2CpagYP5WzXvWvTL/fJZoalCbTQyZelLGuKyLIcp4LVqUKyH7S47RL9JEBc96QitaTGyVfeLmPZn0NRcvNdf/aut0BX/vcV+vY5lRzkVkKx24+m67KPFA0EaYSX/DgOsU+aGNaMr4RJEhO3qUaDaitxmhpPTeiPurW8fjOX4Mi96N6K6psZ+SE80t91Dq5nRcGChv/3DH1t9tdeWyOzKFzRZ2Mf+22Bs+u5bC1EvGObKm8qMo+D7OWiXxRZYEREdf39PUjHwr5PSJn6driMmcAbyhkgztN/gOrFbbRw9yXbcXQKygOjh4k8TDjfQn5ixOshVALfR6vfWEffbufRLsbR3rkvD4K3yVtPqprVKZxbIAiT4sZLb9W3Xusk2T3hk8Tp7FrI73q78tcP9PrTcy76F29ibK6xP0n3LfWVx5FU56daUqsiroZ8X+fNVCInyuLNkmJMdFZPebIokgSSJsHLfq+f+C8oiiEbJJnNyGxGIhWqjnsU9rIIZ9NuW5Kf4Z9j/6z7z17HaDNlSSWcYFxGMjLIdI1OJwnQ6S1Nt76Ad9ww9hYlWVGJ+tjVAZ4cIOb+xX4KwIzoCtKwbWN6xU78XluGH4xJh7HI/IRQmxd3nERtB3NpMlU6lkQe/kvsn7VVjlB3H6+WqzWxi/t4gmJZPolclVeZeikyKPiFMTwdhrGeb/ab+2EkNOLwgPY3mZadHki+isEeSClLT+o8RHph7wpdryV+d9JNkHEQLFBObWwG3RIR6pEVG0LJoSVoMfwf2S/CJS/QjOT3h7FGNuGA3iYzEjXNpO9wOdKPr7w0mLaqQlRTl9Hc05hvXPvaoR3EzO7WUhIvVElFShwnFt/DEt88lKXBtKBjt25JQLRp3WdRRqspsxhzVoUzb6PwX7S4osMrhjnf/QnGslhKYRvaoOygF348cCgocqMFKz3DwWblcm655NF9Yyv0vBOx0Q8uhotNdKKGl2RiLdxEEAgCC0e7AcPumbLgit1wW9JpY2vtEUOSSNS3hlo9c7sn7hrOjIpraY6Wx7Is7XI3RmPPI4Uw9HVumwhNv2HruqpsfPoum0hOrxBmw5KLbHV3xJ51ARzVJQzsz5Z3l6HX09ntCtthDvai1skVtvB1izposMBRq4G8HeA4m6eNiJETKFuru7L57S/JudufvoGgJwLz5+AwbEwUxx3VPrio+VVMnyfjUx1kVXj7C6zGb7gpF1ztavyJdBHQ8p7h7vFj69/+srv98euPyenZRX4OwoHsWm+UHdIwSxbIeVQMju5gZ/JWda66rUuzmRZaUZIWjsC06hfGxBIpeFAPDUMwRMgJNKQ90YKaeHTUPmnWcTNj0DSlFsCBYq3MxECLCvCmmCvulTHAxiKhOJNnqa2pWASrul5LIv1rDWFEi93kQHBCOp2ohREy4akGBq06Lz9K+rzuYE28MEprw9kd/SVyZETdXfMM1uyPZJloxtbyHQFhIvJfmSgSN2/GLx8/JEwN5B2cXJpslD1BzsLSov9a9o3EmSjLfwhlktSt3Ds2MlazYQ5BPfccDiR4xAVBMIlxH7+Jp0GA5aYm2gxG/5/EGYsmlEupIpw5qz42w4Ngamx0Zv04l8rAogo8m0KM7KWPEtG0F04WsHmryfPOEFvop1bN/v1EK2nXW6oKWV8ihQMWa5raWAWYpT0tHJLSshXlb4663R/ZKQcb9Xt9mbGBEe662++tWj/MdpTvfxlzs1W+wCcXY4qccMEp+MGXsJJ5PBhn+FZAt0iJW7AhXekaqtUagJ7UBUTvdpMcR/reEYskZM5k4yWD3r2l/InsBejpdjxiRy863EHMfVjBaLXh3BoitK4lsOyDoGFr4B0cJtyPetFEp4qlBZrj5KgcKTkEJTjd81tdPVKhkTZarV49NJQBIvwvVlnd7WJ1Z9WgcgONH75VJnuEHl00PQHpLA4sGlfpTM57SM/+8KAVW+AHRzYa5AENgTUBAuBCx+I+U9whSH1d0XSZhUEK5knJDYPAB1aXRT06NKMUvftF93cUS0fTIHjN3vft5zHx/3vtwwZT0Z4IgfY0jntoVB4CoIdpPMcBbKFFjEiu75DYmluSIltnA7M1r+YOCjhj+T17xODWeWfvrLlcC6PToNgPV4AYLdKY1NWECghnKgz+1VUS46ennxujdNQXuvCQoFxaRVc6AsrszpLg8kRnQPODnzaDo5iBgUCZf/sQRtP5RTyYH6GhYCvyBSnY0oz9VaeANLcFhVdd0x95L+jY9GQ1osjqdntXLHripY9sCDy6liJwliUzI/4q92zbjxHDQ5oBpuMm1kMUyQ4RWWp0rYS+9ZEiVkVnhPp0xzai0eSQJWkROa4FGik3c55hOL+34b300cD1PpdQS3qDlL7vWCoHNaAiyFsdz2Nm9cejIjBchYP9hVDJmiKMw4X8iPeSDFRLhteNomlBzckP1Y0VLmlLry/a3MLD0ghxOlr3f/yefxkZ1A50DgVNf+RvMamzXVqNili3PREzBZU4fm7deAMB50jEeHsrA3/saiQETSnKt9S1tJjHpY0ZimzB/3nVoJFdBT2R6UP98aOAi4t0vySszl9ZU5efmg0AdwP7gVpgN3CQ2Vmfinls1U7Gnze+GJ+aUVz8fs5DHzAPtIGwYagpqOWQjf+Rr4+MDvZNfYfIaZiri3YOTy+eyDeHPS4rDMNmvUIqlUmDAWAL0Aw0Az1AuwkdvlIfwSwb9AN3LGyX96i4D4kjkaaoAiUyubrb3768BI7dT7SVsFVw1p/I2TgZv3GK0AGXL1dnf7785tnJFULfYIQCYNEuZS+3CQShh45LVeW4JVUOKlfjGYxNtNuDG8QCKkyBAbptXiQBkvANwd8San66hc43uCHOWm9eJ0i5+IMDGrp1WY6zMC4e6uYlwAirLOrfHLj9+Hp4b0c/V3GnMsFxJzJFxd4uXWw6oLlGj7o3cR9deHuH7/JyE27vIwjT4XNp2r5lQr/HR/ubMxe3SVJ6eP+cYbwY46kvUKoGZNk442+RuKcw1VW/A60qoy5lJvGbYRRCyeQXB3mIGuuEkhOCSab2PXAppLgNg9lfXvN9z+8Us12O5/5APsQgjICiu2hF0RVBRZbYHqk0haC733QiVI0wDheVqoq21AzKtKQWkASXYe4WCwzJSNl7rbsp+iZflePtYdGKXDhwMljgKVrb7wt+mqSVZGmEcYgCBnVS8JUwwiekOgsVs9lktmf3HtNRjuipBwNGlT0X09UL52tYTbns3lB/dDc1ccz7CPcy91bkJVCvCG2c8QypwNkzu9y7KOrcYa+/cMS4pdPb3Xzdm8ibuNyJHfnGc93kclwzhMOZ0LlNc6/xtorb3Xx5j146uikcPi3Qa15qnG8cC2wXehv2sUMvyjWEcx7nPc90CoXDqR6lDyNNk8Zj45lpzhLIYP36vrY99Aw7BV/731jgBIYWzrKioUCV/Hj/IBrMNLTL4aJces7Y24fhbsV1K//+ZTAClpMBvsgq5yg5pR+oeGnRNHwQzm9+hABSYxpArNyl17kXRdSHBBHc6JqMlLmeQeWrfwSy/qIGWXQiy+vc2yHnz+xrd54YCxf/LWYK8RHxqokx1bp8uE0eIOK5uVrXyY8u4TMj+Vf0d1GHi5s7Qt3xWtsK3C13S10uriobrgRii8MsELfu0l/A+fE2KX/kpaOKXPPp8X/Kqut6ZzoXZBqvjRcB/lR7Yqc2338XRUmKkb5952B6ukMSa9BM4xkSRfkek4y4izBuvqoyBcr71LiNw0Fnz7/SddEbEGRextDXwa4SZm1D3ce8gzXW5Uvq5v89gPZeXqLvf/ouSe7cAeYwEsRYAcSDdO8JYYIw8lI+mS150+SR2pTydGaBgowBsXdGtnGrDtkcfgLvSKJQYsxoBPz1U2psDC+IIl/AK4sqH+bMfE57qpSp5nEk/fOCYru9o2B0hwJN94p6Bmw+Ol5bboHzs3R+wc90GS0dzsmPV2PnAMDD1sQemF484Qv7vScEgHrxnfHCU+og7vH4guGNHyiDJRLNh5KVxS3v/P9QMZ+RCELK58vq4gY1PKIjARXHQWyfRHknXuodiaJUy4lEEz6+sME2UnVTlOTOVBaCyZrAUWThLBsRLdS5u1bqbn075ZkbyQI1a7RyyIJ1pr7WhA5Sarh0hzZOJ4rZEmusPHf38PQ00csp2Dl+vI7upULA9JyD+acc7jUnk1E/PXo3GYZcwE9axFOUxgPiEdEZRvcES5nIrVbK1lBqVRIYl39O6IRq27U3Xxvn63yjX1pajoUbkSDWC5+/dOPklWGJ/OK8M7RSGetL0YpSpvLvIChymBqs5nWPPGfbusLSnCRS1eMjUVK0rLmhdjpRO2Tj2c4CJ2mOw3fkB64iy8D5O5gWnhW2jtPnmi1lTYGDA0r3qNVkF/bAtel3IoEp0SrK2xi+LgOHqUPsnnoE1RkniIZXH0M+xi2Qj6zUxvqJlW/zTF09vi1Ld0WuQVvdv/57IvM0PJGGOr116zNLqy5/KJ67mwSv/2/PixfWje5gcn55riwceGztaBNZBF7d7uvFAVdUNxzK3ak5OGSPpA+q69OXwPENEMz+zMUpb7hyDIYYx9/M7UA2dk7FdMsoRoXBE4iJs++mVrEj09Db/p8fZvRgebZu+CfxlSCwNIkdROB4k/TQ4AKePcxqimzsRCuMpqmhDBIWWRX2sIdbUTBzFHYGYv/bBqPK3YvFxeaqCSlaTk9FOJoMI1m3lzv7zNpIz2VJDEWgHTWEznF/IAi1zZwBUzzjDp7ZvyvQfJppfesbTQwvm5U6Ltj96heeTYdpK0Rn7fbdZ5tmcGof9HtWlxyL9K2zhJnNN5FFlJhdZgnuyvVg5losZ6o7Sie+MTiOzsjDKUOeOctxMgdt8bPcZSl8M7P78kMggpdvWGZoUP0DQs8PK2qUoAhDYZjejk8IrmiiKQ6qX1wUF5NkIXBw+JOnz/OnJ0ozMQnGo2eqSDuBeyO+mJRKAfYLp3lZB2wLU7TxQ++ksksZHjRVo00nDE0z2g0jx/AHrqt1zvMcX7mVsVrL3hGZdasHKappqCxOCFjtkyfXaFmUFVXnKSnpqk3KiTlqWvPMdZVzLAoIbgx6G2+muSY8WfY2serIgN32nxEYKlCuE7fXvoLDCxiNI2hDmNYnjIxsjTg0hgPzu4sQLe8olG6p5yxAn5glsM/wQZkXV9K0lzYtiYRfweMT3Lo18q7H43Z7fFFUMIFTCrGhOdU+uWs0wgGt1PHnLfLY2JjhUKUMohRLKB3Xl24a+pb0ZD0/DExxR3j1nXhejPtFHsgU1bYioCua5QWyRqpOe/Ed/5YrAvtukt8e7leO4VBhlTbC8OHyInTRyAua2gHfDxUOi4yZU4MxyzE00bA/BInZrpNy1SXbHtowBk6QyIYuNXFpfVhtBEIKXGtcjNa6C4mCJ7ONdwRhgCShXspmRth3Mzjq0CAK+pfNVCrmF8seRPN0f8FqOJHEsEN6qfItz9/LeOA4V/Xo5D2KZliOqqStkvT8NexFaV0solebkeRcxhGJ3m/Dvgzo0IBaoMe66wOtcziZf/p5y5bB7Sc1Tdd/a+1qAgZtA//HrGlVMV++HcetnXtxCrx8ayV/2HThy0Sp8uFztmMjAczrm0y8oLd4BxjQxMWjAANbv/u60+kY5c0ZfTrfkeNX+lcYIPDwVnI+HltzW5ZIk6xxfv5ehUOEHHx5sM/xgoitMIGtZTW6TRlFen+6zjEUpW673S2V51f+HxtFTca3KbwP/7cZyK6DjMu8YCe90ZIPVboO+hYSTdiWdmi4fNQmxT2+WNVFhGCxYz6yxQwtgSepWkqjUdNgRbAKVp+mxHx97aHBlbt2Xb/7YODyxyXp4e6e7u6+ulQjbAQ5QMFWGrGqqPqErbIEDnigW9dveriSiI7oko35/qJE0rSrSngGRviZpXjmYLK2MyHf2593MJgxsiU6BV+qhloknds6VeULOfn/QT/wjG+XLrRm+PMGIoBUBnMalU6+ihY61YT58GzZa5IpMAK4l47bA7cnUVt3PeG1pYD7prpINUz8UC8Gdk/PaLeTwBnAknkLZ5G39AMu+emfRQBdgvETHJcyo56xttXkh9gizbZMQyNe+9LU1AiZxje5FgGGorGpTBpaOG1WTyM5/8HqjkCP1Ymmh+OrabMpjdEaXbIIcmKusz8eOhuCxFIAwstwqGzK5Gz4SdxXAJmcirZHFL5q+t3VwFbboMQ0onhtAIqtTgmoPG5KeJrtB4Ln6tLdfJ11Ykpofa/1zsciM0ugoXZu6vn9Tz7Bm2WTTjIWLJ+YQGyKqgcUkqDyPJUo1lJsjku6n2Ik7E6hCRQspHcyGHMrbX6hF1cIpnG6f4eyUpr4clwiYJPtSa3GnKqaUtLpW07qseiPj3WdPyWxa70edowuvNi/MjM9YHjLOneMGMHYF0+1H+PAaTqMxmuNKBG9rJMBDx7UJDzN9gPBc4eSu3oWrRm0PN66b67kaTqWSn4s1FP9H9/ZqMtm4cWo1cmJVOq1g1LrJYL3xAYZtD/Ieh+brDbZhkamhHFZB6OYDSc2w8ed9nUz52JZ/Cnn+ZxZLuEXakmP+gACWdhw0HnuY2scXhm6pjMRfAOrq7sMMHqAY+WRQjIMr4d5adTE/x1JZFeQtVB955lyGbtkub/iYTY2btC1gSCP6EmMtmx0i8ubDwYJYMtoXnJ43hHO3oev9BGa4bYE/J77Ipeom4dHtUMxBUJbuC64L38DCXKZZuSlpDI+a/P6/eznL0vuXYjp83uSrru9tZYZbdI/lqTNcTTVqo+xE6klirkzyfhxv7g8hBl9xkI7exTnK5MnGSibFR4OELpbRNen3e6cuu2PGoRSdLkpXVGryINSo2FgZ0wGoOyquokWOYxMXpo4cCW6kFIlSTCwyHKVJ3dDnpA7o8OzBP3O2H4Z72kgTKNEkAX07PW3k8loKmn0397i2HzFOQnMnqqKOXuIENGgQhL2QBSS+KFqIvVG7vuLH+CDZb00+ybizYyc2e6wVJf1ljwFp8/+EhwIbe8yx1OO/A2Hj2UuJdLS1uY7wz/obNXYgal+RVc/w0LegqZHL0l1uDo3NyZMDa3nP7z08fVLnXOqaVi64HOIaT8LfxfmbS1AMElivZCT7CFeTDKpun5efJ85wrrp6/YLe6zAx+oxOdi1eg2sNrQ2zNWPFkTFH2yPPeNYVYVmHZh5XjlVpBmc1UPYukiWtzEIovUaLoXVlIZR1NrtqLTN9uz6j3z56dVlP6zTVf0f34ATSXHDnqeth4misLDSXyGdKXyA1UpGgIGZs4oxK5SJEzRnhepaxD5GGuy0jlFu5pPFW8RnmNVKih70r9wYpsLt1SuuD4WwiW1OELvSAFEESWSorWaC2EEoHVJr6dzQdAf44CijtrpvRbKlyCs3WaPLVfd0BYl+n8wpxhHigNEqGAN88Mdp4ZW+8ahIu3Tb7as0RVJtliN2Lt4d8tAAFe4QzqTdxTrJfS/Mu579OTgw2gh0s12m4uk93/6nGozmvjpaqn4TDEhH1HJDPrRm184F2XiiP5R5miahYr702jrfHOqlytAysmzmnumGjsBv+A95pWrVZJsXDneYJoYh+V1eEnm+PMy9RmZ5eAc2VZbvylSOaxpFOwAOKbIYuFxDE20MJ4ozl+7KeHRgA+dtF39MI4gWzA5wYdudLvFIxA8Zh0AoKUmJzli+9CRFG7414FQd8Bpx9IAKnAtxD3qPb5TEzaGhbLpKqnXrPJ9t0VJuOKdbTvwgdA2Dq0tAEVjwIRClxn7O74f8YabwbYCmA8fWqtbgwFaKTh/B/3oGZrQ1SsbRlEqsY0/Am+4B40won1BdaAbVJwSnao+HdLNHk6Uty9d0WWAI13Sn8aZ3AqHdgSUqOLfiSVaM28Wg0zFA4OOKK+kWgF9Fvhk6cKC0iZaMcKzrM2XrAAdfTRQjDrTTrQxgSHyapZg4coPFQK5ojIs5q0eugJD4OP+2C5lMy+sRJiRKWU1FoTgVtVfRtx0iJGOdIU9IK0vk9C6n11NMNpGImEl5zleF4E1/kYhRtQ9IstDsDuXmN/Q2JU3bISbU5SK/LO9xvXaMLP5oJE5zyQxAqAFo8UMlBW9MYIa+DjqIBGAXkXAUZSc27L6Hf5SbXsIfgFSWrUrisEHHexRf6VCfuQuF8zQhZhhrhhaLEH3H4DOJkhZEbURQHZjrJBYH7kFvgAGv/TC5j0MgeaIZfl9X8CK1AoOajJamrqWiCa+1dnA5uRrBEsdaEGJZkXJHk/nLNgZSxDZdogB34V4BDFymjtXpO5U5Ba6sLsDd3KTTqxmSaNM3k2a79rHTytCiCzpT2/XU0NntaAKH4thAgF4JYWw1BWXQlk6YCAqUkVR9v5rCtK4x1vqxDFZz9Ogmsb+8NYxtMm7vFSRFkfgGPyRMNBHIxqHd/r1apVSjFFUd06xKEkVBHM5FIzY7U1/5/SxobE7wRisO9P4gfcxGP2AgI9oN+wzPekRDYKmb3hsESjUFMJXT7XXuaGh4Pf4AtkpQwkxVmGnQ77U2pGuilOOjRYs71WIFIxDUIoQxaJBkCn6WZN6X13Cxt0XhP/CfMtMajS4SlIREsUqmwF2uUZY/AkWaXqCbGWsLOexOFMWI3zGH8zAlz0WbhE/ZZi/Kmx+TdCyopckuQ0/kqmU3dZbIOBG5uZmOAqxkbV3JKR6mhLWNKZcGvGxOAl40Cqk2b+p6nAiWerMhL8DzDk3x9JMsmgMcMP+/gB1wcoAw1mwvzAZ6hw9D3Siy3RwfthdmA9Xx74pw5Fco78cw3pNsxDVbUm0X9jiaco2z5j6RBpAYW2yRP4paDhSXkiVzpk/R1TWdibws2EAkLOB+x0rEdTAdwmgTzrLWbYvlkDcjwd+f0b8betpbIFWmlYMvObwzuqisUrt3EBsh2419vFXM3nmYgJoAwZ3xJeyMZ+BYtLHr19KDPS5HK7g7cTjhmL0HEe9FtP2LHoQRN1xq26LwmYdF0niMqhkWTJUYpnH/Jb5yfju9VqZM1w2yGlEStXaVsCf41a6ffbd6KUhRFy5v418jqf/66cvRKvm1d2KB/onrzf7Sc4e69uaIgw8vw8j1TKKpPwkq8c+8M/73GwAwJpghlOujlRiuWAaR3c7e+hET8S+n3Dao5EnrjGMfB+YDfog7h/kqnZtVzsCPi9zX6fZ9IZQLxtXi14MJxcj+LHhQNGED7XuT+diBvglxKZwzejbLXHeImguSk+h/f0aPHB319j2pd7d3NTb9o4PSt1iqu31C5XJH+sa3qtgrh6A9JhGJ+NpxJvlmLjbA9/ApiHcVKR1fOruZSasKgWdZrgPVHVOys5b8LrrY8S4A1jt1PE/LKVUduX1PqkuZuxq97PngvfPHq4uLs/8cJGJxby23UqINz8ZS8t6OKnpF7ED0/BuxDu/Jez/Sk163RK2MPzbXqCiKpnGwmMtmM9bRQLUaDxCoESbWEUoKwcX64U0ROHZAHNfBarmU5nEUUZsfla2eO1YGUjgByaUghBLsti8Y37TO+ts4iqG1ye6/yEdd8pFBNzFIqdlKCKkEJNDmgxQR6N2FpZXve56j0vDseFhYj+ADVZGQSkaEmOASJHiZg/rXP4Dh4zd/szGfTyfjwaDr6Tr+f7VavQ63SVxwJE8MT942mVFXFBoqAwOYNy64lEjsKAeJOecubljoTRZPp8wQ1qFpvHnGzZJZ1o1CR+Xok9I7JEESW+fjCo7EiEsH9t+GktmzDJFEAMarFoKzPXcrE3uzkrO63Oxl1Fa47iAQbEbATNEbtEBJxRmNNw0pbM/0NRh50RDqUrulyHUc8u5KV1XlzAqSDiVfZW8013TDNHxdbT8q9QYtsu49ScNhmplknsfdnoo8f9zVNuvFaIbQtH0hZJiXA33ewt5kqK5wlvMZrMbhS6d+A6GXvMZzzX2zYvk2evvp+6v0+J1jpiqqwf0o57H20onlsNF4VC6Pr4xG1mMUpeC+mSNSgUHgP+I8LEKtxU4GF+OUDPP/JFAEQTGMQrQ97bu12ngv7tDkvR7aOLZJ7OCiJPiWarrhgJ/6tAhwLlC6bYAz/9mIfeIIwaPdszHPluMnXf+MJsn7PVR4ruV69rTpxJ5q+fFwe9govzqof8bFKgEEaG4BvdUHV+VLqk+lW6B+3Jaybg8yA+K2zyUqU82onmU+MfnH7m9IVrBsxyspc+NaAs+xNAmYnlQu6YFS94D1teaNresJYjASPSN8yBIWTHVmoGK2ad7AwFIwgRjRZq7+u6JqFW5SJgaaqlwBAI072rPPG5WNb6eFTB09k0Jdpk61zmPULiA7amMqExWtbq02mrkMgwiGM7JpWsGZaywWq/XGi/mefd7ofYFE8yaNYlsiQ5Vbfnad6+ds27LUkm0aqt7qZjTnDFAlVDrTgK0LaaE0rXiJWxo6r5HAVmLPnbGD3b1XyheKAJMyg1QWhwMKPk+9H3wQIJnUtidC9FiWBK78qK6utrZj74Ryk9iA1LG0lWQQFOfE5sfT2diD6iOBofHiXmdnR8fS5EpJp4H3kEJ7tPGskpZgtxMztbC9qzjFSIMx9FqQuqksWJqW7XeJMGEo88RwZ4OmiAI3WuObNCRpzaIQYk6iFQzfmqjuhikdJqaM12S9lNkmAmNUDPtA+zUdL3pJop5eU9cak3TVep2f9gqC5NTUOknhX02M6vq3UAAAo4pCjcnzoo1RCWwyG+7B8w+4dxIjGa1okZtcVhNzz2HQAi8S6yznTRDDbnHpkTQF+Wxye+BeV8l8iVoP3uZcZqYXCCWtqR66gU70/WeaRWf3yEQyKR9GQ7kzUQ3XEZAh2R7Z4omVYlO2nPiKEZ7R8uPQhwJf0OrtPPGxCLqHzIwBXrI/TTTv1VfErIaJ2/P2K3dCA3xmdjZKoxcSTkXkh3bVC+fOUJsDzz42UJcCNW9GZL9AQKIC7mycjZufCO5htf0oFHocGqNo+/fNpBTarmvyuAJmUtUp7Pic4RrJa1p4Ob90gzX5/58HtZht46mCi02cN7Qh2hhDFF6Ad90IP8PAjJzLddpkeGncOPsYmeowu8WOywdZo1QnxLJXzhxd3AymUkYsox5vmGJGypf9pVCStPna2d1aou4jXVjnwth1pEXZmrz9AGgN3RDaCjFIN3C1LORe9q9l/szkn3FjIF2b39DOBl9bw8J+XySFK+U6yxf3Ga911V3gICRSpKpARu2KKr/hBUGdbUyzitL+z09oTN1JCoPPv1SHhHOGfAH2NhESM1Kh9ke6lsjGQazp88kNCWww66TND6YS98HdztiDyLIFiXJ03K1/iB5wbrpdVASV00faFb/rRcAKuPv1Fs40UiFul4TXpemmMZBiC5rUZpeLzlZ4sl7xnH4u2Pke97r+7hy2pV5zJTjs6hmn+gknEK5cLEtIFJBV+do3KNel6abZm2dCdVdgZZcTz9ZHUwhAqM/+pTjKWb2kuq6pRC8ls0sH55xYL248Wjjzq81M5Kzvg4b4WQwV0jNxLU0iwZ6Rsvo9Xl2o5/PnAxkKQjwsqBl/v4I8VKNsciCqdZQw9IkhAtSlFUxsN1X5HFOuOfTnF9yr4w4kkNB5DhxtxT2zC6veUJzWC3x1GV1clAZXOup1ApHAkcRUtC1bP4Gyb/kWpY2ympEk9O850B/9VZKKXAQv0Lx8P1a/Ons+GT8xgJBRfgy694komI57noyDMWsOYULo1StlZ2GxWnBt9a5GnJhq5RBcpU52YG10cSuyVONAX6gdCKkzbM0/DRZXGqzkjbaAE7F2arGnm1VjqOcdieiSJ+t5MzppPrvclUY3EYnKjFu5c16nb4xLKgWsBaA2NLosi9poZ/KZt0li7sDdf35tAjNyyZt3XyneTbp4mdmqTcHUovEnMm6CJv+3a8FKxjV1bXfkPL94wcvqCzqvj47I/sXeeuFQvJhdn/WSBEOk146RDq2g1QN1Q6m+JoFPQgh6N95pgO027DlAkCgi9O1pSM9EAy4cWNZmi6yeE0tltw+rFMXLBmbTWa+lkXfhVlszy5HQCYMvZNHkizAA55mo7OS6yhu/pXrxIhpcYqP9Favt2kkseYrMk8SOfTeCrtpEW7kwx9ZusRBntm3bst3EqjSyo24Gyt6iC42grYdOhPiA/j9l9HmCAtQba60b4uPSphDyx3CSM1tEfHVoNfeN9lNH6SHu3BSIpkdB9yNfg3I7aCzWf64kYSnAEIdlpAy2XjK/uLCKKGDNtcqOc8PCRRZeORtpZrlMtVxq22yMSeRwZNjIBJBYC+wz11dXt8/e+gmq7uiHNeVx2D5ctUA++1Pk/C5H/QvRJPQXkANv0DXr69hSFdsOQzGEofknMbuVuvRVjMae4bI9GKzhyU4Z10NY+E4r3vDj2EYxJOW21t3+Hq8UMRo5dZ/Ba7isrbZObYu7fBsELeH6+NK+i9XJjx5oWGhznsyXDmqTPVPgGAKXTbh9Cu3F3O6hw870g+Da+FhObAF/TmHSE3CJ5aiW3qpeSiYsAIUKTi0ioVI5xd9aiDdKrKI/LnMMq46anbb3pxg51wllJ+dNu0aoE/ETNsOBvkJm306Ffiuf1wWa7Ir4lauri+GoI+OVsdiyeYwDyVYrC4dDYQtq5x11OM19lKmKvSA5ZVMOF8R8hUlMtVJmP/1dsUJ6SqwglyNd84n+WlCtquoP6BG3x7vtNnQufw5YqD4xBaiSUYv1Avb9eWH76yP/edlXy3fTZ4aPr/DdWL2+I8H8fz+FYtnuQu2EC3htMgmsTYwc2VSFp8JZQVXI2AL2yO3PjonC3hRZgoctNOKLnRV0n0iWrewr3y4CBoAiEdG8/Y4vfaSBqqJLHuhiW25Z802kjlgeA1+N50Ore9AOnVpbmubYrgo4N7fP4pLzc4Nv4Fw/QvXvztnA20mDE3ThXaWQ0RwJcdLpzLahcRSBIVvXZv8E5g60xS+lFPGBr1uVUIO34wi/5mUnuadQhhMS4oMy9mBFS4peCG5GQd4hWnxjKIsT5817f3F/Nh7PloS/SFl6fet8w8eWdw5s+kLBnYPGYFPd0KNL2bIwegGHHlyTynK2HBW9yAuiThCWwl7L7+LJu8e84Z+PxrP1ScEvRargBasSgXC5Uvi1LvHcUYU7XEYnbuhPfN5D28LlIga0t/QUDmruFPTGI3xXnT4Sudq5an4vFeuCSi4T0Imch0ub6tJetziyQmOfNfyyvYqv1ciKDhUvRiw0tdxzPBqRtwMSIGBmLejzYwad8F8XHEk/i54UcDCbF0fN/cy2c19i88WeljQevzVgjR3dXv3Tx4bdpAdFZ9Zs9uXAJGW+7ci19tEcT4/wUrYI9PJiP25gLLE0TcADwwNDqUUdr78nqIalfXlM1ag4lJhrvt1m8tin3KwFQ0cl7ZY0Wi1bZjMaoaIpN1J6/soBeoWyuaOqmyoVk9HQzmVjc33+8qB/xQC+zbVtsnOyqvxt7HxalIrCIi3nH+tmVz70HCRKFTo0ZGudoniJZ21JqhVdMWzoEguHkgMYIqNJ2+cWXT7U4wAbo6hgFW1mTn1+1e1R2hcUgchgPlLDdHIgtW2ybACwRU6ilagCjX05/8bOd7/iQx9IG+fVd8CkP46TOMXSlC1xI7/8jmUzeDI3BZ7Bfy8KpOpIwGgt+94g0K6JXF0JR1zNXJ5jQzTL8KKsylw1a05faDadT4PSoH0fkqEedCNXE8tYaEB6+nuWwE25fVg/oN1dKHoRaNjbdRSWz1Re27Nt1BHEuOp5oecaMlk03TThc1lbL5o7kW/3TbCa9y8Gfqdj1RigZZbp27GoENYuRMNIwpmDETlJRLhv6OMpdODPaDPxKYOxk6mXUXV0H/uvV21jvK7feGaXYikSKZOl5yvcg2raSlILpLQocQyc4tCGV+8Z4DmKqJxPsvl6h1Dw0RSO3oyBZjkSSp5uYvXndXdoFImdSpnQS5L4nOTyVzvBF3mx6xEtqYV+DeDcQlIfYpStJWPA12aZz9FYwFgr8WSOPmHrGRJ+6isex/GCJDFT7RAHvIuBd8a4mBOdq1sQOT7Q+mM+thxH4hyH/EaPhlor4399+Mroznd5QdYY+D3p0UjZRV7ZTJVmNpPSL/u+qwRLeC44aqHX///Xo4ywWi0r331J1VQJ/xKah3RFbBSsnMeC7ebC7MqcpYfcicdF9gFVbGbyGV2S5P9RJUccMMRp42Udx4wX4fb4Wl/H7hvtHYZC6aGbiQJDMnjDroHV2OVrw3fke3DErrvD/vnNzf0zzMz625gZxF2/TLo13cb3Co2uwvADM/gCKB8qILzmnOuNh4PhMJBZxG03gtvuRz4KOEZr9dJhztwwxm7XrEzXHJlil9fxE8/99pu2D063vWzWwRqCE49rIFrH8+33MFy7f7YzGPUiNyh1DCx9OQq78yPdNbYh/qAWBsae3jvKmveatfD/vN7qmZERcfWN857ZkyujrgiCdxRMvriaOcv/m9vEj5G5xSrOELfgf/pyMuj3ev3YVGWZblLTMzUbBXurnKmU0pJSE9qdwtFV3Rwdf9wxHflU1779DfPPDtvXRJrE6vnDEzb4h5K9bJgOXHcYlSUEO+zkw/k6E3DsqDuXJzxggrmW5o/rxVAKWYauE7iL/E9vvcoHWfO4eHjpz/K4M5AaHhTDq2kA5PBglzvPbEh+/FsyfpAUf8nVVOvuFwBvsBJD8/L8xg/wXN9rA8EV+hmf87gqJDClq0WU5kRZMGLqSldJmmJcVugbYNHjgA8yEBMzGXz6M+z9aSi/b1CMeL2CoFoaNwD0yxslOSw0qI/Icb4XBH5ktSlQh0YHNrZooOXsRz8Pvqtx/C61T9C+CKnmjJwqm2zmSdeplXX+E1+upPkdAbf7app7h8MHEixzukc3ZPG8KNopxb7TbS0nWxSzmswPKk0ocNgYU62DiX761ft7fFBI9O6LpaJJm5rDo0JURhG5g+30O2zA6Rcva1ons+E1keZ87AlvScPBQCo/9AQ4bJs8Vs7ljqwcf4LEncHL504bL/uETJvLttpwTePmB/F448ctLjgNooGPMKx9+HxXEeGs7v9ZW7KoTB3c+fW8DOdWWnajP6vmBwucrUuh6k21csw9P4NvN0paf4xZMPV9dny+xVcsjiOw2QOPRAKGE1H/8n1z9bMYKcoMfpRQXXNtQ6vcV73Q5RudWvPXLG7vcm0d8I7CyPQr3UWEt7s9LhTs/LAmv3OQpuGQx45S+ctu7lEGMHlmwBG88E31Qr/bwkJ5B9miN4rr4ZmvE4pA2fWB8p4iGcoxiiRwBKJl2KFMMeZNrlCYLUta7c4NHWPrXPSz7kK3/apEXC3L8V7FkafiIYtzKo8t34/j6L6RVWWxvSjDQnvp62saSTNIKpSp8MF8YJBTqRXn4/bKDY9u/t27TOKZGiDTlPNl9LxIzn95Af8Q6V97WxzRKgNKAcoXcxDpDFmJ0PPZ0lZdO2Av0S8OQfcn5WwUEJkU+hRRBQGxrXvTfmwqz1PnYK6GlRn0OD/dmLETQQCPLXhZpLH5bo5KS5ZirKGntUkeDLrie8ynyVgot2cMfJLaP/a+kqsXzu7gEvd+dMi6v9mcjYLDVFKdPElI5ru3svfcsmgUGxDiBtOMXa76YwB11Ngwn+k6KIBAOcyIxYNsLbz0ggWUEsT1fbVuYVbU6/qG+POEMTBdads42lhj2xaznTg6cnWxwTikYrDWymgyh1AMbkxj6fmm7bIFgUPlvGb0zutOBPfc2wAukagKOeQnmnlfZHf+4CR5MGrqgMdXJYphWJFBq1b9ILuhCHjh9dLT0Pu7D/ZTZsH02Bpz28Ch5r5PnW7mF7VEvkyr4+q6pm1Ic8QwuAEmkBZPVDgPrQaADaSmn1Iwnn2u8XVNpd7pG7l3rotQhNkOXeGjzsEgkvyQIBMvTgHvEif8BhAazlCf/DAGTPXRIsedHJEKzD1MCzlCznBX3UwR2f1iw5t3Uu6QFdLZo2DYE4LzvzTD0ReGKpJgxtxq8VEZZGXsTxn9HHIx2+eIff9jNhVzJ5MRVC3DKN4g/AnaaOD4b+D5kiu0bzJQuoxieR7kNIO177z4KXMWmbH7pA3d88NoHe+jt2mkvANHQvpvn1yhID+SzFn0SdXFySuxB+GvfLESBr2I2aPTcSKIWV6Zn55Kpb0rcmQcHty0toicxMCbDMKV3XT9ealTJl5aWb5DG1KNQgLo282CcAhivJ4qwQCfdxlOrbaC2FN0BdeGVMk+cDWvkfnb/jb2pGM5foo7X1P/hYBrxRRgf37RUwootu2sV+oAIhVDDUScvSEB0isHvL9NQAAOvPUzvrNaz1Gc/6cg6DQAvvjzLTqS1l2A6pMlYeroHQA1yJQGs38HMeSpDZ4JZ0aoGrcVN/6dxgQLX6DMseTDiwsxIx+JYdZP7eWueDABv/Ln56PynSBtoSudK5Io2coNroMO4lL9oK+0tth65VwtFE7HdLRg2WHGZI3TP2lwIWu9HBaik/tD3mLDL6PZ+Y4fn7mvr5L6tZCVvyHC5gR8e9j8XYXWrjuPEKCEy173tXFQkrg+j3C+Y0MyS3WcjNoPLhYVzMHWxJvxzrJHyCwkyopEkYziB4/mnM6OCBgRy+xkASUe9o7Zs0AWwkZZLrvO6vVknZ3RE6thUdrreLSj1X7K1nb8U4/LYWvPWTO4lKoymKOyRgtLtkqvZcAxGucdFmCPuoRNEeYszW/GcpVVnQ+PJOJhv+QjYXV0I+JgpLMryItIhhrbTjHSrCfw4mTtilp/V+WEGyzsrihVeUdvWLWfs+YlgPl/oYCl0fEJvVwtWIteF1G9nQiOZD/S/C96m6UgsNQGsBwWyBKZDRMxc6YXrB53RNo6bFfYTlUqdoE9ZL1Mh9kzJtvNQLQJsCoDluxnH/M6MYPZRClLgAFQ0tl00no/WC5rDLfvhfCx45Qv+7IbIHt7WVT22QMRu60MFWjYQ+YmtOLOW5rfORqOYZbgYR5h3MWRrs5SWbFeGYnxc9mpx5Bz/+0KAG5KDxIH4Kv7sUrJao7n1cUumQoANwL4bSAOHoTAYABKhDEYXrGDo5eiIeGaowuqA80MYwA132ZRv2JCUEWDwqAIwbjYQhGUkyjYlWgT1lUkHtO6JgGzkia9MhnYDEPb4I4g27EYW1JUsZ3YjW6VGA+5KgQTetlbL/uwmNjmMJR8xlHUcoNj0PKdd/zhPf17otdWJ2FOPHYKSn5BjObEmNPQ8qwzsCYU/1kYFQO4K8zB8bMX2iZNilS5uGBmFm5SmZIdKK+00GDRpjKdbFspRURInRBUaEdZL0SctubXdSGzQzGOal1CdUxDPKyce8ej4ev0s4yFD+Qq/R8IJ5CgX4d4Ihp4ByDIBFI6X/2EXfuKCspQd1zVUx+6mBiT3knKkf6BKJe2HapmSMkTWNY9sBUpS1XkU1qlWFO3pMyOgu7VKxmmckjhNHArcx/v0N7XVPiSPOLvT9xXinnH9q6WEpPi7B5SKhcDe8djOlM7NxFKV66TySEjPRPVR/tFclnrTkHEvFU75WWzW3kFv3OVj93Z2IX8wqenfvCJwKm466ii61W8Y5X2YZg/avtloQtgwHdTqPTXEYFgwNRTnnrilngJllJaJZ/ahXlerz7tRNSCrKLNUpaM6oYUeW/7jgGDbktRUqRwOvf96hGpVur3iy7x/eRs9c4hn4JDErjDQ7o0GbJkyubJS451vEVteYgpH41FlP+Hc1GefBlEUq1FigLfU5FCO5UoFiqIqG2kMqXKVSgvUnxU0832uOC9i079LRhvz02hQhqkg7PORU3QF6nh69RSMazRC+rIgYEp4ahQWJTp8XqA33wnk+T1jhq5HsOH6Xm/reHVWMNDJBYJCjRwWvyu2T3derRpx/DqaKBgQOwJGL8wtoemckfEmGYC/484v95lVyy1opDPjrhvFpeEzD5lXf9twFKtxiPHY4NXnAPcjXrplYPeGLPPXvtVie3ydYLEuj/qEf6wXL5QLJUr1Vq90Wy1O91efwAZluOHgogkWVEx0XTDtKjtuJ4fhFGcDM/jAsXouG37hOjpk+ZCn77Yh+MZjlijSBpXSKvugkI0Y/8DNMMBJBBFh3vKMwJRhnUbgDOc8poMBMlCVNhRGQ4gQbIQZS3XWQXegF/DMIhDtRkFVB3wwvPB8yEpzqFqZw+GT2aW3TlBGEX+un2LDYQGkuY24PbA5PkQKqx79+Zxfzv9XEGzAr+Cb2HT8wcC5B8Sl6eIC4QSUtLN+yTQdPVAViFLrZGesxFvpc8lGNCew0IK150hOCv5t7bdacuJVbOSyEqc7gwrWZm5i2y+6n4TuSkZCplOhZ6QBQcwwuvwKHFnO+wCHE+ZkUy3QO8qZCCtYE22LJWMtcD3y5BDvIQBc3t5HkpQKzPXp5nYCFcO9Tk/sPLNfI5W/ML0MCMiqHcBta+oDWqJRuQRdQR/hldgfVqPQXsXaP9K29CWdMQeceZdzHsdm1e009LDn196KHmYvxDfnplUjgpkuTvzimWJ5KSlODtNMG/6/CvyakpYd35Fa7wDAAAA\") format('woff2-variations');\n",
              "  unicode-range: U+0000-00FF,U+0131,U+0152-0153,U+02BB-02BC,U+02C6,U+02DA,U+02DC,U+0304,U+0308,U+0329,U+2000-206F,U+20AC,U+2122,U+2191,U+2193,U+2212,U+2215,U+FEFF,U+FFFD;\n",
              "}</style><style xmlns=\"http://www.w3.org/1999/xhtml\">@import url(\"https://cdnjs.cloudflare.com/ajax/libs/font-awesome/6.2.0/css/all.min.css\"); p {margin: 0;}</style><style>#export-svg{font-family:\"Recursive Variable\",arial,sans-serif;font-size:14px;fill:#28253D;}@keyframes edge-animation-frame{from{stroke-dashoffset:0;}}@keyframes dash{to{stroke-dashoffset:0;}}#export-svg .edge-animation-slow{stroke-dasharray:9,5!important;stroke-dashoffset:900;animation:dash 50s linear infinite;stroke-linecap:round;}#export-svg .edge-animation-fast{stroke-dasharray:9,5!important;stroke-dashoffset:900;animation:dash 20s linear infinite;stroke-linecap:round;}#export-svg .error-icon{fill:#ffffff;}#export-svg .error-text{fill:#000000;stroke:#000000;}#export-svg .edge-thickness-normal{stroke-width:2px;}#export-svg .edge-thickness-thick{stroke-width:3.5px;}#export-svg .edge-pattern-solid{stroke-dasharray:0;}#export-svg .edge-thickness-invisible{stroke-width:0;fill:none;}#export-svg .edge-pattern-dashed{stroke-dasharray:3;}#export-svg .edge-pattern-dotted{stroke-dasharray:2;}#export-svg .marker{fill:#000000;stroke:#000000;}#export-svg .marker.cross{stroke:#000000;}#export-svg svg{font-family:\"Recursive Variable\",arial,sans-serif;font-size:14px;}#export-svg p{margin:0;}#export-svg .label{font-family:\"Recursive Variable\",arial,sans-serif;color:#28253D;}#export-svg .cluster-label text{fill:#000000;}#export-svg .cluster-label span{color:#000000;}#export-svg .cluster-label span p{background-color:transparent;}#export-svg .label text,#export-svg span{fill:#28253D;color:#28253D;}#export-svg .node rect,#export-svg .node circle,#export-svg .node ellipse,#export-svg .node polygon,#export-svg .node path{fill:#ffffff;stroke:#28253D;stroke-width:2px;}#export-svg .rough-node .label text,#export-svg .node .label text,#export-svg .image-shape .label,#export-svg .icon-shape .label{text-anchor:middle;}#export-svg .node .katex path{fill:#000;stroke:#000;stroke-width:1px;}#export-svg .rough-node .label,#export-svg .node .label,#export-svg .image-shape .label,#export-svg .icon-shape .label{text-align:center;}#export-svg .node.clickable{cursor:pointer;}#export-svg .root .anchor path{fill:#000000!important;stroke-width:0;stroke:#000000;}#export-svg .arrowheadPath{fill:#000000;}#export-svg .edgePath .path{stroke:#000000;stroke-width:2px;}#export-svg .flowchart-link{stroke:#000000;fill:none;}#export-svg .edgeLabel{background-color:hsl(-120, 0%, 80%);text-align:center;}#export-svg .edgeLabel p{background-color:hsl(-120, 0%, 80%);}#export-svg .edgeLabel rect{opacity:0.5;background-color:hsl(-120, 0%, 80%);fill:hsl(-120, 0%, 80%);}#export-svg .labelBkg{background-color:rgba(204, 204, 204, 0.5);}#export-svg .cluster rect{fill:#F9F9FB;stroke:#BDBCCC;stroke-width:2px;}#export-svg .cluster text{fill:#000000;}#export-svg .cluster span{color:#000000;}#export-svg div.mermaidTooltip{position:absolute;text-align:center;max-width:200px;padding:2px;font-family:\"Recursive Variable\",arial,sans-serif;font-size:12px;background:#ffffff;border:1px solid hsl(0, 0%, 90%);border-radius:2px;pointer-events:none;z-index:100;}#export-svg .flowchartTitleText{text-anchor:middle;font-size:18px;fill:#28253D;}#export-svg rect.text{fill:none;stroke-width:0;}#export-svg .icon-shape,#export-svg .image-shape{background-color:hsl(-120, 0%, 80%);text-align:center;}#export-svg .icon-shape p,#export-svg .image-shape p{background-color:hsl(-120, 0%, 80%);padding:2px;}#export-svg .icon-shape rect,#export-svg .image-shape rect{opacity:0.5;background-color:hsl(-120, 0%, 80%);fill:hsl(-120, 0%, 80%);}#export-svg .label-icon{display:inline-block;height:1em;overflow:visible;vertical-align:-0.125em;}#export-svg .node .label-icon path{fill:currentColor;stroke:revert;stroke-width:revert;}#export-svg .node .neo-node{stroke:#28253D;}#export-svg [data-look=\"neo\"].node rect,#export-svg [data-look=\"neo\"].cluster rect,#export-svg [data-look=\"neo\"].node polygon{stroke:#28253D;filter:url(#drop-shadow);}#export-svg [data-look=\"neo\"].node path{stroke:#28253D;stroke-width:2;}#export-svg [data-look=\"neo\"].node .outer-path{filter:url(#drop-shadow);}#export-svg [data-look=\"neo\"].node .neo-line path{stroke:#28253D;filter:none;}#export-svg [data-look=\"neo\"].node circle{stroke:#28253D;filter:url(#drop-shadow);}#export-svg [data-look=\"neo\"].node circle .state-start{fill:#000000;}#export-svg [data-look=\"neo\"].statediagram-cluster rect{fill:#F9F9FB;stroke:#28253D;stroke-width:2;}#export-svg [data-look=\"neo\"].icon-shape .icon{fill:#28253D;filter:url(#drop-shadow);}#export-svg [data-look=\"neo\"].icon-shape .icon-neo path{stroke:#28253D;filter:url(#drop-shadow);}#export-svg :root{--mermaid-font-family:\"trebuchet ms\",verdana,arial,sans-serif;}</style><g><marker id=\"export-svg_flowchart-v2-pointEnd\" class=\"marker flowchart-v2\" viewBox=\"0 0 11.5 14\" refX=\"7.75\" refY=\"7\" markerUnits=\"userSpaceOnUse\" markerWidth=\"10.5\" markerHeight=\"14\" orient=\"auto\"><path d=\"M 0 0 L 11.5 7 L 0 14 z\" class=\"arrowMarkerPath\" style=\"stroke-width: 0px; stroke-dasharray: 1, 0;\"/></marker><marker id=\"export-svg_flowchart-v2-pointStart\" class=\"marker flowchart-v2\" viewBox=\"0 0 11.5 14\" refX=\"4\" refY=\"7\" markerUnits=\"userSpaceOnUse\" markerWidth=\"11.5\" markerHeight=\"14\" orient=\"auto\"><polygon points=\"0,7 11.5,14 11.5,0\" class=\"arrowMarkerPath\" style=\"stroke-width: 0px; stroke-dasharray: 1, 0;\"/></marker><marker id=\"export-svg_flowchart-v2-pointEnd-margin\" class=\"marker flowchart-v2\" viewBox=\"0 0 11.5 14\" refX=\"11.5\" refY=\"7\" markerUnits=\"userSpaceOnUse\" markerWidth=\"10.5\" markerHeight=\"14\" orient=\"auto\"><path d=\"M 0 0 L 11.5 7 L 0 14 z\" class=\"arrowMarkerPath\" style=\"stroke-width: 0px; stroke-dasharray: 1, 0;\"/></marker><marker id=\"export-svg_flowchart-v2-pointStart-margin\" class=\"marker flowchart-v2\" viewBox=\"0 0 11.5 14\" refX=\"1\" refY=\"7\" markerUnits=\"userSpaceOnUse\" markerWidth=\"11.5\" markerHeight=\"14\" orient=\"auto\"><polygon points=\"0,7 11.5,14 11.5,0\" class=\"arrowMarkerPath\" style=\"stroke-width: 0px; stroke-dasharray: 1, 0;\"/></marker><marker id=\"export-svg_flowchart-v2-circleEnd\" class=\"marker flowchart-v2\" viewBox=\"0 0 10 10\" refY=\"5\" refX=\"10.75\" markerUnits=\"userSpaceOnUse\" markerWidth=\"14\" markerHeight=\"14\" orient=\"auto\"><circle cx=\"5\" cy=\"5\" r=\"5\" class=\"arrowMarkerPath\" style=\"stroke-width: 0px; stroke-dasharray: 1, 0;\"/></marker><marker id=\"export-svg_flowchart-v2-circleStart\" class=\"marker flowchart-v2\" viewBox=\"0 0 10 10\" refX=\"0\" refY=\"5\" markerUnits=\"userSpaceOnUse\" markerWidth=\"14\" markerHeight=\"14\" orient=\"auto\"><circle cx=\"5\" cy=\"5\" r=\"5\" class=\"arrowMarkerPath\" style=\"stroke-width: 0px; stroke-dasharray: 1, 0;\"/></marker><marker id=\"export-svg_flowchart-v2-circleEnd-margin\" class=\"marker flowchart-v2\" viewBox=\"0 0 10 10\" refY=\"5\" refX=\"12.25\" markerUnits=\"userSpaceOnUse\" markerWidth=\"14\" markerHeight=\"14\" orient=\"auto\"><circle cx=\"5\" cy=\"5\" r=\"5\" class=\"arrowMarkerPath\" style=\"stroke-width: 0px; stroke-dasharray: 1, 0;\"/></marker><marker id=\"export-svg_flowchart-v2-circleStart-margin\" class=\"marker flowchart-v2\" viewBox=\"0 0 10 10\" refX=\"-2\" refY=\"5\" markerUnits=\"userSpaceOnUse\" markerWidth=\"14\" markerHeight=\"14\" orient=\"auto\"><circle cx=\"5\" cy=\"5\" r=\"5\" class=\"arrowMarkerPath\" style=\"stroke-width: 0px; stroke-dasharray: 1, 0;\"/></marker><marker id=\"export-svg_flowchart-v2-crossEnd\" class=\"marker cross flowchart-v2\" viewBox=\"0 0 15 15\" refX=\"17.7\" refY=\"7.5\" markerUnits=\"userSpaceOnUse\" markerWidth=\"12\" markerHeight=\"12\" orient=\"auto\"><path d=\"M 1,1 L 14,14 M 1,14 L 14,1\" class=\"arrowMarkerPath\" style=\"stroke-width: 2.5;\"/></marker><marker id=\"export-svg_flowchart-v2-crossStart\" class=\"marker cross flowchart-v2\" viewBox=\"0 0 15 15\" refX=\"-3.5\" refY=\"7.5\" markerUnits=\"userSpaceOnUse\" markerWidth=\"12\" markerHeight=\"12\" orient=\"auto\"><path d=\"M 1,1 L 14,14 M 1,14 L 14,1\" class=\"arrowMarkerPath\" style=\"stroke-width: 2.5; stroke-dasharray: 1, 0;\"/></marker><marker id=\"export-svg_flowchart-v2-crossEnd-margin\" class=\"marker cross flowchart-v2\" viewBox=\"0 0 15 15\" refX=\"17.7\" refY=\"7.5\" markerUnits=\"userSpaceOnUse\" markerWidth=\"12\" markerHeight=\"12\" orient=\"auto\"><path d=\"M 1,1 L 14,14 M 1,14 L 14,1\" class=\"arrowMarkerPath\" style=\"stroke-width: 2.5;\"/></marker><marker id=\"export-svg_flowchart-v2-crossStart-margin\" class=\"marker cross flowchart-v2\" viewBox=\"0 0 15 15\" refX=\"-3.5\" refY=\"7.5\" markerUnits=\"userSpaceOnUse\" markerWidth=\"12\" markerHeight=\"12\" orient=\"auto\"><path d=\"M 1,1 L 14,14 M 1,14 L 14,1\" class=\"arrowMarkerPath\" style=\"stroke-width: 2.5; stroke-dasharray: 1, 0;\"/></marker><g class=\"root\"><g class=\"clusters\"/><g class=\"edgePaths\"><path d=\"M73.98185324367088,276.5L137.98922034608407,149.51500958610907Q142.28125,141 151.81681011997318,141L168.4609375,141\" id=\"L_A_C_0\" class=\"edge-thickness-normal edge-pattern-solid edge-thickness-normal edge-pattern-solid flowchart-link\" style=\"stroke-dasharray: 0 0 167.06260681152344 9; stroke-dashoffset: 0;;\" data-edge=\"true\" data-et=\"edge\" data-id=\"L_A_C_0\" data-points=\"W3sieCI6NzMuOTgxODUzMjQzNjcwODgsInkiOjI3Ni41fSx7IngiOjE0Mi4yODEyNSwieSI6MTQxfSx7IngiOjE3Mi40NjA5Mzc1LCJ5IjoxNDF9XQ==\" marker-end=\"url(#export-svg_flowchart-v2-pointEnd-margin)\"/><path d=\"M73.98185324367088,321.5L137.98922034608407,448.48499041389096Q142.28125,457 151.81681011997318,457L163.28125,457\" id=\"L_A_B_0\" class=\"edge-thickness-normal edge-pattern-solid edge-thickness-normal edge-pattern-solid flowchart-link\" style=\"stroke-dasharray: 0 0 161.88291931152344 9; stroke-dashoffset: 0;;\" data-edge=\"true\" data-et=\"edge\" data-id=\"L_A_B_0\" data-points=\"W3sieCI6NzMuOTgxODUzMjQzNjcwODgsInkiOjMyMS41fSx7IngiOjE0Mi4yODEyNSwieSI6NDU3fSx7IngiOjE2Ny4yODEyNSwieSI6NDU3fV0=\" marker-end=\"url(#export-svg_flowchart-v2-pointEnd-margin)\"/><path d=\"M246.14008109177215,118.5L296.4437170904412,69.33885500932236Q303.953125,62 314.453125,62L324.953125,62\" id=\"L_C_G_0\" class=\"edge-thickness-normal edge-pattern-solid edge-thickness-normal edge-pattern-solid flowchart-link\" style=\"stroke-dasharray: 0 0 91.80984497070312 9; stroke-dashoffset: 0;;\" data-edge=\"true\" data-et=\"edge\" data-id=\"L_C_G_0\" data-points=\"W3sieCI6MjQ2LjE0MDA4MTA5MTc3MjE1LCJ5IjoxMTguNX0seyJ4IjozMDMuOTUzMTI1LCJ5Ijo2Mn0seyJ4IjozMjguOTUzMTI1LCJ5Ijo2Mn1d\" marker-end=\"url(#export-svg_flowchart-v2-pointEnd-margin)\"/><path d=\"M246.14008109177215,163.5L296.4437170904412,212.66114499067763Q303.953125,220 314.453125,220L324.953125,220\" id=\"L_C_F_0\" class=\"edge-thickness-normal edge-pattern-solid edge-thickness-normal edge-pattern-solid flowchart-link\" style=\"stroke-dasharray: 0 0 91.80984497070312 9; stroke-dashoffset: 0;;\" data-edge=\"true\" data-et=\"edge\" data-id=\"L_C_F_0\" data-points=\"W3sieCI6MjQ2LjE0MDA4MTA5MTc3MjE1LCJ5IjoxNjMuNX0seyJ4IjozMDMuOTUzMTI1LCJ5IjoyMjB9LHsieCI6MzI4Ljk1MzEyNSwieSI6MjIwfV0=\" marker-end=\"url(#export-svg_flowchart-v2-pointEnd-margin)\"/><path d=\"M246.14008109177215,434.5L296.4437170904412,385.33885500932234Q303.953125,378 314.453125,378L324.953125,378\" id=\"L_B_E_0\" class=\"edge-thickness-normal edge-pattern-solid edge-thickness-normal edge-pattern-solid flowchart-link\" style=\"stroke-dasharray: 0 0 91.8098373413086 9; stroke-dashoffset: 0;;\" data-edge=\"true\" data-et=\"edge\" data-id=\"L_B_E_0\" data-points=\"W3sieCI6MjQ2LjE0MDA4MTA5MTc3MjE1LCJ5Ijo0MzQuNX0seyJ4IjozMDMuOTUzMTI1LCJ5IjozNzh9LHsieCI6MzI4Ljk1MzEyNSwieSI6Mzc4fV0=\" marker-end=\"url(#export-svg_flowchart-v2-pointEnd-margin)\"/><path d=\"M246.14008109177215,479.5L296.4437170904412,528.6611449906776Q303.953125,536 314.453125,536L324.953125,536\" id=\"L_B_D_0\" class=\"edge-thickness-normal edge-pattern-solid edge-thickness-normal edge-pattern-solid flowchart-link\" style=\"stroke-dasharray: 0 0 91.80985260009766 9; stroke-dashoffset: 0;;\" data-edge=\"true\" data-et=\"edge\" data-id=\"L_B_D_0\" data-points=\"W3sieCI6MjQ2LjE0MDA4MTA5MTc3MjE1LCJ5Ijo0NzkuNX0seyJ4IjozMDMuOTUzMTI1LCJ5Ijo1MzZ9LHsieCI6MzI4Ljk1MzEyNSwieSI6NTM2fV0=\" marker-end=\"url(#export-svg_flowchart-v2-pointEnd-margin)\"/></g><g class=\"edgeLabels\"><g class=\"edgeLabel\"><g class=\"label\" data-id=\"L_A_C_0\" transform=\"translate(0, 0)\"><foreignObject width=\"0\" height=\"0\"><div style=\"display: table-cell; white-space: normal; line-height: 1.5; max-width: 200px; text-align: center;\" xmlns=\"http://www.w3.org/1999/xhtml\" class=\"labelBkg\"><span class=\"edgeLabel\"></span></div></foreignObject></g></g><g class=\"edgeLabel\"><g class=\"label\" data-id=\"L_A_B_0\" transform=\"translate(0, 0)\"><foreignObject width=\"0\" height=\"0\"><div style=\"display: table-cell; white-space: normal; line-height: 1.5; max-width: 200px; text-align: center;\" xmlns=\"http://www.w3.org/1999/xhtml\" class=\"labelBkg\"><span class=\"edgeLabel\"></span></div></foreignObject></g></g><g class=\"edgeLabel\"><g class=\"label\" data-id=\"L_C_G_0\" transform=\"translate(0, 0)\"><foreignObject width=\"0\" height=\"0\"><div style=\"display: table-cell; white-space: normal; line-height: 1.5; max-width: 200px; text-align: center;\" xmlns=\"http://www.w3.org/1999/xhtml\" class=\"labelBkg\"><span class=\"edgeLabel\"></span></div></foreignObject></g></g><g class=\"edgeLabel\"><g class=\"label\" data-id=\"L_C_F_0\" transform=\"translate(0, 0)\"><foreignObject width=\"0\" height=\"0\"><div style=\"display: table-cell; white-space: normal; line-height: 1.5; max-width: 200px; text-align: center;\" xmlns=\"http://www.w3.org/1999/xhtml\" class=\"labelBkg\"><span class=\"edgeLabel\"></span></div></foreignObject></g></g><g class=\"edgeLabel\"><g class=\"label\" data-id=\"L_B_E_0\" transform=\"translate(0, 0)\"><foreignObject width=\"0\" height=\"0\"><div style=\"display: table-cell; white-space: normal; line-height: 1.5; max-width: 200px; text-align: center;\" xmlns=\"http://www.w3.org/1999/xhtml\" class=\"labelBkg\"><span class=\"edgeLabel\"></span></div></foreignObject></g></g><g class=\"edgeLabel\"><g class=\"label\" data-id=\"L_B_D_0\" transform=\"translate(0, 0)\"><foreignObject width=\"0\" height=\"0\"><div style=\"display: table-cell; white-space: normal; line-height: 1.5; max-width: 200px; text-align: center;\" xmlns=\"http://www.w3.org/1999/xhtml\" class=\"labelBkg\"><span class=\"edgeLabel\"></span></div></foreignObject></g></g></g><g class=\"nodes\"><g class=\"node default\" id=\"flowchart-A-0\" data-id=\"A\" data-node=\"true\" data-et=\"node\" data-look=\"neo\" transform=\"translate(62.640625, 299)\"><rect class=\"basic label-container\" style=\"\" data-id=\"A\" x=\"-54.640625\" y=\"-22.5\" width=\"109.28125\" height=\"45\" stroke=\"url(#gradient)\"/><g class=\"label\" style=\"\" transform=\"translate(-38.640625, -10.5)\"><rect/><foreignObject width=\"77.28125\" height=\"21\"><div style=\"display: table-cell; white-space: normal; line-height: 1.5; max-width: 200px; text-align: center;\" xmlns=\"http://www.w3.org/1999/xhtml\"><span class=\"nodeLabel\"><p>Data Types</p></span></div></foreignObject></g></g><g class=\"node default\" id=\"flowchart-C-1\" data-id=\"C\" data-node=\"true\" data-et=\"node\" data-look=\"neo\" transform=\"translate(223.1171875, 141)\"><rect class=\"basic label-container\" style=\"\" data-id=\"C\" x=\"-50.65625\" y=\"-22.5\" width=\"101.3125\" height=\"45\" stroke=\"url(#gradient)\"/><g class=\"label\" style=\"\" transform=\"translate(-34.65625, -10.5)\"><rect/><foreignObject width=\"69.3125\" height=\"21\"><div style=\"display: table-cell; white-space: normal; line-height: 1.5; max-width: 200px; text-align: center;\" xmlns=\"http://www.w3.org/1999/xhtml\"><span class=\"nodeLabel\"><p>Numerical</p></span></div></foreignObject></g></g><g class=\"node default\" id=\"flowchart-B-2\" data-id=\"B\" data-node=\"true\" data-et=\"node\" data-look=\"neo\" transform=\"translate(223.1171875, 457)\"><rect class=\"basic label-container\" style=\"\" data-id=\"B\" x=\"-55.8359375\" y=\"-22.5\" width=\"111.671875\" height=\"45\" stroke=\"url(#gradient)\"/><g class=\"label\" style=\"\" transform=\"translate(-39.8359375, -10.5)\"><rect/><foreignObject width=\"79.671875\" height=\"21\"><div style=\"display: table-cell; white-space: normal; line-height: 1.5; max-width: 200px; text-align: center;\" xmlns=\"http://www.w3.org/1999/xhtml\"><span class=\"nodeLabel\"><p>Categorical</p></span></div></foreignObject></g></g><g class=\"node default\" id=\"flowchart-G-4\" data-id=\"G\" data-node=\"true\" data-et=\"node\" data-look=\"neo\" transform=\"translate(444.953125, 62)\"><rect class=\"basic label-container\" style=\"\" data-id=\"G\" x=\"-116\" y=\"-54\" width=\"232\" height=\"108\" stroke=\"url(#gradient)\"/><g class=\"label\" style=\"\" transform=\"translate(-100, -42)\"><rect/><foreignObject width=\"200\" height=\"84\"><div style=\"display: table; white-space: break-spaces; line-height: 1.5; max-width: 200px; text-align: center; width: 200px;\" xmlns=\"http://www.w3.org/1999/xhtml\"><span class=\"nodeLabel\"><p>Continuous<br /><i>Examples:</i><br />Weight, height, room temperature, time</p></span></div></foreignObject></g></g><g class=\"node default\" id=\"flowchart-F-5\" data-id=\"F\" data-node=\"true\" data-et=\"node\" data-look=\"neo\" transform=\"translate(444.953125, 220)\"><rect class=\"basic label-container\" style=\"\" data-id=\"F\" x=\"-116\" y=\"-54\" width=\"232\" height=\"108\" stroke=\"url(#gradient)\"/><g class=\"label\" style=\"\" transform=\"translate(-100, -42)\"><rect/><foreignObject width=\"200\" height=\"84\"><div style=\"display: table; white-space: break-spaces; line-height: 1.5; max-width: 200px; text-align: center; width: 200px;\" xmlns=\"http://www.w3.org/1999/xhtml\"><span class=\"nodeLabel\"><p>Discrete<br /><i>Examples:</i><br />Number of children, dice rolls</p></span></div></foreignObject></g></g><g class=\"node default\" id=\"flowchart-E-7\" data-id=\"E\" data-node=\"true\" data-et=\"node\" data-look=\"neo\" transform=\"translate(444.953125, 378)\"><rect class=\"basic label-container\" style=\"\" data-id=\"E\" x=\"-116\" y=\"-54\" width=\"232\" height=\"108\" stroke=\"url(#gradient)\"/><g class=\"label\" style=\"\" transform=\"translate(-100, -42)\"><rect/><foreignObject width=\"200\" height=\"84\"><div style=\"display: table; white-space: break-spaces; line-height: 1.5; max-width: 200px; text-align: center; width: 200px;\" xmlns=\"http://www.w3.org/1999/xhtml\"><span class=\"nodeLabel\"><p>Ordinal<br /><i>Examples:</i><br />Education level, satisfaction rating (1-5)</p></span></div></foreignObject></g></g><g class=\"node default\" id=\"flowchart-D-8\" data-id=\"D\" data-node=\"true\" data-et=\"node\" data-look=\"neo\" transform=\"translate(444.953125, 536)\"><rect class=\"basic label-container\" style=\"\" data-id=\"D\" x=\"-116\" y=\"-54\" width=\"232\" height=\"108\" stroke=\"url(#gradient)\"/><g class=\"label\" style=\"\" transform=\"translate(-100, -42)\"><rect/><foreignObject width=\"200\" height=\"84\"><div style=\"display: table; white-space: break-spaces; line-height: 1.5; max-width: 200px; text-align: center; width: 200px;\" xmlns=\"http://www.w3.org/1999/xhtml\"><span class=\"nodeLabel\"><p>Nominal<br /><i>Examples:</i><br />Gender, color, country, suburb</p></span></div></foreignObject></g></g></g></g></g><defs><filter id=\"drop-shadow\" height=\"130%\" width=\"130%\"><feDropShadow dx=\"4\" dy=\"4\" stdDeviation=\"0\" flood-opacity=\"0.06\" flood-color=\"#000000\"/></filter></defs><defs><filter id=\"drop-shadow-small\" height=\"150%\" width=\"150%\"><feDropShadow dx=\"2\" dy=\"2\" stdDeviation=\"0\" flood-opacity=\"0.06\" flood-color=\"#000000\"/></filter></defs></svg>"
            ]
          },
          "metadata": {}
        }
      ]
    },
    {
      "cell_type": "markdown",
      "source": [
        "As you go lower in the diagram, the data types become more specific but also a bit more limited — they carry less detailed information and support fewer types of analysis, and you can do fewer kinds of analysis on them."
      ],
      "metadata": {
        "id": "G-wEq2EaVXKy"
      }
    },
    {
      "cell_type": "markdown",
      "source": [
        "We’ll focus exclusively on numerical data in this unit. It is by far the most common type encountered in data analysis tasks. Categorical data will be briefly touched on in later workshops."
      ],
      "metadata": {
        "id": "VbToMTck3xkL"
      }
    },
    {
      "cell_type": "markdown",
      "source": [
        "## **Statistical Inference**\n",
        "\n",
        "This diagram illustrates the fundamental process in statistics:\n",
        "\n",
        "- We first start with a population, which is the entire set of items, individuals, or events we want to study. (e.g., all QUT students).\n",
        "\n",
        "- Since it is often impractical or impossible to collect data on the entire population, we only draw a random sample from the population. (e.g., randomly select 100 QUT students).\n",
        "\n",
        "- We then analyse the sample data and make statistical inferences (conclusions) about the larger population (e.g., average GPA).\n",
        "\n",
        "This process is the core of statistical inference — using limited data to learn about a much larger group. If we did have access to the whole population, statistical inference would be unnecessary because we would already know all the information."
      ],
      "metadata": {
        "id": "dXy8y8B976nH"
      }
    },
    {
      "cell_type": "code",
      "source": [
        "svgCode = paste(readLines(\"figures/inference.svg\", warn = F), collapse = \"\\n\")\n",
        "display_html(svgCode)"
      ],
      "metadata": {
        "id": "8mLJr2xqOLOb",
        "outputId": "4e56df2c-0f84-42ca-b2ad-4c03da1c4270",
        "colab": {
          "base_uri": "https://localhost:8080/",
          "height": 303
        }
      },
      "execution_count": 4,
      "outputs": [
        {
          "output_type": "display_data",
          "data": {
            "text/html": [
              "<svg id=\"export-svg\" width=\"100%\" xmlns=\"http://www.w3.org/2000/svg\" class=\"flowchart\" style=\"max-width: 436px;\" viewBox=\"0 0 436 282\" role=\"graphics-document document\" aria-roledescription=\"flowchart-v2\"><style xmlns=\"http://www.w3.org/1999/xhtml\">/* Copyright 2019 The Recursive Project Authors (github.com/arrowtype/recursive)\n",
              "\n",
              "This Font Software is licensed under the SIL Open Font License, Version 1.1.\n",
              "This license is copied below, and is also available with a FAQ at:\n",
              "http://scripts.sil.org/OFL\n",
              "\n",
              "\n",
              "-----------------------------------------------------------\n",
              "SIL OPEN FONT LICENSE Version 1.1 - 26 February 2007\n",
              "-----------------------------------------------------------\n",
              "\n",
              "PREAMBLE\n",
              "The goals of the Open Font License (OFL) are to stimulate worldwide\n",
              "development of collaborative font projects, to support the font creation\n",
              "efforts of academic and linguistic communities, and to provide a free and\n",
              "open framework in which fonts may be shared and improved in partnership\n",
              "with others.\n",
              "\n",
              "The OFL allows the licensed fonts to be used, studied, modified and\n",
              "redistributed freely as long as they are not sold by themselves. The\n",
              "fonts, including any derivative works, can be bundled, embedded,\n",
              "redistributed and/or sold with any software provided that any reserved\n",
              "names are not used by derivative works. The fonts and derivatives,\n",
              "however, cannot be released under any other type of license. The\n",
              "requirement for fonts to remain under this license does not apply\n",
              "to any document created using the fonts or their derivatives.\n",
              "\n",
              "DEFINITIONS\n",
              "\"Font Software\" refers to the set of files released by the Copyright\n",
              "Holder(s) under this license and clearly marked as such. This may\n",
              "include source files, build scripts and documentation.\n",
              "\n",
              "\"Reserved Font Name\" refers to any names specified as such after the\n",
              "copyright statement(s).\n",
              "\n",
              "\"Original Version\" refers to the collection of Font Software components as\n",
              "distributed by the Copyright Holder(s).\n",
              "\n",
              "\"Modified Version\" refers to any derivative made by adding to, deleting,\n",
              "or substituting -- in part or in whole -- any of the components of the\n",
              "Original Version, by changing formats or by porting the Font Software to a\n",
              "new environment.\n",
              "\n",
              "\"Author\" refers to any designer, engineer, programmer, technical\n",
              "writer or other person who contributed to the Font Software.\n",
              "\n",
              "PERMISSION &amp; CONDITIONS\n",
              "Permission is hereby granted, free of charge, to any person obtaining\n",
              "a copy of the Font Software, to use, study, copy, merge, embed, modify,\n",
              "redistribute, and sell modified and unmodified copies of the Font\n",
              "Software, subject to the following conditions:\n",
              "\n",
              "1) Neither the Font Software nor any of its individual components,\n",
              "in Original or Modified Versions, may be sold by itself.\n",
              "\n",
              "2) Original or Modified Versions of the Font Software may be bundled,\n",
              "redistributed and/or sold with any software, provided that each copy\n",
              "contains the above copyright notice and this license. These can be\n",
              "included either as stand-alone text files, human-readable headers or\n",
              "in the appropriate machine-readable metadata fields within text or\n",
              "binary files as long as those fields can be easily viewed by the user.\n",
              "\n",
              "3) No Modified Version of the Font Software may use the Reserved Font\n",
              "Name(s) unless explicit written permission is granted by the corresponding\n",
              "Copyright Holder. This restriction only applies to the primary font name as\n",
              "presented to the users.\n",
              "\n",
              "4) The name(s) of the Copyright Holder(s) or the Author(s) of the Font\n",
              "Software shall not be used to promote, endorse or advertise any\n",
              "Modified Version, except to acknowledge the contribution(s) of the\n",
              "Copyright Holder(s) and the Author(s) or with their explicit written\n",
              "permission.\n",
              "\n",
              "5) The Font Software, modified or unmodified, in part or in whole,\n",
              "must be distributed entirely under this license, and must not be\n",
              "distributed under any other license. The requirement for fonts to\n",
              "remain under this license does not apply to any document created\n",
              "using the Font Software.\n",
              "\n",
              "TERMINATION\n",
              "This license becomes null and void if any of the above conditions are\n",
              "not met.\n",
              "\n",
              "DISCLAIMER\n",
              "THE FONT SOFTWARE IS PROVIDED \"AS IS\", WITHOUT WARRANTY OF ANY KIND,\n",
              "EXPRESS OR IMPLIED, INCLUDING BUT NOT LIMITED TO ANY WARRANTIES OF\n",
              "MERCHANTABILITY, FITNESS FOR A PARTICULAR PURPOSE AND NONINFRINGEMENT\n",
              "OF COPYRIGHT, PATENT, TRADEMARK, OR OTHER RIGHT. IN NO EVENT SHALL THE\n",
              "COPYRIGHT HOLDER BE LIABLE FOR ANY CLAIM, DAMAGES OR OTHER LIABILITY,\n",
              "INCLUDING ANY GENERAL, SPECIAL, INDIRECT, INCIDENTAL, OR CONSEQUENTIAL\n",
              "DAMAGES, WHETHER IN AN ACTION OF CONTRACT, TORT OR OTHERWISE, ARISING\n",
              "FROM, OUT OF THE USE OR INABILITY TO USE THE FONT SOFTWARE OR FROM\n",
              "OTHER DEALINGS IN THE FONT SOFTWARE.\n",
              " */\n",
              "@font-face {\n",
              "  font-family: 'Recursive Variable';\n",
              "  font-style: normal;\n",
              "  font-display: swap;\n",
              "  font-weight: 300 1000;\n",
              "  src: url(\"data:font/woff2;base64,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\") format('woff2-variations');\n",
              "  unicode-range: U+0000-00FF,U+0131,U+0152-0153,U+02BB-02BC,U+02C6,U+02DA,U+02DC,U+0304,U+0308,U+0329,U+2000-206F,U+20AC,U+2122,U+2191,U+2193,U+2212,U+2215,U+FEFF,U+FFFD;\n",
              "}</style><style xmlns=\"http://www.w3.org/1999/xhtml\">@import url(\"https://cdnjs.cloudflare.com/ajax/libs/font-awesome/6.2.0/css/all.min.css\"); p {margin: 0;}</style><style>#export-svg{font-family:\"Recursive Variable\",arial,sans-serif;font-size:14px;fill:#28253D;}@keyframes edge-animation-frame{from{stroke-dashoffset:0;}}@keyframes dash{to{stroke-dashoffset:0;}}#export-svg .edge-animation-slow{stroke-dasharray:9,5!important;stroke-dashoffset:900;animation:dash 50s linear infinite;stroke-linecap:round;}#export-svg .edge-animation-fast{stroke-dasharray:9,5!important;stroke-dashoffset:900;animation:dash 20s linear infinite;stroke-linecap:round;}#export-svg .error-icon{fill:#ffffff;}#export-svg .error-text{fill:#000000;stroke:#000000;}#export-svg .edge-thickness-normal{stroke-width:2px;}#export-svg .edge-thickness-thick{stroke-width:3.5px;}#export-svg .edge-pattern-solid{stroke-dasharray:0;}#export-svg .edge-thickness-invisible{stroke-width:0;fill:none;}#export-svg .edge-pattern-dashed{stroke-dasharray:3;}#export-svg .edge-pattern-dotted{stroke-dasharray:2;}#export-svg .marker{fill:#000000;stroke:#000000;}#export-svg .marker.cross{stroke:#000000;}#export-svg svg{font-family:\"Recursive Variable\",arial,sans-serif;font-size:14px;}#export-svg p{margin:0;}#export-svg .label{font-family:\"Recursive Variable\",arial,sans-serif;color:#28253D;}#export-svg .cluster-label text{fill:#000000;}#export-svg .cluster-label span{color:#000000;}#export-svg .cluster-label span p{background-color:transparent;}#export-svg .label text,#export-svg span{fill:#28253D;color:#28253D;}#export-svg .node rect,#export-svg .node circle,#export-svg .node ellipse,#export-svg .node polygon,#export-svg .node path{fill:#ffffff;stroke:#28253D;stroke-width:2px;}#export-svg .rough-node .label text,#export-svg .node .label text,#export-svg .image-shape .label,#export-svg .icon-shape .label{text-anchor:middle;}#export-svg .node .katex path{fill:#000;stroke:#000;stroke-width:1px;}#export-svg .rough-node .label,#export-svg .node .label,#export-svg .image-shape .label,#export-svg .icon-shape .label{text-align:center;}#export-svg .node.clickable{cursor:pointer;}#export-svg .root .anchor path{fill:#000000!important;stroke-width:0;stroke:#000000;}#export-svg .arrowheadPath{fill:#000000;}#export-svg .edgePath .path{stroke:#000000;stroke-width:2px;}#export-svg .flowchart-link{stroke:#000000;fill:none;}#export-svg .edgeLabel{background-color:hsl(-120, 0%, 80%);text-align:center;}#export-svg .edgeLabel p{background-color:hsl(-120, 0%, 80%);}#export-svg .edgeLabel rect{opacity:0.5;background-color:hsl(-120, 0%, 80%);fill:hsl(-120, 0%, 80%);}#export-svg .labelBkg{background-color:rgba(204, 204, 204, 0.5);}#export-svg .cluster rect{fill:#F9F9FB;stroke:#BDBCCC;stroke-width:2px;}#export-svg .cluster text{fill:#000000;}#export-svg .cluster span{color:#000000;}#export-svg div.mermaidTooltip{position:absolute;text-align:center;max-width:200px;padding:2px;font-family:\"Recursive Variable\",arial,sans-serif;font-size:12px;background:#ffffff;border:1px solid hsl(0, 0%, 90%);border-radius:2px;pointer-events:none;z-index:100;}#export-svg .flowchartTitleText{text-anchor:middle;font-size:18px;fill:#28253D;}#export-svg rect.text{fill:none;stroke-width:0;}#export-svg .icon-shape,#export-svg .image-shape{background-color:hsl(-120, 0%, 80%);text-align:center;}#export-svg .icon-shape p,#export-svg .image-shape p{background-color:hsl(-120, 0%, 80%);padding:2px;}#export-svg .icon-shape rect,#export-svg .image-shape rect{opacity:0.5;background-color:hsl(-120, 0%, 80%);fill:hsl(-120, 0%, 80%);}#export-svg .label-icon{display:inline-block;height:1em;overflow:visible;vertical-align:-0.125em;}#export-svg .node .label-icon path{fill:currentColor;stroke:revert;stroke-width:revert;}#export-svg .node .neo-node{stroke:#28253D;}#export-svg [data-look=\"neo\"].node rect,#export-svg [data-look=\"neo\"].cluster rect,#export-svg [data-look=\"neo\"].node polygon{stroke:#28253D;filter:url(#drop-shadow);}#export-svg [data-look=\"neo\"].node path{stroke:#28253D;stroke-width:2;}#export-svg [data-look=\"neo\"].node .outer-path{filter:url(#drop-shadow);}#export-svg [data-look=\"neo\"].node .neo-line path{stroke:#28253D;filter:none;}#export-svg [data-look=\"neo\"].node circle{stroke:#28253D;filter:url(#drop-shadow);}#export-svg [data-look=\"neo\"].node circle .state-start{fill:#000000;}#export-svg [data-look=\"neo\"].statediagram-cluster rect{fill:#F9F9FB;stroke:#28253D;stroke-width:2;}#export-svg [data-look=\"neo\"].icon-shape .icon{fill:#28253D;filter:url(#drop-shadow);}#export-svg [data-look=\"neo\"].icon-shape .icon-neo path{stroke:#28253D;filter:url(#drop-shadow);}#export-svg :root{--mermaid-font-family:\"trebuchet ms\",verdana,arial,sans-serif;}</style><g><marker id=\"export-svg_flowchart-v2-pointEnd\" class=\"marker flowchart-v2\" viewBox=\"0 0 11.5 14\" refX=\"7.75\" refY=\"7\" markerUnits=\"userSpaceOnUse\" markerWidth=\"10.5\" markerHeight=\"14\" orient=\"auto\"><path d=\"M 0 0 L 11.5 7 L 0 14 z\" class=\"arrowMarkerPath\" style=\"stroke-width: 0px; stroke-dasharray: 1, 0;\"/></marker><marker id=\"export-svg_flowchart-v2-pointStart\" class=\"marker flowchart-v2\" viewBox=\"0 0 11.5 14\" refX=\"4\" refY=\"7\" markerUnits=\"userSpaceOnUse\" markerWidth=\"11.5\" markerHeight=\"14\" orient=\"auto\"><polygon points=\"0,7 11.5,14 11.5,0\" class=\"arrowMarkerPath\" style=\"stroke-width: 0px; stroke-dasharray: 1, 0;\"/></marker><marker id=\"export-svg_flowchart-v2-pointEnd-margin\" class=\"marker flowchart-v2\" viewBox=\"0 0 11.5 14\" refX=\"11.5\" refY=\"7\" markerUnits=\"userSpaceOnUse\" markerWidth=\"10.5\" markerHeight=\"14\" orient=\"auto\"><path d=\"M 0 0 L 11.5 7 L 0 14 z\" class=\"arrowMarkerPath\" style=\"stroke-width: 0px; stroke-dasharray: 1, 0;\"/></marker><marker id=\"export-svg_flowchart-v2-pointStart-margin\" class=\"marker flowchart-v2\" viewBox=\"0 0 11.5 14\" refX=\"1\" refY=\"7\" markerUnits=\"userSpaceOnUse\" markerWidth=\"11.5\" markerHeight=\"14\" orient=\"auto\"><polygon points=\"0,7 11.5,14 11.5,0\" class=\"arrowMarkerPath\" style=\"stroke-width: 0px; stroke-dasharray: 1, 0;\"/></marker><marker id=\"export-svg_flowchart-v2-circleEnd\" class=\"marker flowchart-v2\" viewBox=\"0 0 10 10\" refY=\"5\" refX=\"10.75\" markerUnits=\"userSpaceOnUse\" markerWidth=\"14\" markerHeight=\"14\" orient=\"auto\"><circle cx=\"5\" cy=\"5\" r=\"5\" class=\"arrowMarkerPath\" style=\"stroke-width: 0px; stroke-dasharray: 1, 0;\"/></marker><marker id=\"export-svg_flowchart-v2-circleStart\" class=\"marker flowchart-v2\" viewBox=\"0 0 10 10\" refX=\"0\" refY=\"5\" markerUnits=\"userSpaceOnUse\" markerWidth=\"14\" markerHeight=\"14\" orient=\"auto\"><circle cx=\"5\" cy=\"5\" r=\"5\" class=\"arrowMarkerPath\" style=\"stroke-width: 0px; stroke-dasharray: 1, 0;\"/></marker><marker id=\"export-svg_flowchart-v2-circleEnd-margin\" class=\"marker flowchart-v2\" viewBox=\"0 0 10 10\" refY=\"5\" refX=\"12.25\" markerUnits=\"userSpaceOnUse\" markerWidth=\"14\" markerHeight=\"14\" orient=\"auto\"><circle cx=\"5\" cy=\"5\" r=\"5\" class=\"arrowMarkerPath\" style=\"stroke-width: 0px; stroke-dasharray: 1, 0;\"/></marker><marker id=\"export-svg_flowchart-v2-circleStart-margin\" class=\"marker flowchart-v2\" viewBox=\"0 0 10 10\" refX=\"-2\" refY=\"5\" markerUnits=\"userSpaceOnUse\" markerWidth=\"14\" markerHeight=\"14\" orient=\"auto\"><circle cx=\"5\" cy=\"5\" r=\"5\" class=\"arrowMarkerPath\" style=\"stroke-width: 0px; stroke-dasharray: 1, 0;\"/></marker><marker id=\"export-svg_flowchart-v2-crossEnd\" class=\"marker cross flowchart-v2\" viewBox=\"0 0 15 15\" refX=\"17.7\" refY=\"7.5\" markerUnits=\"userSpaceOnUse\" markerWidth=\"12\" markerHeight=\"12\" orient=\"auto\"><path d=\"M 1,1 L 14,14 M 1,14 L 14,1\" class=\"arrowMarkerPath\" style=\"stroke-width: 2.5;\"/></marker><marker id=\"export-svg_flowchart-v2-crossStart\" class=\"marker cross flowchart-v2\" viewBox=\"0 0 15 15\" refX=\"-3.5\" refY=\"7.5\" markerUnits=\"userSpaceOnUse\" markerWidth=\"12\" markerHeight=\"12\" orient=\"auto\"><path d=\"M 1,1 L 14,14 M 1,14 L 14,1\" class=\"arrowMarkerPath\" style=\"stroke-width: 2.5; stroke-dasharray: 1, 0;\"/></marker><marker id=\"export-svg_flowchart-v2-crossEnd-margin\" class=\"marker cross flowchart-v2\" viewBox=\"0 0 15 15\" refX=\"17.7\" refY=\"7.5\" markerUnits=\"userSpaceOnUse\" markerWidth=\"12\" markerHeight=\"12\" orient=\"auto\"><path d=\"M 1,1 L 14,14 M 1,14 L 14,1\" class=\"arrowMarkerPath\" style=\"stroke-width: 2.5;\"/></marker><marker id=\"export-svg_flowchart-v2-crossStart-margin\" class=\"marker cross flowchart-v2\" viewBox=\"0 0 15 15\" refX=\"-3.5\" refY=\"7.5\" markerUnits=\"userSpaceOnUse\" markerWidth=\"12\" markerHeight=\"12\" orient=\"auto\"><path d=\"M 1,1 L 14,14 M 1,14 L 14,1\" class=\"arrowMarkerPath\" style=\"stroke-width: 2.5; stroke-dasharray: 1, 0;\"/></marker><g class=\"root\"><g class=\"clusters\"/><g class=\"edgePaths\"><path d=\"M181.7,74L113,136.45454545454547Q108,141 113,145.54545454545453L178.74023970641622,205.30930882401475\" id=\"L_Population_Sample_0\" class=\"edge-thickness-normal edge-pattern-solid edge-thickness-normal edge-pattern-solid flowchart-link\" style=\"stroke-dasharray: 0 0 183.37522888183594 9; stroke-dashoffset: 0;;\" data-edge=\"true\" data-et=\"edge\" data-id=\"L_Population_Sample_0\" data-points=\"W3sieCI6MTgxLjcsInkiOjc0fSx7IngiOjEwOCwieSI6MTQxfSx7IngiOjE4MS43LCJ5IjoyMDh9XQ==\" marker-end=\"url(#export-svg_flowchart-v2-pointEnd-margin)\"/><path d=\"M254.3,208L323,145.54545454545453Q328,141 323,136.45454545454547L257.2597602935838,76.69069117598525\" id=\"L_Sample_Population_0\" class=\"edge-thickness-normal edge-pattern-solid edge-thickness-normal edge-pattern-solid flowchart-link\" style=\"stroke-dasharray: 0 0 183.375244140625 9; stroke-dashoffset: 0;;\" data-edge=\"true\" data-et=\"edge\" data-id=\"L_Sample_Population_0\" data-points=\"W3sieCI6MjU0LjMsInkiOjIwOH0seyJ4IjozMjgsInkiOjE0MX0seyJ4IjoyNTQuMywieSI6NzR9XQ==\" marker-end=\"url(#export-svg_flowchart-v2-pointEnd-margin)\"/></g><g class=\"edgeLabels\"><g class=\"edgeLabel\" transform=\"translate(108, 141)\"><g class=\"label\" data-id=\"L_Population_Sample_0\" transform=\"translate(-100, -31.5)\"><foreignObject width=\"200\" height=\"63\"><div style=\"display: table; white-space: break-spaces; line-height: 1.5; max-width: 200px; text-align: center; width: 200px;\" xmlns=\"http://www.w3.org/1999/xhtml\" class=\"labelBkg\"><span class=\"edgeLabel\"><p>Draw a sample from the population (collect GPAs from students)</p></span></div></foreignObject></g></g><g class=\"edgeLabel\" transform=\"translate(328, 141)\"><g class=\"label\" data-id=\"L_Sample_Population_0\" transform=\"translate(-100, -42)\"><foreignObject width=\"200\" height=\"84\"><div style=\"display: table; white-space: break-spaces; line-height: 1.5; max-width: 200px; text-align: center; width: 200px;\" xmlns=\"http://www.w3.org/1999/xhtml\" class=\"labelBkg\"><span class=\"edgeLabel\"><p>Use sample GPAs to estimate average GPA of all students (infer population mean)</p></span></div></foreignObject></g></g></g><g class=\"nodes\"><g class=\"node default\" id=\"flowchart-Population-0\" data-id=\"Population\" data-node=\"true\" data-et=\"node\" data-look=\"neo\" transform=\"translate(218, 41)\"><rect class=\"basic label-container\" style=\"\" data-id=\"Population\" x=\"-116\" y=\"-33\" width=\"232\" height=\"66\" stroke=\"url(#gradient)\"/><g class=\"label\" style=\"\" transform=\"translate(-100, -21)\"><rect/><foreignObject width=\"200\" height=\"42\"><div style=\"display: table; white-space: break-spaces; line-height: 1.5; max-width: 200px; text-align: center; width: 200px;\" xmlns=\"http://www.w3.org/1999/xhtml\"><span class=\"nodeLabel\"><p>Population: QUT students (≈52,000 students)</p></span></div></foreignObject></g></g><g class=\"node default\" id=\"flowchart-Sample-1\" data-id=\"Sample\" data-node=\"true\" data-et=\"node\" data-look=\"neo\" transform=\"translate(218, 241)\"><rect class=\"basic label-container\" style=\"\" data-id=\"Sample\" x=\"-116\" y=\"-33\" width=\"232\" height=\"66\" stroke=\"url(#gradient)\"/><g class=\"label\" style=\"\" transform=\"translate(-100, -21)\"><rect/><foreignObject width=\"200\" height=\"42\"><div style=\"display: table; white-space: break-spaces; line-height: 1.5; max-width: 200px; text-align: center; width: 200px;\" xmlns=\"http://www.w3.org/1999/xhtml\"><span class=\"nodeLabel\"><p>Sample: 100 randomly selected students</p></span></div></foreignObject></g></g></g></g></g><defs><filter id=\"drop-shadow\" height=\"130%\" width=\"130%\"><feDropShadow dx=\"4\" dy=\"4\" stdDeviation=\"0\" flood-opacity=\"0.06\" flood-color=\"#000000\"/></filter></defs><defs><filter id=\"drop-shadow-small\" height=\"150%\" width=\"150%\"><feDropShadow dx=\"2\" dy=\"2\" stdDeviation=\"0\" flood-opacity=\"0.06\" flood-color=\"#000000\"/></filter></defs></svg>"
            ]
          },
          "metadata": {}
        }
      ]
    },
    {
      "cell_type": "markdown",
      "source": [
        "Having introduced the basic concepts of statistical inference, we now focus on the most fundamental tools  — **summary statistics**. These statistics describe important features of the sample data and provide essential information for drawing inferences about the population including:\n",
        "\n",
        "- What is the central or typical value of the data? *(e.g., What is the average GPA of QUT students?)*\n",
        "- How much variability or dispersion exists within the data? *(e.g., How widely do GPAs vary among QUT students?)*\n",
        "- Are there any data points that deviate markedly from the rest? *(e.g., Are there students with unusually low or high GPAs compared to their peers?)*\n",
        "\n",
        "We will call these the three measures of summary statistics, namely:\n",
        "\n",
        "- Measures of central tendency — statistics that describe the center or typical value of the data (e.g., mean, median, mode).\n",
        "- Measures of variability — statistics that describe the spread or dispersion of the data (e.g., variance, standard deviation, interquartile range).\n",
        "- Measures of shape — statistics that describe the distribution form of the data (e.g., skewness, kurtosis)."
      ],
      "metadata": {
        "id": "NHQGCh1u8Cyz"
      }
    },
    {
      "cell_type": "markdown",
      "source": [
        "## **Measures of Central Tendency**"
      ],
      "metadata": {
        "id": "U_ePA59nkztM"
      }
    },
    {
      "cell_type": "markdown",
      "source": [
        "### **Dataset**\n",
        "\n",
        "We will load a simulated dataset with 4 variables, each having 100 observations (with/without outliers). The non-outlier observations are generated from a standard Gaussian distribution. However, the magnitude of the outlying values increases across the variables. Here, the outliers are positive."
      ],
      "metadata": {
        "id": "qm3Wjdwyu6Ig"
      }
    },
    {
      "cell_type": "code",
      "source": [
        "X = read.csv(\"./datasets/centraltendency\")"
      ],
      "metadata": {
        "id": "2MREm1Vk-_2b"
      },
      "execution_count": null,
      "outputs": []
    },
    {
      "cell_type": "markdown",
      "source": [
        "First, we will use boxplots to visualise the data and get an overview of its distribution and potential outliers. We will return later to explain in detail what the various components of a boxplot represent."
      ],
      "metadata": {
        "id": "iDWJTfvL_X4t"
      }
    },
    {
      "cell_type": "code",
      "source": [
        "boxplot(X, main = \"Boxplots of several Gaussian datasets with/without outliers\")"
      ],
      "metadata": {
        "id": "WJk_M7cg_baf"
      },
      "execution_count": null,
      "outputs": []
    },
    {
      "cell_type": "markdown",
      "source": [
        "The majority of the data in each variable lie around 0. However, we observe that the magnitude of the outliers increases across variables, from 0 to 100. We expect a *good* measure of central tendency to reflect the typical values accurately even in the presence of these outliers."
      ],
      "metadata": {
        "id": "a9gS5qAp-_UT"
      }
    },
    {
      "cell_type": "markdown",
      "source": [
        "Note that `ggplot2` is great, but not always necessary. In many cases, base R plots can achieve much of the same functionality — they might just look a bit \"uglier.\" We will explore how to create boxplots in `ggplot2` in later sections."
      ],
      "metadata": {
        "id": "FrfAxXcFkm45"
      }
    },
    {
      "cell_type": "markdown",
      "source": [
        "### **Arithmetic Mean**\n",
        "\n",
        "\n",
        "The arithmetic mean is the sum of all data values divided by the number of values. It represents the \"average\" value of a dataset and is a common measure of central tendency.\n",
        "\n",
        "$$\n",
        "\\text{Mean}(x_1, \\dots, x_n) \\equiv \\bar{x} = \\frac{1}{n} \\sum_{i=1}^n x_i,\n",
        "$$\n",
        "where $\\{x_i\\}_{i=1}^n$ denotes the sample of $n$ observations.\n",
        "\n",
        "#### **Properties of Arithmetic Mean**  \n",
        "- In the absence of outliers, the arithmetic mean is an efficient and unbiased estimator of the population mean; its accuracy improves as the sample size increases.\n",
        "- Unfortunately, the arithmetic mean is sensitive to outliers and extreme values — these can substantially affect its value.\n",
        "- It is most appropriate for numeric data without significant skewness or extreme outliers.\n",
        "\n",
        "What is skewness? We will talk about it later."
      ],
      "metadata": {
        "id": "OUtX3rEuAC9O"
      }
    },
    {
      "cell_type": "markdown",
      "source": [
        "#### **R Examples**\n",
        "\n",
        "In R, the arithmetic mean can be calculated using the built-in `mean()` function. This function takes a numeric vector as input and returns the average of its elements."
      ],
      "metadata": {
        "id": "731dl3o-RB7c"
      }
    },
    {
      "cell_type": "code",
      "source": [
        "mean(X$G0)\n",
        "mean(X$G0_oult25)\n",
        "mean(X$G0_oult50)\n",
        "mean(X$G0_oult100)"
      ],
      "metadata": {
        "id": "Jussxwd-BHaM"
      },
      "execution_count": null,
      "outputs": []
    },
    {
      "cell_type": "markdown",
      "source": [
        "We can also use the `colMeans()` function to compute arithmetic means of all columns in the data frame `X`. This is generally more computationally efficient."
      ],
      "metadata": {
        "id": "A2oa14MjBRMi"
      }
    },
    {
      "cell_type": "code",
      "source": [
        "print(colMeans(X))"
      ],
      "metadata": {
        "id": "095UIq33Bdj7"
      },
      "execution_count": null,
      "outputs": []
    },
    {
      "cell_type": "markdown",
      "source": [
        "We observe that the arithmetic mean increases as the magnitude of the outliers increases. This behavior is undesirable when measuring central tendency, as it reflects a lack of robustness. Ideally, we seek a measure that is less affected by extreme values."
      ],
      "metadata": {
        "id": "EcKA0BdDB-zy"
      }
    },
    {
      "cell_type": "code",
      "source": [
        "boxplot(X, main = \"Boxplots of several Gaussian datasets with/without outliers\")\n",
        "\n",
        "cMeans = colMeans(X)\n",
        "points(1:4, cMeans, pch = 19, col = \"red\", cex = 1.25)\n",
        "# Add legend\n",
        "legend(\"topleft\", legend = c(\"Mean\"),\n",
        "       cex = c(1.25), col = c(\"red\"), bty = \"n\",\n",
        "       pch = c(19))"
      ],
      "metadata": {
        "id": "SbglkMgQDM5L"
      },
      "execution_count": null,
      "outputs": []
    },
    {
      "cell_type": "markdown",
      "source": [
        "#### **Median**\n",
        "\n",
        "The **median** is the middle value of an ordered dataset. It divides the data into two equal halves — 50% of the observations lie below the median, and 50% lie above.\n",
        "\n",
        "- For a dataset of size $n$, sorted in ascending order:\n",
        "  - If $n$is **odd**, the median is the value at position $\\frac{n + 1}{2}$.\n",
        "  - If $n$ is **even**, the median is the average of the two middle values at positions $\\frac{n}{2}$ and $\\frac{n}{2} + 1$.\n",
        "\n",
        "$$\n",
        "\\text{Median}(x_1, \\dots, x_n) =\n",
        "\\begin{cases}\n",
        "x_{\\big(\\frac{n + 1}{2}\\big)}, & \\text{if } n \\text{ is odd}, \\\\\\\\\n",
        "\\frac{1}{2} \\left(x_{\\big(\\frac{n}{2}\\big)} + x_{\\big(\\frac{n}{2} + 1\\big)} \\right), & \\text{if } n \\text{ is even},\n",
        "\\end{cases}\n",
        "$$\n",
        "\n",
        "where $x_{(1)}, x_{(2)}, \\dots, x_{(n)}$ denotes the sorted sample.\n",
        "\n",
        "####  **Properties of the Median**\n",
        "- The median is **robust to outliers**.\n",
        "- It is a more **reliable measure of central tendency** than the mean for skewed distributions or data with outliers.\n",
        "- Suitable for both **ordinal** and **continuous** data.\n",
        "\n",
        "To compute the median in R, use the `median()` function. It takes a numeric vector and returns the sample median.\n"
      ],
      "metadata": {
        "id": "oRG13tdyESnL"
      }
    },
    {
      "cell_type": "code",
      "source": [
        "median(X$G0)\n",
        "median(X$G0_oult25)\n",
        "median(X$G0_oult50)\n",
        "median(X$G0_oult100)"
      ],
      "metadata": {
        "id": "2Yp7J0KPL8Ae"
      },
      "execution_count": null,
      "outputs": []
    },
    {
      "cell_type": "markdown",
      "source": [
        "#### **R Examples**\n",
        "\n",
        "Unlike mean, there is no  `colMedians()` function to compute the medians of all columns in the data frame `X`. However, we can use `apply()` function to repeatedly apply the `median()` function to each of the column in `X`. This is generally more computationally efficient."
      ],
      "metadata": {
        "id": "QD0m57WrMIzu"
      }
    },
    {
      "cell_type": "code",
      "source": [
        "print(apply(X, MARGIN = 2, median)) #MARGIN = 2: apply `median()` to all columns"
      ],
      "metadata": {
        "id": "puihHcvmMVXl"
      },
      "execution_count": null,
      "outputs": []
    },
    {
      "cell_type": "markdown",
      "source": [
        "The median does not increase as the magnitute of outlying values increases, which is desirable."
      ],
      "metadata": {
        "id": "tQn5sX5iMtfE"
      }
    },
    {
      "cell_type": "code",
      "source": [
        "boxplot(X, main = \"Boxplots of several Gaussian datasets with/without outliers\")\n",
        "\n",
        "cMeans = colMeans(X)\n",
        "cMedians = apply(X, 2, median)\n",
        "\n",
        "points(1:4, cMeans, pch = 19, col = \"red\", cex = 1.25)\n",
        "points(1:4, cMedians, pch = 15, col = \"blue\", cex = 1.25)\n",
        "\n",
        "# Add legend\n",
        "legend(\"topleft\", legend = c(\"Mean\", \"Median\"),\n",
        "       cex = rep(1.25, 2), col = c(\"red\", \"blue\"), bty = \"n\",\n",
        "       pch = c(19,15))"
      ],
      "metadata": {
        "id": "V7l_APPVFURk"
      },
      "execution_count": null,
      "outputs": []
    },
    {
      "cell_type": "markdown",
      "source": [
        "While the mean is the most commonly understood measure of average, median measures are most representative of an \"average\" employee’s earnings as earnings data has a positively skewed distribution. The mean is higher than the median value because of a small number of people with very high earnings.\n",
        "\n",
        "> While the mean is the most commonly understood measure of average, median measures are most representative of an \"average\" employee’s earnings as earnings data has a positively skewed distribution. The mean is higher than the median value because of a small number of people with very high earnings.   \n",
        "See [Australian Bureau of Statistics – Average Earnings Guide](https://www.abs.gov.au/statistics/understanding-statistics/guide-labour-statistics/earnings-guide/average-earnings-guide) for more details.\n",
        "\n"
      ],
      "metadata": {
        "id": "jQ6cdj-RNTBL"
      }
    },
    {
      "cell_type": "markdown",
      "source": [
        "The figure below is from [Australian Bureau of Statistics – Average Earnings Guide](https://www.abs.gov.au/statistics/understanding-statistics/guide-labour-statistics/earnings-guide/average-earnings-guide), showing the median and average weekly earnings of employees in Australian."
      ],
      "metadata": {
        "id": "2ldExNuTQD05"
      }
    },
    {
      "cell_type": "code",
      "source": [
        "\n",
        "img = readPNG(\"figures/abs_earning.png\")\n",
        "grid.newpage()\n",
        "vp = viewport(width = 1.25, height = 1.25)\n",
        "pushViewport(vp)\n",
        "grid.raster(img)\n",
        "popViewport()"
      ],
      "metadata": {
        "id": "DaEiKOx3O55n"
      },
      "execution_count": null,
      "outputs": []
    },
    {
      "cell_type": "markdown",
      "source": [
        "#### **Mode**\n",
        "\n",
        "The **mode** is the value(s) that occur most frequently in a dataset. It represents the *most common* observation(s).\n",
        "\n",
        "- For a dataset $x_1, x_2, \\dots, x_n$, the mode is the value $m$ such that the count of $m$ is greater than or equal to the count of any other value.\n",
        "\n",
        "Formally, if $f(x)$ is the frequency of value $x$:\n",
        "\n",
        "$$\n",
        "\\text{Mode} = \\arg\\max_{x} f(x).\n",
        "$$\n",
        "\n",
        "- A dataset can be:\n",
        "  - **Unimodal**: one unique mode,\n",
        "  - **Multimodal**: multiple modes,\n",
        "  - **No mode**: if all values are unique (appear only once).\n",
        "\n",
        "####  **Properties of the Mode**\n",
        "- The mode is the only measure of central tendency applicable to **nominal categorical** data.\n",
        "- For continuous numeric data **without binning or grouping**, the mode is often **not meaningful**, because the probability of observing the exact same value twice in a continuous distribution is effectively **zero**. Essentially, there is **no mode**.\n",
        "- It is sensitive to the level of data discretisation (binning) but less sensitive to outliers than the sample mean (if data are well-binned).\n"
      ],
      "metadata": {
        "id": "xy3-7TKFQexj"
      }
    },
    {
      "cell_type": "markdown",
      "source": [
        "####  **R Examples**\n",
        "\n",
        "There is no built-in `mode()` function in R. In R, `mode()` is more or less similar to `typeof()`, which tells us the data type of an R object. We, however, have prepared some useful functions, which help you bin the data and then compute the mode(s).\n",
        "\n",
        "- `Mode()`: Computes the mode(s) given a numeric vector.\n",
        "- `FDbinning()`: Bins the data into intervals according to the Freedman–Diaconis (FD) method, which is quite robust to outliers.\n",
        "\n",
        "We first apply the `Mode()` function to the raw data in column `G0` in the dataset to compute the modes."
      ],
      "metadata": {
        "id": "TtMrXF1fSUvV"
      }
    },
    {
      "cell_type": "code",
      "source": [
        "modeRawG0 = Mode(X$G0)\n",
        "print(modeRawG0)"
      ],
      "metadata": {
        "id": "nemNCOdoQeOf"
      },
      "execution_count": null,
      "outputs": []
    },
    {
      "cell_type": "markdown",
      "source": [
        "It returns the vector of mode values, whose length is equal to the number of observations. As every observation is a mode, there is essentially no mode."
      ],
      "metadata": {
        "id": "rW24Apu-TjiV"
      }
    },
    {
      "cell_type": "code",
      "source": [
        "length(modeRawG0)"
      ],
      "metadata": {
        "id": "cZ8y2kAYTeae"
      },
      "execution_count": null,
      "outputs": []
    },
    {
      "cell_type": "markdown",
      "source": [
        "We can use the `FDbinning()` function to bin the data into intervals."
      ],
      "metadata": {
        "id": "Z7EXMvnsUDng"
      }
    },
    {
      "cell_type": "code",
      "source": [
        "binnedG0 = FDbinning(X$G0)\n",
        "print(binnedG0)\n",
        "length(binnedG0)"
      ],
      "metadata": {
        "id": "hkgFOQHZUgGa"
      },
      "execution_count": null,
      "outputs": []
    },
    {
      "cell_type": "markdown",
      "source": [
        "Then, we can compute the most frequent interval using the `Mode()` function."
      ],
      "metadata": {
        "id": "ltk3rd0aUrbo"
      }
    },
    {
      "cell_type": "code",
      "source": [
        "Mode(binnedG0)"
      ],
      "metadata": {
        "id": "MMUJwCRcU21K"
      },
      "execution_count": null,
      "outputs": []
    },
    {
      "cell_type": "markdown",
      "source": [
        "#### **Exercise 1**\n",
        "\n",
        "The most frequent interval in the demonstrated example above is quite close to the central tendency of the data. We are, however, interested in the situations where outliers are present.\n",
        "\n",
        "Compute the mode of the FD-binned data for the other columns in the data frame X. Then, comment on how the most frequent interval(s) changes as the magnitude of the outlying values increases. Is that sensitive to outliers?"
      ],
      "metadata": {
        "id": "nuRP3ITyU9pv"
      }
    },
    {
      "cell_type": "code",
      "source": [],
      "metadata": {
        "id": "O0kFJ_v4XFyg"
      },
      "execution_count": null,
      "outputs": []
    },
    {
      "cell_type": "markdown",
      "source": [
        "<details>\n",
        "<summary>▶️ Click to show the solution</summary>\n",
        "\n",
        "```r\n",
        "Mode(FDbinning(X$G0_oult25))\n",
        "Mode(FDbinning(X$G0_oult50))\n",
        "Mode(FDbinning(X$G0_oult100))\n",
        "```\n",
        "\n",
        "</details>"
      ],
      "metadata": {
        "id": "AiIxJlqFXIxQ"
      }
    },
    {
      "cell_type": "markdown",
      "source": [
        "#### **Exercise 2**\n",
        "\n",
        "We have provided a function named `ModeBinMidpoint()`, which computes the mid-point of the most frequent interval. You can think of that as a function like `mean()` and `median()`, which takes a numeric vector and returns a value.\n",
        "\n",
        "Use `apply()` to compute `ModeBinMidpoint` for all columns in the data frane `X` and assign the results to the `cModes` variable by modifying the code cell below."
      ],
      "metadata": {
        "id": "pkzggoyLXTvO"
      }
    },
    {
      "cell_type": "code",
      "source": [
        "boxplot(X, main = \"Boxplots of several Gaussian datasets with/without outliers\")\n",
        "\n",
        "cMeans = colMeans(X)\n",
        "cMedians = apply(X, 2, median)\n",
        "cModes = c(-5,-5,-5,-5) #Modify this line of code\n",
        "\n",
        "points(1:4, cMeans, pch = 19, col = \"red\", cex = 1.25)\n",
        "points(1:4, cMedians, pch = 15, col = \"blue\", cex = 1.25)\n",
        "points(1:4, cModes, pch = 15, col = \"green\", cex = 1.25)\n",
        "# Add legend\n",
        "legend(\"topleft\", legend = c(\"Mean\", \"Median\", \"Mode\"),\n",
        "       cex = rep(1.25, 3), col = c(\"red\", \"blue\", \"green\"), bty = \"n\",\n",
        "       pch = c(19,15, 17))"
      ],
      "metadata": {
        "id": "ywLj53oMYSLy"
      },
      "execution_count": null,
      "outputs": []
    },
    {
      "cell_type": "markdown",
      "source": [
        "<details>\n",
        "<summary>▶️ Click to show the solution</summary>\n",
        "\n",
        "```r\n",
        "boxplot(X, main = \"Boxplots of several Gaussian datasets with/without outliers\")\n",
        "\n",
        "cMeans = colMeans(X)\n",
        "cMedians = apply(X, 2, median)\n",
        "cModes = apply(X,2, ModeBinMidpoint)\n",
        "\n",
        "points(1:4, cMeans, pch = 19, col = \"red\", cex = 1.25)\n",
        "points(1:4, cMedians, pch = 15, col = \"blue\", cex = 1.25)\n",
        "points(1:4, cModes, pch = 15, col = \"green\", cex = 1.25)\n",
        "# Add legend\n",
        "legend(\"topleft\", legend = c(\"Mean\", \"Median\", \"Mode\"),\n",
        "       cex = rep(1.25, 3), col = c(\"red\", \"blue\", \"green\"), bty = \"n\",\n",
        "       pch = c(19,15, 17))\n",
        "```\n",
        "\n",
        "</details>"
      ],
      "metadata": {
        "id": "8fxNQeleZWDS"
      }
    },
    {
      "cell_type": "markdown",
      "source": [
        "## **Measure of Variability**\n",
        "\n",
        "We use the same dataset as in the previous section.\n",
        "\n",
        "### **Sample Variance**\n",
        "\n",
        "Given a sample of observations of size $n$ with sample mean $\\bar{x}$, the sample variance is\n",
        "\n",
        "$$\\text{Variance}(x_1, \\dots, x_n) \\equiv s^2 = \\frac{\\sum_{i=1}^n(x_i-\\bar{x})^2}{n-1}$$.\n",
        "\n",
        "The variance is basically the average of the squared distance between observations and the sample mean, and as such, it has the advantage of being based on all the observations.\n",
        "\n",
        "### **Properties of the Sample Variance**\n",
        "\n",
        "- In the absence of outliers, the sample variance is an efficient and unbiased estimator of the population variance; its accuracy improves as the sample size increases.\n",
        "- Unfortunately, the sample variance is sensitive to outliers since squaring amplifies the effect of extreme values. Also, it is based on the sample mean, which is not a robust estimator.\n",
        "- Interpreting the sample variance is difficult as its units are the square of the units for the observations. For example, if $x_i$ is a measurement of time in seconds, then the sample variance $s^2$ is in the units $\\text{seconds}^{2}$. Conceptually it is difficult to understand a squared second in terms of the data.\n",
        "\n",
        "**There are various robust estimators of the population variance, but these are (way) beyond the scope of this unit.**\n",
        "\n"
      ],
      "metadata": {
        "id": "y7IIcNNxZpba"
      }
    },
    {
      "cell_type": "markdown",
      "source": [
        "### **R Examples**\n",
        "In R, the sample variance can be calculated using the built-in `var()` function. This function takes a numeric vector as input and returns the sample variance."
      ],
      "metadata": {
        "id": "QOalfq0jh6A6"
      }
    },
    {
      "cell_type": "code",
      "source": [
        "var(X$G0)\n",
        "var(X$G0_oult25)\n",
        "var(X$G0_oult50)\n",
        "var(X$G0_oult100)"
      ],
      "metadata": {
        "id": "UxN6yuBZiG9R"
      },
      "execution_count": null,
      "outputs": []
    },
    {
      "cell_type": "markdown",
      "source": [
        "There is no `colVars()` function in R. However, we can use the `apply()` functions to compute column variances.\n"
      ],
      "metadata": {
        "id": "9aFM1WewjcYt"
      }
    },
    {
      "cell_type": "code",
      "source": [
        "print(apply(X, 2, var))"
      ],
      "metadata": {
        "id": "EdPXw_Hzjkuy"
      },
      "execution_count": null,
      "outputs": []
    },
    {
      "cell_type": "markdown",
      "source": [
        "We observe that the variance increases as the magnitude of the outliers increases—at a rate substantially faster than that of the mean. A *robust* estimate of the sample variance should give us a value close to $1$ **as the non-outlying observations have a variance of $\\approx$ 1**."
      ],
      "metadata": {
        "id": "CzuTjc_zifej"
      }
    },
    {
      "cell_type": "code",
      "source": [
        "outlVals = c(0,25,50,100)\n",
        "meanVals = apply(X,2,mean)\n",
        "varVals = apply(X,2,var)\n",
        "\n",
        "\n",
        "plot(outlVals, varVals, type = \"l\", lty = 4, col = \"black\", xaxt = \"n\")\n",
        "points(outlVals, varVals,pch = 3, col = \"black\")\n",
        "axis(side = 1, at = c(0, 25, 50, 100))\n",
        "\n",
        "lines(outlVals, meanVals, type = \"l\", lty = 2, col = \"red\")\n",
        "points(outlVals, meanVals,pch = 5, col = \"red\")\n",
        "\n",
        "legend(\"topleft\", legend = c(\"VAR\", \"Mean\"), pch = c(3,5), col = c(\"black\", \"red\"), lty = c(4,2))\n"
      ],
      "metadata": {
        "id": "m2VL_jxsjY0k"
      },
      "execution_count": null,
      "outputs": []
    },
    {
      "cell_type": "markdown",
      "source": [
        "### **Sample Standard Deviation**\n",
        "\n",
        "The sample standard deviation is the square root of the sample variance,\n",
        "\n",
        "$$\n",
        "\\text{Standard Deviation}(x_1, \\dots, x_n) \\equiv s = \\sqrt{\\frac{\\sum_{i=1}^n (x_i - \\bar{x})^2}{n-1}} = \\sqrt{s^2}.\n",
        "$$"
      ],
      "metadata": {
        "id": "DFc6mCYNlGQr"
      }
    },
    {
      "cell_type": "markdown",
      "source": [
        "### **Properties of the Sample Standard Deviation**\n",
        "\n",
        "- Unfortunately, the sample variance is sensitive to outliers since squaring amplifies the effect of extreme values. Also, it is based on the sample mean, which is not a robust estimator.\n",
        "- Interpreting the sample variance is difficult as its units are the square of the units for the observations. For example, if $x_i$ is a measurement of time in seconds, then the sample variance $s^2$ is in the units $\\text{seconds}^{2}$. Conceptually it is difficult to understand a squared second in terms of the data."
      ],
      "metadata": {
        "id": "7U4vOiitmXaV"
      }
    },
    {
      "cell_type": "markdown",
      "source": [
        "### **R Examples**\n",
        "In R, the sample standard deviation can be calculated using the built-in `sd()` function. This function takes a numeric vector as input and returns the sample standard deviation."
      ],
      "metadata": {
        "id": "t5eisvF0oJoy"
      }
    },
    {
      "cell_type": "code",
      "source": [
        "sd(X$G0)\n",
        "sd(X$G0_oult25)\n",
        "sd(X$G0_oult50)\n",
        "sd(X$G0_oult100)"
      ],
      "metadata": {
        "id": "nXHgFZFXo9kj"
      },
      "execution_count": null,
      "outputs": []
    },
    {
      "cell_type": "markdown",
      "source": [
        "There is no `colSds()` function in R. However, we can use the `apply()` functions to compute column standard deviations.\n"
      ],
      "metadata": {
        "id": "PHmi1qxHpG_1"
      }
    },
    {
      "cell_type": "code",
      "source": [
        "print(apply(X, 2, sd))"
      ],
      "metadata": {
        "id": "dVIIk8FNpL9C"
      },
      "execution_count": null,
      "outputs": []
    },
    {
      "cell_type": "markdown",
      "source": [
        "This figure demonstrates the smaller rate of increase compared to that of the sample variance."
      ],
      "metadata": {
        "id": "9ZEuMOc7piPB"
      }
    },
    {
      "cell_type": "code",
      "source": [
        "outlVals = c(0,25,50,100)\n",
        "meanVals = apply(X,2,mean)\n",
        "varVals = apply(X,2,var)\n",
        "sdVals = apply(X, 2, sd)\n",
        "\n",
        "\n",
        "plot(outlVals, varVals, type = \"l\", lty = 4, col = \"black\", xaxt = \"n\")\n",
        "points(outlVals, varVals,pch = 3, col = \"black\")\n",
        "axis(side = 1, at = c(0, 25, 50, 100))\n",
        "\n",
        "lines(outlVals, sdVals, type = \"l\", lty = 3, col = \"blue\", xaxt = \"n\")\n",
        "points(outlVals, sdVals,pch = 4, col = \"blue\")\n",
        "\n",
        "lines(outlVals, meanVals, type = \"l\", lty = 2, col = \"red\")\n",
        "points(outlVals, meanVals,pch = 5, col = \"red\")\n",
        "\n",
        "legend(\"topleft\", legend = c(\"VAR\", \"sd\", \"Mean\"), pch = c(3,4,5), col = c(\"black\", \"blue\", \"red\"), lty = c(4,3,2))\n"
      ],
      "metadata": {
        "id": "BB9nuQ5YpOUj"
      },
      "execution_count": null,
      "outputs": []
    },
    {
      "cell_type": "markdown",
      "source": [
        "#### **The Empirical Rule For Interpreting Standard Deviation**"
      ],
      "metadata": {
        "id": "WjKgCjdTqzCq"
      }
    },
    {
      "cell_type": "markdown",
      "source": [
        "If the data is not severely deviated from being roughly symmetric, unimodal, and not heavy-tailed, then, in general:\n",
        "\n",
        "- 68% of the observations will fall within one standard deviation of the mean\n",
        "\n",
        "- 95% of the observations will fall within two standard deviations of the mean\n",
        "\n",
        "- 99.7% of the observations will fall within three standard deviations of the mean.\n",
        "\n",
        "These results are connected to the properties of the Gaussian (normal) distribution, which we will study in more detail later. Once you know that the data are  (approximately) generated from a Gaussian distribution, it is safe to use the empirical rule.\n",
        "\n",
        "The Gaussian distribution has the well-known bell-shaped curve. You’ll often hear people say things like “it follows the curve.” That’s because many people claim that the Gaussian distribution shows up everywhere: exam scores, heights, SATs, measurement errors — so many things in the real world tend to follow this curve, **at least approximately**. This distribution is also very \"normal\" in the sense that extreme values are exceedingly rare, making it unlikely to observe outliers far from the mean."
      ],
      "metadata": {
        "id": "PougW5t8r8YL"
      }
    },
    {
      "cell_type": "markdown",
      "source": [
        "**Gaussian Example**"
      ],
      "metadata": {
        "id": "spgdqW0kw7wd"
      }
    },
    {
      "cell_type": "markdown",
      "source": [
        "In our first example, we generate data from the standard Gaussian (normal) distribution, which satisfies all the conditions under which the empirical rule holds well.\n",
        "\n",
        "We have prepared the `empiricalRuleGaussian()` function, which visualises the empirical rule. The function overlays a histogram of the data with a best-fitting bell-shaped curve and highlights the ±1, ±2, and ±3 standard deviation intervals around the mean. It takes a numeric vector as the first argument and the limits of the x-axis as the second argument. By default, the x-axis limits are set to the minimum and maximum of the input vector, but we will specify them explicitly in the code for clarity."
      ],
      "metadata": {
        "id": "rU_zP6ibx4rq"
      }
    },
    {
      "cell_type": "code",
      "source": [
        "set.seed(59)\n",
        "data = rnorm(2000)\n",
        "empiricalRuleGaussian(data, xlim = c(min(data), max(data)))"
      ],
      "metadata": {
        "id": "CCkaJ-TNqIi-"
      },
      "execution_count": null,
      "outputs": []
    },
    {
      "cell_type": "markdown",
      "source": [
        "Based on empirical coverage, the empirical rule is generally accurate here."
      ],
      "metadata": {
        "id": "mLZff0sL0c3L"
      }
    },
    {
      "cell_type": "markdown",
      "source": [
        "**Non-Gaussian, Heavy-Tailed Example**"
      ],
      "metadata": {
        "id": "RamJtcsRxV1u"
      }
    },
    {
      "cell_type": "markdown",
      "source": [
        "In the second example, we simulate data from the Student's t-distribution with 2 degrees of freedom. Don’t worry if you’re not familiar with it yet — we’ll explore this distribution in detail later. What’s important now is that the t-distribution with low degrees of freedom is heavy-tailed and symmetric. This means you’re much more likely to see extreme values, both positive and negative, compared to the Gaussian distribution.\n",
        "\n",
        "For instance, in our simulation, we might observe values as extreme as `-40`, which is practically impossible under a standard Gaussian given the age of the universe and all the computing power on Earth."
      ],
      "metadata": {
        "id": "Pxps2ZPoy2gs"
      }
    },
    {
      "cell_type": "code",
      "source": [
        "set.seed(59)\n",
        "data = rt(2000,2)\n",
        "empiricalRuleGaussian(data, xlim = c(min(data), max(data)))"
      ],
      "metadata": {
        "id": "z7mFZjnAxZy-"
      },
      "execution_count": null,
      "outputs": []
    },
    {
      "cell_type": "markdown",
      "source": [
        "Based on empirical coverage, the empirical rule is severely violated here."
      ],
      "metadata": {
        "id": "T4Mw29eQ0TYI"
      }
    },
    {
      "cell_type": "markdown",
      "source": [
        "**Non-Gaussian, Less Heavy-Tailed Example**"
      ],
      "metadata": {
        "id": "8bQTiQ6t1ZZZ"
      }
    },
    {
      "cell_type": "markdown",
      "source": [
        "In the third example, we simulate data from the Student’s t-distribution with 8 degrees of freedom. This t-distribution is symmetric and less heavy-tailed."
      ],
      "metadata": {
        "id": "zqmIY37s18BE"
      }
    },
    {
      "cell_type": "code",
      "source": [
        "set.seed(59)\n",
        "data = rt(2000,8)\n",
        "empiricalRuleGaussian(data, xlim = c(min(data), max(data)))"
      ],
      "metadata": {
        "id": "elKmdP_B1_Av"
      },
      "execution_count": null,
      "outputs": []
    },
    {
      "cell_type": "markdown",
      "source": [
        "Based on empirical coverage, the empirical rule is acceptable here."
      ],
      "metadata": {
        "id": "8OWBkyUO2Lkp"
      }
    },
    {
      "cell_type": "markdown",
      "source": [
        "**Non-Gaussian, Skewed Example**"
      ],
      "metadata": {
        "id": "Kw-KZnbAxBW3"
      }
    },
    {
      "cell_type": "markdown",
      "source": [
        "In our forth example, we simulate data from a strongly skewed exponential distribution. This distribution is not symmetric — it has a long tail on one side — meaning extreme values are much more likely on that side, while most observations cluster near zero. It is also non-negative. Don’t worry if this is unfamiliar now — we’ll explore this distribution later in this unit."
      ],
      "metadata": {
        "id": "X5OiNx5m07vw"
      }
    },
    {
      "cell_type": "code",
      "source": [
        "set.seed(59)\n",
        "data = rexp(2000, rate = 1)  # Exponential, mode near 0, mean=1, skewed\n",
        "empiricalRuleGaussian(data, c(-5, max(data)))\n"
      ],
      "metadata": {
        "id": "WDzJ31Uqqk3Z"
      },
      "execution_count": null,
      "outputs": []
    },
    {
      "cell_type": "markdown",
      "source": [
        "Based on empirical coverage, the empirical rule is severely violated here. Worse, it also covers the negative domain, which is impossible under our data-generating process."
      ],
      "metadata": {
        "id": "VjmQoNCB1Muv"
      }
    },
    {
      "cell_type": "markdown",
      "source": [
        "**Non-Gaussian, Less Skewed Example**  \n",
        "\n",
        "In the last example, we will apply a log() transformation to the data in the previous example. This transformation tends to make the data more \"normal\" and less skewed — although some skewness may still remain, you should see an improvement in how well the empirical rule holds.\n",
        "\n",
        "**FYI**: The log transformation is a very useful tool in many modelling scenarios as it effectively reduces skewness and stabilises variance. Of course, the raw variables must be non-negative, which may require shifting the values by adding a positive constant (e.g., +1) before applying the transformation (e.g., quite frequently, `income = 0`)."
      ],
      "metadata": {
        "id": "6g8802nd3A8h"
      }
    },
    {
      "cell_type": "code",
      "source": [
        "set.seed(59)\n",
        "data = log(rexp(2000, rate = 1))\n",
        "empiricalRuleGaussian(data, c(min(data), 4))\n"
      ],
      "metadata": {
        "id": "ItPHFg1x2_9x"
      },
      "execution_count": null,
      "outputs": []
    },
    {
      "cell_type": "markdown",
      "source": [
        "Still far from the fitted Gaussian curve, but the empirical rule is generally adequate here."
      ],
      "metadata": {
        "id": "6DO2LP2j4PMF"
      }
    },
    {
      "cell_type": "markdown",
      "source": [
        "The empirical rule may still apply to data with outliers, but doing so requires using **robust estimators of the standard deviation, which is beyond the scope of this unit.**"
      ],
      "metadata": {
        "id": "25qpOJjw5C2Z"
      }
    },
    {
      "cell_type": "markdown",
      "source": [
        "#### **Exercise**\n",
        "\n",
        "\n",
        "For $k\\geq 1$, given $n$ observations, the Chebyshev’s theorem states that:\n",
        "\n",
        "At least\n",
        "$$1-\\frac{1}{k^2}$$\n",
        "of the observations will lie within $k$ standard deviations of the mean. Or more formally:\n",
        "\n",
        "For a sample of size $n$ and $k\\geq 1$\n",
        "\n",
        "$$\\frac{\\#\\{x|\\bar{x}-ks<x<\\bar{x}+ks\\}}{n}\\geq 1-\\frac{1}{k^2}.$$\n",
        "\n",
        "We have prepared the `chebyshevRule()` function, which is similar to `empiricalRuleGaussian()`, but visualises the Chebyshev's theorem instead. Repeat the same analysis that we did in the previous section and comment on the results.\n"
      ],
      "metadata": {
        "id": "ylk7XpHf5Wzy"
      }
    },
    {
      "cell_type": "code",
      "source": [
        "#1st example\n",
        "set.seed(59)\n",
        "data = rnorm(2000)"
      ],
      "metadata": {
        "id": "GdO81vE_7TqJ"
      },
      "execution_count": null,
      "outputs": []
    },
    {
      "cell_type": "markdown",
      "source": [
        "<details>\n",
        "<summary>▶️ Click to show the solution</summary>\n",
        "\n",
        "```r\n",
        "set.seed(59)\n",
        "data = rnorm(2000)\n",
        "chebyshevRule(data, xlim = c(min(data), max(data)))\n",
        "```\n",
        "\n",
        "</details>"
      ],
      "metadata": {
        "id": "IW8NQRE885a7"
      }
    },
    {
      "cell_type": "code",
      "source": [
        "#2nd example\n",
        "set.seed(59)\n",
        "data = rt(2000,2)"
      ],
      "metadata": {
        "id": "k1QH0Abt7XZ5"
      },
      "execution_count": null,
      "outputs": []
    },
    {
      "cell_type": "markdown",
      "source": [
        "<details>\n",
        "<summary>▶️ Click to show the solution</summary>\n",
        "\n",
        "```r\n",
        "set.seed(59)\n",
        "data = rt(2000,2)\n",
        "chebyshevRule(data, xlim = c(min(data), max(data)))\n",
        "```\n",
        "\n",
        "</details>"
      ],
      "metadata": {
        "id": "NySSO7iP86GL"
      }
    },
    {
      "cell_type": "code",
      "source": [
        "#3rd example\n",
        "set.seed(59)\n",
        "data = rt(2000,8)"
      ],
      "metadata": {
        "id": "HBFZi_al7X8m"
      },
      "execution_count": null,
      "outputs": []
    },
    {
      "cell_type": "markdown",
      "source": [
        "<details>\n",
        "<summary>▶️ Click to show the solution</summary>\n",
        "\n",
        "```r\n",
        "set.seed(59)\n",
        "data = rt(2000,8)\n",
        "chebyshevRule(data, xlim = c(min(data), max(data)))\n",
        "```\n",
        "\n",
        "</details>"
      ],
      "metadata": {
        "id": "Z-goM_0u8-he"
      }
    },
    {
      "cell_type": "code",
      "source": [
        "#4th example\n",
        "set.seed(59)\n",
        "data = rexp(2000, rate = 1)"
      ],
      "metadata": {
        "id": "mvOrUL3b7YMK"
      },
      "execution_count": null,
      "outputs": []
    },
    {
      "cell_type": "markdown",
      "source": [
        "<details>\n",
        "<summary>▶️ Click to show the solution</summary>\n",
        "\n",
        "```r\n",
        "set.seed(59)\n",
        "data = exp(2000, 1)\n",
        "chebyshevRule(data, xlim = c(-5, max(data)\n",
        "```\n",
        "\n",
        "</details>"
      ],
      "metadata": {
        "id": "4GDOFp--9BIJ"
      }
    },
    {
      "cell_type": "code",
      "source": [
        "#5th example\n",
        "set.seed(59)\n",
        "data = log(rexp(2000, rate = 1))"
      ],
      "metadata": {
        "id": "OfpkbuMX7YZK"
      },
      "execution_count": null,
      "outputs": []
    },
    {
      "cell_type": "markdown",
      "source": [
        "<details>\n",
        "<summary>▶️ Click to show the solution</summary>\n",
        "\n",
        "```r\n",
        "set.seed(59)\n",
        "data = log(rexp(2000, rate = 1))\n",
        "chebyshevRule(data, xlim = c(min(data), 4))\n",
        "```\n",
        "\n",
        "</details>"
      ],
      "metadata": {
        "id": "s2OOYdF88wi_"
      }
    },
    {
      "cell_type": "markdown",
      "source": [
        "<details>\n",
        "<summary>▶️ Click to show comments on the results</summary>\n",
        "\n",
        "Unlike the empirical rule, the Chebyshev's theorem **ALWAYS** holds. However, it only gives a lower-bound and is very conservative (e.g., when $k = 1$, it says at least $0\\%$ of the data will be between ±1 SD). It is less powerful than the empirical rule.\n",
        "</details>"
      ],
      "metadata": {
        "id": "xPtS2Bwb9a07"
      }
    },
    {
      "cell_type": "markdown",
      "source": [
        "### **Range-based Estimate of Standard Deviation**"
      ],
      "metadata": {
        "id": "_D5lQUHf-gUy"
      }
    },
    {
      "cell_type": "markdown",
      "source": [
        "Sometimes, you may not have access to the raw values of individual observations — for example, due to privacy concerns — but you still want to estimate the standard deviation of the dataset.\n",
        "\n",
        "A **rule of thumb** based on a **backward application of the empirical rule** provides a rough approximation of the standard deviation.\n",
        "\n",
        "The empirical rule tells us that:\n",
        "\n",
        "- Approximately **95% of the data** in a bell-shaped (Gaussian-like) distribution falls within **±2 standard deviations** of the mean.\n",
        "\n",
        "So, if we assume that **most of the dataset is contained within ±2 SD**, we can approximate the standard deviation $s$ by:\n",
        "\n",
        "$$\n",
        "\\tilde{s} = \\frac{\\text{range}}{4}\n",
        "$$\n",
        "\n",
        "where:\n",
        "\n",
        "- **range** = maximum − minimum value of the dataset.\n",
        "\n",
        "This is a **crude but often surprisingly effective estimate**, especially when the data are roughly symmetric and not heavily skewed or multimodal.  \n",
        "However, it becomes a **poor estimate when these assumptions are violated**, as the empirical rule no longer holds well in such cases.\n"
      ],
      "metadata": {
        "id": "8wk4rV56_Qlz"
      }
    },
    {
      "cell_type": "markdown",
      "source": [
        "#### **R Examples**\n",
        "\n",
        "To compute the range-based estimate of standard deviation of `x`, we can simply take `max(x) - min(x)`. We have implemented this estimator in the 'rangeBasedSD()' function, which takes a numeric vector and outputs the range-based estimate of sample standard deviation.\n",
        "\n",
        "Back to our `X` data frame containing four datasets with increasing magnitude of outlying values."
      ],
      "metadata": {
        "id": "dhCOM7oLB9ye"
      }
    },
    {
      "cell_type": "code",
      "source": [
        "print(apply(X, 2, rangeBasedSD))\n",
        "print(apply(X, 2, sd))"
      ],
      "metadata": {
        "id": "7gAsLRkXCiVj"
      },
      "execution_count": null,
      "outputs": []
    },
    {
      "cell_type": "markdown",
      "source": [
        "We can see that the range-based estimate deteriorates as the magnitude of outliers increases. However, the scatter plot still remains relatively close to the ideal $y = x$ line. Is this method useful? Yes and No:\n",
        "- Yes, because it gives a good estimate of the correct sample standard deviation,\n",
        "- No, because the estimate is still heavily influenced by outliers. A robust estimat should give us a value close to 1 **as the non-outlying observations have a standard deviation of $\\approx$ 1**.\n"
      ],
      "metadata": {
        "id": "G7B5ZOpJDSvQ"
      }
    },
    {
      "cell_type": "code",
      "source": [
        "plot(apply(X, 2, rangeBasedSD), apply(X, 2, sd),\n",
        "     xlab = \"rangeBasedSD\", ylab = \"SD\", main = \"rangeBasedSD vs. SD\",\n",
        "     xlim = c(0,30), ylim = c(0,30))\n",
        "abline(a = 0, b= 1, col = \"red\")"
      ],
      "metadata": {
        "id": "rXAek1JqC4eQ"
      },
      "execution_count": null,
      "outputs": []
    },
    {
      "cell_type": "markdown",
      "source": [
        "### **Quantiles and the Interquartile Range (IQR)**\n",
        "\n",
        "\n",
        "For a set of $n$ observations $x_1,x_2,\\dots,x_n$, $x_q$ is the q$th$ quantile if q$\\%$ of the observations are less than $x_q$. Common quantiles include:\n",
        "\n",
        "- **The median** — the value below which 50% of the data fall.\n",
        "- **Quartiles**: Divide data into four equal parts.\n",
        "  - **Q1 (25th percentile)**: The value below which 25% of the data fall.\n",
        "  - **Q2 (50th percentile)**: The median.\n",
        "  - **Q3 (75th percentile)**: The value below which 75% of the data fall.\n",
        "\n",
        "#### **The Inter-Quartile Range (IQR)**\n",
        "\n",
        "The interquartile range (IQR) is the distance between the 25$th$ and the 75$th$ quantiles, or the range covering the “middle” 50% of the data. The IQR is sometimes used as a robust measure of dispersion because it isn’t affected by extreme values, unlike the range or the variance.\n",
        "\n",
        "$$\n",
        "\\text{IQR} = Q_3 - Q_1\n",
        "$$\n",
        "\n"
      ],
      "metadata": {
        "id": "0gHu1CmUEmui"
      }
    },
    {
      "cell_type": "markdown",
      "source": [
        "#### **R Examples**\n",
        "\n",
        "To compute quantiles of a numeric vector in **R**, we can use the `quantile()` function, which requires the input vector and the desired quantile level(s). For example, `quantile(x, probs = 0.75)` returns the 75th percentile of the vector `x`.\n"
      ],
      "metadata": {
        "id": "9Yc4uFPtLUOS"
      }
    },
    {
      "cell_type": "code",
      "source": [
        "quantile(X$G0, 0.5)\n",
        "median(X$G0)"
      ],
      "metadata": {
        "id": "299OdzpTL9w5"
      },
      "execution_count": null,
      "outputs": []
    },
    {
      "cell_type": "markdown",
      "source": [
        "If you want to compute the $75\\%$ quantiles of all columns in the data frame `X` using `apply()`, things become a bit more complicated now.\n",
        "\n",
        "The function `apply(X, MARGIN, FUN)` expects a function object as its third argument. This is why passing function names like `mean`, `median`, or `sd` directly works — because those are already defined as functions in R.\n",
        "However, if you try something like `quantile(probs = 0.75)`, R throws an error. That’s because `quantile(probs = 0.75)` is **NOT** a function — it’s trying to immediately evaluate quantile() without being given any data input.\n",
        "\n",
        "To fix this, you need to explicitly define an anonymous function that takes one argument, and passes it to `quantile()` along with your desired parameter. For example:"
      ],
      "metadata": {
        "id": "2QFgrI6XMDkw"
      }
    },
    {
      "cell_type": "code",
      "source": [
        "class(mean)\n",
        "class(function(arg) quantile(arg, probs = 0.75))\n",
        "\n",
        "print(apply(X,2,function(arg) quantile(arg, probs = 0.75)))"
      ],
      "metadata": {
        "id": "bAaGv0L4NfrF"
      },
      "execution_count": null,
      "outputs": []
    },
    {
      "cell_type": "markdown",
      "source": [
        "#### **Exercise**\n",
        "\n",
        "Assign the vectorised evaluation of the 75$th$ percentiles of the columns in `X` (using `apply()`, as shown above) to a variable named `q75`. This will produce a numeric vector.\n",
        "\n",
        "Repeat the same process to calculate the 25$th$ percentiles of the columns in `X`, and assign the result to a variable named `q25`.\n",
        "\n",
        "Then, using a simple vector operation to compute the interquartile ranges (IQRs) for all columns in `X`.\n"
      ],
      "metadata": {
        "id": "LyHyn7AHOU0o"
      }
    },
    {
      "cell_type": "code",
      "source": [],
      "metadata": {
        "id": "JGjgaAR8PSWp"
      },
      "execution_count": null,
      "outputs": []
    },
    {
      "cell_type": "markdown",
      "source": [
        "<details>\n",
        "<summary>▶️ Click to show the solution</summary>\n",
        "\n",
        "```r\n",
        "q75 = apply(X,2,function(arg) quantile(arg, probs = 0.75))\n",
        "q25 = apply(X,2,function(arg) quantile(arg, probs = 0.25))\n",
        "iqr = q75 - q25\n",
        "print(iqr)\n",
        "```\n",
        "\n",
        "</details>"
      ],
      "metadata": {
        "id": "YgDDc-NvPc1O"
      }
    },
    {
      "cell_type": "markdown",
      "source": [
        "\n",
        "#### **IQR-Based Estimate of Standard Deviation**\n",
        "\n",
        "For data that is approximately normally distributed, the standard deviation $\\sigma$ can be estimated from the IQR using the relation:\n",
        "\n",
        "$$\n",
        "\\hat{s} \\approx \\frac{\\text{IQR}}{1.349}\n",
        "$$\n",
        "\n",
        "This is because, in a normal distribution, the IQR covers approximately 1.349 standard deviations.\n",
        "\n",
        "We have implemented this estimator in the `IQRBasedSD()` function, which takes a numeric vector and returns an IQR-based estimate of sample standard deviation."
      ],
      "metadata": {
        "id": "xgf8N6WGLP70"
      }
    },
    {
      "cell_type": "code",
      "source": [
        "print(apply(X, 2, IQRBasedSD))\n",
        "print(apply(X, 2, sd))"
      ],
      "metadata": {
        "id": "tDrWMx6AJ9t2"
      },
      "execution_count": null,
      "outputs": []
    },
    {
      "cell_type": "markdown",
      "source": [
        "The IQR-based estimates are close to 1 (the blue dashed line), so this method is more robust to outliers than `rangeBasedSD()` and `sd()`. Like the median, this method is generally not affected by the magnitude of outliers. At least, in our example, only at most $10\\%$ of each dataset are outliers, so IQR is quite a robust variability measure."
      ],
      "metadata": {
        "id": "sCLwNqQsKLC9"
      }
    },
    {
      "cell_type": "code",
      "source": [
        "plot(apply(X, 2, IQRBasedSD), apply(X, 2, sd),\n",
        "     xlab = \"IQRBasedSD\", ylab = \"SD\", main = \"IQRBasedSD vs. SD\",\n",
        "     xlim = c(0,30), ylim = c(0,30))\n",
        "abline(a = 0, b= 1, col = \"red\")\n",
        "abline(v = 1, lty = 2, col = \"blue\")"
      ],
      "metadata": {
        "id": "-A-zI_zoJnMb"
      },
      "execution_count": null,
      "outputs": []
    },
    {
      "cell_type": "markdown",
      "source": [
        "## **Measure of Shape**\n",
        "\n",
        "While measures of central tendency (like the mean and median) and variability (like the variance and standard deviation) describe the location and spread of a distribution, **measures of shape** provide insight into the distribution's symmetry and tail behavior.\n",
        "\n",
        "\n",
        "### **Sample Skewness**\n",
        "\n",
        "Skewness quantifies the **asymmetry** of the distribution. The sample skewness is defined as:\n",
        "\n",
        "$$\n",
        "\\text{Skewness}(x_1,x_2,...,x_n) = \\frac{n}{(n-1)(n-2)} \\sum_{i=1}^n \\left( \\frac{x_i - \\bar{x}}{s} \\right)^3\n",
        "$$\n",
        "\n",
        "- A skewness near $0$ indicates that the data are approximately symmetric.\n",
        "- A **positive skew** (right-skewed) indicates a longer or fatter tail on the right.\n",
        "- A **negative skew** (left-skewed) indicates a longer or fatter tail on the left.\n",
        "\n",
        "Skewness is useful for detecting departures from symmetry that may affect modeling assumptions, especially for techniques assuming normality.\n",
        "\n",
        "#### **R Examples**\n"
      ],
      "metadata": {
        "id": "jSreOlJsP4yJ"
      }
    },
    {
      "cell_type": "markdown",
      "source": [
        "We first import `skewed.csv`, which contains several datasets exhibiting increasing levels of skewness."
      ],
      "metadata": {
        "id": "ELY1062wSDMH"
      }
    },
    {
      "cell_type": "code",
      "source": [
        "skewed = read.csv(\"datasets/skewed.csv\")\n",
        "par(mfrow = c(2,4))\n",
        "for(i in 1:7){hist(skewed[,i], xlab = \"\", main = colnames(skewed)[i], breaks = 25)}\n",
        "par(mfrow = c(1,1))"
      ],
      "metadata": {
        "id": "LI6KB5wyQ2km"
      },
      "execution_count": null,
      "outputs": []
    },
    {
      "cell_type": "markdown",
      "source": [
        "There is no `skewness()` function in base R. However, we have prepared `skewness()` function, which takes a numeric vector and return the sample skewness."
      ],
      "metadata": {
        "id": "qjoidm2KSX9s"
      }
    },
    {
      "cell_type": "code",
      "source": [
        "print(apply(skewed,2,skewness))"
      ],
      "metadata": {
        "id": "G2zdpz1NRWTn"
      },
      "execution_count": null,
      "outputs": []
    },
    {
      "cell_type": "markdown",
      "source": [
        "In practice, positive skewness is more commonly observed than negative skewness. For example, the previously seen weekly earnings data exhibit positive skewness."
      ],
      "metadata": {
        "id": "RMzPyNaOSiK3"
      }
    },
    {
      "cell_type": "code",
      "source": [
        "\n",
        "img = readPNG(\"figures/abs_earning.png\")\n",
        "grid.newpage()\n",
        "vp = viewport(width = 1.25, height = 1.25)\n",
        "pushViewport(vp)\n",
        "grid.raster(img)\n",
        "popViewport()"
      ],
      "metadata": {
        "id": "6R5_qKV2Thnr"
      },
      "execution_count": null,
      "outputs": []
    },
    {
      "cell_type": "markdown",
      "source": [
        "#### **Exercise**\n",
        "\n",
        "Provide a real-world example that exhibits negative skewness.\n"
      ],
      "metadata": {
        "id": "Bf0zpnqQTu9s"
      }
    },
    {
      "cell_type": "markdown",
      "source": [
        "<details>\n",
        "<summary>▶️ Click to show the solution</summary>\n",
        "\n",
        "It would be quite concerning if the age at death were positively skewed—that is, if most people died young and only a few lived to an old age.\n",
        "\n",
        "</details>"
      ],
      "metadata": {
        "id": "2iIL7pKlT4GG"
      }
    },
    {
      "cell_type": "markdown",
      "source": [
        "### **Sample Kurtosis**\n",
        "\n",
        "Kurtosis measures the **tailedness** of the distribution — how prone it is to producing extreme values. The sample kurtosis is given by:\n",
        "\n",
        "$$\n",
        "\\text{Kurtosis}(x_1,x_2,...,x_n) =  \\frac{n(n+1)}{(n-1)(n-2)(n-3)} \\sum_{i=1}^n \\left( \\frac{x_i - \\bar{x}}{s} \\right)^4 - \\frac{3(n-1)^2}{(n-2)(n-3)} + 3\n",
        "$$\n",
        "\n",
        "- For normally distributed data, this value is approximately $3$.\n",
        "- **Excess kurtosis** is defined as:\n",
        "\n",
        "$$\n",
        "\\text{Excess Kurtosis} = \\text{Kurtosis} - 3\n",
        "$$\n",
        "\n",
        "- A positive excess kurtosis ( > 0 ) indicates **heavy tails** (more prone to extreme values).\n",
        "- A negative excess kurtosis ( < 0 ) indicates **light tails** (fewer extreme values).\n",
        "- For normally distributed data, this value is approximately $0$.\n",
        "\n",
        "Kurtosis helps diagnose whether standard deviation is a reliable measure of spread or whether extreme values dominate the variability.\n"
      ],
      "metadata": {
        "id": "R5fhk9dWQuYq"
      }
    },
    {
      "cell_type": "markdown",
      "source": [
        "#### **R Examples**\n",
        "We first import `kurtotic.csv`, which contains three datasets exhibiting different levels or \"tailedness\".\n",
        "\n",
        "There is no `kurtosis()` function in base R. However, we have prepared `kurtosis()` function, which takes a numeric vector and return the sample excess kurtosis."
      ],
      "metadata": {
        "id": "fwrJ0QNfVHZZ"
      }
    },
    {
      "cell_type": "code",
      "source": [
        "kurtotic = read.csv(\"datasets/kurtotic.csv\")\n",
        "par(mfrow = c(2,2))\n",
        "for(i in 1:4){hist(kurtotic[,i], xlab = \"\", main = colnames(kurtotic)[i], breaks = 25)}\n",
        "par(mfrow = c(1,1))"
      ],
      "metadata": {
        "id": "ppRSVwGIVs1c"
      },
      "execution_count": null,
      "outputs": []
    },
    {
      "cell_type": "code",
      "source": [
        "print(apply(kurtotic,2,kurtosis))"
      ],
      "metadata": {
        "id": "NuJhccasWaRl"
      },
      "execution_count": null,
      "outputs": []
    },
    {
      "cell_type": "markdown",
      "source": [
        "## **Boxplot**"
      ],
      "metadata": {
        "id": "rIUTnzR-a0ax"
      }
    },
    {
      "cell_type": "markdown",
      "source": [
        "### **What Does a Boxplot Tell Us?**"
      ],
      "metadata": {
        "id": "tKvpcsMfcwvz"
      }
    },
    {
      "cell_type": "markdown",
      "source": [
        "We used boxplots in previous examples, but we have not described what exactly a boxplot tells you.\n",
        "\n",
        "A boxplot displays:\n",
        "- The **median** (central line),\n",
        "- The **interquartile range (IQR)** between Q1 and Q3 (the box),\n",
        "- The **whiskers**, which extend to the most extreme data points within 1.5$\\times$IQR from the quartiles,\n",
        "- And **outliers**, plotted as points beyond the whiskers.\n",
        "\n",
        "We have prepared the `boxplotDescribe()` function to visualise this."
      ],
      "metadata": {
        "id": "nMhPQNGUbMy-"
      }
    },
    {
      "cell_type": "code",
      "source": [
        "boxPlotDescribe()"
      ],
      "metadata": {
        "id": "p6WLiwubbjKd"
      },
      "execution_count": null,
      "outputs": []
    },
    {
      "cell_type": "markdown",
      "source": [
        "We have demonstrated how to create boxplots in base R using the boxplot() function.\n",
        "- If you input a numeric vector, it creates a single boxplot.\n",
        "- If you input a data frame or matrix, it creates boxplots for each column, allowing you to compare their distributions side by side."
      ],
      "metadata": {
        "id": "273lF0C2cYNx"
      }
    },
    {
      "cell_type": "code",
      "source": [
        "boxplot(X)"
      ],
      "metadata": {
        "id": "B6DFtDfzcsWz"
      },
      "execution_count": null,
      "outputs": []
    },
    {
      "cell_type": "markdown",
      "source": [
        "### **Create A Boxplot in `ggplot2`**"
      ],
      "metadata": {
        "id": "IVtWZCe2cuKJ"
      }
    },
    {
      "cell_type": "markdown",
      "source": [
        "#### **A Single Boxplot**\n"
      ],
      "metadata": {
        "id": "HZrdIrQcfbX_"
      }
    },
    {
      "cell_type": "markdown",
      "source": [
        "Crreating a single boxplot for a numeric vector using `ggplot2` is simple. You only need to convert the numeric vector to a data frame before passing it into the `ggplot()` function."
      ],
      "metadata": {
        "id": "WOnTnQVUffb3"
      }
    },
    {
      "cell_type": "code",
      "source": [
        "set.seed(59)\n",
        "numVec = rnorm(2000)\n",
        "data = data.frame(Value = numVec)\n",
        "\n",
        "data %>% ggplot(aes(y = Value)) +  # empty x to get a single boxplot\n",
        "  geom_boxplot() +\n",
        "  labs(title = \"Boxplot of a Single Numeric Vector\", x = \"\", y = \"Value\") +\n",
        "  theme_minimal()"
      ],
      "metadata": {
        "id": "Cd3fOUhefnSv"
      },
      "execution_count": null,
      "outputs": []
    },
    {
      "cell_type": "markdown",
      "source": [
        "#### **Multiple Boxplots**"
      ],
      "metadata": {
        "id": "2jlVBqZ7drCz"
      }
    },
    {
      "cell_type": "markdown",
      "source": [
        "Creating multiple boxplots with **ggplot2** is relatively more involved than with base R. One key difference is how **ggplot2** handles data:\n",
        "\n",
        "In `ggplot2`, the **y-axis** represents the values of a single variable. If your data frame has **multiple columns** (e.g., multiple numeric variables), you **cannot** directly plot them all in one call using:\n",
        "\n",
        "```r\n",
        "ggplot(data, aes(y = c(\"col1\", \"col2\")))\n",
        "```\n",
        "\n",
        "This simply does not work. The solution is to use long-format data."
      ],
      "metadata": {
        "id": "8ITGiPVec7z2"
      }
    },
    {
      "cell_type": "code",
      "source": [
        "X %>%\n",
        "  pivot_longer(cols = everything(),\n",
        "               names_to = \"Dataset\",\n",
        "               values_to = \"Value\") %>%\n",
        "  mutate(Dataset = factor(Dataset, levels = colnames(X))) -> longX #This is to preserved the column orders in the original dataframe `X`\n",
        "  #instead of sorting alphabetically.\n",
        "\n",
        "longX %>% ggplot(aes(x = Dataset, y = Value, color = Dataset)) +\n",
        "                 geom_boxplot() +\n",
        "                 labs(\n",
        "                      title = \"Boxplots of datasets with varying magnitudes of outliers\",\n",
        "                      x = \"Column\", y = \"Value\", color = \"Column\"\n",
        "                      ) +\n",
        "                 theme_minimal() +\n",
        "                 theme(\n",
        "                       plot.title = element_text(face = \"bold\", size = 14, hjust = 0.5),\n",
        "                       legend.position = \"top\"\n",
        "                 )\n",
        "\n"
      ],
      "metadata": {
        "id": "xhOvsXUsd23z"
      },
      "execution_count": null,
      "outputs": []
    },
    {
      "cell_type": "markdown",
      "source": [
        "#### **Exercise**\n",
        "\n",
        "Add **ONE** line of code to the following code cell to create boxplots of columns in `skewed` data.frame."
      ],
      "metadata": {
        "id": "u4StJvMygqJo"
      }
    },
    {
      "cell_type": "code",
      "source": [
        "X %>%\n",
        "  pivot_longer(cols = everything(), #In this example, all columns are numeric, and we are supposed to create boxplots of all columns,\n",
        "               #use the everything() option.\n",
        "               names_to = \"Dataset\",\n",
        "               values_to = \"Value\") %>%\n",
        "  #This is to preserved the column orders in the original dataframe `X` instead of sorting alphabetically.\n",
        "  mutate(Dataset = factor(Dataset, levels = colnames(X))) -> longX\n",
        "\n",
        "longX %>% ggplot(aes(x = Dataset, y = Value, color = Dataset)) +\n",
        "                 geom_boxplot() +\n",
        "                 labs(\n",
        "                      title = \"Boxplots of datasets with varying skewness levels\",\n",
        "                      x = \"Column\", y = \"Value\", color = \"Column\"\n",
        "                      ) +\n",
        "                 theme_minimal() +\n",
        "                 theme(\n",
        "                       plot.title = element_text(face = \"bold\", size = 14, hjust = 0.5),\n",
        "                       legend.position = \"top\"\n",
        "                 )\n",
        "\n"
      ],
      "metadata": {
        "id": "M71P6ue-gVgE"
      },
      "execution_count": null,
      "outputs": []
    },
    {
      "cell_type": "markdown",
      "source": [
        "<details>\n",
        "<summary>▶️ Click to show the solution</summary>\n",
        "\n",
        "```r\n",
        "X = skewed\n",
        "X %>%\n",
        "  pivot_longer(cols = everything(),\n",
        "               names_to = \"Dataset\",\n",
        "               values_to = \"Value\") %>%\n",
        "  mutate(Dataset = factor(Dataset, levels = colnames(X))) -> longX\n",
        "  \n",
        "longX %>% ggplot(aes(x = Dataset, y = Value, color = Dataset)) +\n",
        "                 geom_boxplot() +\n",
        "                 labs(\n",
        "                      title = \"Boxplots of datasets with varying skewness levels\",\n",
        "                      x = \"Column\", y = \"Value\", color = \"Column\"\n",
        "                      ) +\n",
        "                 theme_minimal() +\n",
        "                 theme(\n",
        "                       plot.title = element_text(face = \"bold\", size = 14, hjust = 0.5),\n",
        "                       legend.position = \"top\"\n",
        "                 )\n",
        "```\n",
        "  \n",
        "</details>"
      ],
      "metadata": {
        "id": "Zo-ne_1bgl2n"
      }
    },
    {
      "cell_type": "markdown",
      "source": [
        "## **Workshop Questions**"
      ],
      "metadata": {
        "id": "QtPUbL3-nRXI"
      }
    },
    {
      "cell_type": "markdown",
      "source": [
        "### **Question 1**\n",
        "\n",
        "The following code cell loads the `s&p500.csv` dataset for daily returns of `S&P 500` index from `03/01/2000` to `18/07/2025`, queried from Yahoo Finance, then plots the histogram of daily returns of `S&P 500` and calculates the excess kurtosis.\n",
        "\n",
        "Comment on the results."
      ],
      "metadata": {
        "id": "PtnuqYSpnYYE"
      }
    },
    {
      "cell_type": "code",
      "source": [
        "sp500 = read.csv(\"datasets/s&p500.csv\")\n",
        "hist(sp500$daily.returns)\n",
        "kurtosis(sp500$daily.returns)"
      ],
      "metadata": {
        "id": "h9CxhfpXnj2W"
      },
      "execution_count": null,
      "outputs": []
    },
    {
      "cell_type": "markdown",
      "source": [
        "<details>\n",
        "<summary>▶️ Click to show the solution</summary>\n",
        "\n",
        "Daily return data are heavy-tailed, not normally distributed. Modelling daily returns as being normally distributed will severely underestimate the risk.\n",
        "\n",
        "In the 2008 financial crisis, many quantitative models failed to predict the magnitude of losses during the crisis because they **assumed normality**, ignoring the **true fat-tailed nature** of financial returns.\n",
        "\n",
        "</details>"
      ],
      "metadata": {
        "id": "GMod1L0VniiV"
      }
    },
    {
      "cell_type": "markdown",
      "source": [
        "### **EPA Fuel Economy Dataset**\n",
        "\n",
        "A dataset containing information on over 13,500 cars sold in the US from 2010 to 2020, including measurements and characteristics related to vehicle fuel economy and specifications. Data sourced from the [US Fuel Economy website](https://www.fueleconomy.gov/feg/download.shtml).\n",
        "\n",
        "| Variable | Description                                    |\n",
        "|----------|------------------------------------------------|\n",
        "| `city`   | EPA measured fuel economy in miles per gallon (city driving) |\n",
        "| `hwy`    | EPA measured fuel economy in miles per gallon (highway driving) |\n",
        "| `cyl`    | Number of cylinders in the engine              |\n",
        "| `disp`   | Engine displacement (litres)                    |\n",
        "| `drive`  | Vehicle drivetrain layout (e.g., FWD, RWD, AWD) |\n",
        "| `make`   | Vehicle manufacturer name                       |\n",
        "| `model`  | Vehicle model name                              |\n",
        "| `trans`  | Transmission type (manual or automatic)        |\n",
        "| `year`   | Vehicle model year                              |\n"
      ],
      "metadata": {
        "id": "ahPgOogUoFCC"
      }
    },
    {
      "cell_type": "code",
      "source": [
        "epa_data = read.csv(\"./datasets/epa_data.csv\")\n",
        "str(epa_data)"
      ],
      "metadata": {
        "id": "8Yf-TVzCnwJU"
      },
      "execution_count": null,
      "outputs": []
    },
    {
      "cell_type": "markdown",
      "source": [
        "### **Question 2**\n",
        "\n",
        "What is the mean and median city fuel economy for cars in the epa_data set? What is the mean, median, and mode for engine displacement?\n",
        "\n",
        "**Hint**: Use the provided `Mode()` function. Use `na.rm = TRUE` option in `mean` and `median` to avoid errors caused by missing values. You may use the `summarise()` function for better readability."
      ],
      "metadata": {
        "id": "x4km73sonktE"
      }
    },
    {
      "cell_type": "code",
      "source": [],
      "metadata": {
        "id": "TiZvXUN8n2NF"
      },
      "execution_count": null,
      "outputs": []
    },
    {
      "cell_type": "markdown",
      "source": [
        "\n",
        "\n",
        "<details>\n",
        "<summary>▶️ Click to show the solution</summary>\n",
        "\n",
        "Solution will be released at the end of the week!\n",
        "\n",
        "</details>"
      ],
      "metadata": {
        "id": "y7Z_cmY6nuts"
      }
    },
    {
      "cell_type": "markdown",
      "source": [
        "### **Question 3**\n",
        "\n",
        "Compare the variance and standard deviation for EPA City and Highway Mileage, use Chebyshev’s theorem and the empirical rule to interpret the results. Is the empirical rule adequate?\n",
        "\n",
        "**Hint**: Use the provided `empiricalRuleGaussian()` and `chebyshevRule()` functions."
      ],
      "metadata": {
        "id": "JZhNXLP6oeM_"
      }
    },
    {
      "cell_type": "code",
      "source": [],
      "metadata": {
        "id": "JKahaTznovZi"
      },
      "execution_count": null,
      "outputs": []
    },
    {
      "cell_type": "markdown",
      "source": [
        "\n",
        "\n",
        "<details>\n",
        "<summary>▶️ Click to show the solution</summary>\n",
        "\n",
        "Solution will be released at the end of the week!\n",
        "</details>"
      ],
      "metadata": {
        "id": "PB83VdrPou2g"
      }
    },
    {
      "cell_type": "markdown",
      "source": [
        "### **Question 4**\n",
        "\n",
        "Compute the three quartiles and interquartile ranges for EPA city and highway mileage. Then, create side-by-side boxplots to visually compare city and highway mileage.\n"
      ],
      "metadata": {
        "id": "xWK4gn1fo1aJ"
      }
    },
    {
      "cell_type": "code",
      "source": [],
      "metadata": {
        "id": "7zPnoW3OphiE"
      },
      "execution_count": null,
      "outputs": []
    },
    {
      "cell_type": "markdown",
      "source": [
        "\n",
        "\n",
        "<details>\n",
        "<summary>▶️ Click to show the solution</summary>\n",
        "\n",
        "Solution will be released at the end of the week!\n",
        "</details>"
      ],
      "metadata": {
        "id": "pjzrvNBqpjDy"
      }
    }
  ]
}