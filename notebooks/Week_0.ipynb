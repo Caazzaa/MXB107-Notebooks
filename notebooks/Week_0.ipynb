{
  "nbformat": 4,
  "nbformat_minor": 0,
  "metadata": {
    "colab": {
      "provenance": []
    },
    "kernelspec": {
      "name": "ir",
      "display_name": "R"
    },
    "language_info": {
      "name": "R"
    }
  },
  "cells": [
    {
      "cell_type": "markdown",
      "source": [
        "# **Welcome to MXB107: Introduction to Statistical Modelling**\n",
        "\n",
        "```\n",
        ".------------------------------------.\n",
        "|   __  ____  ______  _  ___ _____   |\n",
        "|  |  \\/  \\ \\/ / __ )/ |/ _ \\___  |  |\n",
        "|  | |\\/| |\\  /|  _ \\| | | | | / /   |\n",
        "|  | |  | |/  \\| |_) | | |_| |/ /    |\n",
        "|  |_|  |_/_/\\_\\____/|_|\\___//_/     |\n",
        "'------------------------------------'\n",
        "\n",
        "```\n"
      ],
      "metadata": {
        "id": "ZtpJJ8BSHOaK"
      }
    },
    {
      "cell_type": "markdown",
      "source": [
        "In this unit, you will be introduced to the R programming language through Google Colab, with a focus on its applications in statistical modeling. There's no need to install R or RStudio on your computer—just an internet connection and a web browser are all you need."
      ],
      "metadata": {
        "id": "SpK9XLxlHOcm"
      }
    },
    {
      "cell_type": "markdown",
      "source": [
        "## **About Google Colab**\n",
        "\n",
        "Google Colab is a free, cloud-based platform that allows you to write and run code directly from your browser, with no setup required. Originally designed for Python, it also supports other languages like R. Colab provides access to powerful computing resources, including GPUs, making it ideal for data analysis, machine learning, and interactive coding tutorials. Its integration with Google Drive ensures that your notebooks are automatically saved and easily shareable, making collaboration seamless and efficient."
      ],
      "metadata": {
        "id": "rg0MAUUdOHBd"
      }
    },
    {
      "cell_type": "markdown",
      "source": [
        "## **Switching to the R Kernel in Google Colab**"
      ],
      "metadata": {
        "id": "7FlDrxXdOG_u"
      }
    },
    {
      "cell_type": "markdown",
      "source": [
        "By default, Google Colab uses Python as its programming language. To use R instead, **at the beginning of each session**, you’ll need to manually switch the kernel by going to **Runtime > Change runtime type**, and selecting R as the kernel. This allows you to run R code in the Colab environment.\n"
      ],
      "metadata": {
        "id": "Cq8hzz78OfZ9"
      }
    },
    {
      "cell_type": "markdown",
      "source": [
        "### **Executing your first R code cell**\n",
        "\n",
        "**To run a code cell**:\n",
        "\n",
        "- Click the ▶️ button to the left of the cell,  \n",
        "- Or press **Ctrl + Enter** (on Windows),  \n",
        "- Or press **Cmd + Return** (on macOS).\n"
      ],
      "metadata": {
        "id": "qJkA7PSHQNRv"
      }
    },
    {
      "cell_type": "markdown",
      "source": [
        "This code cell will output **something** only if the R kernel is active; otherwise, it will produce an error."
      ],
      "metadata": {
        "id": "pekRLo7kz0Hc"
      }
    },
    {
      "cell_type": "code",
      "source": [
        "if (!require(\"cowsay\")) install.packages(\"cowsay\"); library(\"cowsay\")\n",
        "say(\"Welcome to MXB107!\", by = \"pig\")"
      ],
      "metadata": {
        "id": "PB-V7bUNtBIX"
      },
      "execution_count": null,
      "outputs": []
    },
    {
      "cell_type": "markdown",
      "source": [
        "### **Creating your first R code cell**\n",
        "\n",
        "To create a new code cell, click the `+ Code` button at the top-left of the notebook. To insert a code cell immediately below an existing one, first click inside that code cell.\n",
        "\n",
        "**Task**: Create a new code cell below this, enter `print(\"Hello world!\")`, and execute it."
      ],
      "metadata": {
        "id": "bFNhXwn21kAH"
      }
    },
    {
      "cell_type": "markdown",
      "source": [
        "## **Introduction to the R Programming Languague**"
      ],
      "metadata": {
        "id": "75dEkRi-1CuP"
      }
    },
    {
      "cell_type": "markdown",
      "source": [
        "## **R as a Calculator**"
      ],
      "metadata": {
        "id": "lHNWd3ZO1GQq"
      }
    },
    {
      "cell_type": "markdown",
      "source": [
        "R is essentially just a really powerful calculator, kind of like those you may have been required to purchase for high school maths, only better and with a much higher limit on what it can achieve.\n",
        "\n",
        "Doing computation in R involves writing code. We can create a code cell, type directly into that and run code, and it will give us an answer like a calculator."
      ],
      "metadata": {
        "id": "oqJuaNCi2zOc"
      }
    },
    {
      "cell_type": "markdown",
      "source": [
        "### **Example**"
      ],
      "metadata": {
        "id": "rp26CeoJ5dG3"
      }
    },
    {
      "cell_type": "code",
      "source": [
        "1 + 1          # Adds 1 and 1\n",
        "4 * 5          # Multiplies 4 by 5\n",
        "(2 + 5)^2      # Adds 2 and 5, then squares the result"
      ],
      "metadata": {
        "id": "80fMOw5X1iTS"
      },
      "execution_count": null,
      "outputs": []
    },
    {
      "cell_type": "markdown",
      "source": [
        "### **What does \\# do**?"
      ],
      "metadata": {
        "id": "nEgdvMZF5VFh"
      }
    },
    {
      "cell_type": "markdown",
      "source": [
        "In R, anything following **#** on a line is treated as a comment and is not executed. It’s good practice to include comments in your code to explain what it does, making it easier to understand and maintain."
      ],
      "metadata": {
        "id": "axo7L_IK57A0"
      }
    },
    {
      "cell_type": "markdown",
      "source": [
        "### **Exercise**"
      ],
      "metadata": {
        "id": "zRiCcxHZ6ULv"
      }
    },
    {
      "cell_type": "markdown",
      "source": [
        "See if you can work out how to divide 50 by 4, then compute 14 multiplied by the sum of 4 and 6, divided by 2. Don’t forget to execute the cell to see your answers."
      ],
      "metadata": {
        "id": "Zk0EUMR26giJ"
      }
    },
    {
      "cell_type": "code",
      "source": [],
      "metadata": {
        "id": "j_yXnbsn-OzF"
      },
      "execution_count": null,
      "outputs": []
    },
    {
      "cell_type": "markdown",
      "source": [
        "<details>\n",
        "<summary>▶️ Click to show the solution</summary>\n",
        "\n",
        "```r\n",
        "50/4\n",
        "14*(4+6)/2\n",
        "```\n",
        "\n",
        "</details>"
      ],
      "metadata": {
        "id": "gTOA1L4d-RKT"
      }
    },
    {
      "cell_type": "markdown",
      "source": [
        "## **Working with the R File System**\n",
        "\n",
        "Knowing your current working directory is important when working with files in R. You can check it using the `getwd()` function."
      ],
      "metadata": {
        "id": "Ic_ovXm36w8U"
      }
    },
    {
      "cell_type": "code",
      "source": [
        "getwd()"
      ],
      "metadata": {
        "id": "AzlMScBP619O"
      },
      "execution_count": null,
      "outputs": []
    },
    {
      "cell_type": "markdown",
      "source": [
        "\n",
        "On Colab, R runs on a temporary virtual Linux environment, so `getwd()` will typically return `/content`, which is the default working directory during the session.\n",
        "\n",
        "If you need to change the working directory. For example, to access data stored in a different folder—you can use the `setwd(\"your/path/here\")` function. Always ensure the path is correct, especially when running notebooks on different systems."
      ],
      "metadata": {
        "id": "LPfPpCTQ7Ya4"
      }
    },
    {
      "cell_type": "markdown",
      "source": [
        "### **Example**\n",
        "\n",
        "Create a new directory named `a_new_directory` via `dir.create(\"a_new_directory\")`, it will be a sub-directory of `/content`.\n",
        "\n"
      ],
      "metadata": {
        "id": "WgktOdZY7zhR"
      }
    },
    {
      "cell_type": "code",
      "source": [],
      "metadata": {
        "id": "WkPAlm_P8BqO"
      },
      "execution_count": null,
      "outputs": []
    },
    {
      "cell_type": "markdown",
      "source": [
        "<details>\n",
        "<summary>▶️ Click to show the solution</summary>\n",
        "\n",
        "```r\n",
        "dir.create(\"a_new_directory\")\n",
        "setwd(\"./a_new_directory\")\n",
        "```\n",
        "\n",
        "</details>"
      ],
      "metadata": {
        "id": "0_s8kki193Mn"
      }
    },
    {
      "cell_type": "markdown",
      "source": [
        "## **Packages in R**"
      ],
      "metadata": {
        "id": "z9CXkJOj_QUw"
      }
    },
    {
      "cell_type": "markdown",
      "source": [
        "R packages add new features that aren’t included in base R. You install packages via `install.packages(\"pkg_name\")` to access these extra tools and load them with `library(\"pkg_name\")`.\n",
        "\n",
        "Many popular R packages are already available on Colab, so you often don’t need to install them, saving time. Therefore, it’s best to check if a package is installed before attempting to install or load it blindly.\n",
        "\n",
        "Here, the `MASS` package is available in base R, so the system won't attempt to install `MASS`."
      ],
      "metadata": {
        "id": "B7AP5Tch_oI7"
      }
    },
    {
      "cell_type": "code",
      "source": [
        "if (!require(\"MASS\")) install.packages(\"MASS\"); library(\"MASS\")"
      ],
      "metadata": {
        "id": "tq0Pj8bL_fow"
      },
      "execution_count": null,
      "outputs": []
    },
    {
      "cell_type": "markdown",
      "source": [
        "Most reviewed R packages are available on CRAN (https://cran.r-project.org/web/packages/available_packages_by_name.html) and Bioconductor (https://bioconductor.org/packages/release/bioc/), but many are also available as GitHub repositories.\n",
        "\n",
        "For CRAN packages, it is generally sufficient to use `install.packages(\"pkg_name\")` to install them, but installing from other repositories like GitHub can be more complicated."
      ],
      "metadata": {
        "id": "sJ51gWSpBGd4"
      }
    },
    {
      "cell_type": "markdown",
      "source": [
        "### **Example**\n",
        "\n",
        "Check if the CRAN package `\"e1071\"` is installed. If it is, load the package; if not, install it first and then load it."
      ],
      "metadata": {
        "id": "FPduwg9MBkxg"
      }
    },
    {
      "cell_type": "code",
      "source": [],
      "metadata": {
        "collapsed": true,
        "id": "KSjcj_whBkUC"
      },
      "execution_count": null,
      "outputs": []
    },
    {
      "cell_type": "markdown",
      "source": [
        "<details>\n",
        "<summary>▶️ Click to show the solution</summary>\n",
        "\n",
        "```r\n",
        "if (!require(\"e1071\")) install.packages(\"e1071\"); library(\"e1071\")\n",
        "```\n",
        "\n",
        "</details>"
      ],
      "metadata": {
        "id": "1vaX2hnlCI7N"
      }
    },
    {
      "cell_type": "markdown",
      "source": [
        "## **Getting help in R**"
      ],
      "metadata": {
        "id": "e5H_h__3Dgaj"
      }
    }
  ]
}