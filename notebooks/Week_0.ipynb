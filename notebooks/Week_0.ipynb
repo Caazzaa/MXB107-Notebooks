{
  "nbformat": 4,
  "nbformat_minor": 0,
  "metadata": {
    "colab": {
      "provenance": []
    },
    "kernelspec": {
      "name": "ir",
      "display_name": "R"
    },
    "language_info": {
      "name": "R"
    }
  },
  "cells": [
    {
      "cell_type": "markdown",
      "source": [
        "# **Welcome to MXB107: Introduction to Statistical Modelling**\n",
        "\n",
        "```\n",
        ".------------------------------------.\n",
        "|   __  ____  ______  _  ___ _____   |\n",
        "|  |  \\/  \\ \\/ / __ )/ |/ _ \\___  |  |\n",
        "|  | |\\/| |\\  /|  _ \\| | | | | / /   |\n",
        "|  | |  | |/  \\| |_) | | |_| |/ /    |\n",
        "|  |_|  |_/_/\\_\\____/|_|\\___//_/     |\n",
        "'------------------------------------'\n",
        "\n",
        "```\n"
      ],
      "metadata": {
        "id": "ZtpJJ8BSHOaK"
      }
    },
    {
      "cell_type": "markdown",
      "source": [
        "In this unit, you will be introduced to the R programming language through Google Colab, with a focus on its applications in statistical modeling. There's no need to install R or RStudio on your computer—just an internet connection and a web browser are all you need."
      ],
      "metadata": {
        "id": "SpK9XLxlHOcm"
      }
    },
    {
      "cell_type": "markdown",
      "source": [
        "## **About Google Colab**\n",
        "\n",
        "Google Colab is a free, cloud-based platform that allows you to write and run code directly from your browser, with no setup required. Originally designed for Python, it also supports other languages like R. Colab provides access to powerful computing resources, including GPUs, making it ideal for data analysis, machine learning, and interactive coding tutorials. Its integration with Google Drive ensures that your notebooks are automatically saved and easily shareable, making collaboration seamless and efficient."
      ],
      "metadata": {
        "id": "rg0MAUUdOHBd"
      }
    },
    {
      "cell_type": "markdown",
      "source": [
        "## **Switching to the R Kernel in Google Colab**"
      ],
      "metadata": {
        "id": "7FlDrxXdOG_u"
      }
    },
    {
      "cell_type": "markdown",
      "source": [
        "By default, Google Colab uses Python as its programming language. To use R instead, **at the beginning of each session**, you’ll need to manually switch the kernel by going to **Runtime > Change runtime type**, and selecting R as the kernel. This allows you to run R code in the Colab environment.\n"
      ],
      "metadata": {
        "id": "Cq8hzz78OfZ9"
      }
    },
    {
      "cell_type": "markdown",
      "source": [
        "### **Executing your first R code cell**\n",
        "\n",
        "**To run a code cell**:\n",
        "\n",
        "- Click the ▶️ button to the left of the cell,  \n",
        "- Or press **Ctrl + Enter** (on Windows),  \n",
        "- Or press **Cmd + Return** (on macOS).\n"
      ],
      "metadata": {
        "id": "qJkA7PSHQNRv"
      }
    },
    {
      "cell_type": "markdown",
      "source": [
        "This code cell will output **something** only if the R kernel is active; otherwise, it will produce an error."
      ],
      "metadata": {
        "id": "pekRLo7kz0Hc"
      }
    },
    {
      "cell_type": "code",
      "source": [
        "url = \"https://raw.githubusercontent.com/edelweiss611428/MXB107-Notebooks/refs/heads/main/datasets/qut_logo\"\n",
        "cat(readLines(url, warn = FALSE), sep = \"\\n\")"
      ],
      "metadata": {
        "id": "PB-V7bUNtBIX",
        "outputId": "32e090c0-dc01-4e8d-e223-b92fad38b1b7",
        "colab": {
          "base_uri": "https://localhost:8080/"
        }
      },
      "execution_count": 3,
      "outputs": [
        {
          "output_type": "stream",
          "name": "stdout",
          "text": [
            "\n",
            "   %%%%%%%%%%%%%%%%%%%%%%%%%%%%%%%%%%%%%%%%%%%%%%%%%%%%%%%%%%%%%%%%%%%%%%%%%%\n",
            "   %%%%%%%%%%%%%%%%%%%%%%%%%%%%%%%%%%%%%%%%%%%%%%%%%%%%%%%%%%%%%%%%%%%%%%%%%%\n",
            "   %%%%%%%%%%%%%%%%%%%%%%%%%%%%%%%%%%%%%%%%%%%%%%%%%%%%%%%%%%%%%%%%%%%%%%%%%%\n",
            "   %%%%%%%%%%%-.         .#%%%%%%%%-      #%%%%%%%%.                     *%%%\n",
            "   %%%%%%%%=                .#%%%%%-      #%%%%%%:.%#                    *%%%\n",
            "   %%%%%%#                    .%%%%-      #%%%%%%:  -%*                  *%%%\n",
            "   %%%%%=        .#%%#:.        #%%-      #%%%%%%:    #%-::::       :::::*%%%\n",
            "   %%%%=      .%%%%%%%%%%.       %%-      #%%%%%%:      %%%%%       %%%%%%%%%\n",
            "   %%%%      .%%%%%%%%%%%%+      .%-      #%%%%%%:      %%%%%       %%%%%%%%%\n",
            "   %%%*      %%%%%%%%%%%%%%.      %-      #%%%%%%:      %%%%%       %%%%%%%%%\n",
            "   %%%+      %%%%*=======%%.      #-      #%%%%%%:      %%%%%       %%%%%%%%%\n",
            "   %%%#      *%%%%%.      -      .%-      #%%%%%%:      %%%%%       %%%%%%%%%\n",
            "   %%%%.      #%%%%%#.           :%-      #%%%%%%:      %%%%%       %%%%%%%%%\n",
            "   %%%%#        *%%%%%*         .%%-      #%%%%%%.      %%%%%       %%%%%%%%%\n",
            "   %%%%%#            .#%=       %%%#       .....       .%%%%%       %%%%%%%%%\n",
            "   %%%%%%%.            .%%.      .%%#                  %%%%%%       %%%%%%%%%\n",
            "   %%%%%%%%%:            :%#.      =%%:              =%%%%%%%       %%%%%%%%%\n",
            "   %%%%%%%%%%%%-.       .*%%%*.......*%%%-.      .=%%%%%%%%%%.......%%%%%%%%%\n",
            "   %%%%%%%%%%%%%%%%%%%%%%%%%%%%%%%%%%%%%%%%%%%%%%%%%%%%%%%%%%%%%%%%%%%%%%%%%%\n",
            "   %%%%%%%%%%%%%%%%%%%%%%%%%%%%%%%%%%%%%%%%%%%%%%%%%%%%%%%%%%%%%%%%%%%%%%%%%%\n",
            "   %%%%%%%%%%%%%%%%%%%%%%%%%%%%%%%%%%%%%%%%%%%%%%%%%%%%%%%%%%%%%%%%%%%%%%%%%%\n"
          ]
        }
      ]
    },
    {
      "cell_type": "markdown",
      "source": [
        "### **Creating your first R code cell**\n",
        "\n",
        "To create a new code cell, click the `+ Code` button at the top-left of the notebook. To insert a code cell immediately below an existing one, first click inside that code cell.\n",
        "\n",
        "**Task**: Create a new code cell below this, enter `print(\"Hello world!\")`, and execute it."
      ],
      "metadata": {
        "id": "bFNhXwn21kAH"
      }
    },
    {
      "cell_type": "markdown",
      "source": [
        "## **Introduction to the R Programming Languague**"
      ],
      "metadata": {
        "id": "75dEkRi-1CuP"
      }
    },
    {
      "cell_type": "markdown",
      "source": [
        "### **R as a Calculator**"
      ],
      "metadata": {
        "id": "lHNWd3ZO1GQq"
      }
    },
    {
      "cell_type": "markdown",
      "source": [
        "R is essentially just a really powerful calculator, kind of like those you may have been required to purchase for high school maths, only better and with a much higher limit on what it can achieve.\n",
        "\n",
        "Doing computation in R involves writing code. We can create a code cell, type directly into that and run code, and it will give us an answer like a calculator."
      ],
      "metadata": {
        "id": "oqJuaNCi2zOc"
      }
    },
    {
      "cell_type": "code",
      "source": [
        "1 + 1          # Adds 1 and 1, result: 2\n",
        "4 * 5          # Multiplies 4 by 5, result: 20\n",
        "(2 + 5)^2      # Adds 2 and 5, then squares the result: (7)^2 = 49"
      ],
      "metadata": {
        "id": "80fMOw5X1iTS",
        "outputId": "17fa26bb-957f-4923-88b9-e059b3b8a1a3",
        "colab": {
          "base_uri": "https://localhost:8080/",
          "height": 68
        }
      },
      "execution_count": 5,
      "outputs": [
        {
          "output_type": "display_data",
          "data": {
            "text/html": [
              "2"
            ],
            "text/markdown": "2",
            "text/latex": "2",
            "text/plain": [
              "[1] 2"
            ]
          },
          "metadata": {}
        },
        {
          "output_type": "display_data",
          "data": {
            "text/html": [
              "20"
            ],
            "text/markdown": "20",
            "text/latex": "20",
            "text/plain": [
              "[1] 20"
            ]
          },
          "metadata": {}
        },
        {
          "output_type": "display_data",
          "data": {
            "text/html": [
              "49"
            ],
            "text/markdown": "49",
            "text/latex": "49",
            "text/plain": [
              "[1] 49"
            ]
          },
          "metadata": {}
        }
      ]
    }
  ]
}