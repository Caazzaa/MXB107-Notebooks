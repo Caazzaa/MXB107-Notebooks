{
  "nbformat": 4,
  "nbformat_minor": 0,
  "metadata": {
    "colab": {
      "provenance": []
    },
    "kernelspec": {
      "name": "ir",
      "display_name": "R"
    },
    "language_info": {
      "name": "R"
    }
  },
  "cells": [
    {
      "cell_type": "markdown",
      "source": [
        "# **Welcome to MXB107: Introduction to Statistical Modelling**\n",
        "\n",
        "```\n",
        ".------------------------------------.\n",
        "|   __  ____  ______  _  ___ _____   |\n",
        "|  |  \\/  \\ \\/ / __ )/ |/ _ \\___  |  |\n",
        "|  | |\\/| |\\  /|  _ \\| | | | | / /   |\n",
        "|  | |  | |/  \\| |_) | | |_| |/ /    |\n",
        "|  |_|  |_/_/\\_\\____/|_|\\___//_/     |\n",
        "'------------------------------------'\n",
        "\n",
        "```\n"
      ],
      "metadata": {
        "id": "ZtpJJ8BSHOaK"
      }
    },
    {
      "cell_type": "markdown",
      "source": [
        "In this unit, you will be introduced to the R programming language through Google Colab, with a focus on its applications in statistical modeling. There's no need to install R or [RStudio](https://posit.co/download/rstudio-desktop/) on your computer—just an internet connection and a web browser are all you need."
      ],
      "metadata": {
        "id": "SpK9XLxlHOcm"
      }
    },
    {
      "cell_type": "markdown",
      "source": [
        "## **About Google Colab**\n",
        "\n",
        "Google Colab is a free, cloud-based platform that allows you to write and run code directly from your browser, with no setup required. Originally designed for Python, it also supports other languages like R. Colab provides access to powerful computing resources, including GPUs, making it ideal for data analysis, machine learning, and interactive coding tutorials. Its integration with Google Drive ensures that your notebooks are automatically saved and easily shareable, making collaboration seamless and efficient."
      ],
      "metadata": {
        "id": "rg0MAUUdOHBd"
      }
    },
    {
      "cell_type": "markdown",
      "source": [
        "## **Switching to the R Kernel in Google Colab**"
      ],
      "metadata": {
        "id": "7FlDrxXdOG_u"
      }
    },
    {
      "cell_type": "markdown",
      "source": [
        "By default, Google Colab uses Python as its programming language. To use R instead, you’ll need to manually switch the kernel by going to **Runtime > Change runtime type**, and selecting R as the kernel. This allows you to run R code in the Colab environment.\n",
        "\n",
        "However, our notebook is already configured to use R by default. Unless something goes wrong, you shouldn’t need to manually change runtime type."
      ],
      "metadata": {
        "id": "Cq8hzz78OfZ9"
      }
    },
    {
      "cell_type": "markdown",
      "source": [
        "### **Executing your first R code cell**\n",
        "\n",
        "**To run a code cell**:\n",
        "\n",
        "- Click the ▶️ button to the left of the cell,  \n",
        "- Or press **Ctrl + Enter** (on Windows),  \n",
        "- Or press **Cmd + Return** (on macOS).\n"
      ],
      "metadata": {
        "id": "qJkA7PSHQNRv"
      }
    },
    {
      "cell_type": "markdown",
      "source": [
        "This code cell will output **something** only if the R kernel is active; otherwise, it will produce an error."
      ],
      "metadata": {
        "id": "pekRLo7kz0Hc"
      }
    },
    {
      "cell_type": "code",
      "source": [
        "if (!require(\"cowsay\")) install.packages(\"cowsay\"); library(\"cowsay\")\n",
        "say(\"Welcome to MXB107!\", by = \"pig\")"
      ],
      "metadata": {
        "id": "PB-V7bUNtBIX",
        "outputId": "5dac15bc-f585-497d-ab60-57078e99d702",
        "colab": {
          "base_uri": "https://localhost:8080/"
        }
      },
      "execution_count": 1,
      "outputs": [
        {
          "output_type": "stream",
          "name": "stderr",
          "text": [
            "Loading required package: cowsay\n",
            "\n",
            "Warning message in library(package, lib.loc = lib.loc, character.only = TRUE, logical.return = TRUE, :\n",
            "“there is no package called ‘cowsay’”\n",
            "Installing package into ‘/usr/local/lib/R/site-library’\n",
            "(as ‘lib’ is unspecified)\n",
            "\n"
          ]
        },
        {
          "output_type": "stream",
          "name": "stdout",
          "text": [
            "\n",
            " ____________________ \n",
            "< Welcome to MXB107! >\n",
            " -------------------- \n",
            "     \\\n",
            "      \\\n",
            "\n",
            "       _//| .-~~~-.\n",
            "     _/oo  }       }-@\n",
            "    ('')_  }       |\n",
            "     `--'| { }--{  }\n",
            "          //_/  /_/ [nosig]"
          ]
        }
      ]
    },
    {
      "cell_type": "markdown",
      "source": [
        "### **Creating your first R code cell**\n",
        "\n",
        "To create a new code cell, click the `+ Code` button at the top-left of the notebook. To insert a code cell immediately below an existing one, first click inside that code cell.\n"
      ],
      "metadata": {
        "id": "bFNhXwn21kAH"
      }
    },
    {
      "cell_type": "markdown",
      "source": [
        "\n",
        "#### **Exercise**\n",
        "\n",
        "Create a new code cell below this, enter `say(\"Your first code cell!\", by = \"dog\")`, and execute it."
      ],
      "metadata": {
        "id": "Zv2d6tKjfCLx"
      }
    },
    {
      "cell_type": "markdown",
      "source": [
        "<details>\n",
        "<summary>▶️ Click to show the solution</summary>\n",
        "\n",
        "```r\n",
        "say(\"Your first code cell!\", by = \"dog\")\n",
        "```\n",
        "\n",
        "</details>"
      ],
      "metadata": {
        "id": "1Oyuzr40RSyr"
      }
    },
    {
      "cell_type": "markdown",
      "source": [
        "## **Introduction to the R Programming Languague**"
      ],
      "metadata": {
        "id": "75dEkRi-1CuP"
      }
    },
    {
      "cell_type": "markdown",
      "source": [
        "## **Atomic Data Types in R**\n",
        "\n",
        "\n",
        "Atomic types are the simplest building blocks in R that store individual values such as numbers, text, or logicals. These atomic types form the foundation for creating more complex data structures such as vectors, lists, and data frames.\n",
        "\n",
        "Think of atomic types like the individual cells in an Excel spreadsheet, each holding a single piece of data. Just as cells combine to create sheets and workbooks, atomic types combine in R to build complex datasets."
      ],
      "metadata": {
        "id": "QQk0hFIGFfzd"
      }
    },
    {
      "cell_type": "markdown",
      "source": [
        "### **Double**\n",
        "\n",
        "Double (double-floating point) values represent real numbers (with or without decimals) and are one of the most common atomic types in R. For example, `0.1` represents 0.1."
      ],
      "metadata": {
        "id": "LecV-KrxHdQJ"
      }
    },
    {
      "cell_type": "code",
      "source": [
        "0.1\n",
        "typeof(0.1)"
      ],
      "metadata": {
        "id": "jzPh13GGIDuj",
        "outputId": "3a9983a1-866d-4f38-c71f-a46e2631cf14",
        "colab": {
          "base_uri": "https://localhost:8080/",
          "height": 51
        }
      },
      "execution_count": 2,
      "outputs": [
        {
          "output_type": "display_data",
          "data": {
            "text/html": [
              "0.1"
            ],
            "text/markdown": "0.1",
            "text/latex": "0.1",
            "text/plain": [
              "[1] 0.1"
            ]
          },
          "metadata": {}
        },
        {
          "output_type": "display_data",
          "data": {
            "text/html": [
              "'double'"
            ],
            "text/markdown": "'double'",
            "text/latex": "'double'",
            "text/plain": [
              "[1] \"double\""
            ]
          },
          "metadata": {}
        }
      ]
    },
    {
      "cell_type": "markdown",
      "source": [
        "#### **Is This Exactly 0.1**?\n",
        "\n",
        "Might not be the case (see [IEEE 754 - Wikipedia](https://en.wikipedia.org/wiki/IEEE_754)). Real numbers are uncountably infinite, but computers have only finite memory, so there might be some \"generally acceptable\" representation error. However, they can propagate and affect the accuracy of your results if not handled correctly (beyond the scope of this unit)."
      ],
      "metadata": {
        "id": "bZj5a56CIXA_"
      }
    },
    {
      "cell_type": "markdown",
      "source": [
        "#### **Is `0.1 + 0.2` equal to `0.3`**?"
      ],
      "metadata": {
        "id": "kpOD5P2ClMrF"
      }
    },
    {
      "cell_type": "code",
      "source": [
        "0.1 + 0.2 == 0.3"
      ],
      "metadata": {
        "id": "LaPfMi6llJ-K",
        "outputId": "c710edb8-4837-4524-b2c9-e4947ff4f26d",
        "colab": {
          "base_uri": "https://localhost:8080/",
          "height": 34
        }
      },
      "execution_count": 3,
      "outputs": [
        {
          "output_type": "display_data",
          "data": {
            "text/html": [
              "FALSE"
            ],
            "text/markdown": "FALSE",
            "text/latex": "FALSE",
            "text/plain": [
              "[1] FALSE"
            ]
          },
          "metadata": {}
        }
      ]
    },
    {
      "cell_type": "markdown",
      "source": [
        "**FYI: What about their numerical representations in our computers?**"
      ],
      "metadata": {
        "id": "r7UhjQSG0MP6"
      }
    },
    {
      "cell_type": "code",
      "source": [
        "writeBin(0.1 + 0.2, raw(), size = 8)  # 8 bytes = 64 bits\n",
        "writeBin(0.3, raw(), size = 8)"
      ],
      "metadata": {
        "id": "WplCkw0u0AJb",
        "outputId": "6ff5145d-52be-451a-f258-8b2a4a55e4e3",
        "colab": {
          "base_uri": "https://localhost:8080/",
          "height": 51
        }
      },
      "execution_count": 4,
      "outputs": [
        {
          "output_type": "display_data",
          "data": {
            "text/plain": [
              "[1] 34 33 33 33 33 33 d3 3f"
            ]
          },
          "metadata": {}
        },
        {
          "output_type": "display_data",
          "data": {
            "text/plain": [
              "[1] 33 33 33 33 33 33 d3 3f"
            ]
          },
          "metadata": {}
        }
      ]
    },
    {
      "cell_type": "markdown",
      "source": [
        "They differ only in the least significant byte, which is `34` vs `33`. This is the very smallest possible change in a double."
      ],
      "metadata": {
        "id": "9i7TRiW90Rwy"
      }
    },
    {
      "cell_type": "markdown",
      "source": [
        "**`all.equal()` to the Rescue: Safer Number Comparison in R**"
      ],
      "metadata": {
        "id": "X-xctJx2zuRp"
      }
    },
    {
      "cell_type": "code",
      "source": [
        "all.equal(0.1 + 0.2, 0.3)"
      ],
      "metadata": {
        "id": "Q32mxandzF9r",
        "outputId": "3948de5f-5c9b-48cf-aecd-507670575b9d",
        "colab": {
          "base_uri": "https://localhost:8080/",
          "height": 34
        }
      },
      "execution_count": 5,
      "outputs": [
        {
          "output_type": "display_data",
          "data": {
            "text/html": [
              "TRUE"
            ],
            "text/markdown": "TRUE",
            "text/latex": "TRUE",
            "text/plain": [
              "[1] TRUE"
            ]
          },
          "metadata": {}
        }
      ]
    },
    {
      "cell_type": "markdown",
      "source": [
        "### **Integer**\n",
        "\n",
        "In R, integers represent whole numbers without decimal points. You can create them using the `L` suffix, like `5L`, and check their type with `typeof(5L)`."
      ],
      "metadata": {
        "id": "JE7B6j-BJpaw"
      }
    },
    {
      "cell_type": "code",
      "source": [
        "5L\n",
        "typeof(5L)\n",
        "typeof(5)"
      ],
      "metadata": {
        "id": "cuE4bfpOKBmg",
        "outputId": "8ad2e7b5-6628-4b2c-b84d-31c64b520969",
        "colab": {
          "base_uri": "https://localhost:8080/",
          "height": 68
        }
      },
      "execution_count": 6,
      "outputs": [
        {
          "output_type": "display_data",
          "data": {
            "text/html": [
              "5"
            ],
            "text/markdown": "5",
            "text/latex": "5",
            "text/plain": [
              "[1] 5"
            ]
          },
          "metadata": {}
        },
        {
          "output_type": "display_data",
          "data": {
            "text/html": [
              "'integer'"
            ],
            "text/markdown": "'integer'",
            "text/latex": "'integer'",
            "text/plain": [
              "[1] \"integer\""
            ]
          },
          "metadata": {}
        },
        {
          "output_type": "display_data",
          "data": {
            "text/html": [
              "'double'"
            ],
            "text/markdown": "'double'",
            "text/latex": "'double'",
            "text/plain": [
              "[1] \"double\""
            ]
          },
          "metadata": {}
        }
      ]
    },
    {
      "cell_type": "markdown",
      "source": [
        "**FYI**: Integers and doubles are stored differently in memory. Integers use a fixed number of bits to represent whole numbers exactly, while doubles (floating-point numbers) follow the IEEE 754 standard to represent real numbers approximately."
      ],
      "metadata": {
        "id": "bnKDd6vFKQKi"
      }
    },
    {
      "cell_type": "markdown",
      "source": [
        "### **Character**\n",
        "\n",
        "Characters in R represent text data, such as letters, words, or sentences. They are enclosed in either single or double quotes, for example, `\"hello\"` or `'world'`.  \n",
        "\n",
        "This data type is common in any programming languages and is used for many basic but essential tasks, such as specifying paths to a directory (e.g., `\"content/path\"`), specifying a name (e.g., an R package's name like `\"ggplot2\"`), storing information)."
      ],
      "metadata": {
        "id": "DqzwtSaoNfi3"
      }
    },
    {
      "cell_type": "code",
      "source": [
        "\"Welcome to MXB107!\"\n",
        "typeof(\"Welcome to MXB107!\")"
      ],
      "metadata": {
        "id": "3vPeeBNvO0ZU",
        "outputId": "65c518e7-a9b4-45e7-e9c2-d8322c7f775f",
        "colab": {
          "base_uri": "https://localhost:8080/",
          "height": 51
        }
      },
      "execution_count": 7,
      "outputs": [
        {
          "output_type": "display_data",
          "data": {
            "text/html": [
              "'Welcome to MXB107!'"
            ],
            "text/markdown": "'Welcome to MXB107!'",
            "text/latex": "'Welcome to MXB107!'",
            "text/plain": [
              "[1] \"Welcome to MXB107!\""
            ]
          },
          "metadata": {}
        },
        {
          "output_type": "display_data",
          "data": {
            "text/html": [
              "'character'"
            ],
            "text/markdown": "'character'",
            "text/latex": "'character'",
            "text/plain": [
              "[1] \"character\""
            ]
          },
          "metadata": {}
        }
      ]
    },
    {
      "cell_type": "markdown",
      "source": [
        "#### **Print a `character`**\n",
        "\n",
        "Printing characters is useful when you want to display messages during execution, such as status updates or error messages (there are dedicated functions in R for issuing warnings and errors)."
      ],
      "metadata": {
        "id": "TfjPrJL7Qa7h"
      }
    },
    {
      "cell_type": "code",
      "source": [
        "print(\"Faculty of Science\")"
      ],
      "metadata": {
        "id": "rOohGoc6PKp5",
        "outputId": "14e15f3c-830c-49a5-c4cf-bb13a47f802e",
        "colab": {
          "base_uri": "https://localhost:8080/"
        }
      },
      "execution_count": 8,
      "outputs": [
        {
          "output_type": "stream",
          "name": "stdout",
          "text": [
            "[1] \"Faculty of Science\"\n"
          ]
        }
      ]
    },
    {
      "cell_type": "markdown",
      "source": [
        "#### **What Does \\# Do**?\n",
        "\n",
        "In R, anything following # on a line is treated as a comment and is not executed. It’s good practice to include comments in your code to explain what it does, making it easier to understand and maintain."
      ],
      "metadata": {
        "id": "gg5rlBvzPjpY"
      }
    },
    {
      "cell_type": "markdown",
      "source": [
        "### **Logical**\n",
        "\n",
        "Logical values in R are `TRUE` (or equivalently, `T`) and `FALSE` (or equivalently, `F`) . These are used for decisions, filtering, and control flow and can be created via comparision operators or more generally, evaluation of some expressions in R.\n"
      ],
      "metadata": {
        "id": "Qk3Z_Q1XTCYp"
      }
    },
    {
      "cell_type": "code",
      "source": [
        "T\n",
        "TRUE\n",
        "F\n",
        "FALSE"
      ],
      "metadata": {
        "id": "A-XI61PYTKex",
        "outputId": "30972fa6-b3a8-4a7a-8b76-8c6769c6fbf3",
        "colab": {
          "base_uri": "https://localhost:8080/",
          "height": 85
        }
      },
      "execution_count": 9,
      "outputs": [
        {
          "output_type": "display_data",
          "data": {
            "text/html": [
              "TRUE"
            ],
            "text/markdown": "TRUE",
            "text/latex": "TRUE",
            "text/plain": [
              "[1] TRUE"
            ]
          },
          "metadata": {}
        },
        {
          "output_type": "display_data",
          "data": {
            "text/html": [
              "TRUE"
            ],
            "text/markdown": "TRUE",
            "text/latex": "TRUE",
            "text/plain": [
              "[1] TRUE"
            ]
          },
          "metadata": {}
        },
        {
          "output_type": "display_data",
          "data": {
            "text/html": [
              "FALSE"
            ],
            "text/markdown": "FALSE",
            "text/latex": "FALSE",
            "text/plain": [
              "[1] FALSE"
            ]
          },
          "metadata": {}
        },
        {
          "output_type": "display_data",
          "data": {
            "text/html": [
              "FALSE"
            ],
            "text/markdown": "FALSE",
            "text/latex": "FALSE",
            "text/plain": [
              "[1] FALSE"
            ]
          },
          "metadata": {}
        }
      ]
    },
    {
      "cell_type": "markdown",
      "source": [
        "R can generate logical results via comparison operators:\n",
        "\n",
        "- `==` for equality\n",
        "- `<` / `<=` for less than and less than or equal to\n",
        "- `>` / `>=` for greater than and greater than or equal to"
      ],
      "metadata": {
        "id": "p9fYRdZ0UhX0"
      }
    },
    {
      "cell_type": "code",
      "source": [
        "5 < 3\n",
        "\"a\" == \"a\"\n",
        "\"a\" < \"b\""
      ],
      "metadata": {
        "id": "uyR4OrCTUfkW",
        "outputId": "59745aa6-d164-46e4-d3c7-854c6f034ea9",
        "colab": {
          "base_uri": "https://localhost:8080/",
          "height": 68
        }
      },
      "execution_count": 10,
      "outputs": [
        {
          "output_type": "display_data",
          "data": {
            "text/html": [
              "FALSE"
            ],
            "text/markdown": "FALSE",
            "text/latex": "FALSE",
            "text/plain": [
              "[1] FALSE"
            ]
          },
          "metadata": {}
        },
        {
          "output_type": "display_data",
          "data": {
            "text/html": [
              "TRUE"
            ],
            "text/markdown": "TRUE",
            "text/latex": "TRUE",
            "text/plain": [
              "[1] TRUE"
            ]
          },
          "metadata": {}
        },
        {
          "output_type": "display_data",
          "data": {
            "text/html": [
              "TRUE"
            ],
            "text/markdown": "TRUE",
            "text/latex": "TRUE",
            "text/plain": [
              "[1] TRUE"
            ]
          },
          "metadata": {}
        }
      ]
    },
    {
      "cell_type": "markdown",
      "source": [
        "More generally, R can generate logical results by evaluating expressions. For example, functions like `is.numeric()` return `TRUE` or `FALSE` depending on the input.\n"
      ],
      "metadata": {
        "id": "6rfaI8ANT9UJ"
      }
    },
    {
      "cell_type": "code",
      "source": [
        "is.numeric(\"a\")\n",
        "is.numeric(1)"
      ],
      "metadata": {
        "id": "Qibiy16UT4TY",
        "outputId": "3ea32873-95e8-4c9d-d70a-addca708b360",
        "colab": {
          "base_uri": "https://localhost:8080/",
          "height": 51
        }
      },
      "execution_count": 11,
      "outputs": [
        {
          "output_type": "display_data",
          "data": {
            "text/html": [
              "FALSE"
            ],
            "text/markdown": "FALSE",
            "text/latex": "FALSE",
            "text/plain": [
              "[1] FALSE"
            ]
          },
          "metadata": {}
        },
        {
          "output_type": "display_data",
          "data": {
            "text/html": [
              "TRUE"
            ],
            "text/markdown": "TRUE",
            "text/latex": "TRUE",
            "text/plain": [
              "[1] TRUE"
            ]
          },
          "metadata": {}
        }
      ]
    },
    {
      "cell_type": "markdown",
      "source": [
        "## **R as a Calculator**"
      ],
      "metadata": {
        "id": "lHNWd3ZO1GQq"
      }
    },
    {
      "cell_type": "markdown",
      "source": [
        "R is essentially just a really powerful calculator, kind of like those you may have been required to purchase for high school maths, only better and with a much higher limit on what it can achieve.\n",
        "\n",
        "Doing computation in R involves writing code. We can create a code cell, type directly into that and run code, and it will give us an answer like a calculator."
      ],
      "metadata": {
        "id": "oqJuaNCi2zOc"
      }
    },
    {
      "cell_type": "markdown",
      "source": [
        "### **Double Operations**"
      ],
      "metadata": {
        "id": "rp26CeoJ5dG3"
      }
    },
    {
      "cell_type": "markdown",
      "source": [
        "Common double operators include:\n",
        "\n",
        "- `+` for addition (e.g., `2.5 + 1.5`)\n",
        "- `-` for subtraction (e.g., `5.0 - 2.0`)\n",
        "- `*` for multiplication (e.g., `3.0 * 4.0`)\n",
        "- `/` for division (e.g., `10.0 / 2.0`)\n",
        "- `^` for exponentiation (e.g., `10.0 ^ 2.0`)\n",
        "\n",
        "These operations follow standard arithmetic rules and return results as doubles. You can use parentheses `()` to change the order of evaluation and control operator precedence in expressions. See [R: Operator Syntax and Precedence](https://stat.ethz.ch/R-manual/R-devel/library/base/html/Syntax.html) for more details."
      ],
      "metadata": {
        "id": "_jZJKEkSLyhJ"
      }
    },
    {
      "cell_type": "code",
      "source": [
        "2.5 + 1.5\n",
        "typeof(2.5+1.5)\n",
        "\n",
        "2*(5 - 2)^2 + 3\n",
        "typeof((5 - 2)^2 + 3)"
      ],
      "metadata": {
        "id": "80fMOw5X1iTS",
        "outputId": "18896cdc-5dc1-47a6-d614-6064eb24efff",
        "colab": {
          "base_uri": "https://localhost:8080/",
          "height": 85
        }
      },
      "execution_count": 12,
      "outputs": [
        {
          "output_type": "display_data",
          "data": {
            "text/html": [
              "4"
            ],
            "text/markdown": "4",
            "text/latex": "4",
            "text/plain": [
              "[1] 4"
            ]
          },
          "metadata": {}
        },
        {
          "output_type": "display_data",
          "data": {
            "text/html": [
              "'double'"
            ],
            "text/markdown": "'double'",
            "text/latex": "'double'",
            "text/plain": [
              "[1] \"double\""
            ]
          },
          "metadata": {}
        },
        {
          "output_type": "display_data",
          "data": {
            "text/html": [
              "21"
            ],
            "text/markdown": "21",
            "text/latex": "21",
            "text/plain": [
              "[1] 21"
            ]
          },
          "metadata": {}
        },
        {
          "output_type": "display_data",
          "data": {
            "text/html": [
              "'double'"
            ],
            "text/markdown": "'double'",
            "text/latex": "'double'",
            "text/plain": [
              "[1] \"double\""
            ]
          },
          "metadata": {}
        }
      ]
    },
    {
      "cell_type": "markdown",
      "source": [
        "#### **Exercise**\n",
        "\n",
        "Work out how to divide 50 by 4, then compute 14 multiplied by the sum of 4 and 6, divided by 2. What are the data types of the results?"
      ],
      "metadata": {
        "id": "i9zTWhd-R9r0"
      }
    },
    {
      "cell_type": "code",
      "source": [],
      "metadata": {
        "id": "qu0xUoLDSJKv"
      },
      "execution_count": 13,
      "outputs": []
    },
    {
      "cell_type": "markdown",
      "source": [
        "<details>\n",
        "<summary>▶️ Click to show the solution</summary>\n",
        "\n",
        "```r\n",
        "50/4\n",
        "typeof(50/4)\n",
        "\n",
        "14*(4+6)/2\n",
        "typeof(14*(4+6)/2)\n",
        "```\n",
        "\n",
        "</details>"
      ],
      "metadata": {
        "id": "iJwIwgLySJzt"
      }
    },
    {
      "cell_type": "markdown",
      "source": [
        "### **Integer Operations**"
      ],
      "metadata": {
        "id": "V1kmaAhNRivE"
      }
    },
    {
      "cell_type": "markdown",
      "source": [
        "All double operators apply to integers as well, with some caveats."
      ],
      "metadata": {
        "id": "vtBO05wxSXbw"
      }
    },
    {
      "cell_type": "markdown",
      "source": [
        "#### **Integer Addition/Subtraction/Multiplication**\n",
        "\n",
        "The output type stays `\"integer\"` as long as both operands are integers, unlike double operations.\n",
        "\n",
        "\n"
      ],
      "metadata": {
        "id": "pHBZX_2kLqNI"
      }
    },
    {
      "cell_type": "code",
      "source": [
        "1L+1L\n",
        "typeof(1L+1L)\n",
        "typeof(1+1)"
      ],
      "metadata": {
        "id": "AlxYlTOkLNMw",
        "outputId": "0eaab740-8ad8-404f-ef96-6a5e6b9ce872",
        "colab": {
          "base_uri": "https://localhost:8080/",
          "height": 68
        }
      },
      "execution_count": 14,
      "outputs": [
        {
          "output_type": "display_data",
          "data": {
            "text/html": [
              "2"
            ],
            "text/markdown": "2",
            "text/latex": "2",
            "text/plain": [
              "[1] 2"
            ]
          },
          "metadata": {}
        },
        {
          "output_type": "display_data",
          "data": {
            "text/html": [
              "'integer'"
            ],
            "text/markdown": "'integer'",
            "text/latex": "'integer'",
            "text/plain": [
              "[1] \"integer\""
            ]
          },
          "metadata": {}
        },
        {
          "output_type": "display_data",
          "data": {
            "text/html": [
              "'double'"
            ],
            "text/markdown": "'double'",
            "text/latex": "'double'",
            "text/plain": [
              "[1] \"double\""
            ]
          },
          "metadata": {}
        }
      ]
    },
    {
      "cell_type": "code",
      "source": [
        "1L*1L\n",
        "typeof(1L*1L)"
      ],
      "metadata": {
        "id": "Q28JedGrMz4e",
        "outputId": "ff33ea65-2a85-4867-fa20-7da3a29b31d4",
        "colab": {
          "base_uri": "https://localhost:8080/",
          "height": 51
        }
      },
      "execution_count": 15,
      "outputs": [
        {
          "output_type": "display_data",
          "data": {
            "text/html": [
              "1"
            ],
            "text/markdown": "1",
            "text/latex": "1",
            "text/plain": [
              "[1] 1"
            ]
          },
          "metadata": {}
        },
        {
          "output_type": "display_data",
          "data": {
            "text/html": [
              "'integer'"
            ],
            "text/markdown": "'integer'",
            "text/latex": "'integer'",
            "text/plain": [
              "[1] \"integer\""
            ]
          },
          "metadata": {}
        }
      ]
    },
    {
      "cell_type": "markdown",
      "source": [
        "#### **Integer division**\n",
        "\n",
        "Unlike C/C++, R does not perform 'int' division, so the result is not 1L but `1.666...` as we desire."
      ],
      "metadata": {
        "id": "gRUbm9aRLYYg"
      }
    },
    {
      "cell_type": "code",
      "source": [
        "5L/3L\n",
        "typeof(5L/3L)\n",
        "\n",
        "5/3\n",
        "typeof(5/3)"
      ],
      "metadata": {
        "id": "bwN2rwYXLWtP",
        "outputId": "9d48af39-ae25-4b75-977e-ef2a97b7325b",
        "colab": {
          "base_uri": "https://localhost:8080/",
          "height": 85
        }
      },
      "execution_count": 16,
      "outputs": [
        {
          "output_type": "display_data",
          "data": {
            "text/html": [
              "1.66666666666667"
            ],
            "text/markdown": "1.66666666666667",
            "text/latex": "1.66666666666667",
            "text/plain": [
              "[1] 1.666667"
            ]
          },
          "metadata": {}
        },
        {
          "output_type": "display_data",
          "data": {
            "text/html": [
              "'double'"
            ],
            "text/markdown": "'double'",
            "text/latex": "'double'",
            "text/plain": [
              "[1] \"double\""
            ]
          },
          "metadata": {}
        },
        {
          "output_type": "display_data",
          "data": {
            "text/html": [
              "1.66666666666667"
            ],
            "text/markdown": "1.66666666666667",
            "text/latex": "1.66666666666667",
            "text/plain": [
              "[1] 1.666667"
            ]
          },
          "metadata": {}
        },
        {
          "output_type": "display_data",
          "data": {
            "text/html": [
              "'double'"
            ],
            "text/markdown": "'double'",
            "text/latex": "'double'",
            "text/plain": [
              "[1] \"double\""
            ]
          },
          "metadata": {}
        }
      ]
    },
    {
      "cell_type": "markdown",
      "source": [
        "#### **Exercise**\n",
        "\n"
      ],
      "metadata": {
        "id": "vGMnvqmbRz08"
      }
    },
    {
      "cell_type": "markdown",
      "source": [
        "What is the output of integer 5 raised to the power of integer 3? What is the data type of the result?"
      ],
      "metadata": {
        "id": "b3lqT7XNSkA7"
      }
    },
    {
      "cell_type": "code",
      "source": [],
      "metadata": {
        "id": "-3_Us_bOR4G4"
      },
      "execution_count": 17,
      "outputs": []
    },
    {
      "cell_type": "markdown",
      "source": [
        "<details>\n",
        "<summary>▶️ Click to show the solution</summary>\n",
        "\n",
        "```r\n",
        "5L^3L\n",
        "typeof(5L^3L)\n",
        "```\n",
        "\n",
        "</details>"
      ],
      "metadata": {
        "id": "gTOA1L4d-RKT"
      }
    },
    {
      "cell_type": "markdown",
      "source": [
        "### **Logical Operators**"
      ],
      "metadata": {
        "id": "QcjkXkELTcMZ"
      }
    },
    {
      "cell_type": "markdown",
      "source": [
        "Logical operators allow you to combine or modify logical values (`TRUE`/`FALSE`):\n",
        "\n",
        "- `&` : Element-wise AND  \n",
        "- `|` : Element-wise OR  \n",
        "- `!` : NOT (negation)  \n",
        "- `&&` : Short-circuit AND (evaluates only the first element)  \n",
        "- `||` : Short-circuit OR (evaluates only the first element)\n",
        "\n",
        "The difference between `&` and `&&` (and similarly `|` vs `||`) is subtle and mainly relevant when working with vectors.  We’ll explore that in more detail later.\n"
      ],
      "metadata": {
        "id": "Sr_yKpk6VLYy"
      }
    },
    {
      "cell_type": "code",
      "source": [
        "T & F\n",
        "!(T&F)"
      ],
      "metadata": {
        "id": "5LUsSF9dVjhj",
        "outputId": "af5da47c-f351-447f-f634-217d2e4771ae",
        "colab": {
          "base_uri": "https://localhost:8080/",
          "height": 51
        }
      },
      "execution_count": 18,
      "outputs": [
        {
          "output_type": "display_data",
          "data": {
            "text/html": [
              "FALSE"
            ],
            "text/markdown": "FALSE",
            "text/latex": "FALSE",
            "text/plain": [
              "[1] FALSE"
            ]
          },
          "metadata": {}
        },
        {
          "output_type": "display_data",
          "data": {
            "text/html": [
              "TRUE"
            ],
            "text/markdown": "TRUE",
            "text/latex": "TRUE",
            "text/plain": [
              "[1] TRUE"
            ]
          },
          "metadata": {}
        }
      ]
    },
    {
      "cell_type": "markdown",
      "source": [
        "#### **Exercise**\n",
        "\n",
        "Combine `3^2 < 2^3` and `log(3) > 1.5` via the logical `AND` operator. What is the result? Verify the result explicitly in R."
      ],
      "metadata": {
        "id": "ySHVzDaWVptI"
      }
    },
    {
      "cell_type": "code",
      "source": [],
      "metadata": {
        "id": "cCrr71rHWH7A"
      },
      "execution_count": 19,
      "outputs": []
    },
    {
      "cell_type": "markdown",
      "source": [
        "<details>\n",
        "<summary>▶️ Click to show the solution</summary>\n",
        "\n",
        "```r\n",
        "(3^2 < 2^3) & (log(3) > 1.5)\n",
        "```\n",
        "\n",
        "</details>"
      ],
      "metadata": {
        "id": "H2JC9qA5WIav"
      }
    },
    {
      "cell_type": "markdown",
      "source": [
        "## **Working with the R File System**\n",
        "\n",
        "Knowing your current working directory is important when working with files in R. You can check it using the `getwd()` function."
      ],
      "metadata": {
        "id": "Ic_ovXm36w8U"
      }
    },
    {
      "cell_type": "code",
      "source": [
        "getwd()"
      ],
      "metadata": {
        "id": "AzlMScBP619O",
        "outputId": "1da2ca72-eaeb-4e67-8267-a45345a2f232",
        "colab": {
          "base_uri": "https://localhost:8080/",
          "height": 34
        }
      },
      "execution_count": 20,
      "outputs": [
        {
          "output_type": "display_data",
          "data": {
            "text/html": [
              "'/content'"
            ],
            "text/markdown": "'/content'",
            "text/latex": "'/content'",
            "text/plain": [
              "[1] \"/content\""
            ]
          },
          "metadata": {}
        }
      ]
    },
    {
      "cell_type": "markdown",
      "source": [
        "\n",
        "On Colab, R runs on a temporary virtual Linux environment, so `getwd()` will typically return `/content`, which is the default working directory during the session.\n",
        "\n",
        "If you need to change the working directory. For example, to access data stored in a different folder—you can use the `setwd(\"your/path/here\")` function. Always ensure the path is correct, especially when running notebooks on different systems."
      ],
      "metadata": {
        "id": "LPfPpCTQ7Ya4"
      }
    },
    {
      "cell_type": "markdown",
      "source": [
        "#### **Exercise**\n",
        "\n",
        "Create a new directory named `our_working_directory` via `dir.create(\"our_working_directory\")`. It will be a sub-directory of `/content`. Then, change the working directory to the newly created sub-directory.\n",
        "\n"
      ],
      "metadata": {
        "id": "WgktOdZY7zhR"
      }
    },
    {
      "cell_type": "code",
      "source": [],
      "metadata": {
        "id": "WkPAlm_P8BqO"
      },
      "execution_count": 21,
      "outputs": []
    },
    {
      "cell_type": "markdown",
      "source": [
        "<details>\n",
        "<summary>▶️ Click to show the solution</summary>\n",
        "\n",
        "```r\n",
        "dir.create(\"our_working_directory\")\n",
        "setwd(\"./our_working_directory\")\n",
        "```\n",
        "\n",
        "</details>"
      ],
      "metadata": {
        "id": "0_s8kki193Mn"
      }
    },
    {
      "cell_type": "markdown",
      "source": [
        "Check the current working directory:"
      ],
      "metadata": {
        "id": "ja770aRMZ6DS"
      }
    },
    {
      "cell_type": "code",
      "source": [
        "getwd()"
      ],
      "metadata": {
        "id": "Npt7V6wxZpPQ",
        "outputId": "e8f60ec6-9d03-4054-a959-1cdcca1743d2",
        "colab": {
          "base_uri": "https://localhost:8080/",
          "height": 34
        }
      },
      "execution_count": 22,
      "outputs": [
        {
          "output_type": "display_data",
          "data": {
            "text/html": [
              "'/content'"
            ],
            "text/markdown": "'/content'",
            "text/latex": "'/content'",
            "text/plain": [
              "[1] \"/content\""
            ]
          },
          "metadata": {}
        }
      ]
    },
    {
      "cell_type": "markdown",
      "source": [
        "All datasets and core functionalities needed for this unit are hosted online in the following GitHub repository:\n",
        "`\"https://github.com/edelweiss611428/MXB107-Notebooks/tree/main\"`\n",
        "We will fork (i.e., make a copy of) the repository onto our virtual computer and change the working directory to access its contents.\n",
        "\n",
        "**Do not modify the following**:"
      ],
      "metadata": {
        "id": "VLNikK3CYWIx"
      }
    },
    {
      "cell_type": "code",
      "source": [
        "setwd(\"/content\")\n",
        "\n",
        "# Remove `MXB107-Notebooks` if exists,\n",
        "if (dir.exists(\"MXB107-Notebooks\")) {\n",
        "  system(\"rm -rf MXB107-Notebooks\")\n",
        "}\n",
        "\n",
        "# Fork the repository\n",
        "system(\"git clone https://github.com/edelweiss611428/MXB107-Notebooks.git\")\n",
        "\n",
        "# Change working directory to \"MXB107-Notebooks\"\n",
        "setwd(\"MXB107-Notebooks\")\n",
        "\n",
        "# Print the current working directory\n",
        "getwd()\n",
        "\n",
        "# List contents inside the directory\n",
        "list.files()"
      ],
      "metadata": {
        "id": "tYGemispahiY",
        "outputId": "cdf9fa0d-ae0e-402b-ad24-ee074a399d9f",
        "colab": {
          "base_uri": "https://localhost:8080/",
          "height": 51
        }
      },
      "execution_count": 23,
      "outputs": [
        {
          "output_type": "display_data",
          "data": {
            "text/html": [
              "'/content/MXB107-Notebooks'"
            ],
            "text/markdown": "'/content/MXB107-Notebooks'",
            "text/latex": "'/content/MXB107-Notebooks'",
            "text/plain": [
              "[1] \"/content/MXB107-Notebooks\""
            ]
          },
          "metadata": {}
        },
        {
          "output_type": "display_data",
          "data": {
            "text/html": [
              "<style>\n",
              ".list-inline {list-style: none; margin:0; padding: 0}\n",
              ".list-inline>li {display: inline-block}\n",
              ".list-inline>li:not(:last-child)::after {content: \"\\00b7\"; padding: 0 .5ex}\n",
              "</style>\n",
              "<ol class=list-inline><li>'datasets'</li><li>'MXB107-Notebooks.Rproj'</li><li>'notebooks'</li><li>'R'</li></ol>\n"
            ],
            "text/markdown": "1. 'datasets'\n2. 'MXB107-Notebooks.Rproj'\n3. 'notebooks'\n4. 'R'\n\n\n",
            "text/latex": "\\begin{enumerate*}\n\\item 'datasets'\n\\item 'MXB107-Notebooks.Rproj'\n\\item 'notebooks'\n\\item 'R'\n\\end{enumerate*}\n",
            "text/plain": [
              "[1] \"datasets\"               \"MXB107-Notebooks.Rproj\" \"notebooks\"             \n",
              "[4] \"R\"                     "
            ]
          },
          "metadata": {}
        }
      ]
    },
    {
      "cell_type": "markdown",
      "source": [
        "## **Packages in R**"
      ],
      "metadata": {
        "id": "z9CXkJOj_QUw"
      }
    },
    {
      "cell_type": "markdown",
      "source": [
        "R packages add new features that aren’t included in base R. You install packages via `install.packages(\"pkg_name\")` to access these extra tools and load them with `library(\"pkg_name\")`.\n",
        "\n",
        "Many popular R packages are already available on Colab, so you often don’t need to install them, saving time. Therefore, it’s best to check if a package is installed before attempting to install or load it blindly.\n",
        "\n",
        "Here, the `MASS` package is available in base R, so the system won't attempt to install `MASS`."
      ],
      "metadata": {
        "id": "B7AP5Tch_oI7"
      }
    },
    {
      "cell_type": "code",
      "source": [
        "if (!require(\"MASS\")) install.packages(\"MASS\"); library(\"MASS\")"
      ],
      "metadata": {
        "id": "tq0Pj8bL_fow",
        "outputId": "1a651cd1-097d-4c01-8b8d-b0d46f855551",
        "colab": {
          "base_uri": "https://localhost:8080/"
        }
      },
      "execution_count": 24,
      "outputs": [
        {
          "output_type": "stream",
          "name": "stderr",
          "text": [
            "Loading required package: MASS\n",
            "\n"
          ]
        }
      ]
    },
    {
      "cell_type": "markdown",
      "source": [
        "Most reviewed R packages are available on [CRAN](https://cran.r-project.org/web/packages/available_packages_by_name.html) and [Bioconductor](https://bioconductor.org/packages/release/bioc/), but many are also available as GitHub repositories.\n",
        "\n",
        "For CRAN packages, it is generally sufficient to use `install.packages(\"pkg_name\")` to install them, but installing from other repositories like GitHub can be more complicated."
      ],
      "metadata": {
        "id": "sJ51gWSpBGd4"
      }
    },
    {
      "cell_type": "markdown",
      "source": [
        "#### **Exercise**\n",
        "\n",
        "Check if the CRAN package `\"e1071\"` is installed. If it is, load the package; if not, install it first and then load it."
      ],
      "metadata": {
        "id": "FPduwg9MBkxg"
      }
    },
    {
      "cell_type": "code",
      "source": [],
      "metadata": {
        "collapsed": true,
        "id": "KSjcj_whBkUC"
      },
      "execution_count": 25,
      "outputs": []
    },
    {
      "cell_type": "markdown",
      "source": [
        "<details>\n",
        "<summary>▶️ Click to show the solution</summary>\n",
        "\n",
        "```r\n",
        "if (!require(\"e1071\")) install.packages(\"e1071\"); library(\"e1071\")\n",
        "```\n",
        "\n",
        "</details>"
      ],
      "metadata": {
        "id": "1vaX2hnlCI7N"
      }
    },
    {
      "cell_type": "markdown",
      "source": [
        "In general, you won’t need to manually install any packages in this unit. If you fork the unit's GitHub repository, change the directory to `\"MXB107-Notebooks\"` and run the `\"R/preConfigurated.R\"` script, it will automatically load and install all the necessary packages for you.\n",
        "\n",
        "**Do not modify the following**:"
      ],
      "metadata": {
        "id": "Sur65TFffeAD"
      }
    },
    {
      "cell_type": "code",
      "source": [
        "source(\"R/preConfigurated.R\")"
      ],
      "metadata": {
        "id": "_QFFnj9FfteK",
        "outputId": "dde97863-f2a4-474f-b329-1b067b194ece",
        "colab": {
          "base_uri": "https://localhost:8080/"
        }
      },
      "execution_count": 26,
      "outputs": [
        {
          "output_type": "stream",
          "name": "stderr",
          "text": [
            "Loading required package: ggplot2\n",
            "\n",
            "Loading required package: dplyr\n",
            "\n",
            "\n",
            "Attaching package: ‘dplyr’\n",
            "\n",
            "\n",
            "The following object is masked from ‘package:MASS’:\n",
            "\n",
            "    select\n",
            "\n",
            "\n",
            "The following objects are masked from ‘package:stats’:\n",
            "\n",
            "    filter, lag\n",
            "\n",
            "\n",
            "The following objects are masked from ‘package:base’:\n",
            "\n",
            "    intersect, setdiff, setequal, union\n",
            "\n",
            "\n",
            "Loading required package: magrittr\n",
            "\n",
            "Loading required package: e1071\n",
            "\n",
            "Warning message in library(package, lib.loc = lib.loc, character.only = TRUE, logical.return = TRUE, :\n",
            "“there is no package called ‘e1071’”\n",
            "Installing package into ‘/usr/local/lib/R/site-library’\n",
            "(as ‘lib’ is unspecified)\n",
            "\n",
            "also installing the dependencies ‘proxy’, ‘mlbench’, ‘randomForest’, ‘SparseM’, ‘slam’\n",
            "\n",
            "\n"
          ]
        }
      ]
    },
    {
      "cell_type": "markdown",
      "source": [
        "This will also load some prepared utility functions that are not available in base R."
      ],
      "metadata": {
        "id": "2yQOUKXwqlOn"
      }
    },
    {
      "cell_type": "markdown",
      "source": [
        "## **Getting Help in R**\n",
        "\n",
        "If you find yourself forgetting what a particular function does or what the names of the arguments (inputs) you can pass it are, you can use the `help()` function or equivalently `?a_function`. For example, try running the following:"
      ],
      "metadata": {
        "id": "e5H_h__3Dgaj"
      }
    },
    {
      "cell_type": "code",
      "source": [
        "help(mean)"
      ],
      "metadata": {
        "id": "fnIeAZCCD8gs"
      },
      "execution_count": 27,
      "outputs": []
    },
    {
      "cell_type": "code",
      "source": [
        "?mean"
      ],
      "metadata": {
        "id": "2kJZOatuFEJS"
      },
      "execution_count": 28,
      "outputs": []
    },
    {
      "cell_type": "markdown",
      "source": [
        "What you notice is that it prints the help info about calculating the arithmetic mean, where we are told that:\n",
        "- It requires an R object x which is either a numeric vector, logical vector or date, date-time or time interval,\n",
        "- And we can optionally tell it how much of the data to trim,\n",
        "- And whether or not we want drop any missing values from the calculation.\n",
        "\n",
        "One disadvantage of Colab is that it does not render R documentation files very well, as it is primarily designed for Python. However, the interface and documentation display improve significantly when using dedicated IDEs like [RStudio](https://posit.co/download/rstudio-desktop/)."
      ],
      "metadata": {
        "id": "9AbHoZSzELR7"
      }
    },
    {
      "cell_type": "markdown",
      "source": [
        "## **Tests (Optional)**"
      ],
      "metadata": {
        "id": "YrTWz6GdoIA8"
      }
    },
    {
      "cell_type": "markdown",
      "source": [
        "**Do not modify the following**:"
      ],
      "metadata": {
        "id": "goMcrNoeqaWs"
      }
    },
    {
      "cell_type": "code",
      "source": [
        "\n",
        "if (!require(\"testthat\")) install.packages(\"testthat\"); library(\"testthat\")\n",
        "\n",
        "test_that(\"Test if all packages have been installed\", {\n",
        "  expect_true(require(\"ggplot2\"))\n",
        "  expect_true(require(\"dplyr\"))\n",
        "  expect_true(require(\"magrittr\"))\n",
        "})\n",
        "\n",
        "test_that(\"Test if all utility functions have been loaded\", {\n",
        "  expect_true(exists(\"skewness\"))\n",
        "})"
      ],
      "metadata": {
        "id": "eOkr5rpOoaIz",
        "outputId": "b999be2f-0ede-40b7-b38f-a22b988e098e",
        "colab": {
          "base_uri": "https://localhost:8080/"
        }
      },
      "execution_count": 41,
      "outputs": [
        {
          "output_type": "stream",
          "name": "stdout",
          "text": [
            "\u001b[32mTest passed\u001b[39m 😀\n"
          ]
        }
      ]
    }
  ]
}