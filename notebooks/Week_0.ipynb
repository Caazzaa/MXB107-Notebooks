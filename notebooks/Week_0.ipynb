{
  "nbformat": 4,
  "nbformat_minor": 0,
  "metadata": {
    "colab": {
      "provenance": []
    },
    "kernelspec": {
      "name": "ir",
      "display_name": "R"
    },
    "language_info": {
      "name": "R"
    }
  },
  "cells": [
    {
      "cell_type": "markdown",
      "source": [
        "# **Welcome to MXB107: Probability and Statistics**\n",
        "\n",
        "```\n",
        ".------------------------------------.\n",
        "|   __  ____  ______  _  ___ _____   |\n",
        "|  |  \\/  \\ \\/ / __ )/ |/ _ \\___  |  |\n",
        "|  | |\\/| |\\  /|  _ \\| | | | | / /   |\n",
        "|  | |  | |/  \\| |_) | | |_| |/ /    |\n",
        "|  |_|  |_/_/\\_\\____/|_|\\___//_/     |\n",
        "'------------------------------------'\n",
        "\n",
        "```\n"
      ],
      "metadata": {
        "id": "ZtpJJ8BSHOaK"
      }
    },
    {
      "cell_type": "markdown",
      "source": [
        "In this unit, you will be introduced to the R programming language through Google Colab, with a focus on its applications in statistical modeling. There's no need to install R or [RStudio](https://posit.co/download/rstudio-desktop/) on your computer—just an internet connection and a web browser are all you need."
      ],
      "metadata": {
        "id": "SpK9XLxlHOcm"
      }
    },
    {
      "cell_type": "markdown",
      "source": [
        "## **About Google Colab**\n",
        "\n",
        "Google Colab is a free, cloud-based platform that allows you to write and run code directly from your browser, with no setup required. Originally designed for Python, it also supports other languages like R. Colab provides access to powerful computing resources, including GPUs, making it ideal for data analysis, machine learning, and interactive coding tutorials. Its integration with Google Drive ensures that your notebooks are automatically saved and easily shareable, making collaboration seamless and efficient."
      ],
      "metadata": {
        "id": "rg0MAUUdOHBd"
      }
    },
    {
      "cell_type": "markdown",
      "source": [
        "## **Switching to the R Kernel in Google Colab**"
      ],
      "metadata": {
        "id": "7FlDrxXdOG_u"
      }
    },
    {
      "cell_type": "markdown",
      "source": [
        "By default, Google Colab uses Python as its programming language. To use R instead, you’ll need to manually switch the kernel by going to **Runtime > Change runtime type**, and selecting R as the kernel. This allows you to run R code in the Colab environment.\n",
        "\n",
        "However, our notebook is already configured to use R by default. Unless something goes wrong, you shouldn’t need to manually change runtime type."
      ],
      "metadata": {
        "id": "Cq8hzz78OfZ9"
      }
    },
    {
      "cell_type": "markdown",
      "source": [
        "### **Executing your first R code cell**\n",
        "\n",
        "**To run a code cell**:\n",
        "\n",
        "- Click the ▶️ button to the left of the cell,  \n",
        "- Or press **Ctrl + Enter** (on Windows),  \n",
        "- Or press **Cmd + Return** (on macOS).\n"
      ],
      "metadata": {
        "id": "qJkA7PSHQNRv"
      }
    },
    {
      "cell_type": "markdown",
      "source": [
        "This code cell will output **something** only if the R kernel is active; otherwise, it will produce an error."
      ],
      "metadata": {
        "id": "pekRLo7kz0Hc"
      }
    },
    {
      "cell_type": "code",
      "source": [
        "if (!require(\"cowsay\")) install.packages(\"cowsay\"); library(\"cowsay\")\n",
        "say(\"Welcome to MXB107!\", by = \"pig\")"
      ],
      "metadata": {
        "id": "PB-V7bUNtBIX"
      },
      "execution_count": null,
      "outputs": []
    },
    {
      "cell_type": "markdown",
      "source": [
        "### **Creating your first R code cell**\n",
        "\n",
        "To create a new code cell, click the `+ Code` button at the top-left of the notebook. To insert a code cell immediately below an existing one, first click inside that code cell.\n"
      ],
      "metadata": {
        "id": "bFNhXwn21kAH"
      }
    },
    {
      "cell_type": "markdown",
      "source": [
        "\n",
        "#### **Exercise**\n",
        "\n",
        "Create a new code cell below this, enter `say(\"Your first code cell!\", by = \"dog\")`, and execute it."
      ],
      "metadata": {
        "id": "Zv2d6tKjfCLx"
      }
    },
    {
      "cell_type": "markdown",
      "source": [
        "<details>\n",
        "<summary>▶️ Click to show the solution</summary>\n",
        "\n",
        "```r\n",
        "say(\"Your first code cell!\", by = \"dog\")\n",
        "```\n",
        "\n",
        "</details>"
      ],
      "metadata": {
        "id": "1Oyuzr40RSyr"
      }
    },
    {
      "cell_type": "markdown",
      "source": [
        "## **Introduction to the R Programming Languague**"
      ],
      "metadata": {
        "id": "75dEkRi-1CuP"
      }
    },
    {
      "cell_type": "markdown",
      "source": [
        "## **Atomic Data Types in R**\n",
        "\n",
        "\n",
        "Atomic types are the simplest building blocks in R that store individual values such as numbers, text, or logicals. These atomic types form the foundation for creating more complex data structures such as vectors, lists, and data frames.\n",
        "\n",
        "Think of atomic types like the individual cells in an Excel spreadsheet, each holding a single piece of data. Just as cells combine to create sheets and workbooks, atomic types combine in R to build complex datasets."
      ],
      "metadata": {
        "id": "QQk0hFIGFfzd"
      }
    },
    {
      "cell_type": "markdown",
      "source": [
        "### **Double**\n",
        "\n",
        "Double (double-floating point) values represent real numbers (with or without decimals) and are one of the most common atomic types in R. For example, `0.1` represents 0.1."
      ],
      "metadata": {
        "id": "LecV-KrxHdQJ"
      }
    },
    {
      "cell_type": "code",
      "source": [
        "0.1\n",
        "typeof(0.1)"
      ],
      "metadata": {
        "id": "jzPh13GGIDuj"
      },
      "execution_count": null,
      "outputs": []
    },
    {
      "cell_type": "markdown",
      "source": [
        "#### **Is This Exactly 0.1**?\n",
        "\n",
        "Might not be the case (see [IEEE 754 - Wikipedia](https://en.wikipedia.org/wiki/IEEE_754)). Real numbers are uncountably infinite, but computers have only finite memory, so there might be some \"generally acceptable\" representation error. However, they can propagate and affect the accuracy of your results if not handled correctly (beyond the scope of this unit)."
      ],
      "metadata": {
        "id": "bZj5a56CIXA_"
      }
    },
    {
      "cell_type": "markdown",
      "source": [
        "#### **Is `0.1 + 0.2` equal to `0.3`**?"
      ],
      "metadata": {
        "id": "kpOD5P2ClMrF"
      }
    },
    {
      "cell_type": "code",
      "source": [
        "0.1 + 0.2 == 0.3"
      ],
      "metadata": {
        "id": "LaPfMi6llJ-K"
      },
      "execution_count": null,
      "outputs": []
    },
    {
      "cell_type": "markdown",
      "source": [
        "**FYI: What about their numerical representations in our computers?**"
      ],
      "metadata": {
        "id": "r7UhjQSG0MP6"
      }
    },
    {
      "cell_type": "code",
      "source": [
        "writeBin(0.1 + 0.2, raw(), size = 8)  # 8 bytes = 64 bits\n",
        "writeBin(0.3, raw(), size = 8)"
      ],
      "metadata": {
        "id": "WplCkw0u0AJb"
      },
      "execution_count": null,
      "outputs": []
    },
    {
      "cell_type": "markdown",
      "source": [
        "They differ only in the least significant byte, which is `34` vs `33`. This is the very smallest possible change in a double."
      ],
      "metadata": {
        "id": "9i7TRiW90Rwy"
      }
    },
    {
      "cell_type": "markdown",
      "source": [
        "**`all.equal()` to the Rescue: Safer Number Comparison in R**"
      ],
      "metadata": {
        "id": "X-xctJx2zuRp"
      }
    },
    {
      "cell_type": "code",
      "source": [
        "all.equal(0.1 + 0.2, 0.3)"
      ],
      "metadata": {
        "id": "Q32mxandzF9r"
      },
      "execution_count": null,
      "outputs": []
    },
    {
      "cell_type": "markdown",
      "source": [
        "### **Integer**\n",
        "\n",
        "In R, integers represent whole numbers without decimal points. You can create them using the `L` suffix, like `5L`, and check their type with `typeof(5L)`."
      ],
      "metadata": {
        "id": "JE7B6j-BJpaw"
      }
    },
    {
      "cell_type": "code",
      "source": [
        "5L\n",
        "typeof(5L)\n",
        "typeof(5)"
      ],
      "metadata": {
        "id": "cuE4bfpOKBmg"
      },
      "execution_count": null,
      "outputs": []
    },
    {
      "cell_type": "markdown",
      "source": [
        "**FYI**: Integers and doubles are stored differently in memory. Integers use a fixed number of bits to represent whole numbers exactly, while doubles (floating-point numbers) follow the IEEE 754 standard to represent real numbers approximately."
      ],
      "metadata": {
        "id": "bnKDd6vFKQKi"
      }
    },
    {
      "cell_type": "markdown",
      "source": [
        "### **Character**\n",
        "\n",
        "Characters in R represent text data, such as letters, words, or sentences. They are enclosed in either single or double quotes, for example, `\"hello\"` or `'world'`.  \n",
        "\n",
        "This data type is common in any programming languages and is used for many basic but essential tasks, such as specifying paths to a directory (e.g., `\"content/path\"`), specifying a name (e.g., an R package's name like `\"ggplot2\"`), storing information)."
      ],
      "metadata": {
        "id": "DqzwtSaoNfi3"
      }
    },
    {
      "cell_type": "code",
      "source": [
        "\"Welcome to MXB107!\"\n",
        "typeof(\"Welcome to MXB107!\")"
      ],
      "metadata": {
        "id": "3vPeeBNvO0ZU"
      },
      "execution_count": null,
      "outputs": []
    },
    {
      "cell_type": "markdown",
      "source": [
        "#### **Print a `character`**\n",
        "\n",
        "Printing characters is useful when you want to display messages during execution, such as status updates or error messages (there are dedicated functions in R for issuing warnings and errors)."
      ],
      "metadata": {
        "id": "TfjPrJL7Qa7h"
      }
    },
    {
      "cell_type": "code",
      "source": [
        "print(\"Faculty of Science\")"
      ],
      "metadata": {
        "id": "rOohGoc6PKp5"
      },
      "execution_count": null,
      "outputs": []
    },
    {
      "cell_type": "markdown",
      "source": [
        "#### **What Does \\# Do**?\n",
        "\n",
        "In R, anything following # on a line is treated as a comment and is not executed. It’s good practice to include comments in your code to explain what it does, making it easier to understand and maintain."
      ],
      "metadata": {
        "id": "gg5rlBvzPjpY"
      }
    },
    {
      "cell_type": "markdown",
      "source": [
        "### **Logical**\n",
        "\n",
        "Logical values in R are `TRUE` (or equivalently, `T`) and `FALSE` (or equivalently, `F`) . These are used for decisions, filtering, and control flow and can be created via comparision operators or more generally, evaluation of some expressions in R.\n"
      ],
      "metadata": {
        "id": "Qk3Z_Q1XTCYp"
      }
    },
    {
      "cell_type": "code",
      "source": [
        "T\n",
        "TRUE\n",
        "F\n",
        "FALSE"
      ],
      "metadata": {
        "id": "A-XI61PYTKex"
      },
      "execution_count": null,
      "outputs": []
    },
    {
      "cell_type": "markdown",
      "source": [
        "R can generate logical results via comparison operators:\n",
        "\n",
        "- `==` for equality\n",
        "- `<` / `<=` for less than and less than or equal to\n",
        "- `>` / `>=` for greater than and greater than or equal to"
      ],
      "metadata": {
        "id": "p9fYRdZ0UhX0"
      }
    },
    {
      "cell_type": "code",
      "source": [
        "5 < 3\n",
        "\"a\" == \"a\"\n",
        "\"a\" < \"b\""
      ],
      "metadata": {
        "id": "uyR4OrCTUfkW"
      },
      "execution_count": null,
      "outputs": []
    },
    {
      "cell_type": "markdown",
      "source": [
        "More generally, R can generate logical results by evaluating expressions. For example, functions like `is.numeric()` return `TRUE` or `FALSE` depending on the input.\n"
      ],
      "metadata": {
        "id": "6rfaI8ANT9UJ"
      }
    },
    {
      "cell_type": "code",
      "source": [
        "is.numeric(\"a\")\n",
        "is.numeric(1)"
      ],
      "metadata": {
        "id": "Qibiy16UT4TY"
      },
      "execution_count": null,
      "outputs": []
    },
    {
      "cell_type": "markdown",
      "source": [
        "## **R as a Calculator**"
      ],
      "metadata": {
        "id": "lHNWd3ZO1GQq"
      }
    },
    {
      "cell_type": "markdown",
      "source": [
        "R is essentially just a really powerful calculator, kind of like those you may have been required to purchase for high school maths, only better and with a much higher limit on what it can achieve.\n",
        "\n",
        "Doing computation in R involves writing code. We can create a code cell, type directly into that and run code, and it will give us an answer like a calculator."
      ],
      "metadata": {
        "id": "oqJuaNCi2zOc"
      }
    },
    {
      "cell_type": "markdown",
      "source": [
        "### **Double Operations**"
      ],
      "metadata": {
        "id": "rp26CeoJ5dG3"
      }
    },
    {
      "cell_type": "markdown",
      "source": [
        "Common double operators include:\n",
        "\n",
        "- `+` for addition (e.g., `2.5 + 1.5`)\n",
        "- `-` for subtraction (e.g., `5.0 - 2.0`)\n",
        "- `*` for multiplication (e.g., `3.0 * 4.0`)\n",
        "- `/` for division (e.g., `10.0 / 2.0`)\n",
        "- `^` for exponentiation (e.g., `10.0 ^ 2.0`)\n",
        "\n",
        "These operations follow standard arithmetic rules and return results as doubles. You can use parentheses `()` to change the order of evaluation and control operator precedence in expressions. See [R: Operator Syntax and Precedence](https://stat.ethz.ch/R-manual/R-devel/library/base/html/Syntax.html) for more details."
      ],
      "metadata": {
        "id": "_jZJKEkSLyhJ"
      }
    },
    {
      "cell_type": "code",
      "source": [
        "2.5 + 1.5\n",
        "typeof(2.5+1.5)\n",
        "\n",
        "2*(5 - 2)^2 + 3\n",
        "typeof((5 - 2)^2 + 3)"
      ],
      "metadata": {
        "id": "80fMOw5X1iTS"
      },
      "execution_count": null,
      "outputs": []
    },
    {
      "cell_type": "markdown",
      "source": [
        "#### **Exercise**\n",
        "\n",
        "Work out how to divide 50 by 4, then compute 14 multiplied by the sum of 4 and 6, divided by 2. What are the data types of the results?"
      ],
      "metadata": {
        "id": "i9zTWhd-R9r0"
      }
    },
    {
      "cell_type": "code",
      "source": [],
      "metadata": {
        "id": "qu0xUoLDSJKv"
      },
      "execution_count": null,
      "outputs": []
    },
    {
      "cell_type": "markdown",
      "source": [
        "<details>\n",
        "<summary>▶️ Click to show the solution</summary>\n",
        "\n",
        "```r\n",
        "50/4\n",
        "typeof(50/4)\n",
        "\n",
        "14*(4+6)/2\n",
        "typeof(14*(4+6)/2)\n",
        "```\n",
        "\n",
        "</details>"
      ],
      "metadata": {
        "id": "iJwIwgLySJzt"
      }
    },
    {
      "cell_type": "markdown",
      "source": [
        "### **Integer Operations**"
      ],
      "metadata": {
        "id": "V1kmaAhNRivE"
      }
    },
    {
      "cell_type": "markdown",
      "source": [
        "All double operators apply to integers as well, with some caveats."
      ],
      "metadata": {
        "id": "vtBO05wxSXbw"
      }
    },
    {
      "cell_type": "markdown",
      "source": [
        "#### **Integer Addition/Subtraction/Multiplication**\n",
        "\n",
        "The output type stays `\"integer\"` as long as both operands are integers, unlike double operations.\n",
        "\n",
        "\n"
      ],
      "metadata": {
        "id": "pHBZX_2kLqNI"
      }
    },
    {
      "cell_type": "code",
      "source": [
        "1L+1L\n",
        "typeof(1L+1L)\n",
        "typeof(1+1)"
      ],
      "metadata": {
        "id": "AlxYlTOkLNMw"
      },
      "execution_count": null,
      "outputs": []
    },
    {
      "cell_type": "code",
      "source": [
        "1L*1L\n",
        "typeof(1L*1L)"
      ],
      "metadata": {
        "id": "Q28JedGrMz4e"
      },
      "execution_count": null,
      "outputs": []
    },
    {
      "cell_type": "markdown",
      "source": [
        "#### **Integer division**\n",
        "\n",
        "Unlike C/C++, R does not perform 'int' division, so the result is not 1L but `1.666...` as we desire."
      ],
      "metadata": {
        "id": "gRUbm9aRLYYg"
      }
    },
    {
      "cell_type": "code",
      "source": [
        "5L/3L\n",
        "typeof(5L/3L)\n",
        "\n",
        "5/3\n",
        "typeof(5/3)"
      ],
      "metadata": {
        "id": "bwN2rwYXLWtP"
      },
      "execution_count": null,
      "outputs": []
    },
    {
      "cell_type": "markdown",
      "source": [
        "#### **Exercise**\n",
        "\n"
      ],
      "metadata": {
        "id": "vGMnvqmbRz08"
      }
    },
    {
      "cell_type": "markdown",
      "source": [
        "What is the output of integer 5 raised to the power of integer 3? What is the data type of the result?"
      ],
      "metadata": {
        "id": "b3lqT7XNSkA7"
      }
    },
    {
      "cell_type": "code",
      "source": [],
      "metadata": {
        "id": "-3_Us_bOR4G4"
      },
      "execution_count": null,
      "outputs": []
    },
    {
      "cell_type": "markdown",
      "source": [
        "<details>\n",
        "<summary>▶️ Click to show the solution</summary>\n",
        "\n",
        "```r\n",
        "5L^3L\n",
        "typeof(5L^3L)\n",
        "```\n",
        "\n",
        "</details>"
      ],
      "metadata": {
        "id": "gTOA1L4d-RKT"
      }
    },
    {
      "cell_type": "markdown",
      "source": [
        "### **Logical Operators**"
      ],
      "metadata": {
        "id": "QcjkXkELTcMZ"
      }
    },
    {
      "cell_type": "markdown",
      "source": [
        "Logical operators allow you to combine or modify logical values (`TRUE`/`FALSE`):\n",
        "\n",
        "- `&` : Element-wise AND  \n",
        "- `|` : Element-wise OR  \n",
        "- `!` : NOT (negation)  \n",
        "- `&&` : Short-circuit AND (evaluates only the first element)  \n",
        "- `||` : Short-circuit OR (evaluates only the first element)\n",
        "\n",
        "The difference between `&` and `&&` (and similarly `|` vs `||`) is subtle and mainly relevant when working with vectors.  \n"
      ],
      "metadata": {
        "id": "Sr_yKpk6VLYy"
      }
    },
    {
      "cell_type": "code",
      "source": [
        "T & F\n",
        "!(T&F)"
      ],
      "metadata": {
        "id": "5LUsSF9dVjhj"
      },
      "execution_count": null,
      "outputs": []
    },
    {
      "cell_type": "markdown",
      "source": [
        "#### **Exercises**\n",
        "\n",
        "Combine `3^2 < 2^3` and `log(3) > 1.5` via the logical `AND` operator. What is the result? Verify the result explicitly in R."
      ],
      "metadata": {
        "id": "ySHVzDaWVptI"
      }
    },
    {
      "cell_type": "code",
      "source": [],
      "metadata": {
        "id": "cCrr71rHWH7A"
      },
      "execution_count": null,
      "outputs": []
    },
    {
      "cell_type": "markdown",
      "source": [
        "<details>\n",
        "<summary>▶️ Click to show the solution</summary>\n",
        "\n",
        "```r\n",
        "(3^2 < 2^3) & (log(3) > 1.5)\n",
        "```\n",
        "\n",
        "</details>"
      ],
      "metadata": {
        "id": "H2JC9qA5WIav"
      }
    },
    {
      "cell_type": "markdown",
      "source": [
        "Verify this  `3 < 5 < 7`"
      ],
      "metadata": {
        "id": "D7L5AEMGgVHu"
      }
    },
    {
      "cell_type": "markdown",
      "source": [
        "Note that `3 < 5 < 7`, for example is **not** a valid expression in R. You must verify each expression separa"
      ],
      "metadata": {
        "id": "o6602WeGf9rg"
      }
    },
    {
      "cell_type": "markdown",
      "source": [
        "## **Assignment**"
      ],
      "metadata": {
        "id": "ZS1N1ngCPsub"
      }
    },
    {
      "cell_type": "markdown",
      "source": [
        "Assignment in R can be done using the `<-` or `=` operators (e.g., `x <- 10`). The expression on the right side is evaluated, and its value is stored in the variable on the left."
      ],
      "metadata": {
        "id": "yKauMFuUPwVJ"
      }
    },
    {
      "cell_type": "code",
      "source": [
        "x = 5^2\n",
        "y = 2^5\n",
        "x>y"
      ],
      "metadata": {
        "id": "JKcpKXqwPyx8"
      },
      "execution_count": null,
      "outputs": []
    },
    {
      "cell_type": "markdown",
      "source": [
        "Some variables in R, like `pi`, come pre-assigned with built-in constant values that you can use directly in calculations."
      ],
      "metadata": {
        "id": "H_P4OMxoP0mV"
      }
    },
    {
      "cell_type": "code",
      "source": [
        "pi"
      ],
      "metadata": {
        "id": "c8ZCQT4JP5Go"
      },
      "execution_count": null,
      "outputs": []
    },
    {
      "cell_type": "markdown",
      "source": [
        "In R, reserved words like `if`, `for`, and `TRUE`/`T` cannot be used as variable names because they have special meanings in the language."
      ],
      "metadata": {
        "id": "K0wTuha8P__h"
      }
    },
    {
      "cell_type": "markdown",
      "source": [
        "#### **Exercise**\n",
        "\n",
        "Create a variable named `radius` and assign it the value `3`. Then, create a variable named `area` and assign it the area of a circle using that `radius`. Print the result."
      ],
      "metadata": {
        "id": "_7RtiqsbQMrR"
      }
    },
    {
      "cell_type": "code",
      "source": [],
      "metadata": {
        "id": "UhAHyJgkQ5dK",
        "outputId": "8139dc58-e902-4243-b2fc-4478e1a03c3f",
        "colab": {
          "base_uri": "https://localhost:8080/"
        }
      },
      "execution_count": 15,
      "outputs": [
        {
          "output_type": "stream",
          "name": "stdout",
          "text": [
            "[1] 28.27433\n"
          ]
        }
      ]
    },
    {
      "cell_type": "markdown",
      "source": [
        "<details>\n",
        "<summary>▶️ Click to show the solution</summary>\n",
        "\n",
        "```r\n",
        "radius = 3\n",
        "area = pi * radius^2\n",
        "print(area)\n",
        "```\n",
        "\n",
        "</details>"
      ],
      "metadata": {
        "id": "mWzuMsw9Q8Ga"
      }
    },
    {
      "cell_type": "markdown",
      "source": [
        "## **Function**\n",
        "\n",
        "A function in R is a set of instructions that performs a specific task and may return a value. You call a function by its name followed by parentheses, optionally passing arguments inside (e.g., `a_function(arg_1, arg_2, ...)`).\n"
      ],
      "metadata": {
        "id": "UJjHCmCnS583"
      }
    },
    {
      "cell_type": "markdown",
      "source": [
        "In R, you define a function using the `function()` keyword. For instance, here is a function called `computeArea` that computes the `area` of a circle given its radius:"
      ],
      "metadata": {
        "id": "JUjYwtlxULxH"
      }
    },
    {
      "cell_type": "code",
      "source": [
        "computeArea = function(radius){\n",
        "  area = pi*radius^2\n",
        "  return(area)\n",
        "}\n",
        "computeArea(3)"
      ],
      "metadata": {
        "id": "qWn5KL40U7SM",
        "outputId": "c194efcb-44d4-4c9b-fa76-33f954db5ce4",
        "colab": {
          "base_uri": "https://localhost:8080/",
          "height": 34
        }
      },
      "execution_count": 14,
      "outputs": [
        {
          "output_type": "display_data",
          "data": {
            "text/html": [
              "28.2743338823081"
            ],
            "text/markdown": "28.2743338823081",
            "text/latex": "28.2743338823081",
            "text/plain": [
              "[1] 28.27433"
            ]
          },
          "metadata": {}
        }
      ]
    },
    {
      "cell_type": "markdown",
      "source": [
        "Note that in R, you don’t always need to use the `return()` statement because it automatically returns the last evaluated expression. However, it is generally safer to use an explicit `return()` statement."
      ],
      "metadata": {
        "id": "7RkUGpArVUnX"
      }
    },
    {
      "cell_type": "code",
      "source": [],
      "metadata": {
        "id": "plx33UM1UI25"
      },
      "execution_count": null,
      "outputs": []
    },
    {
      "cell_type": "markdown",
      "source": [
        "#### **Exercise**\n",
        "\n",
        "Create a function called `computeCirc` that takes a `radius` and output the circumference of a circle given the `radius` value."
      ],
      "metadata": {
        "id": "SbT9iwrHV_a8"
      }
    },
    {
      "cell_type": "code",
      "source": [],
      "metadata": {
        "id": "52Qfr0sxWNVU"
      },
      "execution_count": null,
      "outputs": []
    },
    {
      "cell_type": "markdown",
      "source": [
        "<details>\n",
        "<summary>▶️ Click to show the solution</summary>\n",
        "\n",
        "```r\n",
        "computeCirc = function(radius){\n",
        "  circ = 2*pi*radius\n",
        "  return(circ)\n",
        "}\n",
        "```\n",
        "\n",
        "</details>"
      ],
      "metadata": {
        "id": "k3-zMqePWNxK"
      }
    },
    {
      "cell_type": "markdown",
      "source": [
        "## **More Complex Data Types**"
      ],
      "metadata": {
        "id": "3fqb5Jx3NJVh"
      }
    },
    {
      "cell_type": "markdown",
      "source": [
        "### **Vector**"
      ],
      "metadata": {
        "id": "0rCOvk4YNKvL"
      }
    },
    {
      "cell_type": "markdown",
      "source": [
        "A vector is a one-dimensional array that holds elements of **the same type** (e.g., `numeric`, `character`, `logical`). It is one of the most basic data types in R.\n"
      ],
      "metadata": {
        "id": "nO7w3dO7NmAP"
      }
    },
    {
      "cell_type": "markdown",
      "source": [
        "#### **Creating a Vector**\n",
        "\n",
        "Vectors are typically created using the `c()` function. For example, `c(1, 2, 3)` creates a numeric vector."
      ],
      "metadata": {
        "id": "02JLU_0dZvbo"
      }
    },
    {
      "cell_type": "code",
      "source": [
        "x = c(1,2,3)\n",
        "typeof(x)\n",
        "is.vector(x)"
      ],
      "metadata": {
        "id": "QU080dmONwvt",
        "outputId": "5b3bb399-87c5-40a7-b162-b0aa47523038",
        "colab": {
          "base_uri": "https://localhost:8080/",
          "height": 51
        }
      },
      "execution_count": 9,
      "outputs": [
        {
          "output_type": "display_data",
          "data": {
            "text/html": [
              "'double'"
            ],
            "text/markdown": "'double'",
            "text/latex": "'double'",
            "text/plain": [
              "[1] \"double\""
            ]
          },
          "metadata": {}
        },
        {
          "output_type": "display_data",
          "data": {
            "text/html": [
              "TRUE"
            ],
            "text/markdown": "TRUE",
            "text/latex": "TRUE",
            "text/plain": [
              "[1] TRUE"
            ]
          },
          "metadata": {}
        }
      ]
    },
    {
      "cell_type": "markdown",
      "source": [
        "The expression `c(\"a\", \"b\", \"c\")` creates a character vector."
      ],
      "metadata": {
        "id": "qfam6sABRbKs"
      }
    },
    {
      "cell_type": "code",
      "source": [
        "y = c(\"a\", \"b\", \"c\")\n",
        "typeof(y)\n",
        "is.vector(y)"
      ],
      "metadata": {
        "id": "gYL2sClTRdET",
        "outputId": "16318996-210e-4c60-d5ca-58fb97739b30",
        "colab": {
          "base_uri": "https://localhost:8080/",
          "height": 51
        }
      },
      "execution_count": 10,
      "outputs": [
        {
          "output_type": "display_data",
          "data": {
            "text/html": [
              "'character'"
            ],
            "text/markdown": "'character'",
            "text/latex": "'character'",
            "text/plain": [
              "[1] \"character\""
            ]
          },
          "metadata": {}
        },
        {
          "output_type": "display_data",
          "data": {
            "text/html": [
              "TRUE"
            ],
            "text/markdown": "TRUE",
            "text/latex": "TRUE",
            "text/plain": [
              "[1] TRUE"
            ]
          },
          "metadata": {}
        }
      ]
    },
    {
      "cell_type": "markdown",
      "source": [
        "What about `c(\"a\", 1, 2)`?\n",
        "\n",
        "This creates a character vector. When elements of different types are combined, R automatically converts them to a common type that can hold all values. `1` can be a character, but `a` is not a number."
      ],
      "metadata": {
        "id": "x_831b9DRmvm"
      }
    },
    {
      "cell_type": "code",
      "source": [
        "z = c(\"a\", 1, 2)\n",
        "print(z)\n",
        "typeof(z)"
      ],
      "metadata": {
        "id": "kA-GW8T-Rlsq",
        "outputId": "8fb4fa2f-9fb1-4c11-890f-815155c0929f",
        "colab": {
          "base_uri": "https://localhost:8080/",
          "height": 51
        }
      },
      "execution_count": 12,
      "outputs": [
        {
          "output_type": "stream",
          "name": "stdout",
          "text": [
            "[1] \"a\" \"1\" \"2\"\n"
          ]
        },
        {
          "output_type": "display_data",
          "data": {
            "text/html": [
              "'character'"
            ],
            "text/markdown": "'character'",
            "text/latex": "'character'",
            "text/plain": [
              "[1] \"character\""
            ]
          },
          "metadata": {}
        }
      ]
    },
    {
      "cell_type": "markdown",
      "source": [
        "The `c()` function can also be used to combine vectors."
      ],
      "metadata": {
        "id": "VEe9X2DCY9ex"
      }
    },
    {
      "cell_type": "code",
      "source": [
        "a = c(1,2,3)\n",
        "b = c(4,5,6)\n",
        "c(a,b)"
      ],
      "metadata": {
        "id": "qfqPdQw4ZB19",
        "outputId": "dd9cb60c-8986-4672-9327-32accc43d45c",
        "colab": {
          "base_uri": "https://localhost:8080/",
          "height": 34
        }
      },
      "execution_count": 23,
      "outputs": [
        {
          "output_type": "display_data",
          "data": {
            "text/html": [
              "<style>\n",
              ".list-inline {list-style: none; margin:0; padding: 0}\n",
              ".list-inline>li {display: inline-block}\n",
              ".list-inline>li:not(:last-child)::after {content: \"\\00b7\"; padding: 0 .5ex}\n",
              "</style>\n",
              "<ol class=list-inline><li>1</li><li>2</li><li>3</li><li>4</li><li>5</li><li>6</li></ol>\n"
            ],
            "text/markdown": "1. 1\n2. 2\n3. 3\n4. 4\n5. 5\n6. 6\n\n\n",
            "text/latex": "\\begin{enumerate*}\n\\item 1\n\\item 2\n\\item 3\n\\item 4\n\\item 5\n\\item 6\n\\end{enumerate*}\n",
            "text/plain": [
              "[1] 1 2 3 4 5 6"
            ]
          },
          "metadata": {}
        }
      ]
    },
    {
      "cell_type": "markdown",
      "source": [
        "#### **Indexing a Vector**"
      ],
      "metadata": {
        "id": "BgymM3FrZ9fn"
      }
    },
    {
      "cell_type": "markdown",
      "source": [
        "Indexing a vector in R is done using square brackets, e.g., `x[n]` returns the `n-th` element of `x`. You can extract multiple elements by passing a vector of indices, such as `x[c(1, 3, 5)]` to get the `1-st`, `3-rd`, and `5-th` elements.\n",
        "\n",
        "Here, `1`, `3`, `5` are doubles. However, R implicitly converts these into integers."
      ],
      "metadata": {
        "id": "wPDY7JCJaIOU"
      }
    },
    {
      "cell_type": "code",
      "source": [
        "x = c(1,2,6,2,5,2,5,6,2)\n",
        "x[1]\n",
        "x[c(1,2,3)]\n",
        "x[c(1,3,5,7)]"
      ],
      "metadata": {
        "id": "QrFqpgR8aRB3",
        "outputId": "df23a807-a08d-4f5b-9188-6594b0b61e1f",
        "colab": {
          "base_uri": "https://localhost:8080/",
          "height": 68
        }
      },
      "execution_count": 27,
      "outputs": [
        {
          "output_type": "display_data",
          "data": {
            "text/html": [
              "1"
            ],
            "text/markdown": "1",
            "text/latex": "1",
            "text/plain": [
              "[1] 1"
            ]
          },
          "metadata": {}
        },
        {
          "output_type": "display_data",
          "data": {
            "text/html": [
              "<style>\n",
              ".list-inline {list-style: none; margin:0; padding: 0}\n",
              ".list-inline>li {display: inline-block}\n",
              ".list-inline>li:not(:last-child)::after {content: \"\\00b7\"; padding: 0 .5ex}\n",
              "</style>\n",
              "<ol class=list-inline><li>1</li><li>2</li><li>6</li></ol>\n"
            ],
            "text/markdown": "1. 1\n2. 2\n3. 6\n\n\n",
            "text/latex": "\\begin{enumerate*}\n\\item 1\n\\item 2\n\\item 6\n\\end{enumerate*}\n",
            "text/plain": [
              "[1] 1 2 6"
            ]
          },
          "metadata": {}
        },
        {
          "output_type": "display_data",
          "data": {
            "text/html": [
              "<style>\n",
              ".list-inline {list-style: none; margin:0; padding: 0}\n",
              ".list-inline>li {display: inline-block}\n",
              ".list-inline>li:not(:last-child)::after {content: \"\\00b7\"; padding: 0 .5ex}\n",
              "</style>\n",
              "<ol class=list-inline><li>1</li><li>6</li><li>5</li><li>5</li></ol>\n"
            ],
            "text/markdown": "1. 1\n2. 6\n3. 5\n4. 5\n\n\n",
            "text/latex": "\\begin{enumerate*}\n\\item 1\n\\item 6\n\\item 5\n\\item 5\n\\end{enumerate*}\n",
            "text/plain": [
              "[1] 1 6 5 5"
            ]
          },
          "metadata": {}
        }
      ]
    },
    {
      "cell_type": "markdown",
      "source": [
        "#### **Vector Operations**\n",
        "\n",
        "**Indexing a Vector**\n",
        "\n",
        "Indexing a vector in R is done using square brackets, e.g., `x[n]` returns the `n-th` element of `x`. You can extract multiple elements by passing a vector of indices, such as `x[c(1, 3, 5)]` to get the `1-st`, `3-rd`, and `5-th` elements.\n",
        "\n",
        "Here, `1`, `3`, `5` are doubles. However, R implicitly converts these into integers.\n"
      ],
      "metadata": {
        "id": "ws91pZQva4MF"
      }
    },
    {
      "cell_type": "code",
      "source": [
        "x = c(1,4,3,6,3,24,7,2,3,4)\n",
        "print(x)\n",
        "print(x[c(1,3,5)])"
      ],
      "metadata": {
        "id": "m0tFu5r3bplw",
        "outputId": "30e12315-280b-4214-f195-2dc5e709b067",
        "colab": {
          "base_uri": "https://localhost:8080/"
        }
      },
      "execution_count": 29,
      "outputs": [
        {
          "output_type": "stream",
          "name": "stdout",
          "text": [
            " [1]  1  4  3  6  3 24  7  2  3  4\n",
            "[1] 1 3 3\n"
          ]
        }
      ]
    },
    {
      "cell_type": "markdown",
      "source": [
        "**Arithmetic and Logical Operations**\n",
        "\n",
        "In R, vector addition is performed element-wise. If you add two vectors of different lengths, the shorter vector is repeated to match the length of the longer vector before the addition. Similar for subtraction/addition/multiplication/comparision operations."
      ],
      "metadata": {
        "id": "Cwfwyltbbh2c"
      }
    },
    {
      "cell_type": "code",
      "source": [
        "x = 1:5\n",
        "y = seq(1,10,2)\n",
        "x + y\n",
        "\n",
        "a = 1:6\n",
        "b = c(1,2)\n",
        "a+b\n",
        "\n",
        "z = c(1,4,3,6,3,24,7)\n",
        "z > 5"
      ],
      "metadata": {
        "id": "UojkVnn0a_tk"
      },
      "execution_count": null,
      "outputs": []
    },
    {
      "cell_type": "code",
      "source": [
        "x = 1:5\n",
        "print(x)\n",
        "x[1] = 5\n",
        "print(x)"
      ],
      "metadata": {
        "id": "BQ3BeIBjb4Hq"
      },
      "execution_count": null,
      "outputs": []
    },
    {
      "cell_type": "markdown",
      "source": [
        "We can also index a vector using a logical operation. For example, if we want to know which values in a vector `x = c(1,4,3,6,3,24,7,2,3,4)` are larger than 3, we can do the following:"
      ],
      "metadata": {
        "id": "-AHbIT-zcYE9"
      }
    },
    {
      "cell_type": "code",
      "source": [
        "x = c(1,4,3,6,3,24,7,2,3,4)\n",
        "whichIdx = x>3\n",
        "print(whichIdx)\n",
        "x[whichIdx]"
      ],
      "metadata": {
        "id": "c0Pc3Ab_cZVt",
        "outputId": "716b1aa7-cbe2-478e-d46a-502c63494b61",
        "colab": {
          "base_uri": "https://localhost:8080/",
          "height": 51
        }
      },
      "execution_count": 30,
      "outputs": [
        {
          "output_type": "stream",
          "name": "stdout",
          "text": [
            " [1] FALSE  TRUE FALSE  TRUE FALSE  TRUE  TRUE FALSE FALSE  TRUE\n"
          ]
        },
        {
          "output_type": "display_data",
          "data": {
            "text/html": [
              "<style>\n",
              ".list-inline {list-style: none; margin:0; padding: 0}\n",
              ".list-inline>li {display: inline-block}\n",
              ".list-inline>li:not(:last-child)::after {content: \"\\00b7\"; padding: 0 .5ex}\n",
              "</style>\n",
              "<ol class=list-inline><li>4</li><li>6</li><li>24</li><li>7</li><li>4</li></ol>\n"
            ],
            "text/markdown": "1. 4\n2. 6\n3. 24\n4. 7\n5. 4\n\n\n",
            "text/latex": "\\begin{enumerate*}\n\\item 4\n\\item 6\n\\item 24\n\\item 7\n\\item 4\n\\end{enumerate*}\n",
            "text/plain": [
              "[1]  4  6 24  7  4"
            ]
          },
          "metadata": {}
        }
      ]
    },
    {
      "cell_type": "markdown",
      "source": [
        "**Modifying a Vector**\n",
        "\n",
        "We can modify elements in a vector via the assignment operator."
      ],
      "metadata": {
        "id": "aBTCarOMbBZq"
      }
    },
    {
      "cell_type": "code",
      "source": [
        "x = 1:5\n",
        "print(x)\n",
        "x[1] = 5\n",
        "print(x)"
      ],
      "metadata": {
        "id": "BXg3Lgn0bQaC",
        "outputId": "9e0b6c75-13e8-4a3c-f20d-4de2ed9c45a6",
        "colab": {
          "base_uri": "https://localhost:8080/"
        }
      },
      "execution_count": 28,
      "outputs": [
        {
          "output_type": "stream",
          "name": "stdout",
          "text": [
            "[1] 1 2 3 4 5\n",
            "[1] 5 2 3 4 5\n"
          ]
        }
      ]
    },
    {
      "cell_type": "markdown",
      "source": [
        "#### **Common Functions for Working with Vectors**"
      ],
      "metadata": {
        "id": "42FxiVXtZzdL"
      }
    },
    {
      "cell_type": "markdown",
      "source": [
        "Some useful functions for working with vectors in R:\n",
        "\n",
        "- `length(x)` — returns the number of elements in vector x.\n",
        "- `sum(x)` — computes the sum of all elements in x.\n",
        "- `mean(x)` — calculates the average value of x.\n",
        "- `sort(x)` — returns a sorted version of x.\n",
        "- `unique(x)` — extracts unique elements from x.\n",
        "- `c()` — combines values/vectors into a vector.\n",
        "- `seq()` — generates equally spaced sequences of numbers.\n",
        "- `rep()` — repeats elements to create vectors.\n",
        "- `which()` — returns indices of elements matching a condition.\n",
        "- `:`  — (not a function) creates a sequence of consecutive integers between two numbers"
      ],
      "metadata": {
        "id": "3JGbRFZQSYWF"
      }
    },
    {
      "cell_type": "code",
      "source": [
        "x = seq(from = 1, to = 10, by = 2)\n",
        "print(x)\n",
        "\n",
        "y = 1:10\n",
        "print(y)\n",
        "sum(y)\n",
        "mean(y)"
      ],
      "metadata": {
        "id": "U4PSPOekWjWd",
        "outputId": "86eac5e2-4e44-41bc-823e-ea8b6278498c",
        "colab": {
          "base_uri": "https://localhost:8080/",
          "height": 85
        }
      },
      "execution_count": 19,
      "outputs": [
        {
          "output_type": "stream",
          "name": "stdout",
          "text": [
            "[1] 1 3 5 7 9\n",
            " [1]  1  2  3  4  5  6  7  8  9 10\n"
          ]
        },
        {
          "output_type": "display_data",
          "data": {
            "text/html": [
              "55"
            ],
            "text/markdown": "55",
            "text/latex": "55",
            "text/plain": [
              "[1] 55"
            ]
          },
          "metadata": {}
        },
        {
          "output_type": "display_data",
          "data": {
            "text/html": [
              "5.5"
            ],
            "text/markdown": "5.5",
            "text/latex": "5.5",
            "text/plain": [
              "[1] 5.5"
            ]
          },
          "metadata": {}
        }
      ]
    },
    {
      "cell_type": "markdown",
      "source": [
        "#### **Exercise**\n",
        "\n",
        "Create a new vector storing `(1,3,5,...,21)` and store the value to a variabke of hyour choice. Then extract all element that is between"
      ],
      "metadata": {
        "id": "tUyXGAJ7fm-Z"
      }
    },
    {
      "cell_type": "markdown",
      "source": [
        "## **Working with the R File System**\n",
        "\n",
        "Knowing your current working directory is important when working with files in R. You can check it using the `getwd()` function."
      ],
      "metadata": {
        "id": "Ic_ovXm36w8U"
      }
    },
    {
      "cell_type": "code",
      "source": [
        "getwd()"
      ],
      "metadata": {
        "id": "AzlMScBP619O"
      },
      "execution_count": null,
      "outputs": []
    },
    {
      "cell_type": "markdown",
      "source": [
        "\n",
        "On Colab, R runs on a temporary virtual Linux environment, so `getwd()` will typically return `/content`, which is the default working directory during the session.\n",
        "\n",
        "If you need to change the working directory. For example, to access data stored in a different folder—you can use the `setwd(\"your/path/here\")` function. Always ensure the path is correct, especially when running notebooks on different systems."
      ],
      "metadata": {
        "id": "LPfPpCTQ7Ya4"
      }
    },
    {
      "cell_type": "markdown",
      "source": [
        "#### **Exercise**\n",
        "\n",
        "Create a new directory named `our_working_directory` via `dir.create(\"our_working_directory\")`. It will be a sub-directory of `/content`. Then, change the working directory to the newly created sub-directory.\n",
        "\n"
      ],
      "metadata": {
        "id": "WgktOdZY7zhR"
      }
    },
    {
      "cell_type": "code",
      "source": [],
      "metadata": {
        "id": "WkPAlm_P8BqO"
      },
      "execution_count": null,
      "outputs": []
    },
    {
      "cell_type": "markdown",
      "source": [
        "<details>\n",
        "<summary>▶️ Click to show the solution</summary>\n",
        "\n",
        "```r\n",
        "dir.create(\"our_working_directory\")\n",
        "setwd(\"./our_working_directory\")\n",
        "```\n",
        "\n",
        "</details>"
      ],
      "metadata": {
        "id": "0_s8kki193Mn"
      }
    },
    {
      "cell_type": "markdown",
      "source": [
        "Check the current working directory:"
      ],
      "metadata": {
        "id": "ja770aRMZ6DS"
      }
    },
    {
      "cell_type": "code",
      "source": [
        "getwd()"
      ],
      "metadata": {
        "id": "Npt7V6wxZpPQ"
      },
      "execution_count": null,
      "outputs": []
    },
    {
      "cell_type": "markdown",
      "source": [
        "All datasets and core functionalities needed for this unit are hosted online in the following GitHub repository:\n",
        "`\"https://github.com/edelweiss611428/MXB107-Notebooks/tree/main\"`\n",
        "We will fork (i.e., make a copy of) the repository onto our virtual computer and change the working directory to access its contents.\n",
        "\n",
        "**Do not modify the following**:"
      ],
      "metadata": {
        "id": "VLNikK3CYWIx"
      }
    },
    {
      "cell_type": "code",
      "source": [
        "setwd(\"/content\")\n",
        "\n",
        "# Remove `MXB107-Notebooks` if exists,\n",
        "if (dir.exists(\"MXB107-Notebooks\")) {\n",
        "  system(\"rm -rf MXB107-Notebooks\")\n",
        "}\n",
        "\n",
        "# Fork the repository\n",
        "system(\"git clone https://github.com/edelweiss611428/MXB107-Notebooks.git\")\n",
        "\n",
        "# Change working directory to \"MXB107-Notebooks\"\n",
        "setwd(\"MXB107-Notebooks\")\n",
        "\n",
        "# Print the current working directory\n",
        "getwd()\n",
        "\n",
        "# List contents inside the directory\n",
        "list.files()"
      ],
      "metadata": {
        "id": "tYGemispahiY"
      },
      "execution_count": null,
      "outputs": []
    },
    {
      "cell_type": "markdown",
      "source": [
        "## **Packages in R**"
      ],
      "metadata": {
        "id": "z9CXkJOj_QUw"
      }
    },
    {
      "cell_type": "markdown",
      "source": [
        "R packages add new features that aren’t included in base R. You install packages via `install.packages(\"pkg_name\")` to access these extra tools and load them with `library(\"pkg_name\")`.\n",
        "\n",
        "Many popular R packages are already available on Colab, so you often don’t need to install them, saving time. Therefore, it’s best to check if a package is installed before attempting to install or load it blindly.\n",
        "\n",
        "Here, the `MASS` package is available in base R, so the system won't attempt to install `MASS`."
      ],
      "metadata": {
        "id": "B7AP5Tch_oI7"
      }
    },
    {
      "cell_type": "code",
      "source": [
        "if (!require(\"MASS\")) install.packages(\"MASS\"); library(\"MASS\")"
      ],
      "metadata": {
        "id": "tq0Pj8bL_fow"
      },
      "execution_count": null,
      "outputs": []
    },
    {
      "cell_type": "markdown",
      "source": [
        "Most reviewed R packages are available on [CRAN](https://cran.r-project.org/web/packages/available_packages_by_name.html) and [Bioconductor](https://bioconductor.org/packages/release/bioc/), but many are also available as GitHub repositories.\n",
        "\n",
        "For CRAN packages, it is generally sufficient to use `install.packages(\"pkg_name\")` to install them, but installing from other repositories like GitHub can be more complicated."
      ],
      "metadata": {
        "id": "sJ51gWSpBGd4"
      }
    },
    {
      "cell_type": "markdown",
      "source": [
        "#### **Exercise**\n",
        "\n",
        "Check if the CRAN package `\"e1071\"` is installed. If it is, load the package; if not, install it first and then load it."
      ],
      "metadata": {
        "id": "FPduwg9MBkxg"
      }
    },
    {
      "cell_type": "code",
      "source": [],
      "metadata": {
        "collapsed": true,
        "id": "KSjcj_whBkUC"
      },
      "execution_count": null,
      "outputs": []
    },
    {
      "cell_type": "markdown",
      "source": [
        "<details>\n",
        "<summary>▶️ Click to show the solution</summary>\n",
        "\n",
        "```r\n",
        "if (!require(\"e1071\")) install.packages(\"e1071\"); library(\"e1071\")\n",
        "```\n",
        "\n",
        "</details>"
      ],
      "metadata": {
        "id": "1vaX2hnlCI7N"
      }
    },
    {
      "cell_type": "markdown",
      "source": [
        "In general, you won’t need to manually install any packages in this unit. If you fork the unit's GitHub repository, change the directory to `\"MXB107-Notebooks\"` and run the `\"R/preConfigurated.R\"` script, it will automatically load and install all the necessary packages for you.\n",
        "\n",
        "**Do not modify the following**:"
      ],
      "metadata": {
        "id": "Sur65TFffeAD"
      }
    },
    {
      "cell_type": "code",
      "source": [
        "source(\"R/preConfigurated.R\")"
      ],
      "metadata": {
        "id": "_QFFnj9FfteK"
      },
      "execution_count": null,
      "outputs": []
    },
    {
      "cell_type": "markdown",
      "source": [
        "This will also load some prepared utility functions that are not available in base R."
      ],
      "metadata": {
        "id": "2yQOUKXwqlOn"
      }
    },
    {
      "cell_type": "markdown",
      "source": [
        "## **Getting Help in R**\n",
        "\n",
        "If you find yourself forgetting what a particular function does or what the names of the arguments (inputs) you can pass it are, you can use the `help()` function or equivalently `?a_function`. For example, try running the following:"
      ],
      "metadata": {
        "id": "e5H_h__3Dgaj"
      }
    },
    {
      "cell_type": "code",
      "source": [
        "help(mean)"
      ],
      "metadata": {
        "id": "fnIeAZCCD8gs"
      },
      "execution_count": null,
      "outputs": []
    },
    {
      "cell_type": "code",
      "source": [
        "?mean"
      ],
      "metadata": {
        "id": "2kJZOatuFEJS"
      },
      "execution_count": null,
      "outputs": []
    },
    {
      "cell_type": "markdown",
      "source": [
        "What you notice is that it prints the help info about calculating the arithmetic mean, where we are told that:\n",
        "- It requires an R object x which is either a numeric vector, logical vector or date, date-time or time interval,\n",
        "- And we can optionally tell it how much of the data to trim,\n",
        "- And whether or not we want drop any missing values from the calculation.\n",
        "\n",
        "One disadvantage of Colab is that it does not render R documentation files very well, as it is primarily designed for Python. However, the interface and documentation display improve significantly when using dedicated IDEs like [RStudio](https://posit.co/download/rstudio-desktop/)."
      ],
      "metadata": {
        "id": "9AbHoZSzELR7"
      }
    },
    {
      "cell_type": "markdown",
      "source": [
        "## **Tests (Optional)**"
      ],
      "metadata": {
        "id": "YrTWz6GdoIA8"
      }
    },
    {
      "cell_type": "markdown",
      "source": [
        "**Do not modify the following**:"
      ],
      "metadata": {
        "id": "goMcrNoeqaWs"
      }
    },
    {
      "cell_type": "code",
      "source": [
        "\n",
        "if (!require(\"testthat\")) install.packages(\"testthat\"); library(\"testthat\")\n",
        "\n",
        "test_that(\"Test if all packages have been installed\", {\n",
        "  expect_true(require(\"ggplot2\"))\n",
        "  expect_true(require(\"dplyr\"))\n",
        "  expect_true(require(\"magrittr\"))\n",
        "})\n",
        "\n",
        "test_that(\"Test if all utility functions have been loaded\", {\n",
        "  expect_true(exists(\"skewness\"))\n",
        "  expect_true(exists(\"kurtosis\"))\n",
        "})"
      ],
      "metadata": {
        "id": "eOkr5rpOoaIz"
      },
      "execution_count": null,
      "outputs": []
    }
  ]
}