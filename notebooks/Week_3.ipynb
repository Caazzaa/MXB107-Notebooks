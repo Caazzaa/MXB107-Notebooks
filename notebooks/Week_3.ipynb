{
  "nbformat": 4,
  "nbformat_minor": 0,
  "metadata": {
    "colab": {
      "provenance": []
    },
    "kernelspec": {
      "name": "ir",
      "display_name": "R"
    },
    "language_info": {
      "name": "R"
    }
  },
  "cells": [
    {
      "cell_type": "markdown",
      "source": [
        "# **Week 3: Bivariate Data Summaries**\n",
        "\n",
        "```\n",
        ".------------------------------------.\n",
        "|   __  ____  ______  _  ___ _____   |\n",
        "|  |  \\/  \\ \\/ / __ )/ |/ _ \\___  |  |\n",
        "|  | |\\/| |\\  /|  _ \\| | | | | / /   |\n",
        "|  | |  | |/  \\| |_) | | |_| |/ /    |\n",
        "|  |_|  |_/_/\\_\\____/|_|\\___//_/     |\n",
        "'------------------------------------'\n",
        "\n",
        "```\n"
      ],
      "metadata": {
        "id": "ZtpJJ8BSHOaK"
      }
    },
    {
      "cell_type": "markdown",
      "source": [
        "This week, we’ll explore statistical summaries of bivariate data and demonstrate how to compute them using R. If you are not familiar with R programming, please take some time to review [Week 0](https://colab.research.google.com/github/edelweiss611428/MXB107-Notebooks/blob/main/notebooks/Week_0.ipynb) and [Week 1](https://colab.research.google.com/github/edelweiss611428/MXB107-Notebooks/blob/main/notebooks/Week_1.ipynb) content.\n",
        "\n",
        "**You may notice some content overlaps with previous workshops. Consider this an opportunity to revisit earlier ideas and discover their connections to the current topics.**"
      ],
      "metadata": {
        "id": "QWuoIciBrV25"
      }
    },
    {
      "cell_type": "markdown",
      "source": [
        "## **Pre-Configurating the Notebook**"
      ],
      "metadata": {
        "id": "SpK9XLxlHOcm"
      }
    },
    {
      "cell_type": "markdown",
      "source": [
        "### **Switching to the R Kernel on Colab**\n",
        "\n",
        "By default, Google Colab uses Python as its programming language. To use R instead, you’ll need to manually switch the kernel by going to **Runtime > Change runtime type**, and selecting R as the kernel. This allows you to run R code in the Colab environment.\n",
        "\n",
        "However, our notebook is already configured to use R by default. Unless something goes wrong, you shouldn’t need to manually change runtime type."
      ],
      "metadata": {
        "id": "4yA6tfrakIOY"
      }
    },
    {
      "cell_type": "markdown",
      "source": [
        "### **Importing Required Datasets and Packages**\n",
        "**Run the following lines of code**:"
      ],
      "metadata": {
        "id": "VLNikK3CYWIx"
      }
    },
    {
      "cell_type": "code",
      "source": [
        "#Do not modify\n",
        "\n",
        "setwd(\"/content\")\n",
        "\n",
        "# Remove `MXB107-Notebooks` if exists,\n",
        "if (dir.exists(\"MXB107-Notebooks\")) {\n",
        "  system(\"rm -rf MXB107-Notebooks\")\n",
        "}\n",
        "\n",
        "# Fork the repository\n",
        "system(\"git clone https://github.com/edelweiss611428/MXB107-Notebooks.git\")\n",
        "\n",
        "# Change working directory to \"MXB107-Notebooks\"\n",
        "setwd(\"MXB107-Notebooks\")\n",
        "\n",
        "#\n",
        "invisible(source(\"R/preConfigurated.R\"))"
      ],
      "metadata": {
        "id": "tYGemispahiY",
        "colab": {
          "base_uri": "https://localhost:8080/"
        },
        "outputId": "0dec7663-cdd8-4f7b-c3be-2ab95c243d06"
      },
      "execution_count": 1,
      "outputs": [
        {
          "output_type": "stream",
          "name": "stderr",
          "text": [
            "Loading required package: ggplot2\n",
            "\n",
            "Loading required package: dplyr\n",
            "\n",
            "\n",
            "Attaching package: ‘dplyr’\n",
            "\n",
            "\n",
            "The following objects are masked from ‘package:stats’:\n",
            "\n",
            "    filter, lag\n",
            "\n",
            "\n",
            "The following objects are masked from ‘package:base’:\n",
            "\n",
            "    intersect, setdiff, setequal, union\n",
            "\n",
            "\n",
            "Loading required package: tidyr\n",
            "\n",
            "Loading required package: stringr\n",
            "\n",
            "Loading required package: magrittr\n",
            "\n",
            "\n",
            "Attaching package: ‘magrittr’\n",
            "\n",
            "\n",
            "The following object is masked from ‘package:tidyr’:\n",
            "\n",
            "    extract\n",
            "\n",
            "\n",
            "Loading required package: IRdisplay\n",
            "\n",
            "Loading required package: png\n",
            "\n",
            "Loading required package: grid\n",
            "\n"
          ]
        }
      ]
    },
    {
      "cell_type": "markdown",
      "source": [
        "**Do not modify the following**"
      ],
      "metadata": {
        "id": "o_XFVhdp1GrA"
      }
    },
    {
      "cell_type": "code",
      "source": [
        "if (!require(\"testthat\")) install.packages(\"testthat\"); library(\"testthat\")\n",
        "\n",
        "test_that(\"Test if all packages have been loaded\", {\n",
        "\n",
        "  expect_true(all(c(\"ggplot2\", \"tidyr\", \"dplyr\", \"stringr\", \"magrittr\") %in% loadedNamespaces()))\n",
        "\n",
        "})"
      ],
      "metadata": {
        "id": "6lru0NFK011G",
        "colab": {
          "base_uri": "https://localhost:8080/"
        },
        "outputId": "4f3cb4bc-102f-40f2-c986-ec3629a6e22d"
      },
      "execution_count": 2,
      "outputs": [
        {
          "output_type": "stream",
          "name": "stderr",
          "text": [
            "Loading required package: testthat\n",
            "\n",
            "\n",
            "Attaching package: ‘testthat’\n",
            "\n",
            "\n",
            "The following objects are masked from ‘package:magrittr’:\n",
            "\n",
            "    equals, is_less_than, not\n",
            "\n",
            "\n",
            "The following object is masked from ‘package:tidyr’:\n",
            "\n",
            "    matches\n",
            "\n",
            "\n",
            "The following object is masked from ‘package:dplyr’:\n",
            "\n",
            "    matches\n",
            "\n",
            "\n"
          ]
        },
        {
          "output_type": "stream",
          "name": "stdout",
          "text": [
            "\u001b[32mTest passed\u001b[39m 😀\n"
          ]
        }
      ]
    },
    {
      "cell_type": "markdown",
      "source": [
        "\n",
        "## **Multivariate Data**\n",
        "\n",
        "Multivariate data arises when we collect more than one observations per experimental unit, for example surveys can ask individuals multiple questions, resulting in a multivariate data set.\n"
      ],
      "metadata": {
        "id": "ljByRcTl_QwK"
      }
    },
    {
      "cell_type": "markdown",
      "source": [
        "### **Example: `iris` Dataset**"
      ],
      "metadata": {
        "id": "Mo84uYqmtdXc"
      }
    },
    {
      "cell_type": "code",
      "source": [
        "iris %>% str()"
      ],
      "metadata": {
        "colab": {
          "base_uri": "https://localhost:8080/"
        },
        "id": "shJ3rr1etUD3",
        "outputId": "7d62edfa-51dc-4fd8-a305-fdff865343d4"
      },
      "execution_count": 3,
      "outputs": [
        {
          "output_type": "stream",
          "name": "stdout",
          "text": [
            "'data.frame':\t150 obs. of  5 variables:\n",
            " $ Sepal.Length: num  5.1 4.9 4.7 4.6 5 5.4 4.6 5 4.4 4.9 ...\n",
            " $ Sepal.Width : num  3.5 3 3.2 3.1 3.6 3.9 3.4 3.4 2.9 3.1 ...\n",
            " $ Petal.Length: num  1.4 1.4 1.3 1.5 1.4 1.7 1.4 1.5 1.4 1.5 ...\n",
            " $ Petal.Width : num  0.2 0.2 0.2 0.2 0.2 0.4 0.3 0.2 0.2 0.1 ...\n",
            " $ Species     : Factor w/ 3 levels \"setosa\",\"versicolor\",..: 1 1 1 1 1 1 1 1 1 1 ...\n"
          ]
        }
      ]
    },
    {
      "cell_type": "markdown",
      "source": [
        "### **Bivariate Data As A Special Case of Multivariate Data**\n",
        "\n",
        "Bivariate data is a special case where we have two measurements per experimental unit. Bivariate data is useful especially when we want to examine the nature of the relationship between two variables. Bivariate data can be categorical, numerical, or some combination of the three. Note that bivariate data can be extracted from a larger multivariate dataset for the purposes of analyses."
      ],
      "metadata": {
        "id": "G6_becp6tfQj"
      }
    },
    {
      "cell_type": "code",
      "source": [
        "iris %>%\n",
        "  select(Sepal.Length, Sepal.Width) %>%\n",
        "  str()"
      ],
      "metadata": {
        "colab": {
          "base_uri": "https://localhost:8080/"
        },
        "id": "fGaLKzSDtlin",
        "outputId": "9d8f92a4-0d32-44dc-8a49-cfbaa3b9bde5"
      },
      "execution_count": 4,
      "outputs": [
        {
          "output_type": "stream",
          "name": "stdout",
          "text": [
            "'data.frame':\t150 obs. of  2 variables:\n",
            " $ Sepal.Length: num  5.1 4.9 4.7 4.6 5 5.4 4.6 5 4.4 4.9 ...\n",
            " $ Sepal.Width : num  3.5 3 3.2 3.1 3.6 3.9 3.4 3.4 2.9 3.1 ...\n"
          ]
        }
      ]
    },
    {
      "cell_type": "markdown",
      "source": [
        "While bivariate data analysis is relatively straightforward, it lays the essential foundation for understanding and applying more advanced multivariate techniques in later units."
      ],
      "metadata": {
        "id": "G5rbptt40L_E"
      }
    },
    {
      "cell_type": "markdown",
      "source": [
        "## **Bivariate Categorical Data**\n",
        "\n",
        "Bivariate cetegorical data occurs when we have two observations of an experimental unit that are both **categorical variables**. These can be summarised easily and compactly in tables, which can provide an easy to read and reference that numerically sumarises the data, but also provides some structure to indicate the relationship between the variables.\n",
        "\n"
      ],
      "metadata": {
        "id": "umRdmBh0u3X6"
      }
    },
    {
      "cell_type": "markdown",
      "source": [
        "### **Example: `titanic` Dataset**"
      ],
      "metadata": {
        "id": "dT5DxNtGxA2r"
      }
    },
    {
      "cell_type": "markdown",
      "source": [
        "This dataset is derived from the well-known `Titanic` dataset, which contains information on 2,201 passengers aboard the Titanic, including their:\n",
        "- Passenger class (`class`)\n",
        "- Sex (`sex`)\n",
        "- Age group (`age_status`, i.e., adult or child)\n",
        "- Survival status (`survived`)\n",
        "\n",
        "We will begin by exploring bivariate relationships between key variables in the dataset to uncover potential associations. Here, we will mostly focus on informal, exploratory summaries — no formal statistical tests yet — to answer questions like:\n",
        "\n",
        "1. Is there an association between passenger class and survival?\n",
        "2. Is there an association between sex and survival?\n",
        "\n",
        "We will use simple tools like frequency tables and proportions to investigate these relationships. More rigorous analysis techniques will be introduced in the coming weeks.\n"
      ],
      "metadata": {
        "id": "eouwp_oBxOB5"
      }
    },
    {
      "cell_type": "code",
      "source": [
        "titanic = read.csv(\"./datasets/titanic.csv\", stringsAsFactors = T)\n",
        "titanic %>%\n",
        "  str()\n",
        "\n",
        "titanic %>%\n",
        "  head(5)"
      ],
      "metadata": {
        "colab": {
          "base_uri": "https://localhost:8080/",
          "height": 337
        },
        "id": "BOO0TIoGvm1_",
        "outputId": "e26c5fa4-cb8c-4612-bde6-527971759235"
      },
      "execution_count": 5,
      "outputs": [
        {
          "output_type": "stream",
          "name": "stdout",
          "text": [
            "'data.frame':\t2201 obs. of  4 variables:\n",
            " $ Class   : Factor w/ 4 levels \"1st\",\"2nd\",\"3rd\",..: 3 3 3 3 3 3 3 3 3 3 ...\n",
            " $ Sex     : Factor w/ 2 levels \"Female\",\"Male\": 2 2 2 2 2 2 2 2 2 2 ...\n",
            " $ Age     : Factor w/ 2 levels \"Adult\",\"Child\": 2 2 2 2 2 2 2 2 2 2 ...\n",
            " $ Survived: Factor w/ 2 levels \"No\",\"Yes\": 1 1 1 1 1 1 1 1 1 1 ...\n"
          ]
        },
        {
          "output_type": "display_data",
          "data": {
            "text/html": [
              "<table class=\"dataframe\">\n",
              "<caption>A data.frame: 5 × 4</caption>\n",
              "<thead>\n",
              "\t<tr><th></th><th scope=col>Class</th><th scope=col>Sex</th><th scope=col>Age</th><th scope=col>Survived</th></tr>\n",
              "\t<tr><th></th><th scope=col>&lt;fct&gt;</th><th scope=col>&lt;fct&gt;</th><th scope=col>&lt;fct&gt;</th><th scope=col>&lt;fct&gt;</th></tr>\n",
              "</thead>\n",
              "<tbody>\n",
              "\t<tr><th scope=row>1</th><td>3rd</td><td>Male</td><td>Child</td><td>No</td></tr>\n",
              "\t<tr><th scope=row>2</th><td>3rd</td><td>Male</td><td>Child</td><td>No</td></tr>\n",
              "\t<tr><th scope=row>3</th><td>3rd</td><td>Male</td><td>Child</td><td>No</td></tr>\n",
              "\t<tr><th scope=row>4</th><td>3rd</td><td>Male</td><td>Child</td><td>No</td></tr>\n",
              "\t<tr><th scope=row>5</th><td>3rd</td><td>Male</td><td>Child</td><td>No</td></tr>\n",
              "</tbody>\n",
              "</table>\n"
            ],
            "text/markdown": "\nA data.frame: 5 × 4\n\n| <!--/--> | Class &lt;fct&gt; | Sex &lt;fct&gt; | Age &lt;fct&gt; | Survived &lt;fct&gt; |\n|---|---|---|---|---|\n| 1 | 3rd | Male | Child | No |\n| 2 | 3rd | Male | Child | No |\n| 3 | 3rd | Male | Child | No |\n| 4 | 3rd | Male | Child | No |\n| 5 | 3rd | Male | Child | No |\n\n",
            "text/latex": "A data.frame: 5 × 4\n\\begin{tabular}{r|llll}\n  & Class & Sex & Age & Survived\\\\\n  & <fct> & <fct> & <fct> & <fct>\\\\\n\\hline\n\t1 & 3rd & Male & Child & No\\\\\n\t2 & 3rd & Male & Child & No\\\\\n\t3 & 3rd & Male & Child & No\\\\\n\t4 & 3rd & Male & Child & No\\\\\n\t5 & 3rd & Male & Child & No\\\\\n\\end{tabular}\n",
            "text/plain": [
              "  Class Sex  Age   Survived\n",
              "1 3rd   Male Child No      \n",
              "2 3rd   Male Child No      \n",
              "3 3rd   Male Child No      \n",
              "4 3rd   Male Child No      \n",
              "5 3rd   Male Child No      "
            ]
          },
          "metadata": {}
        }
      ]
    },
    {
      "cell_type": "markdown",
      "source": [
        "### **Table**\n",
        "\n",
        "Bivariate data can be summarised by a two-dimensional table, often called a contingency table, where:\n",
        "\n",
        "- Each row corresponds to a category of one variable,\n",
        "- Each column corresponds to a category of the other variable,\n",
        "- And each cell contains the count or proportion of observations that fall into that specific combination of categories.\n",
        "\n",
        "To create a contingency table in R, we can use the `table()` function.\n"
      ],
      "metadata": {
        "id": "xT2wMEwwyhjl"
      }
    },
    {
      "cell_type": "markdown",
      "source": [
        "#### **Example: `Survived` vs. `Class`**"
      ],
      "metadata": {
        "id": "9aGtevHw0h2h"
      }
    },
    {
      "cell_type": "markdown",
      "source": [
        "We want to answer the question:\n",
        "\n",
        "> Is there an association between passenger class and survival?\n",
        "\n",
        "We can create a contingency table to show the relationship between `Survived` and `Class`."
      ],
      "metadata": {
        "id": "uGGjD_ta05dt"
      }
    },
    {
      "cell_type": "code",
      "source": [
        "table(titanic$Class, titanic$Survived)\n",
        "\n",
        "# This gives the same results\n",
        "# titanic %>%\n",
        "#   select(Class, Survived) %>%\n",
        "#   table()"
      ],
      "metadata": {
        "colab": {
          "base_uri": "https://localhost:8080/",
          "height": 119
        },
        "id": "5cZ7geDX0eDi",
        "outputId": "2c9b841d-1b13-4509-ece8-2199f3c46949"
      },
      "execution_count": 6,
      "outputs": [
        {
          "output_type": "display_data",
          "data": {
            "text/plain": [
              "      \n",
              "        No Yes\n",
              "  1st  122 203\n",
              "  2nd  167 118\n",
              "  3rd  528 178\n",
              "  Crew 673 212"
            ]
          },
          "metadata": {}
        }
      ]
    },
    {
      "cell_type": "markdown",
      "source": [
        "This table displays the raw counts of observations for each combination of categories. We can convert these counts into proportions using the `prop.table()` function, which can take a contingency constructed via `table()` as input."
      ],
      "metadata": {
        "id": "5c1SZa1R1JLK"
      }
    },
    {
      "cell_type": "code",
      "source": [
        "prop.table(table(titanic$Class, titanic$Survived))*100 #*100 for percentage"
      ],
      "metadata": {
        "colab": {
          "base_uri": "https://localhost:8080/",
          "height": 119
        },
        "id": "cYVYXqD211qz",
        "outputId": "642e173e-812b-4e15-829b-032308bcd1f9"
      },
      "execution_count": 7,
      "outputs": [
        {
          "output_type": "display_data",
          "data": {
            "text/plain": [
              "      \n",
              "              No       Yes\n",
              "  1st   5.542935  9.223080\n",
              "  2nd   7.587460  5.361199\n",
              "  3rd  23.989096  8.087233\n",
              "  Crew 30.577010  9.631985"
            ]
          },
          "metadata": {}
        }
      ]
    },
    {
      "cell_type": "markdown",
      "source": [
        "By default, the function `prop.table()` computes the **unconditional proportion**, which is the proportion of individuals in a specific combination of categories relative to the entire population.\n",
        "\n",
        "For example, the unconditional proportion for class = “3rd” and survived = “yes” is:\n",
        "\n",
        "$$\n",
        "P(\\text{Class} = \\text{3rd} \\cap \\text{Survived} = \\text{Yes}) = \\frac{\\text{Count(Class = 3rd and Survived = Yes)}}{\\text{Total number of individuals}}\n",
        "$$\n"
      ],
      "metadata": {
        "id": "YOoqM1Vc2KSV"
      }
    },
    {
      "cell_type": "markdown",
      "source": [
        "\n",
        "However, this unconditional proportion may be difficult to interpret, especially when the groups are imbalanced — for example, there are usually fewer people in first class than in third class. Such imbalances can obscure the underlying relationship.\n",
        "\n",
        "To address this, we often **normalise by class** (i.e., compute conditional proportions within each class), so that we look at:\n",
        "\n",
        "$$\n",
        "P(\\text{Survived} = \\text{Yes} \\mid \\text{Class} = \\text{3rd}) = \\frac{\\text{Count(Class = 3rd and Survived = Yes)}}{\\text{Total count(Class = 3rd)}}\n",
        "$$\n",
        "\n",
        "This expresses the proportion of survivors **within each class**, making it easier to compare survival rates across classes regardless of their sizes. This can be done by setting the `margin` option in `prop.table()`:\n",
        "\n",
        "- `margin = 1`: Normalises by row (i.e., within each class)\n",
        "- `margin = 2`: Normalises by column"
      ],
      "metadata": {
        "id": "DP3iwVrX3EEN"
      }
    },
    {
      "cell_type": "code",
      "source": [
        "prop.table(table(titanic$Class, titanic$Survived), margin = 1)*100"
      ],
      "metadata": {
        "colab": {
          "base_uri": "https://localhost:8080/",
          "height": 119
        },
        "id": "DwQFM3gk3k8Y",
        "outputId": "b988939c-5dec-4616-8c43-f7c9c1fc36f8"
      },
      "execution_count": 8,
      "outputs": [
        {
          "output_type": "display_data",
          "data": {
            "text/plain": [
              "      \n",
              "             No      Yes\n",
              "  1st  37.53846 62.46154\n",
              "  2nd  58.59649 41.40351\n",
              "  3rd  74.78754 25.21246\n",
              "  Crew 76.04520 23.95480"
            ]
          },
          "metadata": {}
        }
      ]
    },
    {
      "cell_type": "markdown",
      "source": [
        "**What is your conclusion 🙂?**"
      ],
      "metadata": {
        "id": "8leYf6W23PPS"
      }
    },
    {
      "cell_type": "markdown",
      "source": [
        "##### **Advanced Pipelines**"
      ],
      "metadata": {
        "id": "htJyjt0S-WPc"
      }
    },
    {
      "cell_type": "markdown",
      "source": [
        "**Raw Counts**"
      ],
      "metadata": {
        "id": "iUiilCjm371M"
      }
    },
    {
      "cell_type": "code",
      "source": [
        "#Long-format contingency table\n",
        "titanic %>%\n",
        "  group_by(Class, Survived) %>%\n",
        "  summarise(Count = n(), .groups = \"drop\")"
      ],
      "metadata": {
        "colab": {
          "base_uri": "https://localhost:8080/",
          "height": 345
        },
        "id": "mTIgZDTQ_xiK",
        "outputId": "1011dfef-b434-42c3-8b12-fdeed48582c3"
      },
      "execution_count": 9,
      "outputs": [
        {
          "output_type": "display_data",
          "data": {
            "text/html": [
              "<table class=\"dataframe\">\n",
              "<caption>A tibble: 8 × 3</caption>\n",
              "<thead>\n",
              "\t<tr><th scope=col>Class</th><th scope=col>Survived</th><th scope=col>Count</th></tr>\n",
              "\t<tr><th scope=col>&lt;fct&gt;</th><th scope=col>&lt;fct&gt;</th><th scope=col>&lt;int&gt;</th></tr>\n",
              "</thead>\n",
              "<tbody>\n",
              "\t<tr><td>1st </td><td>No </td><td>122</td></tr>\n",
              "\t<tr><td>1st </td><td>Yes</td><td>203</td></tr>\n",
              "\t<tr><td>2nd </td><td>No </td><td>167</td></tr>\n",
              "\t<tr><td>2nd </td><td>Yes</td><td>118</td></tr>\n",
              "\t<tr><td>3rd </td><td>No </td><td>528</td></tr>\n",
              "\t<tr><td>3rd </td><td>Yes</td><td>178</td></tr>\n",
              "\t<tr><td>Crew</td><td>No </td><td>673</td></tr>\n",
              "\t<tr><td>Crew</td><td>Yes</td><td>212</td></tr>\n",
              "</tbody>\n",
              "</table>\n"
            ],
            "text/markdown": "\nA tibble: 8 × 3\n\n| Class &lt;fct&gt; | Survived &lt;fct&gt; | Count &lt;int&gt; |\n|---|---|---|\n| 1st  | No  | 122 |\n| 1st  | Yes | 203 |\n| 2nd  | No  | 167 |\n| 2nd  | Yes | 118 |\n| 3rd  | No  | 528 |\n| 3rd  | Yes | 178 |\n| Crew | No  | 673 |\n| Crew | Yes | 212 |\n\n",
            "text/latex": "A tibble: 8 × 3\n\\begin{tabular}{lll}\n Class & Survived & Count\\\\\n <fct> & <fct> & <int>\\\\\n\\hline\n\t 1st  & No  & 122\\\\\n\t 1st  & Yes & 203\\\\\n\t 2nd  & No  & 167\\\\\n\t 2nd  & Yes & 118\\\\\n\t 3rd  & No  & 528\\\\\n\t 3rd  & Yes & 178\\\\\n\t Crew & No  & 673\\\\\n\t Crew & Yes & 212\\\\\n\\end{tabular}\n",
            "text/plain": [
              "  Class Survived Count\n",
              "1 1st   No       122  \n",
              "2 1st   Yes      203  \n",
              "3 2nd   No       167  \n",
              "4 2nd   Yes      118  \n",
              "5 3rd   No       528  \n",
              "6 3rd   Yes      178  \n",
              "7 Crew  No       673  \n",
              "8 Crew  Yes      212  "
            ]
          },
          "metadata": {}
        }
      ]
    },
    {
      "cell_type": "code",
      "source": [
        "titanic %>%\n",
        "  group_by(Class, Survived) %>%\n",
        "  summarise(Count = n(), .groups = \"drop\") %>%\n",
        "  pivot_wider(\n",
        "    names_from = Survived,\n",
        "    values_from = Count,\n",
        "    values_fill = 0\n",
        "  )"
      ],
      "metadata": {
        "colab": {
          "base_uri": "https://localhost:8080/",
          "height": 221
        },
        "id": "onyIuqzj-ekg",
        "outputId": "3d3c7ffc-bfec-48a7-b952-e76cea6c5116"
      },
      "execution_count": 10,
      "outputs": [
        {
          "output_type": "display_data",
          "data": {
            "text/html": [
              "<table class=\"dataframe\">\n",
              "<caption>A tibble: 4 × 3</caption>\n",
              "<thead>\n",
              "\t<tr><th scope=col>Class</th><th scope=col>No</th><th scope=col>Yes</th></tr>\n",
              "\t<tr><th scope=col>&lt;fct&gt;</th><th scope=col>&lt;int&gt;</th><th scope=col>&lt;int&gt;</th></tr>\n",
              "</thead>\n",
              "<tbody>\n",
              "\t<tr><td>1st </td><td>122</td><td>203</td></tr>\n",
              "\t<tr><td>2nd </td><td>167</td><td>118</td></tr>\n",
              "\t<tr><td>3rd </td><td>528</td><td>178</td></tr>\n",
              "\t<tr><td>Crew</td><td>673</td><td>212</td></tr>\n",
              "</tbody>\n",
              "</table>\n"
            ],
            "text/markdown": "\nA tibble: 4 × 3\n\n| Class &lt;fct&gt; | No &lt;int&gt; | Yes &lt;int&gt; |\n|---|---|---|\n| 1st  | 122 | 203 |\n| 2nd  | 167 | 118 |\n| 3rd  | 528 | 178 |\n| Crew | 673 | 212 |\n\n",
            "text/latex": "A tibble: 4 × 3\n\\begin{tabular}{lll}\n Class & No & Yes\\\\\n <fct> & <int> & <int>\\\\\n\\hline\n\t 1st  & 122 & 203\\\\\n\t 2nd  & 167 & 118\\\\\n\t 3rd  & 528 & 178\\\\\n\t Crew & 673 & 212\\\\\n\\end{tabular}\n",
            "text/plain": [
              "  Class No  Yes\n",
              "1 1st   122 203\n",
              "2 2nd   167 118\n",
              "3 3rd   528 178\n",
              "4 Crew  673 212"
            ]
          },
          "metadata": {}
        }
      ]
    },
    {
      "cell_type": "markdown",
      "source": [
        "**Unnormalised Frequencies/Proportions**"
      ],
      "metadata": {
        "id": "fscQg7cI-vt6"
      }
    },
    {
      "cell_type": "code",
      "source": [
        "titanic %>%\n",
        "  group_by(Class, Survived) %>%\n",
        "  summarise(Count = n(), .groups = \"drop\") %>%\n",
        "  mutate(Freq = 100*Count / sum(Count)) %>%\n",
        "  select(Class, Survived, Freq)"
      ],
      "metadata": {
        "colab": {
          "base_uri": "https://localhost:8080/",
          "height": 345
        },
        "id": "XN-0AlXE_v4K",
        "outputId": "2aa65341-850f-4177-e88b-8b07632869e7"
      },
      "execution_count": 11,
      "outputs": [
        {
          "output_type": "display_data",
          "data": {
            "text/html": [
              "<table class=\"dataframe\">\n",
              "<caption>A tibble: 8 × 3</caption>\n",
              "<thead>\n",
              "\t<tr><th scope=col>Class</th><th scope=col>Survived</th><th scope=col>Freq</th></tr>\n",
              "\t<tr><th scope=col>&lt;fct&gt;</th><th scope=col>&lt;fct&gt;</th><th scope=col>&lt;dbl&gt;</th></tr>\n",
              "</thead>\n",
              "<tbody>\n",
              "\t<tr><td>1st </td><td>No </td><td> 5.542935</td></tr>\n",
              "\t<tr><td>1st </td><td>Yes</td><td> 9.223080</td></tr>\n",
              "\t<tr><td>2nd </td><td>No </td><td> 7.587460</td></tr>\n",
              "\t<tr><td>2nd </td><td>Yes</td><td> 5.361199</td></tr>\n",
              "\t<tr><td>3rd </td><td>No </td><td>23.989096</td></tr>\n",
              "\t<tr><td>3rd </td><td>Yes</td><td> 8.087233</td></tr>\n",
              "\t<tr><td>Crew</td><td>No </td><td>30.577010</td></tr>\n",
              "\t<tr><td>Crew</td><td>Yes</td><td> 9.631985</td></tr>\n",
              "</tbody>\n",
              "</table>\n"
            ],
            "text/markdown": "\nA tibble: 8 × 3\n\n| Class &lt;fct&gt; | Survived &lt;fct&gt; | Freq &lt;dbl&gt; |\n|---|---|---|\n| 1st  | No  |  5.542935 |\n| 1st  | Yes |  9.223080 |\n| 2nd  | No  |  7.587460 |\n| 2nd  | Yes |  5.361199 |\n| 3rd  | No  | 23.989096 |\n| 3rd  | Yes |  8.087233 |\n| Crew | No  | 30.577010 |\n| Crew | Yes |  9.631985 |\n\n",
            "text/latex": "A tibble: 8 × 3\n\\begin{tabular}{lll}\n Class & Survived & Freq\\\\\n <fct> & <fct> & <dbl>\\\\\n\\hline\n\t 1st  & No  &  5.542935\\\\\n\t 1st  & Yes &  9.223080\\\\\n\t 2nd  & No  &  7.587460\\\\\n\t 2nd  & Yes &  5.361199\\\\\n\t 3rd  & No  & 23.989096\\\\\n\t 3rd  & Yes &  8.087233\\\\\n\t Crew & No  & 30.577010\\\\\n\t Crew & Yes &  9.631985\\\\\n\\end{tabular}\n",
            "text/plain": [
              "  Class Survived Freq     \n",
              "1 1st   No        5.542935\n",
              "2 1st   Yes       9.223080\n",
              "3 2nd   No        7.587460\n",
              "4 2nd   Yes       5.361199\n",
              "5 3rd   No       23.989096\n",
              "6 3rd   Yes       8.087233\n",
              "7 Crew  No       30.577010\n",
              "8 Crew  Yes       9.631985"
            ]
          },
          "metadata": {}
        }
      ]
    },
    {
      "cell_type": "code",
      "source": [
        "titanic %>%\n",
        "  group_by(Class, Survived) %>%\n",
        "  summarise(Count = n(), .groups = \"drop\") %>%\n",
        "  mutate(Freq = 100*Count / sum(Count)) %>%\n",
        "  select(Class, Survived, Freq) %>%\n",
        "  pivot_wider(\n",
        "    names_from = Survived,\n",
        "    values_from = Freq,\n",
        "    values_fill = 0\n",
        "  )"
      ],
      "metadata": {
        "colab": {
          "base_uri": "https://localhost:8080/",
          "height": 221
        },
        "id": "UysF_JiA_Ixl",
        "outputId": "f848863d-7ab1-4843-a401-81081ee3e6eb"
      },
      "execution_count": 12,
      "outputs": [
        {
          "output_type": "display_data",
          "data": {
            "text/html": [
              "<table class=\"dataframe\">\n",
              "<caption>A tibble: 4 × 3</caption>\n",
              "<thead>\n",
              "\t<tr><th scope=col>Class</th><th scope=col>No</th><th scope=col>Yes</th></tr>\n",
              "\t<tr><th scope=col>&lt;fct&gt;</th><th scope=col>&lt;dbl&gt;</th><th scope=col>&lt;dbl&gt;</th></tr>\n",
              "</thead>\n",
              "<tbody>\n",
              "\t<tr><td>1st </td><td> 5.542935</td><td>9.223080</td></tr>\n",
              "\t<tr><td>2nd </td><td> 7.587460</td><td>5.361199</td></tr>\n",
              "\t<tr><td>3rd </td><td>23.989096</td><td>8.087233</td></tr>\n",
              "\t<tr><td>Crew</td><td>30.577010</td><td>9.631985</td></tr>\n",
              "</tbody>\n",
              "</table>\n"
            ],
            "text/markdown": "\nA tibble: 4 × 3\n\n| Class &lt;fct&gt; | No &lt;dbl&gt; | Yes &lt;dbl&gt; |\n|---|---|---|\n| 1st  |  5.542935 | 9.223080 |\n| 2nd  |  7.587460 | 5.361199 |\n| 3rd  | 23.989096 | 8.087233 |\n| Crew | 30.577010 | 9.631985 |\n\n",
            "text/latex": "A tibble: 4 × 3\n\\begin{tabular}{lll}\n Class & No & Yes\\\\\n <fct> & <dbl> & <dbl>\\\\\n\\hline\n\t 1st  &  5.542935 & 9.223080\\\\\n\t 2nd  &  7.587460 & 5.361199\\\\\n\t 3rd  & 23.989096 & 8.087233\\\\\n\t Crew & 30.577010 & 9.631985\\\\\n\\end{tabular}\n",
            "text/plain": [
              "  Class No        Yes     \n",
              "1 1st    5.542935 9.223080\n",
              "2 2nd    7.587460 5.361199\n",
              "3 3rd   23.989096 8.087233\n",
              "4 Crew  30.577010 9.631985"
            ]
          },
          "metadata": {}
        }
      ]
    },
    {
      "cell_type": "markdown",
      "source": [
        "**Normalised Frequencies/Proportions**"
      ],
      "metadata": {
        "id": "7hUHOpbC_SQF"
      }
    },
    {
      "cell_type": "code",
      "source": [
        "titanic %>%\n",
        "  group_by(Class, Survived) %>%\n",
        "  summarise(Count = n(), .groups = \"drop\") %>%\n",
        "  group_by(Class) %>%\n",
        "  mutate(Freq = 100*Count / sum(Count)) %>% #Here sum(Count) is computed within Class\n",
        "  ungroup() %>%\n",
        "  select(Class, Survived, Freq)"
      ],
      "metadata": {
        "colab": {
          "base_uri": "https://localhost:8080/",
          "height": 345
        },
        "id": "eD8sZL_b_uMW",
        "outputId": "12e0187c-7311-4e42-b9f3-243fca2facf7"
      },
      "execution_count": 13,
      "outputs": [
        {
          "output_type": "display_data",
          "data": {
            "text/html": [
              "<table class=\"dataframe\">\n",
              "<caption>A tibble: 8 × 3</caption>\n",
              "<thead>\n",
              "\t<tr><th scope=col>Class</th><th scope=col>Survived</th><th scope=col>Freq</th></tr>\n",
              "\t<tr><th scope=col>&lt;fct&gt;</th><th scope=col>&lt;fct&gt;</th><th scope=col>&lt;dbl&gt;</th></tr>\n",
              "</thead>\n",
              "<tbody>\n",
              "\t<tr><td>1st </td><td>No </td><td>37.53846</td></tr>\n",
              "\t<tr><td>1st </td><td>Yes</td><td>62.46154</td></tr>\n",
              "\t<tr><td>2nd </td><td>No </td><td>58.59649</td></tr>\n",
              "\t<tr><td>2nd </td><td>Yes</td><td>41.40351</td></tr>\n",
              "\t<tr><td>3rd </td><td>No </td><td>74.78754</td></tr>\n",
              "\t<tr><td>3rd </td><td>Yes</td><td>25.21246</td></tr>\n",
              "\t<tr><td>Crew</td><td>No </td><td>76.04520</td></tr>\n",
              "\t<tr><td>Crew</td><td>Yes</td><td>23.95480</td></tr>\n",
              "</tbody>\n",
              "</table>\n"
            ],
            "text/markdown": "\nA tibble: 8 × 3\n\n| Class &lt;fct&gt; | Survived &lt;fct&gt; | Freq &lt;dbl&gt; |\n|---|---|---|\n| 1st  | No  | 37.53846 |\n| 1st  | Yes | 62.46154 |\n| 2nd  | No  | 58.59649 |\n| 2nd  | Yes | 41.40351 |\n| 3rd  | No  | 74.78754 |\n| 3rd  | Yes | 25.21246 |\n| Crew | No  | 76.04520 |\n| Crew | Yes | 23.95480 |\n\n",
            "text/latex": "A tibble: 8 × 3\n\\begin{tabular}{lll}\n Class & Survived & Freq\\\\\n <fct> & <fct> & <dbl>\\\\\n\\hline\n\t 1st  & No  & 37.53846\\\\\n\t 1st  & Yes & 62.46154\\\\\n\t 2nd  & No  & 58.59649\\\\\n\t 2nd  & Yes & 41.40351\\\\\n\t 3rd  & No  & 74.78754\\\\\n\t 3rd  & Yes & 25.21246\\\\\n\t Crew & No  & 76.04520\\\\\n\t Crew & Yes & 23.95480\\\\\n\\end{tabular}\n",
            "text/plain": [
              "  Class Survived Freq    \n",
              "1 1st   No       37.53846\n",
              "2 1st   Yes      62.46154\n",
              "3 2nd   No       58.59649\n",
              "4 2nd   Yes      41.40351\n",
              "5 3rd   No       74.78754\n",
              "6 3rd   Yes      25.21246\n",
              "7 Crew  No       76.04520\n",
              "8 Crew  Yes      23.95480"
            ]
          },
          "metadata": {}
        }
      ]
    },
    {
      "cell_type": "code",
      "source": [
        "titanic %>%\n",
        "  group_by(Class, Survived) %>%\n",
        "  summarise(Count = n(), .groups = \"drop\") %>%\n",
        "  group_by(Class) %>%\n",
        "  mutate(Freq = 100*Count / sum(Count)) %>% #Here sum(Count) is computed within Class\n",
        "  ungroup() %>%\n",
        "  select(Class, Survived, Freq) %>%\n",
        "  pivot_wider(\n",
        "    names_from = Survived,\n",
        "    values_from = Freq,\n",
        "    values_fill = 0\n",
        "  )"
      ],
      "metadata": {
        "colab": {
          "base_uri": "https://localhost:8080/",
          "height": 221
        },
        "id": "N6ZwXjGM6VnL",
        "outputId": "89460184-fd33-4802-f96c-9db013341b3e"
      },
      "execution_count": 14,
      "outputs": [
        {
          "output_type": "display_data",
          "data": {
            "text/html": [
              "<table class=\"dataframe\">\n",
              "<caption>A tibble: 4 × 3</caption>\n",
              "<thead>\n",
              "\t<tr><th scope=col>Class</th><th scope=col>No</th><th scope=col>Yes</th></tr>\n",
              "\t<tr><th scope=col>&lt;fct&gt;</th><th scope=col>&lt;dbl&gt;</th><th scope=col>&lt;dbl&gt;</th></tr>\n",
              "</thead>\n",
              "<tbody>\n",
              "\t<tr><td>1st </td><td>37.53846</td><td>62.46154</td></tr>\n",
              "\t<tr><td>2nd </td><td>58.59649</td><td>41.40351</td></tr>\n",
              "\t<tr><td>3rd </td><td>74.78754</td><td>25.21246</td></tr>\n",
              "\t<tr><td>Crew</td><td>76.04520</td><td>23.95480</td></tr>\n",
              "</tbody>\n",
              "</table>\n"
            ],
            "text/markdown": "\nA tibble: 4 × 3\n\n| Class &lt;fct&gt; | No &lt;dbl&gt; | Yes &lt;dbl&gt; |\n|---|---|---|\n| 1st  | 37.53846 | 62.46154 |\n| 2nd  | 58.59649 | 41.40351 |\n| 3rd  | 74.78754 | 25.21246 |\n| Crew | 76.04520 | 23.95480 |\n\n",
            "text/latex": "A tibble: 4 × 3\n\\begin{tabular}{lll}\n Class & No & Yes\\\\\n <fct> & <dbl> & <dbl>\\\\\n\\hline\n\t 1st  & 37.53846 & 62.46154\\\\\n\t 2nd  & 58.59649 & 41.40351\\\\\n\t 3rd  & 74.78754 & 25.21246\\\\\n\t Crew & 76.04520 & 23.95480\\\\\n\\end{tabular}\n",
            "text/plain": [
              "  Class No       Yes     \n",
              "1 1st   37.53846 62.46154\n",
              "2 2nd   58.59649 41.40351\n",
              "3 3rd   74.78754 25.21246\n",
              "4 Crew  76.04520 23.95480"
            ]
          },
          "metadata": {}
        }
      ]
    },
    {
      "cell_type": "markdown",
      "source": [
        "### **Graphical Summaries**\n",
        "\n"
      ],
      "metadata": {
        "id": "SRGuNGv47D_q"
      }
    },
    {
      "cell_type": "markdown",
      "source": [
        "\n",
        "#### **Bar Chart**\n",
        "\n",
        "There are several options for visualising bivariate categorical data. Among these, bar plots are the most commonly used.\n",
        "\n",
        "We can use `ggplot() %>% geom_bar()` to create bar plots that compare categories across two variables. To display these segments side-by-side (rather than stacked), we add the option `position = \"dodge\"` to `geom_bar()`."
      ],
      "metadata": {
        "id": "ofrKGjgZEd4S"
      }
    },
    {
      "cell_type": "markdown",
      "source": [
        "One convenient option for creating bar plots is to input the raw dataset directly into `ggplot()`. `geom_bar()` by default counts the number of cases for each `x` value (i.e., it computes frequencies automatically). This is called the statistical transformation (or `stat`) and the default is `stat = \"count\"`."
      ],
      "metadata": {
        "id": "071fE-bO8omz"
      }
    },
    {
      "cell_type": "code",
      "source": [
        "titanic %>%\n",
        "  ggplot(aes(x = Class, fill = Survived)) +\n",
        "  geom_bar(stat = \"count\", position = \"dodge\") +\n",
        "  labs(y = \"Count\", title = \"Survival by Class\")"
      ],
      "metadata": {
        "colab": {
          "base_uri": "https://localhost:8080/",
          "height": 437
        },
        "id": "yAJxrIro8bTs",
        "outputId": "33c899e9-161e-4f7c-b528-60fa75631fa0"
      },
      "execution_count": 15,
      "outputs": [
        {
          "output_type": "display_data",
          "data": {
            "text/plain": [
              "plot without title"
            ],
            "image/png": "[encoded data removed]"
          },
          "metadata": {
            "image/png": {
              "width": 420,
              "height": 420
            }
          }
        }
      ]
    },
    {
      "cell_type": "markdown",
      "source": [
        "Another option, which is less convenient but provides greater control, is to manually construct a long-format contingency table."
      ],
      "metadata": {
        "id": "zPN4G_ZlAbUc"
      }
    },
    {
      "cell_type": "markdown",
      "source": [
        "We need to set `stat = \"identity\"`. Here, you’re telling `geom_bar()`:\n",
        "\n",
        "> **“Don’t do any counting — just use the y values I provide directly.”**\n",
        "\n",
        "This means you have to supply the y-values yourself (e.g., counts, proportions, or any numeric variable), and `geom_bar()` will just plot bars with those heights."
      ],
      "metadata": {
        "id": "81KZhmadB7_8"
      }
    },
    {
      "cell_type": "code",
      "source": [
        "titanic %>%\n",
        "  group_by(Class, Survived) %>%\n",
        "  summarise(Count = n(), .groups = \"drop\") %>%\n",
        "  ggplot(aes(x = Class, y = Count, fill = Survived)) +\n",
        "  geom_bar(stat = \"identity\", position = \"dodge\") +\n",
        "  labs(y = \"Count\", title = \"Survival by Class\")\n"
      ],
      "metadata": {
        "colab": {
          "base_uri": "https://localhost:8080/",
          "height": 437
        },
        "id": "AfmGatazAwpx",
        "outputId": "60acf0e3-63c4-4b0b-9cbb-18248c560856"
      },
      "execution_count": 16,
      "outputs": [
        {
          "output_type": "display_data",
          "data": {
            "text/plain": [
              "plot without title"
            ],
            "image/png": "[encoded data removed]"
          },
          "metadata": {
            "image/png": {
              "width": 420,
              "height": 420
            }
          }
        }
      ]
    },
    {
      "cell_type": "markdown",
      "source": [
        "However, these are raw counts, which may be misleading when the groups are unbalanced. We need to normalise the counts within each class to account for class imbalance. Constructing a long-format contingency table gives us the flexibility and control needed to calculate these proportions."
      ],
      "metadata": {
        "id": "rKJ8x1Or9EYm"
      }
    },
    {
      "cell_type": "code",
      "source": [
        "titanic %>%\n",
        "  group_by(Class, Survived) %>%\n",
        "  summarise(Count = n(), .groups = \"drop\") %>%\n",
        "  group_by(Class) %>%\n",
        "  mutate(Freq = 100*Count / sum(Count)) %>% #Here sum(Count) is computed within Class\n",
        "  ungroup() %>%\n",
        "  select(Class, Survived, Freq) %>%\n",
        "  ggplot(aes(x = Class, y = Freq, fill = Survived)) +\n",
        "  geom_bar(stat = \"identity\", position = \"dodge\") +\n",
        "  labs(y = \"Frequency\", title = \"Survival Frequency by Class\")"
      ],
      "metadata": {
        "colab": {
          "base_uri": "https://localhost:8080/",
          "height": 437
        },
        "id": "AEam_hTw_bhT",
        "outputId": "013127f5-bbf0-4dce-ce80-655f57dfe299"
      },
      "execution_count": 17,
      "outputs": [
        {
          "output_type": "display_data",
          "data": {
            "text/plain": [
              "plot without title"
            ],
            "image/png": "[encoded data removed]"
          },
          "metadata": {
            "image/png": {
              "width": 420,
              "height": 420
            }
          }
        }
      ]
    },
    {
      "cell_type": "markdown",
      "source": [
        "#### **Mosaic Plot (Optional)**"
      ],
      "metadata": {
        "id": "i3FoC217C312"
      }
    },
    {
      "cell_type": "markdown",
      "source": [
        "Mosaic plots are a base R visualisation (available via the `mosaicplot()` function) that directly takes a contingency table as input. They display the joint distribution of two categorical variables by sizing tiles proportionally to counts/frequencies. This makes it easy to spot associations or differences between categories at a glance.\n"
      ],
      "metadata": {
        "id": "i5xR7yDqDK-V"
      }
    },
    {
      "cell_type": "markdown",
      "source": [
        "**Raw Counts**"
      ],
      "metadata": {
        "id": "DXXMCUr6D237"
      }
    },
    {
      "cell_type": "code",
      "source": [
        "titanic %>%\n",
        "  select(Class, Survived) %>%\n",
        "  table() %>%\n",
        "  mosaicplot(main = \"Survival by Class\",\n",
        "             xlab = \"Passenger Class\",\n",
        "             ylab = \"Proportion Survived\",\n",
        "             color = TRUE,\n",
        "             shade = TRUE,\n",
        "             las = 1)"
      ],
      "metadata": {
        "colab": {
          "base_uri": "https://localhost:8080/",
          "height": 437
        },
        "id": "MlitvMPK8wIB",
        "outputId": "e73b7bfc-4ed0-4d9b-8447-3d873cc6a1e2"
      },
      "execution_count": 18,
      "outputs": [
        {
          "output_type": "display_data",
          "data": {
            "text/plain": [
              "Plot with title “Survival by Class”"
            ],
            "image/png": "[encoded data removed]"
          },
          "metadata": {
            "image/png": {
              "width": 420,
              "height": 420
            }
          }
        }
      ]
    },
    {
      "cell_type": "markdown",
      "source": [
        "**Normalised Frequencies**"
      ],
      "metadata": {
        "id": "gIxnmYsND8Cs"
      }
    },
    {
      "cell_type": "code",
      "source": [
        "titanic %>%\n",
        "  select(Class, Survived) %>%\n",
        "  table() %>%\n",
        "  prop.table(margin = 1) %>%\n",
        "  multiply_by(100) %>%\n",
        "  mosaicplot(main = \"Survival by Class\",\n",
        "             xlab = \"Passenger Class\",\n",
        "             ylab = \"Proportion Survived\",\n",
        "             color = TRUE,\n",
        "             shade = TRUE,\n",
        "             las = 1)"
      ],
      "metadata": {
        "colab": {
          "base_uri": "https://localhost:8080/",
          "height": 437
        },
        "id": "P3JcF66hD0O7",
        "outputId": "cabb5c42-7054-4de2-a9e4-e0663a31168a"
      },
      "execution_count": 19,
      "outputs": [
        {
          "output_type": "display_data",
          "data": {
            "text/plain": [
              "Plot with title “Survival by Class”"
            ],
            "image/png": "[encoded data removed]"
          },
          "metadata": {
            "image/png": {
              "width": 420,
              "height": 420
            }
          }
        }
      ]
    },
    {
      "cell_type": "markdown",
      "source": [
        "## **Bivariate Combined Data Types**\n",
        "\n",
        "\n",
        "Combined bivariate data includes both numeric and categorical data, these can be very common datasets to find, and arise from looking at how different factors influence some numerical measurements.\n",
        "\n",
        "For example, in the iris dataset, we can extract the numeric variable `Sepal.Length` and the categorical variable `Species` to create a bivariate dataset combining both types of data.\n"
      ],
      "metadata": {
        "id": "2MNYlPlTESOK"
      }
    },
    {
      "cell_type": "code",
      "source": [
        "iris %>%\n",
        "  select(Sepal.Length, Species) %>%\n",
        "  head(5)"
      ],
      "metadata": {
        "colab": {
          "base_uri": "https://localhost:8080/",
          "height": 252
        },
        "id": "p0V779YQEtkK",
        "outputId": "a221a7ed-274f-4506-dd8e-de69fb0922cc"
      },
      "execution_count": 20,
      "outputs": [
        {
          "output_type": "display_data",
          "data": {
            "text/html": [
              "<table class=\"dataframe\">\n",
              "<caption>A data.frame: 5 × 2</caption>\n",
              "<thead>\n",
              "\t<tr><th></th><th scope=col>Sepal.Length</th><th scope=col>Species</th></tr>\n",
              "\t<tr><th></th><th scope=col>&lt;dbl&gt;</th><th scope=col>&lt;fct&gt;</th></tr>\n",
              "</thead>\n",
              "<tbody>\n",
              "\t<tr><th scope=row>1</th><td>5.1</td><td>setosa</td></tr>\n",
              "\t<tr><th scope=row>2</th><td>4.9</td><td>setosa</td></tr>\n",
              "\t<tr><th scope=row>3</th><td>4.7</td><td>setosa</td></tr>\n",
              "\t<tr><th scope=row>4</th><td>4.6</td><td>setosa</td></tr>\n",
              "\t<tr><th scope=row>5</th><td>5.0</td><td>setosa</td></tr>\n",
              "</tbody>\n",
              "</table>\n"
            ],
            "text/markdown": "\nA data.frame: 5 × 2\n\n| <!--/--> | Sepal.Length &lt;dbl&gt; | Species &lt;fct&gt; |\n|---|---|---|\n| 1 | 5.1 | setosa |\n| 2 | 4.9 | setosa |\n| 3 | 4.7 | setosa |\n| 4 | 4.6 | setosa |\n| 5 | 5.0 | setosa |\n\n",
            "text/latex": "A data.frame: 5 × 2\n\\begin{tabular}{r|ll}\n  & Sepal.Length & Species\\\\\n  & <dbl> & <fct>\\\\\n\\hline\n\t1 & 5.1 & setosa\\\\\n\t2 & 4.9 & setosa\\\\\n\t3 & 4.7 & setosa\\\\\n\t4 & 4.6 & setosa\\\\\n\t5 & 5.0 & setosa\\\\\n\\end{tabular}\n",
            "text/plain": [
              "  Sepal.Length Species\n",
              "1 5.1          setosa \n",
              "2 4.9          setosa \n",
              "3 4.7          setosa \n",
              "4 4.6          setosa \n",
              "5 5.0          setosa "
            ]
          },
          "metadata": {}
        }
      ]
    },
    {
      "cell_type": "markdown",
      "source": [
        "When working with bivariate datasets that combine numeric and categorical variables, some key questions we might want to answer include:\n",
        "\n",
        "1. How does the numeric variable differ across the categories?\n",
        "2. Are there clear patterns or differences in distribution by category?\n",
        "3. Can the categorical variable help explain variability in the numeric variable?\n",
        "4. What summary statistics (mean, median, range) characterise each group?\n",
        "5. Are there outliers or unusual observations within any category?\n",
        "\n",
        "Techniques for formally addressing many of these questions will be introduced later in this unit. For now, we will focus primarily on graphical and informal summaries, especially to explore questions 2 and 4.\n"
      ],
      "metadata": {
        "id": "qrNtLtZcFRBZ"
      }
    },
    {
      "cell_type": "markdown",
      "source": [
        "### **Exercises**"
      ],
      "metadata": {
        "id": "pHltOzvDGezt"
      }
    },
    {
      "cell_type": "markdown",
      "source": [
        "#### **Exercise 1**\n",
        "\n",
        "Compute the mean and standard deviation of `Sepal.Length` for each `Species` in the `iris` dataset. Based on these, determine whether the intervals defined by mean ± 2 standard deviations overlap between `Species`."
      ],
      "metadata": {
        "id": "E8jyuT7mGvgv"
      }
    },
    {
      "cell_type": "code",
      "source": [],
      "metadata": {
        "id": "ZvJozGHxHZ_M"
      },
      "execution_count": 21,
      "outputs": []
    },
    {
      "cell_type": "markdown",
      "source": [
        "<details>\n",
        "<summary>▶️ Click to show the solution</summary>\n",
        "\n",
        "```r\n",
        "iris %>%\n",
        "  group_by(Species) %>%\n",
        "  summarise(\n",
        "    meanSepalLength = mean(Sepal.Length),\n",
        "    sdSepalLength = sd(Sepal.Length)\n",
        "  ) %>%\n",
        "  ungroup() %>%\n",
        "  mutate(lowerInterval = meanSepalLength - 2*sdSepalLength,\n",
        "         upperInterval = meanSepalLength + 2*sdSepalLength)\n",
        "```\n",
        "\n",
        "</details>"
      ],
      "metadata": {
        "id": "rYOeMHJzHqpV"
      }
    },
    {
      "cell_type": "markdown",
      "source": [
        "#### **Exercise 2**\n",
        "\n",
        "Compare the distributions of `Sepal.Length` across all `Species` in the `iris` dataset using boxplots."
      ],
      "metadata": {
        "id": "UfV2KJpBH3Oi"
      }
    },
    {
      "cell_type": "code",
      "source": [],
      "metadata": {
        "id": "DOWBRPpEJBpQ"
      },
      "execution_count": 22,
      "outputs": []
    },
    {
      "cell_type": "markdown",
      "source": [
        "<details>\n",
        "<summary>▶️ Click to show the solution</summary>\n",
        "\n",
        "```r\n",
        "iris %>%\n",
        "  ggplot(aes(x = Species, y = Sepal.Length, fill = Species)) +\n",
        "  geom_boxplot() +\n",
        "  labs(title = \"Distribution of Sepal Length by Species\",\n",
        "       x = \"Species\",\n",
        "       y = \"Sepal Length\") +\n",
        "  theme_minimal()\n",
        "```\n",
        "\n",
        "</details>"
      ],
      "metadata": {
        "id": "NX810OsCJFEy"
      }
    },
    {
      "cell_type": "markdown",
      "source": [
        "#### **Exercise 3**\n",
        "\n",
        "Compare the distributions of `city` EPA across all `trans` (transmission) types in the `epa_data` dataset using histograms.\n",
        "\n",
        "**Hint**: Instead of using `facet_wrap()`, set `position = \"identity\"` in `geom_histogram()` to overlay histograms. Set `alpha = 0.7` (transparency level) for better visibility."
      ],
      "metadata": {
        "id": "dTD7XRpnKBse"
      }
    },
    {
      "cell_type": "code",
      "source": [
        "epa_data = read.csv(\"./datasets/epa_data.csv\")\n",
        "epa_data %>% head()"
      ],
      "metadata": {
        "colab": {
          "base_uri": "https://localhost:8080/",
          "height": 283
        },
        "id": "HOS5G6C6J0Ms",
        "outputId": "1d5749c2-4a69-45c3-aed5-3ed88501d9d4"
      },
      "execution_count": 23,
      "outputs": [
        {
          "output_type": "display_data",
          "data": {
            "text/html": [
              "<table class=\"dataframe\">\n",
              "<caption>A data.frame: 6 × 9</caption>\n",
              "<thead>\n",
              "\t<tr><th></th><th scope=col>city</th><th scope=col>hwy</th><th scope=col>cyl</th><th scope=col>disp</th><th scope=col>drive</th><th scope=col>make</th><th scope=col>model</th><th scope=col>trans</th><th scope=col>year</th></tr>\n",
              "\t<tr><th></th><th scope=col>&lt;int&gt;</th><th scope=col>&lt;int&gt;</th><th scope=col>&lt;int&gt;</th><th scope=col>&lt;dbl&gt;</th><th scope=col>&lt;chr&gt;</th><th scope=col>&lt;chr&gt;</th><th scope=col>&lt;chr&gt;</th><th scope=col>&lt;chr&gt;</th><th scope=col>&lt;int&gt;</th></tr>\n",
              "</thead>\n",
              "<tbody>\n",
              "\t<tr><th scope=row>1</th><td>16</td><td>24</td><td>8</td><td>5.0</td><td>Rear-Wheel Drive</td><td>Jaguar </td><td>XK            </td><td>Automatic</td><td>2010</td></tr>\n",
              "\t<tr><th scope=row>2</th><td>15</td><td>22</td><td>8</td><td>5.0</td><td>Rear-Wheel Drive</td><td>Jaguar </td><td>XK            </td><td>Automatic</td><td>2010</td></tr>\n",
              "\t<tr><th scope=row>3</th><td>16</td><td>22</td><td>8</td><td>5.0</td><td>Rear-Wheel Drive</td><td>Jaguar </td><td>XK Convertible</td><td>Automatic</td><td>2010</td></tr>\n",
              "\t<tr><th scope=row>4</th><td>19</td><td>27</td><td>4</td><td>2.0</td><td>Rear-Wheel Drive</td><td>Pontiac</td><td>Solstice      </td><td>Automatic</td><td>2010</td></tr>\n",
              "\t<tr><th scope=row>5</th><td>19</td><td>29</td><td>4</td><td>2.0</td><td>Rear-Wheel Drive</td><td>Pontiac</td><td>Solstice      </td><td>Manual   </td><td>2010</td></tr>\n",
              "\t<tr><th scope=row>6</th><td>19</td><td>24</td><td>4</td><td>2.4</td><td>Rear-Wheel Drive</td><td>Pontiac</td><td>Solstice      </td><td>Automatic</td><td>2010</td></tr>\n",
              "</tbody>\n",
              "</table>\n"
            ],
            "text/markdown": "\nA data.frame: 6 × 9\n\n| <!--/--> | city &lt;int&gt; | hwy &lt;int&gt; | cyl &lt;int&gt; | disp &lt;dbl&gt; | drive &lt;chr&gt; | make &lt;chr&gt; | model &lt;chr&gt; | trans &lt;chr&gt; | year &lt;int&gt; |\n|---|---|---|---|---|---|---|---|---|---|\n| 1 | 16 | 24 | 8 | 5.0 | Rear-Wheel Drive | Jaguar  | XK             | Automatic | 2010 |\n| 2 | 15 | 22 | 8 | 5.0 | Rear-Wheel Drive | Jaguar  | XK             | Automatic | 2010 |\n| 3 | 16 | 22 | 8 | 5.0 | Rear-Wheel Drive | Jaguar  | XK Convertible | Automatic | 2010 |\n| 4 | 19 | 27 | 4 | 2.0 | Rear-Wheel Drive | Pontiac | Solstice       | Automatic | 2010 |\n| 5 | 19 | 29 | 4 | 2.0 | Rear-Wheel Drive | Pontiac | Solstice       | Manual    | 2010 |\n| 6 | 19 | 24 | 4 | 2.4 | Rear-Wheel Drive | Pontiac | Solstice       | Automatic | 2010 |\n\n",
            "text/latex": "A data.frame: 6 × 9\n\\begin{tabular}{r|lllllllll}\n  & city & hwy & cyl & disp & drive & make & model & trans & year\\\\\n  & <int> & <int> & <int> & <dbl> & <chr> & <chr> & <chr> & <chr> & <int>\\\\\n\\hline\n\t1 & 16 & 24 & 8 & 5.0 & Rear-Wheel Drive & Jaguar  & XK             & Automatic & 2010\\\\\n\t2 & 15 & 22 & 8 & 5.0 & Rear-Wheel Drive & Jaguar  & XK             & Automatic & 2010\\\\\n\t3 & 16 & 22 & 8 & 5.0 & Rear-Wheel Drive & Jaguar  & XK Convertible & Automatic & 2010\\\\\n\t4 & 19 & 27 & 4 & 2.0 & Rear-Wheel Drive & Pontiac & Solstice       & Automatic & 2010\\\\\n\t5 & 19 & 29 & 4 & 2.0 & Rear-Wheel Drive & Pontiac & Solstice       & Manual    & 2010\\\\\n\t6 & 19 & 24 & 4 & 2.4 & Rear-Wheel Drive & Pontiac & Solstice       & Automatic & 2010\\\\\n\\end{tabular}\n",
            "text/plain": [
              "  city hwy cyl disp drive            make    model          trans     year\n",
              "1 16   24  8   5.0  Rear-Wheel Drive Jaguar  XK             Automatic 2010\n",
              "2 15   22  8   5.0  Rear-Wheel Drive Jaguar  XK             Automatic 2010\n",
              "3 16   22  8   5.0  Rear-Wheel Drive Jaguar  XK Convertible Automatic 2010\n",
              "4 19   27  4   2.0  Rear-Wheel Drive Pontiac Solstice       Automatic 2010\n",
              "5 19   29  4   2.0  Rear-Wheel Drive Pontiac Solstice       Manual    2010\n",
              "6 19   24  4   2.4  Rear-Wheel Drive Pontiac Solstice       Automatic 2010"
            ]
          },
          "metadata": {}
        }
      ]
    },
    {
      "cell_type": "code",
      "source": [],
      "metadata": {
        "id": "FFqaa2bTKXfg"
      },
      "execution_count": 24,
      "outputs": []
    },
    {
      "cell_type": "markdown",
      "source": [
        "<details>\n",
        "<summary>▶️ Click to show the solution</summary>\n",
        "\n",
        "```r\n",
        "epa_data %>%\n",
        "  ggplot(aes(x = city, fill = trans)) +\n",
        "  geom_histogram(aes(y = after_stat(density)),\n",
        "                 bins = 30,\n",
        "                 alpha = 0.7,\n",
        "                 color = \"black\", #border color\n",
        "                 position = \"identity\") +             \n",
        "  labs(title = \"Stacked Normalised City MPG Distribution by Transmission Type\",\n",
        "       x = \"City MPG\",\n",
        "       y = \"Density\",\n",
        "       fill = \"Transmission\") +\n",
        "  theme_minimal()\n",
        "```\n",
        "\n",
        "</details>"
      ],
      "metadata": {
        "id": "L9x7VSsqMbiD"
      }
    },
    {
      "cell_type": "markdown",
      "source": [
        "## **Bivariate Numeric Data**\n",
        "\n",
        "Finally, the more interesting part: exploring relationships between two numeric variables. We'll look at scatterplots, correlation, and trend patterns to better understand how two continuous measurements vary together."
      ],
      "metadata": {
        "id": "nrXQr3NDMjVT"
      }
    },
    {
      "cell_type": "markdown",
      "source": [
        "\n",
        "\n",
        "### **Covariance**\n",
        "\n",
        "If sample variance for a numeric vector `x` is defined as:\n",
        "\n",
        "$$\n",
        "s_x^2 = \\frac{\\sum_{i=1}^n (x_i - \\bar{x})^2}{n-1}\n",
        "$$\n",
        "\n",
        "or the \"mean\" of the squared distance between observations, then it follows that covariance is defined as:\n",
        "\n",
        "$$\n",
        "s_{xy} = \\frac{\\sum_{i=1}^n (x_i - \\bar{x})(y_i - \\bar{y})}{n-1}\n",
        "$$\n",
        "\n",
        "where:\n",
        "\n",
        "- $(x_i, y_i)$ is a **paired** observation indexed by $i$.\n",
        "- $\\bar{x}, \\bar{y}$ are the sample means of $x$ and $y$.\n",
        "- $n$ is the number of observations.\n",
        "\n",
        "**By definition, sample variance is the covariance between one variable and itself.**\n"
      ],
      "metadata": {
        "id": "a9wQgjNeMwS-"
      }
    },
    {
      "cell_type": "markdown",
      "source": [
        "Covariance is a statistical measure that quantifies the degree to which two variables change together. Specifically, it measures the **linear relationship** between two continuous variables.\n",
        "\n",
        "- A **positive covariance** indicates that as one variable increases, the other tends to increase as well.\n",
        "- A **negative covariance** means that as one variable increases, the other tends to decrease.\n",
        "- A covariance close to zero suggests there is little to no linear relationship between the variables.\n"
      ],
      "metadata": {
        "id": "LamWLXVGS3vn"
      }
    },
    {
      "cell_type": "markdown",
      "source": [
        "In R, we can use `cov(x,y)` to compute covariance between variables `x` and `y`."
      ],
      "metadata": {
        "id": "vKHJvjfPOLHu"
      }
    },
    {
      "cell_type": "markdown",
      "source": [
        "#### **Example**\n",
        "\n",
        "Notice that as `city` EPA increases, `hwy` EPA tends to increase."
      ],
      "metadata": {
        "id": "t5uCZDQmPBzd"
      }
    },
    {
      "cell_type": "code",
      "source": [
        "epa_data %>%\n",
        "  ggplot(aes(x = city, y = hwy)) +\n",
        "  geom_point(size = 2)"
      ],
      "metadata": {
        "colab": {
          "base_uri": "https://localhost:8080/",
          "height": 437
        },
        "id": "-XtxFrwHOs80",
        "outputId": "b31f734f-071d-4bf2-a64e-e8eeb4890d63"
      },
      "execution_count": 25,
      "outputs": [
        {
          "output_type": "display_data",
          "data": {
            "text/plain": [
              "plot without title"
            ],
            "image/png": "[encoded data removed]"
          },
          "metadata": {
            "image/png": {
              "width": 420,
              "height": 420
            }
          }
        }
      ]
    },
    {
      "cell_type": "markdown",
      "source": [
        "Their covariance is indeed positive."
      ],
      "metadata": {
        "id": "4hDiirnwPcpt"
      }
    },
    {
      "cell_type": "code",
      "source": [
        "cov(epa_data$city, epa_data$hwy)"
      ],
      "metadata": {
        "colab": {
          "base_uri": "https://localhost:8080/",
          "height": 34
        },
        "id": "jkKlcSB3PYMC",
        "outputId": "85300e14-db12-4532-9979-b1554a23b9fa"
      },
      "execution_count": 26,
      "outputs": [
        {
          "output_type": "display_data",
          "data": {
            "text/html": [
              "132.654404528714"
            ],
            "text/markdown": "132.654404528714",
            "text/latex": "132.654404528714",
            "text/plain": [
              "[1] 132.6544"
            ]
          },
          "metadata": {}
        }
      ]
    },
    {
      "cell_type": "markdown",
      "source": [
        "It seems that as engine displacement (`disp`) increases, `city` EPA decreases."
      ],
      "metadata": {
        "id": "Oq5h7RtoP1wO"
      }
    },
    {
      "cell_type": "code",
      "source": [
        "epa_data %>%\n",
        "  ggplot(aes(x = disp, y = city)) +\n",
        "  geom_point(size = 2)"
      ],
      "metadata": {
        "colab": {
          "base_uri": "https://localhost:8080/",
          "height": 488
        },
        "id": "aut2Ve6kPh5I",
        "outputId": "6aae90c1-892f-4286-ad16-269c76e84aab"
      },
      "execution_count": 27,
      "outputs": [
        {
          "output_type": "stream",
          "name": "stderr",
          "text": [
            "Warning message:\n",
            "“\u001b[1m\u001b[22mRemoved 215 rows containing missing values or values outside the scale range\n",
            "(`geom_point()`).”\n"
          ]
        },
        {
          "output_type": "display_data",
          "data": {
            "text/plain": [
              "plot without title"
            ],
            "image/png": "[encoded data removed]"
          },
          "metadata": {
            "image/png": {
              "width": 420,
              "height": 420
            }
          }
        }
      ]
    },
    {
      "cell_type": "markdown",
      "source": [
        "Their covariance is indeed negative."
      ],
      "metadata": {
        "id": "m4UnllI1QRoW"
      }
    },
    {
      "cell_type": "code",
      "source": [
        "cov(epa_data$city, epa_data$disp, use = \"complete.obs\") #use = \"complete.obs\" to ignore incomplete pairs (containing NAs)"
      ],
      "metadata": {
        "colab": {
          "base_uri": "https://localhost:8080/",
          "height": 34
        },
        "id": "VnAR1mgBQGyo",
        "outputId": "67ea188a-de68-4fa7-d89f-b932cd762201"
      },
      "execution_count": 28,
      "outputs": [
        {
          "output_type": "display_data",
          "data": {
            "text/html": [
              "-5.80159046670202"
            ],
            "text/markdown": "-5.80159046670202",
            "text/latex": "-5.80159046670202",
            "text/plain": [
              "[1] -5.80159"
            ]
          },
          "metadata": {}
        }
      ]
    },
    {
      "cell_type": "markdown",
      "source": [
        "### **Correlation**\n",
        "\n",
        "Covariance tells us the **direction** of the linear relationship between two variables but does **not** tell us how **strong** that relationship is.\n",
        "\n",
        "Additionally, covariance depends on the **units** of measurement (the scale of the data). For example, imagine we no longer measure `city` and `hwy` EPA in miles per gallon (mpg), but instead in kilometers per litre (km/L or kpL). Since the units have changed, the covariance value would also change, making it difficult to compare across different datasets or variables measured on different scales.\n",
        "\n"
      ],
      "metadata": {
        "id": "cyGikjCcQiuI"
      }
    },
    {
      "cell_type": "code",
      "source": [
        "epa_data %>%\n",
        "  mutate(\n",
        "    city_kpL = city * 0.425144,\n",
        "    hwy_kpL = hwy * 0.425144\n",
        "  ) -> epa_data\n",
        "\n",
        "epa_data %>%\n",
        "  select(city, hwy, city, city_kpL, hwy_kpL) %>%\n",
        "  head(5)\n",
        "\n",
        "cov(epa_data$city_kpL, epa_data$hwy_kpL)"
      ],
      "metadata": {
        "colab": {
          "base_uri": "https://localhost:8080/",
          "height": 269
        },
        "id": "8g2PDgmGRf4L",
        "outputId": "009d6ba3-7ae1-4c6a-fde6-cdfe3e033597"
      },
      "execution_count": 29,
      "outputs": [
        {
          "output_type": "display_data",
          "data": {
            "text/html": [
              "<table class=\"dataframe\">\n",
              "<caption>A data.frame: 5 × 4</caption>\n",
              "<thead>\n",
              "\t<tr><th></th><th scope=col>city</th><th scope=col>hwy</th><th scope=col>city_kpL</th><th scope=col>hwy_kpL</th></tr>\n",
              "\t<tr><th></th><th scope=col>&lt;int&gt;</th><th scope=col>&lt;int&gt;</th><th scope=col>&lt;dbl&gt;</th><th scope=col>&lt;dbl&gt;</th></tr>\n",
              "</thead>\n",
              "<tbody>\n",
              "\t<tr><th scope=row>1</th><td>16</td><td>24</td><td>6.802304</td><td>10.203456</td></tr>\n",
              "\t<tr><th scope=row>2</th><td>15</td><td>22</td><td>6.377160</td><td> 9.353168</td></tr>\n",
              "\t<tr><th scope=row>3</th><td>16</td><td>22</td><td>6.802304</td><td> 9.353168</td></tr>\n",
              "\t<tr><th scope=row>4</th><td>19</td><td>27</td><td>8.077736</td><td>11.478888</td></tr>\n",
              "\t<tr><th scope=row>5</th><td>19</td><td>29</td><td>8.077736</td><td>12.329176</td></tr>\n",
              "</tbody>\n",
              "</table>\n"
            ],
            "text/markdown": "\nA data.frame: 5 × 4\n\n| <!--/--> | city &lt;int&gt; | hwy &lt;int&gt; | city_kpL &lt;dbl&gt; | hwy_kpL &lt;dbl&gt; |\n|---|---|---|---|---|\n| 1 | 16 | 24 | 6.802304 | 10.203456 |\n| 2 | 15 | 22 | 6.377160 |  9.353168 |\n| 3 | 16 | 22 | 6.802304 |  9.353168 |\n| 4 | 19 | 27 | 8.077736 | 11.478888 |\n| 5 | 19 | 29 | 8.077736 | 12.329176 |\n\n",
            "text/latex": "A data.frame: 5 × 4\n\\begin{tabular}{r|llll}\n  & city & hwy & city\\_kpL & hwy\\_kpL\\\\\n  & <int> & <int> & <dbl> & <dbl>\\\\\n\\hline\n\t1 & 16 & 24 & 6.802304 & 10.203456\\\\\n\t2 & 15 & 22 & 6.377160 &  9.353168\\\\\n\t3 & 16 & 22 & 6.802304 &  9.353168\\\\\n\t4 & 19 & 27 & 8.077736 & 11.478888\\\\\n\t5 & 19 & 29 & 8.077736 & 12.329176\\\\\n\\end{tabular}\n",
            "text/plain": [
              "  city hwy city_kpL hwy_kpL  \n",
              "1 16   24  6.802304 10.203456\n",
              "2 15   22  6.377160  9.353168\n",
              "3 16   22  6.802304  9.353168\n",
              "4 19   27  8.077736 11.478888\n",
              "5 19   29  8.077736 12.329176"
            ]
          },
          "metadata": {}
        },
        {
          "output_type": "display_data",
          "data": {
            "text/html": [
              "23.976941467835"
            ],
            "text/markdown": "23.976941467835",
            "text/latex": "23.976941467835",
            "text/plain": [
              "[1] 23.97694"
            ]
          },
          "metadata": {}
        }
      ]
    },
    {
      "cell_type": "markdown",
      "source": [
        "We need a **standardised summary** that can determine both the **direction** and **strength** of a linear relationship, while also being **unitless** and **comparable across different datasets** or examples $⟶$ correlation coefficient.\n",
        "\n",
        "The **correlation coefficient** $r_{xy}$ between two variables `x` and `y` is given by:\n",
        "\n",
        "$$\n",
        "r_{xy} = \\frac{s_{xy}}{s_x s_y}.\n",
        "$$\n",
        "\n",
        "Thus, correlation is covariance standardised by the product of the variables' standard deviations.\n",
        "\n",
        "The correlation coefficient $r$ always lies between $-1$ and $1$:\n",
        "\n",
        "- $r = 1$ indicates a **perfect positive linear relationship**: as one variable increases, the other increases proportionally.\n",
        "- $r = -1$indicates a **perfect negative linear relationship**: as one variable increases, the other decreases proportionally.\n",
        "- $r = 0$ suggests **no linear relationship** between the variables.\n",
        "\n",
        "In R, we can use the `cor(x,y)` function to computes the correlation between numeric vectors `x` and `y`.\n"
      ],
      "metadata": {
        "id": "AbmdkVKER0JT"
      }
    },
    {
      "cell_type": "markdown",
      "source": [
        "#### **Example**\n"
      ],
      "metadata": {
        "id": "ZY1wZQk3S66u"
      }
    },
    {
      "cell_type": "markdown",
      "source": [
        "##### **Example 1**\n",
        "Correlation between `city` EPA and `hwy` EPA is the same regardless of the measurement unit."
      ],
      "metadata": {
        "id": "QTeXRJsxTYbi"
      }
    },
    {
      "cell_type": "code",
      "source": [
        "cor(epa_data$city, epa_data$hwy)\n",
        "cor(epa_data$city_kpL, epa_data$hwy)\n",
        "cor(epa_data$city, epa_data$hwy)\n",
        "cor(epa_data$city, epa_data$hwy_kpL)"
      ],
      "metadata": {
        "colab": {
          "base_uri": "https://localhost:8080/",
          "height": 85
        },
        "id": "gLb_AmgwS_H_",
        "outputId": "eb483caa-ac14-4200-f80b-d8de8daa5ed6"
      },
      "execution_count": 30,
      "outputs": [
        {
          "output_type": "display_data",
          "data": {
            "text/html": [
              "0.965868403056716"
            ],
            "text/markdown": "0.965868403056716",
            "text/latex": "0.965868403056716",
            "text/plain": [
              "[1] 0.9658684"
            ]
          },
          "metadata": {}
        },
        {
          "output_type": "display_data",
          "data": {
            "text/html": [
              "0.965868403056716"
            ],
            "text/markdown": "0.965868403056716",
            "text/latex": "0.965868403056716",
            "text/plain": [
              "[1] 0.9658684"
            ]
          },
          "metadata": {}
        },
        {
          "output_type": "display_data",
          "data": {
            "text/html": [
              "0.965868403056716"
            ],
            "text/markdown": "0.965868403056716",
            "text/latex": "0.965868403056716",
            "text/plain": [
              "[1] 0.9658684"
            ]
          },
          "metadata": {}
        },
        {
          "output_type": "display_data",
          "data": {
            "text/html": [
              "0.965868403056716"
            ],
            "text/markdown": "0.965868403056716",
            "text/latex": "0.965868403056716",
            "text/plain": [
              "[1] 0.9658684"
            ]
          },
          "metadata": {}
        }
      ]
    },
    {
      "cell_type": "markdown",
      "source": [
        "##### **Example 2**\n"
      ],
      "metadata": {
        "id": "D5Gw0KpDWFrT"
      }
    },
    {
      "cell_type": "markdown",
      "source": [
        "We have prepared several datasets with different correlation levels to illustrate how the **strength and direction** of the linear relationship between two variables can vary.\n",
        "\n",
        "Each dataset represents a different scenario:\n",
        "\n",
        "- Strong positive correlation\n",
        "- Weak positive correlation\n",
        "- No correlation\n",
        "- Weak negative correlation\n",
        "- Strong negative correlation"
      ],
      "metadata": {
        "id": "uBNtUFq3YbiG"
      }
    },
    {
      "cell_type": "markdown",
      "source": [
        "**Strong Positive Linear Relationship**"
      ],
      "metadata": {
        "id": "_cpib9oiXZxA"
      }
    },
    {
      "cell_type": "code",
      "source": [
        "strong_pos = read.csv(\"datasets/strong_pos_linear.csv\")\n",
        "rVal = cor(strong_pos$x, strong_pos$y)\n",
        "\n",
        "strong_pos %>%\n",
        "  ggplot(aes(x = x, y = y)) +\n",
        "  geom_point(size = 4, shape = 3, color = \"black\") +  # shape = 3 is \"+\"\n",
        "  ggtitle(paste0(\"Strong positive linear relationship: r = \", round(rVal, 3))) +\n",
        "  theme_minimal()"
      ],
      "metadata": {
        "colab": {
          "base_uri": "https://localhost:8080/",
          "height": 437
        },
        "id": "fmeOFsmGXbkX",
        "outputId": "35614527-2d85-4440-a74f-6d59e5f9d07b"
      },
      "execution_count": 54,
      "outputs": [
        {
          "output_type": "display_data",
          "data": {
            "text/plain": [
              "plot without title"
            ],
            "image/png": "[encoded data removed]"
          },
          "metadata": {
            "image/png": {
              "width": 420,
              "height": 420
            }
          }
        }
      ]
    },
    {
      "cell_type": "markdown",
      "source": [
        "**Weak Positive Linear Relationship**"
      ],
      "metadata": {
        "id": "L72whsK0XCdn"
      }
    },
    {
      "cell_type": "code",
      "source": [
        "weak_pos = read.csv(\"datasets/weak_pos_linear.csv\")\n",
        "rVal = cor(weak_pos$x, weak_pos$y)\n",
        "\n",
        "weak_pos %>%\n",
        "  ggplot(aes(x = x, y = y)) +\n",
        "  geom_point(size = 4, shape = 3, color = \"black\") +  # shape = 3 is \"+\"\n",
        "  ggtitle(paste0(\"Weak positive linear relationship: r = \", round(rVal, 3))) +\n",
        "  theme_minimal()"
      ],
      "metadata": {
        "colab": {
          "base_uri": "https://localhost:8080/",
          "height": 437
        },
        "id": "gGQQuT3KXUja",
        "outputId": "ec648b69-9c44-46f5-df2f-84c8bf381e27"
      },
      "execution_count": 55,
      "outputs": [
        {
          "output_type": "display_data",
          "data": {
            "text/plain": [
              "plot without title"
            ],
            "image/png": "[encoded data removed]"
          },
          "metadata": {
            "image/png": {
              "width": 420,
              "height": 420
            }
          }
        }
      ]
    },
    {
      "cell_type": "markdown",
      "source": [
        "**No Linear Relationship**"
      ],
      "metadata": {
        "id": "yQlY_q_cXn_b"
      }
    },
    {
      "cell_type": "code",
      "source": [
        "no_linear = read.csv(\"datasets/no_linear_rel.csv\")\n",
        "rVal = cor(no_linear$x, no_linear$y)\n",
        "\n",
        "no_linear %>%\n",
        "  ggplot(aes(x = x, y = y)) +\n",
        "  geom_point(size = 4, shape = 3, color = \"black\") +  # shape = 3 is \"+\"\n",
        "  ggtitle(paste0(\"No linear relationship: r = \", round(rVal, 3))) +\n",
        "  theme_minimal()"
      ],
      "metadata": {
        "colab": {
          "base_uri": "https://localhost:8080/",
          "height": 437
        },
        "id": "OaBmf8qWXrRT",
        "outputId": "bfffe991-2323-4367-a89b-f32de1a6999d"
      },
      "execution_count": 56,
      "outputs": [
        {
          "output_type": "display_data",
          "data": {
            "text/plain": [
              "plot without title"
            ],
            "image/png": "[encoded data removed]"
          },
          "metadata": {
            "image/png": {
              "width": 420,
              "height": 420
            }
          }
        }
      ]
    },
    {
      "cell_type": "markdown",
      "source": [
        "**Weak Negative Linear Relationship**"
      ],
      "metadata": {
        "id": "2HrEmsc8WnM2"
      }
    },
    {
      "cell_type": "code",
      "source": [
        "weak_neg = read.csv(\"datasets/weak_neg_linear.csv\")\n",
        "rVal = cor(weak_neg$x, weak_neg$y)\n",
        "\n",
        "weak_neg %>%\n",
        "  ggplot(aes(x = x, y = y)) +\n",
        "  geom_point(size = 4, shape = 3, color = \"black\") +  # shape = 3 is \"+\"\n",
        "  ggtitle(paste0(\"Weak negative linear relationship: r = \", round(rVal, 3))) +\n",
        "  theme_minimal()"
      ],
      "metadata": {
        "colab": {
          "base_uri": "https://localhost:8080/",
          "height": 437
        },
        "id": "HDn5WonzWUye",
        "outputId": "b7389ca5-bbac-4146-b183-d492fee56fc3"
      },
      "execution_count": 57,
      "outputs": [
        {
          "output_type": "display_data",
          "data": {
            "text/plain": [
              "plot without title"
            ],
            "image/png": "[encoded data removed]"
          },
          "metadata": {
            "image/png": {
              "width": 420,
              "height": 420
            }
          }
        }
      ]
    },
    {
      "cell_type": "markdown",
      "source": [
        "**Strong Negative Linear Relationship**"
      ],
      "metadata": {
        "id": "NvBbwzoZX2_j"
      }
    },
    {
      "cell_type": "code",
      "source": [
        "strong_neg = read.csv(\"datasets/strong_neg_linear.csv\")\n",
        "rVal = cor(strong_neg$x, strong_neg$y)\n",
        "\n",
        "strong_neg %>%\n",
        "  ggplot(aes(x = x, y = y)) +\n",
        "  geom_point(size = 4, shape = 3, color = \"black\") +  # shape = 3 is \"+\"\n",
        "  ggtitle(paste0(\"Strong negative linear relationship: r = \", round(rVal, 3))) +\n",
        "  theme_minimal()"
      ],
      "metadata": {
        "colab": {
          "base_uri": "https://localhost:8080/",
          "height": 437
        },
        "id": "QZuZ6io2X7Ua",
        "outputId": "b2211f3d-1080-4e15-ae69-194dad769aba"
      },
      "execution_count": 58,
      "outputs": [
        {
          "output_type": "display_data",
          "data": {
            "text/plain": [
              "plot without title"
            ],
            "image/png": "[encoded data removed]"
          },
          "metadata": {
            "image/png": {
              "width": 420,
              "height": 420
            }
          }
        }
      ]
    },
    {
      "cell_type": "markdown",
      "source": [
        "### **Least-Squares Line**\n",
        "\n",
        "**To quantify linear relationship** between two variables $x$ and $y$, we can fit a **least-squares regression line** of the form:\n",
        "\n",
        "$$\n",
        "y = \\hat{a} + \\hat{b}x.\n",
        "$$\n",
        "\n",
        "This line minimizes the total squared vertical distance between the observed points and the line:\n",
        "\n",
        "$$\n",
        "\\min_{a, b} \\sum_{i=1}^{n} (y_i - a - bx_i)^2.\n",
        "$$\n",
        "\n",
        "The solutions for the slope $\\hat{b}$ and intercept $\\hat{a}$$are:\n",
        "\n",
        "$$\n",
        "\\hat{b} = \\frac{s_{xy}}{s_x^2} = r \\cdot \\frac{s_y}{s_x},\n",
        "$$\n",
        "and\n",
        "$$\n",
        "\\hat{a} = \\bar{y} - \\hat{b}\\bar{x}.\n",
        "$$\n",
        "\n",
        "The **slope** depends on the correlation $r$, and the ratio of the standard deviations of $y$ and $x$, having the same sign as $s_{xy}$ and $r_{xy}$). The **intercept** adjusts to ensure the line passes through the point $(\\bar{x}, \\bar{y})$.\n",
        "\n",
        "In R, we can use the `lm()` function to compute the slope and intercept of the best fitting line."
      ],
      "metadata": {
        "id": "khRbwR5DYU5W"
      }
    },
    {
      "cell_type": "markdown",
      "source": [
        "#### **Examples**\n",
        "\n",
        "##### **Example 1**"
      ],
      "metadata": {
        "id": "53JF0KeoaFKH"
      }
    },
    {
      "cell_type": "markdown",
      "source": [
        "Given the `strong_pos` dataset that we imported earlier, we can use the `lm()` function to compute the slope and intercept of the best-fitting line."
      ],
      "metadata": {
        "id": "NmtMn_TxaiIx"
      }
    },
    {
      "cell_type": "code",
      "source": [
        "strong_pos %>%\n",
        "  lm(formula = y~x)"
      ],
      "metadata": {
        "colab": {
          "base_uri": "https://localhost:8080/",
          "height": 136
        },
        "id": "UIbjiVPoaEUv",
        "outputId": "98e5e1fc-ccb9-467e-ec67-540c62317538"
      },
      "execution_count": 65,
      "outputs": [
        {
          "output_type": "display_data",
          "data": {
            "text/plain": [
              "\n",
              "Call:\n",
              "lm(formula = y ~ x, data = .)\n",
              "\n",
              "Coefficients:\n",
              "(Intercept)            x  \n",
              "   -0.03769      4.99894  \n"
            ]
          },
          "metadata": {}
        }
      ]
    },
    {
      "cell_type": "markdown",
      "source": [
        "Of course, we can also manually compute these quantities."
      ],
      "metadata": {
        "id": "hAOi1TVYa-iN"
      }
    },
    {
      "cell_type": "code",
      "source": [
        "mean_x = mean(strong_pos$x)\n",
        "mean_y = mean(strong_pos$y)\n",
        "s_xy = cov(strong_pos$x, strong_pos$y)\n",
        "s_x = var(strong_pos$x)\n",
        "\n",
        "b_hat = s_xy/s_x\n",
        "a_hat = mean_y - mean_x*b_hat\n",
        "b_hat\n",
        "a_hat"
      ],
      "metadata": {
        "colab": {
          "base_uri": "https://localhost:8080/",
          "height": 51
        },
        "id": "MWOk3Bn4bHVc",
        "outputId": "07dd5d9d-22e5-4e0c-f1ba-7db07669a6ad"
      },
      "execution_count": 67,
      "outputs": [
        {
          "output_type": "display_data",
          "data": {
            "text/html": [
              "4.99893961382807"
            ],
            "text/markdown": "4.99893961382807",
            "text/latex": "4.99893961382807",
            "text/plain": [
              "[1] 4.99894"
            ]
          },
          "metadata": {}
        },
        {
          "output_type": "display_data",
          "data": {
            "text/html": [
              "-0.0376926139077578"
            ],
            "text/markdown": "-0.0376926139077578",
            "text/latex": "-0.0376926139077578",
            "text/plain": [
              "[1] -0.03769261"
            ]
          },
          "metadata": {}
        }
      ]
    },
    {
      "cell_type": "markdown",
      "source": [
        "##### **Example 2**\n",
        "\n",
        "It is possible to overlay the best-fitting line on a scatter plot created with `ggplot` using `geom_smooth(method = \"lm\")`\n"
      ],
      "metadata": {
        "id": "6ImAJiIJbwSB"
      }
    },
    {
      "cell_type": "code",
      "source": [
        "strong_neg %>%\n",
        "  ggplot(aes(x = x, y = y)) +\n",
        "  geom_point(size = 4, shape = 3, color = \"black\") +  # shape = 3 is \"+\"\n",
        "  geom_smooth(method = \"lm\", se = FALSE, color = \"red\") +  # best-fitting line\n",
        "  theme_minimal()\n"
      ],
      "metadata": {
        "colab": {
          "base_uri": "https://localhost:8080/",
          "height": 454
        },
        "id": "neYME4tEcJvc",
        "outputId": "63710f07-4f48-4635-bb14-997ce867cf7a"
      },
      "execution_count": 74,
      "outputs": [
        {
          "output_type": "stream",
          "name": "stderr",
          "text": [
            "\u001b[1m\u001b[22m`geom_smooth()` using formula = 'y ~ x'\n"
          ]
        },
        {
          "output_type": "display_data",
          "data": {
            "text/plain": [
              "plot without title"
            ],
            "image/png": "[encoded data removed]"
          },
          "metadata": {
            "image/png": {
              "width": 420,
              "height": 420
            }
          }
        }
      ]
    }
  ]
}